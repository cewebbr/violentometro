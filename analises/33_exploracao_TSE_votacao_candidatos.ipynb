{
 "cells": [
  {
   "cell_type": "markdown",
   "id": "1d02cded-f606-41ae-a5cd-161cdc885cc2",
   "metadata": {},
   "source": [
    "# Exploração dos dados da votação nominal em candidatos"
   ]
  },
  {
   "cell_type": "markdown",
   "id": "44f37103-50f2-4084-940f-4967f50a4e88",
   "metadata": {},
   "source": [
    "[Voltar ao Índice](00_indice.ipynb)\n",
    "\n",
    "Vamos compreender os dados obtidos do TSE (<https://cdn.tse.jus.br/estatistica/sead/odsele/votacao_candidato_munzona/votacao_candidato_munzona_2022.zip>), em especial as modificações feitas em relação aos mesmos dados, mas de eleições anteriores."
   ]
  },
  {
   "cell_type": "markdown",
   "id": "5261f579-389f-44b1-bede-db39964ad846",
   "metadata": {},
   "source": [
    "## Comparação com estrutura anterior"
   ]
  },
  {
   "cell_type": "markdown",
   "id": "8100aa8e-377f-41f3-a514-948017c224a4",
   "metadata": {},
   "source": [
    "Vamos verificar a estrutura dos dados de 2022 e compará-la com a de 2020, para ver se podemos utilizar as mesmas rotinas de limpeza."
   ]
  },
  {
   "cell_type": "code",
   "execution_count": 40,
   "id": "d5c73a0c-d610-4193-9948-99359c37678e",
   "metadata": {},
   "outputs": [],
   "source": [
    "import pandas as pd\n",
    "\n",
    "import xavy.explore as xe\n",
    "import xavy.tse as tse\n",
    "import xavy.dataframes as xd"
   ]
  },
  {
   "cell_type": "markdown",
   "id": "cd4a2147-85b9-4e4c-bd83-9278e5b5317f",
   "metadata": {},
   "source": [
    "### Carregando os dados"
   ]
  },
  {
   "cell_type": "code",
   "execution_count": 22,
   "id": "1fde3df5-8329-4cce-84b1-918425289acb",
   "metadata": {},
   "outputs": [],
   "source": [
    "# Carregando os dados:\n",
    "votos20_df = tse.load_tse_raw_data('/home/skems/gabinete/projetos/laranjometro/dados/brutos/votacao_candidato_munzona_2020/votacao_candidato_munzona_2020_PI.csv')\n",
    "votos22_df = tse.load_tse_raw_data('/home/skems/ceweb/dados/brutos/tse/votacao_candidato_munzona_2022/votacao_candidato_munzona_2022_PI.csv')"
   ]
  },
  {
   "cell_type": "markdown",
   "id": "2e066c6f-6daa-46cd-a321-2c462f64a778",
   "metadata": {},
   "source": [
    "### Colunas novas e abandonadas"
   ]
  },
  {
   "cell_type": "code",
   "execution_count": 23,
   "id": "9c5618a8-26cb-43c9-8890-948dbfdd9ae8",
   "metadata": {},
   "outputs": [
    {
     "data": {
      "text/plain": [
       "set()"
      ]
     },
     "execution_count": 23,
     "metadata": {},
     "output_type": "execute_result"
    }
   ],
   "source": [
    "# Colunas que sumiram:\n",
    "set(votos20_df.columns) - set(votos22_df.columns)"
   ]
  },
  {
   "cell_type": "markdown",
   "id": "238eb9ca-630a-46f5-9fb0-540c9f19e322",
   "metadata": {},
   "source": [
    "Vemos abaixo que a maioria das colunas novas se referem a federações. Outra coisa nova é a contabilização dos votos válidos:"
   ]
  },
  {
   "cell_type": "code",
   "execution_count": 24,
   "id": "d062d6e8-a945-423a-9998-e8f36a9677f0",
   "metadata": {},
   "outputs": [
    {
     "data": {
      "text/plain": [
       "{'DS_COMPOSICAO_FEDERACAO',\n",
       " 'NM_FEDERACAO',\n",
       " 'NM_TIPO_DESTINACAO_VOTOS',\n",
       " 'NR_FEDERACAO',\n",
       " 'QT_VOTOS_NOMINAIS_VALIDOS',\n",
       " 'SG_FEDERACAO'}"
      ]
     },
     "execution_count": 24,
     "metadata": {},
     "output_type": "execute_result"
    }
   ],
   "source": [
    "# Colunas que surgiram:\n",
    "new_cols = set(votos22_df.columns) - set(votos20_df.columns)\n",
    "new_cols"
   ]
  },
  {
   "cell_type": "markdown",
   "id": "cde56f4d-2dd5-4889-9364-7bc52e1a3652",
   "metadata": {},
   "source": [
    "Vamos ver abaixo o conteúdo das colunas novas:"
   ]
  },
  {
   "cell_type": "code",
   "execution_count": 25,
   "id": "4f3dafa6-33f3-48f1-94c4-aa1e0d1f5c2d",
   "metadata": {},
   "outputs": [
    {
     "name": "stdout",
     "output_type": "stream",
     "text": [
      "\n",
      "\u001b[1mQT_VOTOS_NOMINAIS_VALIDOS: \u001b[0m2272 unique values.\n",
      "\u001b[1m(sample) \u001b[0m132,  409,  442,  824,  883,  1032,  1127,  1330,  1392,  1408,  1597,  1646,  1738,  2191,  2468,  2811,  2890,  3475,  4949,  5058\n",
      "\n",
      "\u001b[1mDS_COMPOSICAO_FEDERACAO: \u001b[0m4 unique values.\n",
      "#NULO#,  CIDADANIA / PSDB,  PC do B / PT / PV,  PSOL / REDE\n",
      "\n",
      "\u001b[1mNM_TIPO_DESTINACAO_VOTOS: \u001b[0m4 unique values.\n",
      "Anulado,  Anulado sub judice,  Válido,  Válido (legenda)\n",
      "\n",
      "\u001b[1mNR_FEDERACAO: \u001b[0m4 unique values.\n",
      "-1,  1,  2,  3\n",
      "\n",
      "\u001b[1mSG_FEDERACAO: \u001b[0m4 unique values.\n",
      "#NULO#,  PSDB/CIDADANIA,  PSOL/REDE,  PT/PC do B/PV\n",
      "\n",
      "\u001b[1mNM_FEDERACAO: \u001b[0m4 unique values.\n",
      "#NULO#,  Federação Brasil da Esperança - FE BRASIL,  Federação PSDB Cidadania,  Federação PSOL REDE\n"
     ]
    }
   ],
   "source": [
    "xe.mapUnique(votos22_df[list(new_cols)])"
   ]
  },
  {
   "cell_type": "markdown",
   "id": "f77bf82e-7380-434b-bbe2-9fa9d281da47",
   "metadata": {
    "jp-MarkdownHeadingCollapsed": true,
    "tags": []
   },
   "source": [
    "### Conteúdo das colunas em comum"
   ]
  },
  {
   "cell_type": "code",
   "execution_count": 30,
   "id": "0de6de73-3624-4586-bfc8-3c73956aa154",
   "metadata": {},
   "outputs": [],
   "source": [
    "# Colunas em comum:\n",
    "common_cols = list(set(votos20_df.columns) & set(votos22_df.columns))"
   ]
  },
  {
   "cell_type": "code",
   "execution_count": 28,
   "id": "5d5432bd-5e66-4338-83a2-03003dc994bb",
   "metadata": {},
   "outputs": [
    {
     "name": "stdout",
     "output_type": "stream",
     "text": [
      "\n",
      "\u001b[1mNR_ZONA: \u001b[0m82 unique values.\n",
      "\u001b[1m(sample) \u001b[0m1,  8,  10,  14,  15,  17,  21,  37,  39,  48,  49,  54,  56,  64,  71,  74,  83,  89,  90,  96\n",
      "\n",
      "\u001b[1mDT_GERACAO: \u001b[0m1 unique values.\n",
      "20/11/2020\n",
      "\n",
      "\u001b[1mCD_DETALHE_SITUACAO_CAND: \u001b[0m7 unique values.\n",
      "2,  4,  6,  14,  16,  17,  19\n",
      "\n",
      "\u001b[1mSG_PARTIDO: \u001b[0m32 unique values.\n",
      "\u001b[1m(sample) \u001b[0mDC,  MDB,  NOVO,  PC do B,  PDT,  PL,  PMB,  PMN,  PP,  PROS,  PSB,  PSC,  PSDB,  PSL,  PSOL,  PT,  PTC,  PV,  REDE,  REPUBLICANOS\n",
      "\n",
      "\u001b[1mSG_UE: \u001b[0m224 unique values.\n",
      "\u001b[1m(sample) \u001b[0m10448,  10561,  10596,  10626,  10723,  10812,  10928,  11371,  11479,  11614,  11959,  12009,  12076,  12165,  12254,  12319,  12335,  12513,  12629,  12637\n",
      "\n",
      "\u001b[1mSQ_CANDIDATO: \u001b[0m9718 unique values.\n",
      "\u001b[1m(sample) \u001b[0m180000666618,  180000727827,  180000739417,  180000757668,  180000758750,  180000782005,  180000821225,  180000821379,  180000836333,  180000837449,  180000837608,  180000907248,  180000979164,  180001014789,  180001048186,  180001067986,  180001073688,  180001076532,  180001201548,  180001266446\n",
      "\n",
      "\u001b[1mQT_VOTOS_NOMINAIS: \u001b[0m1397 unique values.\n",
      "\u001b[1m(sample) \u001b[0m39,  73,  153,  210,  258,  292,  469,  522,  630,  640,  740,  770,  1205,  2215,  2230,  4384,  4516,  4890,  10326,  19075\n",
      "\n",
      "\u001b[1mNM_URNA_CANDIDATO: \u001b[0m9067 unique values.\n",
      "\u001b[1m(sample) \u001b[0mANDRÉ DINIZ,  ASSIS,  BEA DO ZÉ ARTEIRO,  CAIXA D AGUA,  CANTOR BRITO,  CREMILDA GOMES,  DAIANY SOUSA,  DIDA BRANDÃO,  GEONIRA GEO,  GESSE,  IRMÃO JOSÉ WILSON,  JONAS ARAUJO,  JÚLIO CÉSAR,  MESSIAS SAMPAIO,  NEYKAM,  PROF. ROBERTO GOMES,  ROBERTO MOURA,  ROSA MAIA,  VAVA DO TABULEIRO,  ÂNGELO OLIVEIRA\n",
      "\n",
      "\u001b[1mDT_ELEICAO: \u001b[0m1 unique values.\n",
      "15/11/2020\n",
      "\n",
      "\u001b[1mNM_COLIGACAO: \u001b[0m316 unique values.\n",
      "\u001b[1m(sample) \u001b[0mA MUDANÇA COMEÇA AGORA,  AVANÇAR COM TRABALHO PARA O BEM DO POVO,  COM A CONFIANÇA DO POVO E A FORÇA DO TRABALHO,  COM A FORÇA DO POVO, NÓS DE NOVO,  COMPROMISSO COM O POVO ,  CONSTRUINDO UM FUTURO MELHOR,  ELISEU MARTINS PARA TODOS,  JUNTO COM O POVO VENCEREMOS DE NOVO,  JUNTOS DE NOVO, COM A FORÇA DO POVO,  MUDA SANTO ANTÔNIO DE LISBOA,  O MELHOR PARA COIVARAS,  O POVO FAZ ACONTECER,  PICOS: NOSSO COMPROMISSO É COM O POVO,  TRANSFORMANDO BERTOLINIA COM A FORÇA DO POVO,  UNIDOS PARA MUDAR,  UNIDOS PELA RENOVAÇÃO ,  UNIDOS POR ELESBÃO,  UNIDOS POR UMA CONCEIÇÃO MELHOR,  UNIÃO RESISTÊNCIA E FORÇA,  É DO POVO, É DO CORAÇÃO DA GENTE\n",
      "\n",
      "\u001b[1mANO_ELEICAO: \u001b[0m1 unique values.\n",
      "2020\n",
      "\n",
      "\u001b[1mTP_AGREMIACAO: \u001b[0m2 unique values.\n",
      "Coligação,  Partido isolado\n",
      "\n",
      "\u001b[1mNM_MUNICIPIO: \u001b[0m224 unique values.\n",
      "\u001b[1m(sample) \u001b[0mANGICAL DO PIAUÍ,  BREJO DO PIAUÍ,  CAMPO ALEGRE DO FIDALGO,  CAMPO GRANDE DO PIAUÍ,  CAPITÃO DE CAMPOS,  COLÔNIA DO PIAUÍ,  CORONEL JOSÉ DIAS,  CURIMATÁ,  ELESBÃO VELOSO,  GEMINIANO,  JUREMA,  LAGOA DE SÃO FRANCISCO,  MONSENHOR HIPÓLITO,  MONTE ALEGRE DO PIAUÍ,  PAJEÚ DO PIAUÍ,  PARNAGUÁ,  PAU D ARCO DO PIAUÍ,  SÃO JOSÉ DO PIAUÍ,  SÃO RAIMUNDO NONATO,  VERA MENDES\n",
      "\n",
      "\u001b[1mCD_TIPO_ELEICAO: \u001b[0m1 unique values.\n",
      "2\n",
      "\n",
      "\u001b[1mNM_TIPO_ELEICAO: \u001b[0m1 unique values.\n",
      "Eleição Ordinária\n",
      "\n",
      "\u001b[1mNR_PARTIDO: \u001b[0m32 unique values.\n",
      "\u001b[1m(sample) \u001b[0m11,  12,  13,  15,  16,  17,  18,  22,  23,  27,  29,  30,  35,  36,  43,  45,  55,  65,  70,  90\n",
      "\n",
      "\u001b[1mDS_DETALHE_SITUACAO_CAND: \u001b[0m7 unique values.\n",
      "CANCELADO COM RECURSO,  DEFERIDO,  DEFERIDO COM RECURSO,  INDEFERIDO,  INDEFERIDO COM RECURSO,  PENDENTE DE JULGAMENTO,  RENÚNCIA\n",
      "\n",
      "\u001b[1mDS_SITUACAO_CANDIDATURA: \u001b[0m2 unique values.\n",
      "APTO,  INAPTO\n",
      "\n",
      "\u001b[1mNM_PARTIDO: \u001b[0m32 unique values.\n",
      "\u001b[1m(sample) \u001b[0mCidadania,  Democracia Cristã,  Democratas,  Partido Comunista do Brasil,  Partido Democrático Trabalhista,  Partido Liberal,  Partido Renovador Trabalhista Brasileiro,  Partido Social Democrático,  Partido Social Liberal,  Partido Socialismo e Liberdade,  Partido Socialista dos Trabalhadores Unificado,  Partido Trabalhista Brasileiro,  Partido da Mulher Brasileira,  Partido da Social Democracia Brasileira,  Patriota,  Podemos,  REPUBLICANOS,  Rede Sustentabilidade,  Solidariedade,  Unidade Popular\n",
      "\n",
      "\u001b[1mDS_COMPOSICAO_COLIGACAO: \u001b[0m262 unique values.\n",
      "\u001b[1m(sample) \u001b[0mMDB / PC do B / PTB / PT,  MDB / PT / PP,  MDB / SOLIDARIEDADE / PSD / PT,  PC do B,  PL / PSL / PATRIOTA / PP,  PP / MDB / PSDB / PSL,  PP / PT / MDB / PL,  PSB / PC do B,  PSB / PROS,  PSB / PSD / REPUBLICANOS,  PSC,  PSD / REPUBLICANOS / PSB,  PT / PSD,  PT / PSDB / PSD,  PT / PV,  PT / REPUBLICANOS / MDB / PSD,  PTB / PT,  PTC,  REPUBLICANOS / PC do B,  REPUBLICANOS / PL\n",
      "\n",
      "\u001b[1mNM_UE: \u001b[0m224 unique values.\n",
      "\u001b[1m(sample) \u001b[0mACAUÃ,  BAIXA GRANDE DO RIBEIRO,  BARREIRAS DO PIAUÍ,  BELA VISTA DO PIAUÍ,  BONFIM DO PIAUÍ,  CAXINGÓ,  CURRAIS,  ITAUEIRA,  JOCA MARQUES,  LAGOA ALEGRE,  LAGOA DE SÃO FRANCISCO,  LAGOA DO SÍTIO,  MARCOLÂNDIA,  MARCOS PARENTE,  NOSSA SENHORA DE NAZARÉ,  PIRACURUCA,  PRATA DO PIAUÍ,  SANTA FILOMENA,  SEBASTIÃO BARROS,  SÃO JOÃO DA VARJOTA\n",
      "\n",
      "\u001b[1mDS_SIT_TOT_TURNO: \u001b[0m6 unique values.\n",
      "2º TURNO,  ELEITO,  ELEITO POR MÉDIA,  ELEITO POR QP,  NÃO ELEITO,  SUPLENTE\n",
      "\n",
      "\u001b[1mDS_CARGO: \u001b[0m2 unique values.\n",
      "Prefeito,  Vereador\n",
      "\n",
      "\u001b[1mSQ_COLIGACAO: \u001b[0m1494 unique values.\n",
      "\u001b[1m(sample) \u001b[0m180000052191,  180000057015,  180000058242,  180000067697,  180000070671,  180000074666,  180000077469,  180000088238,  180000091072,  180000104752,  180000112606,  180000123179,  180000123979,  180000124313,  180000126124,  180000130358,  180000131262,  180000148673,  180000150009,  180000152563\n",
      "\n",
      "\u001b[1mNR_TURNO: \u001b[0m1 unique values.\n",
      "1\n",
      "\n",
      "\u001b[1mCD_MUNICIPIO: \u001b[0m224 unique values.\n",
      "\u001b[1m(sample) \u001b[0m10006,  10049,  10065,  10081,  10162,  10170,  10251,  10286,  10529,  10669,  10685,  10774,  10804,  10880,  11711,  11738,  12157,  12254,  12424,  12475\n",
      "\n",
      "\u001b[1mCD_SITUACAO_CANDIDATURA: \u001b[0m2 unique values.\n",
      "3,  12\n",
      "\n",
      "\u001b[1mCD_CARGO: \u001b[0m2 unique values.\n",
      "11,  13\n",
      "\n",
      "\u001b[1mHH_GERACAO: \u001b[0m1 unique values.\n",
      "18:26:54\n",
      "\n",
      "\u001b[1mTP_ABRANGENCIA: \u001b[0m1 unique values.\n",
      "M\n",
      "\n",
      "\u001b[1mSG_UF: \u001b[0m1 unique values.\n",
      "PI\n",
      "\n",
      "\u001b[1mCD_SIT_TOT_TURNO: \u001b[0m6 unique values.\n",
      "1,  2,  3,  4,  5,  6\n",
      "\n",
      "\u001b[1mNR_CANDIDATO: \u001b[0m1666 unique values.\n",
      "\u001b[1m(sample) \u001b[0m11115,  13145,  13373,  13578,  14110,  14678,  15544,  15765,  18456,  22340,  27677,  28200,  30000,  35789,  40234,  43054,  51777,  55601,  55606,  70000\n",
      "\n",
      "\u001b[1mST_VOTO_EM_TRANSITO: \u001b[0m1 unique values.\n",
      "N\n",
      "\n",
      "\u001b[1mDS_ELEICAO: \u001b[0m1 unique values.\n",
      "ELEIÇÕES MUNICIPAIS 2020\n",
      "\n",
      "\u001b[1mNM_SOCIAL_CANDIDATO: \u001b[0m1 unique values.\n",
      "#NULO#\n",
      "\n",
      "\u001b[1mCD_ELEICAO: \u001b[0m1 unique values.\n",
      "426\n",
      "\n",
      "\u001b[1mNM_CANDIDATO: \u001b[0m9655 unique values.\n",
      "\u001b[1m(sample) \u001b[0mADEILSON REIS BARROS,  ANTONIA MARIA PESSOA DA SILVA,  ANTONIO MINERVINO DE ASSIS,  EDIMAR DA SILVA TORRES,  EDMILSON DE SOUSA LIRA,  EVAMAR DA SILVA DE ARAUJO,  FRANCISCA DAS CHAGAS DOS SANTOS SILVA,  FRANCISCA VANESSA DOS SANTOS ARAUJO,  GILSON CANDIDO DE LIMA,  ISAC GUIMARÃES COSTA RÊGO,  JEFFERSON SAMPAIO DE CARVALHO,  JOSÉ RODRIGUES DE OLIVEIRA,  JUCICLEIA DE SOUSA SILVA,  MARIA DO SOCORRO GOMES FERREIRA,  MARIA IVONILDE SILVA PINHEIRO,  MISSILANE ELIAS DE SOUZA LOPES,  RONALD MARTAN MACEDO LEAL,  SAMUEL OLIVEIRA SANTOS,  SIMONE DE OLIVEIRA MATOS,  VERILSON VÍRGILIO DE SOUSA\n"
     ]
    }
   ],
   "source": [
    "# Anterior:\n",
    "xe.mapUnique(votos20_df[common_cols])"
   ]
  },
  {
   "cell_type": "code",
   "execution_count": 29,
   "id": "2b8da656-16aa-42c6-839f-798e755be63b",
   "metadata": {},
   "outputs": [
    {
     "name": "stdout",
     "output_type": "stream",
     "text": [
      "\n",
      "\u001b[1mNR_ZONA: \u001b[0m74 unique values.\n",
      "\u001b[1m(sample) \u001b[0m1,  2,  3,  10,  12,  19,  26,  29,  36,  40,  47,  57,  58,  63,  64,  71,  72,  89,  94,  97\n",
      "\n",
      "\u001b[1mDT_GERACAO: \u001b[0m1 unique values.\n",
      "14/10/2022\n",
      "\n",
      "\u001b[1mCD_DETALHE_SITUACAO_CAND: \u001b[0m4 unique values.\n",
      "2,  4,  14,  16\n",
      "\n",
      "\u001b[1mSG_PARTIDO: \u001b[0m25 unique values.\n",
      "\u001b[1m(sample) \u001b[0mAGIR,  CIDADANIA,  MDB,  NOVO,  PATRIOTA,  PCO,  PL,  PMN,  PODE,  PP,  PSC,  PSD,  PSOL,  PSTU,  PT,  PV,  REDE,  SOLIDARIEDADE,  UNIÃO,  UP\n",
      "\n",
      "\u001b[1mSG_UE: \u001b[0m1 unique values.\n",
      "PI\n",
      "\n",
      "\u001b[1mSQ_CANDIDATO: \u001b[0m368 unique values.\n",
      "\u001b[1m(sample) \u001b[0m180001601234,  180001601261,  180001601311,  180001601319,  180001602514,  180001602554,  180001602556,  180001604038,  180001605301,  180001605693,  180001608627,  180001608874,  180001612880,  180001713295,  180001713661,  180001714177,  180001714361,  180001722379,  180001722582,  180001734011\n",
      "\n",
      "\u001b[1mQT_VOTOS_NOMINAIS: \u001b[0m2276 unique values.\n",
      "\u001b[1m(sample) \u001b[0m402,  528,  646,  967,  1046,  1142,  1153,  1420,  1649,  1819,  2329,  2366,  2487,  2772,  4026,  5763,  6990,  7468,  11078,  44284\n",
      "\n",
      "\u001b[1mNM_URNA_CANDIDATO: \u001b[0m368 unique values.\n",
      "\u001b[1m(sample) \u001b[0mANTONIA MARLY SOARES DE MOURA,  CALINA LOPES ,  CARLIM DO VEIM BARRAS,  CASTRO NETO,  DOUTORA ELISVANIA RODRIGUES,  DR CLEITON IBIAPINA,  DR. FRANCISCO,  EGMAR OLIVEIRA,  ELEUZA DIAS,  FERDINAND DO MOCAMBINHO,  JOSE LUIZ DE CARVALHO,  LIMMA,  LUIS CABRAL,  MARCOS DANILSON,  ODIR SANTANA,  RAFAEL FONTELES,  ROKILAND,  TERESINHA CARVALHO,  TIAGO VASCONCELOS,  VERONICA BARBOSA\n",
      "\n",
      "\u001b[1mDT_ELEICAO: \u001b[0m1 unique values.\n",
      "02/10/2022\n",
      "\n",
      "\u001b[1mNM_COLIGACAO: \u001b[0m5 unique values.\n",
      "A FORÇA DO POVO,  FEDERAÇÃO,  O PIAUÍ TEM ESPERANÇA,  PARTIDO ISOLADO,  VAMOS MUDAR O PIAUÍ\n",
      "\n",
      "\u001b[1mANO_ELEICAO: \u001b[0m1 unique values.\n",
      "2022\n",
      "\n",
      "\u001b[1mTP_AGREMIACAO: \u001b[0m3 unique values.\n",
      "Coligação,  Federação,  Partido isolado\n",
      "\n",
      "\u001b[1mNM_MUNICIPIO: \u001b[0m224 unique values.\n",
      "\u001b[1m(sample) \u001b[0mBARREIRAS DO PIAUÍ,  BOCAINA,  BOM PRINCÍPIO DO PIAUÍ,  CAMPO LARGO DO PIAUÍ,  CAXINGÓ,  DEMERVAL LOBÃO,  DOMINGOS MOURÃO,  FRANCISCO SANTOS,  FRONTEIRAS,  GILBUÉS,  ITAINÓPOLIS,  JOSÉ DE FREITAS,  LAGOA DO PIAUÍ,  MIGUEL LEÃO,  NOVA SANTA RITA,  SANTA LUZ,  SUSSUAPARA,  SÃO FRANCISCO DO PIAUÍ,  SÃO JOÃO DO PIAUÍ,  SÃO RAIMUNDO NONATO\n",
      "\n",
      "\u001b[1mCD_TIPO_ELEICAO: \u001b[0m1 unique values.\n",
      "2\n",
      "\n",
      "\u001b[1mNM_TIPO_ELEICAO: \u001b[0m1 unique values.\n",
      "Eleição Ordinária\n",
      "\n",
      "\u001b[1mNR_PARTIDO: \u001b[0m25 unique values.\n",
      "\u001b[1m(sample) \u001b[0m10,  11,  12,  13,  14,  16,  19,  21,  23,  29,  33,  36,  43,  44,  50,  51,  55,  65,  77,  80\n",
      "\n",
      "\u001b[1mDS_DETALHE_SITUACAO_CAND: \u001b[0m4 unique values.\n",
      "DEFERIDO,  DEFERIDO COM RECURSO,  INDEFERIDO,  INDEFERIDO COM RECURSO\n",
      "\n",
      "\u001b[1mDS_SITUACAO_CANDIDATURA: \u001b[0m2 unique values.\n",
      "APTO,  INAPTO\n",
      "\n",
      "\u001b[1mNM_PARTIDO: \u001b[0m25 unique values.\n",
      "\u001b[1m(sample) \u001b[0mAGIR,  Cidadania,  Movimento Democrático Brasileiro,  PROGRESSISTAS,  Partido Comunista Brasileiro,  Partido Comunista do Brasil,  Partido Liberal,  Partido Novo,  Partido Social Cristão,  Partido Social Democrático,  Partido Socialismo e Liberdade,  Partido Socialista dos Trabalhadores Unificado,  Partido da Causa Operária,  Partido da Mobilização Nacional,  Partido dos Trabalhadores,  Patriota,  REPUBLICANOS,  Rede Sustentabilidade,  Solidariedade,  Unidade Popular\n",
      "\n",
      "\u001b[1mDS_COMPOSICAO_COLIGACAO: \u001b[0m27 unique values.\n",
      "\u001b[1m(sample) \u001b[0m(PT / PV / PC do B) / MDB / AGIR / PSB / PSD / SOLIDARIEDADE / PROS,  (PT / PV / PC do B) / MDB / PSD / SOLIDARIEDADE / PSB / PROS / AGIR,  AGIR,  CIDADANIA / PSDB,  MDB,  NOVO,  PATRIOTA,  PCB,  PDT,  PL,  PMN,  PODE,  PP / (CIDADANIA / PSDB) / PDT / PTB / UNIÃO / AVANTE,  PSC / PODE,  PSD,  PT / PV / PC do B,  REDE / PSOL,  SOLIDARIEDADE,  UNIÃO,  UP\n",
      "\n",
      "\u001b[1mNM_UE: \u001b[0m1 unique values.\n",
      "PIAUÍ\n",
      "\n",
      "\u001b[1mDS_SIT_TOT_TURNO: \u001b[0m5 unique values.\n",
      "ELEITO,  ELEITO POR MÉDIA,  ELEITO POR QP,  NÃO ELEITO,  SUPLENTE\n",
      "\n",
      "\u001b[1mDS_CARGO: \u001b[0m4 unique values.\n",
      "Deputado Estadual,  Deputado Federal,  Governador,  Senador\n",
      "\n",
      "\u001b[1mSQ_COLIGACAO: \u001b[0m48 unique values.\n",
      "\u001b[1m(sample) \u001b[0m180001681104,  180001681105,  180001681107,  180001681108,  180001681159,  180001681161,  180001681279,  180001681291,  180001681542,  180001681644,  180001681683,  180001681684,  180001682096,  180001683070,  180001683141,  180001683175,  180001685072,  180001685107,  180001685131,  180001685408\n",
      "\n",
      "\u001b[1mNR_TURNO: \u001b[0m1 unique values.\n",
      "1\n",
      "\n",
      "\u001b[1mCD_MUNICIPIO: \u001b[0m224 unique values.\n",
      "\u001b[1m(sample) \u001b[0m10219,  10294,  10464,  10588,  10766,  10839,  10855,  11258,  11398,  11410,  11495,  12017,  12076,  12211,  12254,  12289,  12297,  12467,  12475,  12734\n",
      "\n",
      "\u001b[1mCD_SITUACAO_CANDIDATURA: \u001b[0m2 unique values.\n",
      "3,  12\n",
      "\n",
      "\u001b[1mCD_CARGO: \u001b[0m4 unique values.\n",
      "3,  5,  6,  7\n",
      "\n",
      "\u001b[1mHH_GERACAO: \u001b[0m1 unique values.\n",
      "14:05:04\n",
      "\n",
      "\u001b[1mTP_ABRANGENCIA: \u001b[0m1 unique values.\n",
      "E\n",
      "\n",
      "\u001b[1mSG_UF: \u001b[0m1 unique values.\n",
      "PI\n",
      "\n",
      "\u001b[1mCD_SIT_TOT_TURNO: \u001b[0m5 unique values.\n",
      "1,  2,  3,  4,  5\n",
      "\n",
      "\u001b[1mNR_CANDIDATO: \u001b[0m368 unique values.\n",
      "\u001b[1m(sample) \u001b[0m131,  500,  1000,  1001,  1414,  1818,  2252,  2300,  10001,  11122,  11140,  11700,  12369,  13777,  15666,  15955,  22333,  22654,  22888,  51234\n",
      "\n",
      "\u001b[1mST_VOTO_EM_TRANSITO: \u001b[0m1 unique values.\n",
      "N\n",
      "\n",
      "\u001b[1mDS_ELEICAO: \u001b[0m1 unique values.\n",
      "ELEIÇÕES GERAIS ESTADUAIS 2022\n",
      "\n",
      "\u001b[1mNM_SOCIAL_CANDIDATO: \u001b[0m1 unique values.\n",
      "#NULO#\n",
      "\n",
      "\u001b[1mCD_ELEICAO: \u001b[0m1 unique values.\n",
      "546\n",
      "\n",
      "\u001b[1mNM_CANDIDATO: \u001b[0m368 unique values.\n",
      "\u001b[1m(sample) \u001b[0mCLEITON IBIAPINA,  ELIAS FREITAS DA SILVA,  ELITA FERREIRA DE SOUZA,  FABRICIO RODRIGUES DE SOUSA,  GUTENBERG DE MOURA ROCHA,  ISABEL MARIANA FERREIRA DA SILVA,  JEOVA BARBOSA DE CARVALHO ALENCAR,  JEOVÁ DA SILVA,  JOSE HELIO DE CARVALHO OLIVEIRA,  JOSE WELLINGTON BARROSO DE ARAUJO DIAS,  JULIO FERRAZ ARCOVERDE,  LIEGE DA CUNHA CAVALCANTE RIBEIRO GONCALVES,  MARCOS ANTÔNIO MOURÃO ALBUQUERQUE,  MARDEN LUIS BRITO CAVALCANTE E MENESES,  MARIA MADALENA NUNES,  MARINEIDE LINS DE ALBUQUERQUE,  ROBERTO SILVA DE OLIVEIRA,  TATIANA MARIA MELO GUIMARÃES,  VALTEVI BARROS DE SOUZA,  VIVIANE MOURA BEZERRA\n"
     ]
    }
   ],
   "source": [
    "xe.mapUnique(votos22_df[common_cols])"
   ]
  },
  {
   "cell_type": "markdown",
   "id": "06a16de3-51a8-426c-9bdd-531a10aade07",
   "metadata": {},
   "source": [
    "### Compreensão da contagem de votos e votos válidos"
   ]
  },
  {
   "cell_type": "markdown",
   "id": "2b289405-77ee-4841-a957-432790faad24",
   "metadata": {},
   "source": [
    "PS: Verificamos manualmente que a soma das entradas dos arquivos dos estados (e com a sigla 'BR') é igual ao número de entradas no arquivo 'BRASIL'. Ou seja:  este último é a combinação de todos os outros."
   ]
  },
  {
   "cell_type": "markdown",
   "id": "a60bfd36-8168-4419-9abe-cf2721d8d2a7",
   "metadata": {},
   "source": [
    "#### Carregando e selecionando dados"
   ]
  },
  {
   "cell_type": "code",
   "execution_count": 85,
   "id": "68bfa342-4ace-4c62-9c44-fdf6b466ba21",
   "metadata": {},
   "outputs": [],
   "source": [
    "# Carregando votos de 2022 de todo o Brasil.\n",
    "sel_cols = ['CD_TIPO_ELEICAO', 'TP_ABRANGENCIA', 'SG_UF', 'NM_MUNICIPIO', 'NR_ZONA', 'DS_CARGO', 'SQ_CANDIDATO', 'NM_URNA_CANDIDATO', 'DS_SITUACAO_CANDIDATURA', \n",
    "            'DS_DETALHE_SITUACAO_CAND', 'TP_AGREMIACAO', 'SG_PARTIDO', 'ST_VOTO_EM_TRANSITO', 'QT_VOTOS_NOMINAIS', 'NM_TIPO_DESTINACAO_VOTOS', 'QT_VOTOS_NOMINAIS_VALIDOS',\n",
    "            'DS_SIT_TOT_TURNO']\n",
    "votos_df = tse.load_tse_votacao_data('/home/skems/ceweb/dados/brutos/tse/votacao_candidato_munzona_2022/votacao_candidato_munzona_2022_BRASIL.csv', usecols=sel_cols)"
   ]
  },
  {
   "cell_type": "code",
   "execution_count": 37,
   "id": "eec2c86d-1c56-473c-9da6-09583585812d",
   "metadata": {},
   "outputs": [],
   "source": [
    "# Votos válidos diferentes dos totais:\n",
    "votos_dif_df    = votos_df.query('QT_VOTOS_NOMINAIS != QT_VOTOS_NOMINAIS_VALIDOS')"
   ]
  },
  {
   "cell_type": "code",
   "execution_count": 39,
   "id": "cf3ca106-370e-4f4e-8243-427bb1740e0f",
   "metadata": {},
   "outputs": [
    {
     "name": "stdout",
     "output_type": "stream",
     "text": [
      "Votos válidos diferente dos totais: 0.52%.\n"
     ]
    }
   ],
   "source": [
    "print('Votos válidos diferente dos totais: {:.2f}%.'.format(100 * len(votos_dif_df) / len(votos_df)))"
   ]
  },
  {
   "cell_type": "code",
   "execution_count": 77,
   "id": "559bf77a-c686-4911-8c9a-d64c2b99cc8e",
   "metadata": {},
   "outputs": [
    {
     "data": {
      "text/plain": [
       "array([0])"
      ]
     },
     "execution_count": 77,
     "metadata": {},
     "output_type": "execute_result"
    }
   ],
   "source": [
    "votos_dif_df['QT_VOTOS_NOMINAIS_VALIDOS'].unique()"
   ]
  },
  {
   "cell_type": "code",
   "execution_count": 78,
   "id": "80d1ecac-97c0-4026-8a2a-58a67d42e945",
   "metadata": {},
   "outputs": [
    {
     "data": {
      "text/plain": [
       "array(['Anulado sub judice', 'Anulado', 'Válido (legenda)'], dtype=object)"
      ]
     },
     "execution_count": 78,
     "metadata": {},
     "output_type": "execute_result"
    }
   ],
   "source": [
    "votos_dif_df['NM_TIPO_DESTINACAO_VOTOS'].unique()"
   ]
  },
  {
   "cell_type": "markdown",
   "id": "d913cb28-dea8-4bc1-9a17-875b7db50fc7",
   "metadata": {},
   "source": [
    "#### Como as linhas são identificadas"
   ]
  },
  {
   "cell_type": "markdown",
   "id": "e3e89144-6676-4b19-9b62-e1bcf776bd10",
   "metadata": {},
   "source": [
    "Vemos que as zonas eleitorais tem numeração repetida nos estados (todos os estados tem a zona 1, por ex.):"
   ]
  },
  {
   "cell_type": "code",
   "execution_count": 44,
   "id": "93a19bab-ad64-42d3-9e45-fc980ca66395",
   "metadata": {},
   "outputs": [
    {
     "data": {
      "text/plain": [
       "NR_ZONA\n",
       "1      [TO, CE, BA, MG, PA, RR, PR, SP, PB, RO, AC, A...\n",
       "2      [PR, MG, SC, TO, MA, RO, DF, PA, PE, AC, MT, S...\n",
       "3      [RO, SP, MT, PI, GO, PB, MG, MS, CE, AM, RS, B...\n",
       "4      [PR, RS, MG, RO, PB, CE, PA, SP, RJ, RN, RR, P...\n",
       "5      [PR, RJ, MG, BA, DF, MA, TO, RR, MS, PA, AM, E...\n",
       "                             ...                        \n",
       "347                                             [MG, SP]\n",
       "348                                             [MG, SP]\n",
       "349                                             [MG, SP]\n",
       "350                                             [SP, MG]\n",
       "351                                             [MG, SP]\n",
       "Name: SG_UF, Length: 320, dtype: object"
      ]
     },
     "execution_count": 44,
     "metadata": {},
     "output_type": "execute_result"
    }
   ],
   "source": [
    "xd.check_guarda_compartilhada(votos_df, 'NR_ZONA', 'SG_UF')"
   ]
  },
  {
   "cell_type": "markdown",
   "id": "45a0e8f7-931b-4be5-9b60-cc4db714414f",
   "metadata": {},
   "source": [
    "Abaixo buscamos identificar quais colunas identificam de maneira unívoca as linhas. Com isso, lembramos que alguns municípios possuem mais de uma zona eleitoral e algumas zonas eleitorais englobam mais de um município (esse é o caso mais comum).\n",
    "\n",
    "Além disso, percebemos que só existe um tipo de destinação de votos por zona e município. Ou seja: aparentemente ou todos os votos de uma zona-município são válidos ou todos são inválidos (para um dado candidato)."
   ]
  },
  {
   "cell_type": "code",
   "execution_count": 60,
   "id": "13824bf1-1b96-4bfe-abad-a8d8bc22c3ee",
   "metadata": {},
   "outputs": [
    {
     "data": {
      "text/plain": [
       "True"
      ]
     },
     "execution_count": 60,
     "metadata": {},
     "output_type": "execute_result"
    }
   ],
   "source": [
    "test_id_cols = ['SQ_CANDIDATO', 'SG_UF', 'NM_MUNICIPIO']                                        # Chave inválida.\n",
    "test_id_cols = ['SQ_CANDIDATO', 'SG_UF',                 'NR_ZONA']                             # Chave inválida.\n",
    "test_id_cols = ['SQ_CANDIDATO', 'SG_UF', 'NM_MUNICIPIO', 'NR_ZONA', 'NM_TIPO_DESTINACAO_VOTOS'] # Chave válida.\n",
    "test_id_cols = ['SQ_CANDIDATO', 'SG_UF', 'NM_MUNICIPIO', 'NR_ZONA']                             # Chave válida.\n",
    "xd.iskeyQ(votos_df[test_id_cols])"
   ]
  },
  {
   "cell_type": "code",
   "execution_count": 61,
   "id": "1b9bad60-8a95-4533-b59d-00674ea70c2c",
   "metadata": {},
   "outputs": [
    {
     "data": {
      "text/plain": [
       "1"
      ]
     },
     "execution_count": 61,
     "metadata": {},
     "output_type": "execute_result"
    }
   ],
   "source": [
    "# Confirmando que cada candidato em cada localidade só tem um tipo de voto:\n",
    "votos_df.groupby(test_id_cols)['NM_TIPO_DESTINACAO_VOTOS'].nunique().max()"
   ]
  },
  {
   "cell_type": "markdown",
   "id": "a089da40-b231-48d0-b613-429be3563029",
   "metadata": {},
   "source": [
    "#### Investigação dos tipos de destinação de votos"
   ]
  },
  {
   "cell_type": "code",
   "execution_count": 62,
   "id": "59096d4f-af25-47d0-90e7-cbe5844829dd",
   "metadata": {},
   "outputs": [
    {
     "data": {
      "text/plain": [
       "array(['Válido', 'Anulado sub judice', 'Anulado', 'Válido (legenda)'],\n",
       "      dtype=object)"
      ]
     },
     "execution_count": 62,
     "metadata": {},
     "output_type": "execute_result"
    }
   ],
   "source": [
    "votos_df['NM_TIPO_DESTINACAO_VOTOS'].unique()"
   ]
  },
  {
   "cell_type": "code",
   "execution_count": 64,
   "id": "56d44711-b064-4021-8dc5-0fbd79c50df0",
   "metadata": {},
   "outputs": [
    {
     "name": "stdout",
     "output_type": "stream",
     "text": [
      "\n",
      "\u001b[1mCD_TIPO_ELEICAO: \u001b[0m1 unique values.\n",
      "2\n",
      "\n",
      "\u001b[1mTP_ABRANGENCIA: \u001b[0m1 unique values.\n",
      "E\n",
      "\n",
      "\u001b[1mSG_UF: \u001b[0m5 unique values.\n",
      "CE,  GO,  PI,  RN,  SP\n",
      "\n",
      "\u001b[1mNM_MUNICIPIO: \u001b[0m1454 unique values.\n",
      "\u001b[1m(sample) \u001b[0mADELÂNDIA,  BREJO ALEGRE,  HIDROLINA,  JALES,  JAMBEIRO,  JANDUÍS,  JUAZEIRO DO PIAUÍ,  LAVRINHAS,  LORENA,  MONTE MOR,  NOVA OLINDA,  PEDREGULHO,  PINDORAMA,  RIVERSUL,  SALITRE,  SANTANA DO SERIDÓ,  SÃO GONÇALO DO AMARANTE,  URU,  URUTAÍ,  ÁGUA LIMPA\n",
      "\n",
      "\u001b[1mNR_ZONA: \u001b[0m400 unique values.\n",
      "\u001b[1m(sample) \u001b[0m20,  24,  55,  60,  66,  85,  93,  115,  123,  143,  197,  202,  208,  246,  286,  303,  352,  373,  402,  416\n",
      "\n",
      "\u001b[1mDS_CARGO: \u001b[0m2 unique values.\n",
      "Deputado Estadual,  Deputado Federal\n",
      "\n",
      "\u001b[1mSQ_CANDIDATO: \u001b[0m25 unique values.\n",
      "\u001b[1m(sample) \u001b[0m60001619112,  90001675735,  90001675874,  90001719517,  180001722384,  180001738231,  180001739382,  200001731295,  250001604960,  250001619317,  250001620265,  250001620654,  250001620748,  250001621746,  250001643305,  250001652087,  250001676832,  250001692523,  250001715894,  250001719437\n",
      "\n",
      "\u001b[1mNM_URNA_CANDIDATO: \u001b[0m25 unique values.\n",
      "\u001b[1m(sample) \u001b[0mADRIANA LEAL,  ALEMÃO DA VISTA LINDA BERTIOGA,  AUGUSTO BOMEIRO ANJOS DO BEM,  CLAUDIO BENVINDO,  CÍCERO GOUVEIA,  EDSON CURY,  EDSON MOURA,  ELENICE OLIVEIRA,  ENFERMEIRO GUERRA,  FLORIANO JUNIOR,  FRANCISCO MARANHÃO E CIA,  GISELE SANTOS,  LEIA SIMONE,  LETÍCIA SCALABRINI,  MARIA RIBEIRO,  NIL CABRA VÉIO,  PR FÁBIO SANTOS,  RENATO,  SAMUEL CARMO,  VETERINÁRIO WILSON GRASSI\n",
      "\n",
      "\u001b[1mDS_SITUACAO_CANDIDATURA: \u001b[0m1 unique values.\n",
      "INAPTO\n",
      "\n",
      "\u001b[1mDS_DETALHE_SITUACAO_CAND: \u001b[0m1 unique values.\n",
      "INDEFERIDO\n",
      "\n",
      "\u001b[1mTP_AGREMIACAO: \u001b[0m2 unique values.\n",
      "Federação,  Partido isolado\n",
      "\n",
      "\u001b[1mSG_PARTIDO: \u001b[0m13 unique values.\n",
      "AGIR,  AVANTE,  DC,  PATRIOTA,  PMN,  PROS,  PRTB,  PSB,  PSD,  PSOL,  PV,  REPUBLICANOS,  UP\n",
      "\n",
      "\u001b[1mST_VOTO_EM_TRANSITO: \u001b[0m1 unique values.\n",
      "N\n",
      "\n",
      "\u001b[1mQT_VOTOS_NOMINAIS: \u001b[0m121 unique values.\n",
      "\u001b[1m(sample) \u001b[0m1,  10,  20,  21,  25,  33,  34,  50,  51,  56,  60,  70,  73,  75,  89,  129,  136,  154,  183,  217\n",
      "\n",
      "\u001b[1mNM_TIPO_DESTINACAO_VOTOS: \u001b[0m1 unique values.\n",
      "Anulado\n",
      "\n",
      "\u001b[1mQT_VOTOS_NOMINAIS_VALIDOS: \u001b[0m1 unique values.\n",
      "0\n",
      "\n",
      "\u001b[1mDS_SIT_TOT_TURNO: \u001b[0m1 unique values.\n",
      "NÃO ELEITO\n"
     ]
    }
   ],
   "source": [
    "xe.mapUnique(votos_df.query('NM_TIPO_DESTINACAO_VOTOS == \"Anulado\"'))"
   ]
  },
  {
   "cell_type": "markdown",
   "id": "47683461-7b77-4469-98ce-0d84c9f867e3",
   "metadata": {},
   "source": [
    "Vemos acima e abaixo que a destinação dos votos está relacionada com a situação da candidatura, se ela foi aceita ou não. A destinação não tem relação com anulação da urna por qualquer motivo, por exemplo.\n",
    "\n",
    "**ATENÇÃO:** Fica a dúvida: quando os dados não tinham a coluna de votos válidos, a coluna de votos nominais continha qual tipo de contabilização, a de votos ou de votos válidos? Acho que era a quantidade de votos, mesmo."
   ]
  },
  {
   "cell_type": "code",
   "execution_count": 68,
   "id": "a1c18955-609e-4366-9c2d-c9b609eed45e",
   "metadata": {},
   "outputs": [
    {
     "name": "stdout",
     "output_type": "stream",
     "text": [
      "\u001b[1mAnulado: \u001b[0mINDEFERIDO\n",
      "\u001b[1mAnulado sub judice: \u001b[0mINDEFERIDO COM RECURSO / DEFERIDO / PEDIDO NÃO CONHECIDO COM RECURSO\n",
      "\u001b[1mVálido: \u001b[0mDEFERIDO / DEFERIDO COM RECURSO / PENDENTE DE JULGAMENTO\n",
      "\u001b[1mVálido (legenda): \u001b[0mINDEFERIDO\n"
     ]
    }
   ],
   "source": [
    "xd.print_array_series(xd.check_guarda_compartilhada(votos_df, 'NM_TIPO_DESTINACAO_VOTOS', 'DS_DETALHE_SITUACAO_CAND', drop_unique=False))"
   ]
  },
  {
   "cell_type": "code",
   "execution_count": 69,
   "id": "5e49c67a-bbb4-497b-a5dd-81362b13e3ec",
   "metadata": {},
   "outputs": [
    {
     "name": "stdout",
     "output_type": "stream",
     "text": [
      "\u001b[1mDEFERIDO: \u001b[0mVálido / Anulado sub judice\n",
      "\u001b[1mDEFERIDO COM RECURSO: \u001b[0mVálido\n",
      "\u001b[1mINDEFERIDO: \u001b[0mAnulado / Válido (legenda)\n",
      "\u001b[1mINDEFERIDO COM RECURSO: \u001b[0mAnulado sub judice\n",
      "\u001b[1mPEDIDO NÃO CONHECIDO COM RECURSO: \u001b[0mAnulado sub judice\n",
      "\u001b[1mPENDENTE DE JULGAMENTO: \u001b[0mVálido\n"
     ]
    }
   ],
   "source": [
    "xd.print_array_series(xd.check_guarda_compartilhada(votos_df, 'DS_DETALHE_SITUACAO_CAND', 'NM_TIPO_DESTINACAO_VOTOS', drop_unique=False))"
   ]
  },
  {
   "cell_type": "code",
   "execution_count": 71,
   "id": "5d56bf83-51e3-4ac9-8971-b6c66fee904a",
   "metadata": {},
   "outputs": [
    {
     "name": "stdout",
     "output_type": "stream",
     "text": [
      "\u001b[1mAnulado: \u001b[0mINAPTO\n",
      "\u001b[1mAnulado sub judice: \u001b[0mAPTO\n",
      "\u001b[1mVálido: \u001b[0mAPTO\n",
      "\u001b[1mVálido (legenda): \u001b[0mINAPTO\n"
     ]
    }
   ],
   "source": [
    "xd.print_array_series(xd.check_guarda_compartilhada(votos_df, 'NM_TIPO_DESTINACAO_VOTOS', 'DS_SITUACAO_CANDIDATURA', drop_unique=False))"
   ]
  },
  {
   "cell_type": "code",
   "execution_count": 72,
   "id": "56e948de-98dc-4c6c-9e67-15b07d84185b",
   "metadata": {},
   "outputs": [
    {
     "name": "stdout",
     "output_type": "stream",
     "text": [
      "\u001b[1mAPTO: \u001b[0mVálido / Anulado sub judice\n",
      "\u001b[1mINAPTO: \u001b[0mAnulado / Válido (legenda)\n"
     ]
    }
   ],
   "source": [
    "xd.print_array_series(xd.check_guarda_compartilhada(votos_df, 'DS_SITUACAO_CANDIDATURA', 'NM_TIPO_DESTINACAO_VOTOS', drop_unique=False))"
   ]
  },
  {
   "cell_type": "markdown",
   "id": "a461a649-00c2-43a4-ae9d-d7ac751bbf90",
   "metadata": {},
   "source": [
    "#### Como se dá a contabilização de votos válidos para os vários tipos de destinação?"
   ]
  },
  {
   "cell_type": "markdown",
   "id": "065497dd-c3e2-4258-94a7-fb2973209fca",
   "metadata": {},
   "source": [
    "Vemos que os votos válidos só são contabilizados (isto é, diferentes de zero) quando o tipo de destinação é \"válido\"."
   ]
  },
  {
   "cell_type": "code",
   "execution_count": 88,
   "id": "19c6b1bf-10c2-409f-9ed6-275eb3752e30",
   "metadata": {},
   "outputs": [
    {
     "data": {
      "text/plain": [
       "NM_TIPO_DESTINACAO_VOTOS\n",
       "Anulado                                                             [0]\n",
       "Anulado sub judice                                                  [0]\n",
       "Válido                [0, 3, 122, 412, 29, 2, 1754, 7, 5, 10, 1, 4, ...\n",
       "Válido (legenda)                                                    [0]\n",
       "Name: QT_VOTOS_NOMINAIS_VALIDOS, dtype: object"
      ]
     },
     "execution_count": 88,
     "metadata": {},
     "output_type": "execute_result"
    }
   ],
   "source": [
    "votos_df.groupby('NM_TIPO_DESTINACAO_VOTOS')['QT_VOTOS_NOMINAIS_VALIDOS'].unique()"
   ]
  },
  {
   "cell_type": "markdown",
   "id": "f5aca146-1be4-4456-b6fa-0fd159851362",
   "metadata": {},
   "source": [
    "### Significado da coluna de votos antes de 2022"
   ]
  },
  {
   "cell_type": "code",
   "execution_count": 73,
   "id": "e78613e9-bf16-47c8-83aa-e8aec8e52768",
   "metadata": {},
   "outputs": [],
   "source": [
    "# Carregando votos de 2022 de todo o Brasil.\n",
    "sel_cols = ['CD_TIPO_ELEICAO', 'TP_ABRANGENCIA', 'SG_UF', 'NM_MUNICIPIO', 'NR_ZONA', 'DS_CARGO', 'SQ_CANDIDATO', 'NM_URNA_CANDIDATO', 'DS_SITUACAO_CANDIDATURA', \n",
    "            'DS_DETALHE_SITUACAO_CAND', 'TP_AGREMIACAO', 'SG_PARTIDO', 'ST_VOTO_EM_TRANSITO', 'QT_VOTOS_NOMINAIS', 'DS_SIT_TOT_TURNO']\n",
    "votos_df = tse.load_tse_votacao_data('/home/skems/gabinete/projetos/laranjometro/dados/brutos/votacao_candidato_munzona_2020/votacao_candidato_munzona_2020_BRASIL.csv', usecols=sel_cols)"
   ]
  },
  {
   "cell_type": "code",
   "execution_count": 84,
   "id": "b8b13570-741a-4e03-ba37-4922b337dc1f",
   "metadata": {},
   "outputs": [
    {
     "name": "stdout",
     "output_type": "stream",
     "text": [
      "\u001b[1mColunas com valores faltantes:\u001b[0m\n",
      "              coluna    N    %\n",
      "7  NM_URNA_CANDIDATO  3.0  0.0\n"
     ]
    }
   ],
   "source": [
    "xe.checkMissing(votos_df)"
   ]
  },
  {
   "cell_type": "code",
   "execution_count": 83,
   "id": "cb5c06ff-df66-445c-aa7a-deebd8bd4d14",
   "metadata": {},
   "outputs": [
    {
     "data": {
      "text/plain": [
       "DS_DETALHE_SITUACAO_CAND\n",
       "CANCELADO                                   0\n",
       "CANCELADO COM RECURSO                       0\n",
       "CASSADO COM RECURSO                         0\n",
       "DEFERIDO                            187943187\n",
       "DEFERIDO COM RECURSO                  6101478\n",
       "FALECIDO                                    0\n",
       "INDEFERIDO                                633\n",
       "INDEFERIDO COM RECURSO                 102866\n",
       "PEDIDO NÃO CONHECIDO                        0\n",
       "PEDIDO NÃO CONHECIDO COM RECURSO            0\n",
       "PENDENTE DE JULGAMENTO                 472112\n",
       "RENÚNCIA                                 1495\n",
       "Name: QT_VOTOS_NOMINAIS, dtype: int64"
      ]
     },
     "execution_count": 83,
     "metadata": {},
     "output_type": "execute_result"
    }
   ],
   "source": [
    "votos_df.groupby('DS_DETALHE_SITUACAO_CAND')['QT_VOTOS_NOMINAIS'].sum()"
   ]
  },
  {
   "cell_type": "code",
   "execution_count": 81,
   "id": "086f0594-ba77-47b5-b4ee-6bf45d05324a",
   "metadata": {},
   "outputs": [
    {
     "data": {
      "text/plain": [
       "array([  0,  10,  86,   4,   7, 247,  40,  88,  14,  54,   8, 101,   3,\n",
       "         5,  61, 126,  47,   1,  11,  96,  12,   9, 164,  18,  13,  93,\n",
       "        42, 127, 261,   2, 231,  45])"
      ]
     },
     "execution_count": 81,
     "metadata": {},
     "output_type": "execute_result"
    }
   ],
   "source": [
    "votos_df.query('DS_SITUACAO_CANDIDATURA == \"INAPTO\"')['QT_VOTOS_NOMINAIS'].unique()"
   ]
  },
  {
   "cell_type": "markdown",
   "id": "4596c0e0-8854-4af6-afe3-01a9547b972c",
   "metadata": {},
   "source": [
    "## Prototipando função de ETL"
   ]
  },
  {
   "cell_type": "markdown",
   "id": "44d94cdd-2da2-4a77-bf99-8939223a3efe",
   "metadata": {},
   "source": [
    "Dentro do objetivo do projeto, vamos criar uma função para carregar os dados de votações das candidaturas. Nosso objetivo é uma função que carregue o total de votos de cada candidatura, isto é, agregados sobre os municípios e zona. Além disso, vamos contabilizar os votos totais recebidos e não apenas os válidos, pois nosso objetivo é medir a capacidade de obter votos de cada candidato, e não sua validade para a eleição."
   ]
  },
  {
   "cell_type": "code",
   "execution_count": 1,
   "id": "ea458368-9f26-4257-ad88-0a47a9427102",
   "metadata": {},
   "outputs": [],
   "source": [
    "import xavy.tse as tse"
   ]
  },
  {
   "cell_type": "code",
   "execution_count": 7,
   "id": "dadf337c-d99d-4831-b7fa-a4a07d2234ee",
   "metadata": {},
   "outputs": [],
   "source": [
    "usecols = ['CD_TIPO_ELEICAO', 'NR_TURNO', 'SQ_CANDIDATO', 'QT_VOTOS_NOMINAIS']\n",
    "filename = '/home/skems/ceweb/dados/brutos/tse/votacao_candidato_munzona_2022/votacao_candidato_munzona_2022_BRASIL.csv'\n",
    "turno = 1\n",
    "votos_col = 'QT_VOTOS_NOMINAIS'"
   ]
  },
  {
   "cell_type": "code",
   "execution_count": 15,
   "id": "1b0f3cdd-60b7-4f71-858a-a5bc57afc9e7",
   "metadata": {},
   "outputs": [],
   "source": [
    "def etl_votos_nominais(filename, turno=1, usecols=['CD_TIPO_ELEICAO', 'NR_TURNO', 'SQ_CANDIDATO', 'QT_VOTOS_NOMINAIS'], votos_col='QT_VOTOS_NOMINAIS'):\n",
    "    \"\"\"\n",
    "    Load raw TSE data on votes on candidates from a CSV file and \n",
    "    aggregate them by candidates.\n",
    "    \n",
    "    Parameters\n",
    "    ----------\n",
    "    filename : str or Path\n",
    "        Path to the TSE raw CSV file with prefix \n",
    "        'votacao_candidato_munzona'.\n",
    "    turno : int\n",
    "        Which round to select, either 1 or 2.\n",
    "    usecols : list of str\n",
    "        Columns to load from the file. It is required to include\n",
    "        'SQ_CANDIDATO', 'NR_TURNO' and the column with the vote \n",
    "        counts. Other columns should be included if there are \n",
    "        security and consistency checks inside the function. \n",
    "        These are not output.\n",
    "    votos_col : str\n",
    "        Name of the column containing the vote counts, such as \n",
    "        'QT_VOTOS_NOMINAIS' or 'QT_VOTOS_NOMINAIS_VALIDOS'.\n",
    "    \n",
    "    Returns\n",
    "    -------\n",
    "    total_votos : Series\n",
    "        Total number of votes of class given by `votos_col`\n",
    "        on round `turno` per candidate, identified by \n",
    "        'SQ_CANDIDATO'.\n",
    "    \"\"\"\n",
    "    \n",
    "    # Load data:\n",
    "    df = tse.load_tse_votacao_data(filename, usecols=usecols)\n",
    "\n",
    "    # Security checks:\n",
    "    assert len(df['CD_TIPO_ELEICAO'].unique()) == 1, 'Esperamos apenas um tipo de eleição, mas encontramos mais. Verifique!'\n",
    "\n",
    "    # Select just one round:\n",
    "    df = df.loc[df['NR_TURNO'] == turno]\n",
    "\n",
    "    # Aggregate votes by candidate:\n",
    "    total_votos = df.groupby('SQ_CANDIDATO')[votos_col].sum()\n",
    "    \n",
    "    return total_votos"
   ]
  },
  {
   "cell_type": "code",
   "execution_count": 14,
   "id": "f5f29b54-60d5-4232-b863-6f238e121396",
   "metadata": {},
   "outputs": [
    {
     "data": {
      "text/plain": [
       "SQ_CANDIDATO\n",
       "10001595336         1125\n",
       "10001595339         2763\n",
       "10001595342          175\n",
       "10001595343          120\n",
       "10001595344          176\n",
       "                  ...   \n",
       "280001612393     3599287\n",
       "280001618036    51072345\n",
       "280001644128      600955\n",
       "280001677435       16604\n",
       "280001734029       81129\n",
       "Name: QT_VOTOS_NOMINAIS, Length: 26368, dtype: int64"
      ]
     },
     "execution_count": 14,
     "metadata": {},
     "output_type": "execute_result"
    }
   ],
   "source": [
    "etl_votos_nominais('/home/skems/ceweb/dados/brutos/tse/votacao_candidato_munzona_2022/votacao_candidato_munzona_2022_BRASIL.csv')"
   ]
  },
  {
   "cell_type": "code",
   "execution_count": null,
   "id": "adeedf45-9a6b-405e-a8c1-25d4bcc08c4a",
   "metadata": {},
   "outputs": [],
   "source": []
  }
 ],
 "metadata": {
  "kernelspec": {
   "display_name": "Python 3",
   "language": "python",
   "name": "python3"
  },
  "language_info": {
   "codemirror_mode": {
    "name": "ipython",
    "version": 3
   },
   "file_extension": ".py",
   "mimetype": "text/x-python",
   "name": "python",
   "nbconvert_exporter": "python",
   "pygments_lexer": "ipython3",
   "version": "3.8.10"
  }
 },
 "nbformat": 4,
 "nbformat_minor": 5
}
