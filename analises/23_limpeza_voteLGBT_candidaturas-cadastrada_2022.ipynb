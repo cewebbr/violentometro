{
 "cells": [
  {
   "cell_type": "markdown",
   "id": "0a92aacc-9629-4e6d-b33e-9f2bc579c7a9",
   "metadata": {},
   "source": [
    "# Preparação da base de candidaturas cadastradas"
   ]
  },
  {
   "cell_type": "markdown",
   "id": "8a52964e-58d3-49f1-b1d0-e00f22a019e9",
   "metadata": {},
   "source": [
    "[Voltar ao Índice](00_indice.ipynb)\n",
    "\n",
    "Este notebook limpa e padroniza os dados de candidaturas LGBT cadastradas na plataforma do [VoteLGBT.org](https://votelgbt.org) para as eleições de 2022.\n",
    "\n",
    "Fonte: <https://docs.google.com/spreadsheets/d/1lsRnBI4PDM6baI5SIG31-h0MjxF64YnFFNAXW018TVU>"
   ]
  },
  {
   "cell_type": "code",
   "execution_count": 2,
   "id": "c87ed721-c6cc-4ad8-be98-e4d181998dbe",
   "metadata": {},
   "outputs": [],
   "source": [
    "import pandas as pd\n",
    "import numpy as np\n",
    "from pathlib import Path\n",
    "\n",
    "import src.xavy.utils as xu\n",
    "import src.xavy.dataframes as xd\n",
    "import src.xavy.text as xt\n",
    "import src.xavy.explore as xe"
   ]
  },
  {
   "cell_type": "markdown",
   "id": "3e4345e7-d010-4857-b279-26bf67eb2a23",
   "metadata": {},
   "source": [
    "## Carregando e limpando os dados"
   ]
  },
  {
   "cell_type": "markdown",
   "id": "1b6cf928-10d1-44ea-83e5-0b7681b491dd",
   "metadata": {},
   "source": [
    "### Carrega os dados"
   ]
  },
  {
   "cell_type": "code",
   "execution_count": 3,
   "id": "97f1b1e2-2ef4-4cb5-a222-71a42313b08c",
   "metadata": {},
   "outputs": [],
   "source": [
    "# Load data to be cleaned:\n",
    "raw_df = pd.read_csv(Path('../dados/brutos/aux/candidaturas-2022_cadastro-voteLGBT_baixada-2022-12-04.csv'), skiprows=1, dtype=str)"
   ]
  },
  {
   "cell_type": "markdown",
   "id": "83270fb8-1242-4993-9313-f7636e68d007",
   "metadata": {},
   "source": [
    "### Limpa os dados"
   ]
  },
  {
   "cell_type": "code",
   "execution_count": 4,
   "id": "bad6f226-1541-43d4-99c2-d37dfb17ef8e",
   "metadata": {},
   "outputs": [],
   "source": [
    "# Standardize strings:\n",
    "clean_df = raw_df.copy()\n",
    "for col in clean_df.columns:\n",
    "    if col == 'Link':\n",
    "        to_case = None\n",
    "    else:\n",
    "        to_case = 'upper'\n",
    "    clean_df[col] = xd.std_string_series(clean_df[col], case=to_case)\n",
    "\n",
    "# Turn column names to tag style:\n",
    "new_col_names = [xt.text2tag(xt.keep_only_letters(t.replace('_', ' '))).replace('_de_', '_') for t in clean_df.columns]\n",
    "col_renamer = dict(zip(clean_df.columns, new_col_names))\n",
    "clean_df.rename(col_renamer, axis=1, inplace=True)\n",
    "\n",
    "# Format numbers to be machine readable:\n",
    "clean_df['numero_votos'] = clean_df['numero_votos'].str.replace('.', '', regex=False).astype(int)\n",
    "\n",
    "# Add column SQ_CANDIDATO, extracted from link:\n",
    "clean_df['sq_candidato'] = clean_df['link'].str.split('/').str.slice(-1).str.join('').astype(int)\n",
    "\n",
    "# Reorder columns:\n",
    "clean_df = clean_df[['sq_candidato'] + new_col_names]"
   ]
  },
  {
   "cell_type": "markdown",
   "id": "eef1110c-6aa7-49b7-bd8c-8f6be61da02f",
   "metadata": {},
   "source": [
    "### Exporta dados"
   ]
  },
  {
   "cell_type": "code",
   "execution_count": 6,
   "id": "e3310d10-bac9-4ed5-a5a6-1571c49eab14",
   "metadata": {},
   "outputs": [],
   "source": [
    "# Para salvar os dados processados, descomente a linha abaixo (ela fica comentada para evitar sobrescrever o arquivo por acidente):\n",
    "#clean_df.to_csv(Path('../dados/limpos/aux/candidaturas-2022_cadastro-voteLGBT_baixada-2022-12-04_clean.csv'), index=False)"
   ]
  },
  {
   "cell_type": "markdown",
   "id": "1ebd1e39-9914-451d-941b-e771ba03cbc0",
   "metadata": {},
   "source": [
    "## Testes com os dados limpos"
   ]
  },
  {
   "cell_type": "markdown",
   "id": "a2ee449c-7f40-4dcd-a567-2583b107f61e",
   "metadata": {},
   "source": [
    "### Carrega dados dos candidatos"
   ]
  },
  {
   "cell_type": "code",
   "execution_count": null,
   "id": "1643e9dd-8eb5-464e-a70f-0a8cd9413aa4",
   "metadata": {},
   "outputs": [],
   "source": [
    "# Load TSE candidates' data for sanity checks:\n",
    "cand_df = pd.read_csv(Path('../dados/limpos/consulta_cand/consulta_cand_2022_BRASIL.csv'), low_memory=False)"
   ]
  },
  {
   "cell_type": "code",
   "execution_count": 100,
   "id": "62732d3d-216d-440d-8560-93c6f8a896dd",
   "metadata": {},
   "outputs": [],
   "source": [
    "# Check properties of TSE candidates dataset:\n",
    "assert (cand_df['NM_URNA_CANDIDATO'] == cand_df['NM_URNA_CANDIDATO'].str.upper()).all()\n",
    "assert (cand_df['DS_CARGO'] == cand_df['DS_CARGO'].str.upper()).all()"
   ]
  },
  {
   "cell_type": "markdown",
   "id": "cd165d87-e6f6-41ab-b651-0e59b46b0605",
   "metadata": {},
   "source": [
    "### Testes sem cruzamento de dados"
   ]
  },
  {
   "cell_type": "code",
   "execution_count": 101,
   "id": "83db5d60-cbc4-4504-b9ba-ae4aa7987886",
   "metadata": {},
   "outputs": [],
   "source": [
    "# Make sure SQ_CANDIDATO is unique:\n",
    "assert xd.iskeyQ(clean_df[['sq_candidato']])"
   ]
  },
  {
   "cell_type": "code",
   "execution_count": 102,
   "id": "d81befb4-2854-4622-8de2-237be3e5613c",
   "metadata": {},
   "outputs": [
    {
     "name": "stdout",
     "output_type": "stream",
     "text": [
      "\u001b[1mColunas com valores faltantes:\u001b[0m\n",
      "Empty DataFrame\n",
      "Columns: [coluna, N, %]\n",
      "Index: []\n",
      "# candidatos: 319\n"
     ]
    }
   ],
   "source": [
    "xe.checkMissing(clean_df)\n",
    "print('# candidatos: {}'.format(len(clean_df)))"
   ]
  },
  {
   "cell_type": "markdown",
   "id": "fa15a17d-5d5f-4a07-a8c8-aba8d1329286",
   "metadata": {},
   "source": [
    "### Testes com cruzamento de dados"
   ]
  },
  {
   "cell_type": "markdown",
   "id": "493bf5e7-1f55-4d90-a62d-6bfea2b77868",
   "metadata": {},
   "source": [
    "Se a base do TSE foi baixada antes do final das eleições, é possível que haja diferenças entre a base do VoteLGBT e a do TSE. Vamos verificar se elas não são muito grandes."
   ]
  },
  {
   "cell_type": "code",
   "execution_count": 103,
   "id": "ff5b6f30-d7eb-4626-9bd3-bac6e72f2045",
   "metadata": {},
   "outputs": [
    {
     "name": "stdout",
     "output_type": "stream",
     "text": [
      "Candidatos fora da base que temos do TSE: {110001724934, 240001732331, 90001732912, 190001732307, 40001726396}\n",
      "5/319 (1.6%)\n"
     ]
    }
   ],
   "source": [
    "# Find candidates that are missing in our TSE data:\n",
    "missing_cand = set(clean_df['sq_candidato']) - set(cand_df['SQ_CANDIDATO'])\n",
    "print('Candidatos fora da base que temos do TSE:', missing_cand)\n",
    "print('{}/{} ({:.1f}%)'.format(len(missing_cand), len(clean_df), len(missing_cand) / len(clean_df) * 100))"
   ]
  },
  {
   "cell_type": "markdown",
   "id": "03e60ed1-fa1b-4178-9d68-03d29a09461d",
   "metadata": {},
   "source": [
    "Acima verificamos o número de candidatos VoteLGBT não encontrados. Esse número tem que ser pequeno."
   ]
  },
  {
   "cell_type": "code",
   "execution_count": 104,
   "id": "cd33e053-8e35-488e-87ca-6b98adf1725a",
   "metadata": {},
   "outputs": [],
   "source": [
    "# Select these candidates:\n",
    "missing_cands_df = clean_df.loc[clean_df['sq_candidato'].isin(missing_cand)]"
   ]
  },
  {
   "cell_type": "markdown",
   "id": "7bb5ee2b-b72a-40e5-becf-39d318645435",
   "metadata": {},
   "source": [
    "Abaixo verificamos os casos com informações divergentes. Elas não podem ser relevantes:"
   ]
  },
  {
   "cell_type": "code",
   "execution_count": 110,
   "id": "f55ef3e4-3c00-4999-a48e-4aa548033917",
   "metadata": {},
   "outputs": [
    {
     "data": {
      "text/html": [
       "<div>\n",
       "<style scoped>\n",
       "    .dataframe tbody tr th:only-of-type {\n",
       "        vertical-align: middle;\n",
       "    }\n",
       "\n",
       "    .dataframe tbody tr th {\n",
       "        vertical-align: top;\n",
       "    }\n",
       "\n",
       "    .dataframe thead th {\n",
       "        text-align: right;\n",
       "    }\n",
       "</style>\n",
       "<table border=\"1\" class=\"dataframe\">\n",
       "  <thead>\n",
       "    <tr style=\"text-align: right;\">\n",
       "      <th></th>\n",
       "      <th>tse_nome_urna</th>\n",
       "      <th>tse_cargo</th>\n",
       "      <th>DS_CARGO</th>\n",
       "      <th>tse_uf</th>\n",
       "      <th>SG_UF</th>\n",
       "      <th>tse_partido</th>\n",
       "      <th>SG_PARTIDO</th>\n",
       "    </tr>\n",
       "  </thead>\n",
       "  <tbody>\n",
       "    <tr>\n",
       "      <th>63</th>\n",
       "      <td>RAFAELLA MACHADO</td>\n",
       "      <td>SENADOR (1O SUPLENTE)</td>\n",
       "      <td>1º SUPLENTE</td>\n",
       "      <td>ES</td>\n",
       "      <td>ES</td>\n",
       "      <td>PSOL</td>\n",
       "      <td>PSOL</td>\n",
       "    </tr>\n",
       "    <tr>\n",
       "      <th>224</th>\n",
       "      <td>KELLY SILVA</td>\n",
       "      <td>DEPUTADO ESTADUAL</td>\n",
       "      <td>DEPUTADO FEDERAL</td>\n",
       "      <td>RS</td>\n",
       "      <td>RS</td>\n",
       "      <td>PDT</td>\n",
       "      <td>PDT</td>\n",
       "    </tr>\n",
       "    <tr>\n",
       "      <th>227</th>\n",
       "      <td>BRUNA E COLETIVO</td>\n",
       "      <td>DEPUTADO ESTADUAL</td>\n",
       "      <td>DEPUTADO ESTADUAL</td>\n",
       "      <td>RS</td>\n",
       "      <td>RS</td>\n",
       "      <td>PCDOB</td>\n",
       "      <td>PC do B</td>\n",
       "    </tr>\n",
       "  </tbody>\n",
       "</table>\n",
       "</div>"
      ],
      "text/plain": [
       "        tse_nome_urna              tse_cargo           DS_CARGO tse_uf SG_UF  \\\n",
       "63   RAFAELLA MACHADO  SENADOR (1O SUPLENTE)        1º SUPLENTE     ES    ES   \n",
       "224       KELLY SILVA      DEPUTADO ESTADUAL   DEPUTADO FEDERAL     RS    RS   \n",
       "227  BRUNA E COLETIVO      DEPUTADO ESTADUAL  DEPUTADO ESTADUAL     RS    RS   \n",
       "\n",
       "    tse_partido SG_PARTIDO  \n",
       "63         PSOL       PSOL  \n",
       "224         PDT        PDT  \n",
       "227       PCDOB    PC do B  "
      ]
     },
     "metadata": {},
     "output_type": "display_data"
    },
    {
     "data": {
      "text/html": [
       "<div>\n",
       "<style scoped>\n",
       "    .dataframe tbody tr th:only-of-type {\n",
       "        vertical-align: middle;\n",
       "    }\n",
       "\n",
       "    .dataframe tbody tr th {\n",
       "        vertical-align: top;\n",
       "    }\n",
       "\n",
       "    .dataframe thead th {\n",
       "        text-align: right;\n",
       "    }\n",
       "</style>\n",
       "<table border=\"1\" class=\"dataframe\">\n",
       "  <thead>\n",
       "    <tr style=\"text-align: right;\">\n",
       "      <th></th>\n",
       "      <th>tse_nome_urna</th>\n",
       "      <th>NM_URNA_CANDIDATO</th>\n",
       "    </tr>\n",
       "  </thead>\n",
       "  <tbody>\n",
       "    <tr>\n",
       "      <th>0</th>\n",
       "      <td>DRA MICHELLE MELO</td>\n",
       "      <td>DR. MICHELLE MELO</td>\n",
       "    </tr>\n",
       "    <tr>\n",
       "      <th>6</th>\n",
       "      <td>FLORISMAR BANCADA AMAZÔNIDA</td>\n",
       "      <td>FLORISMAR FERREIRA</td>\n",
       "    </tr>\n",
       "    <tr>\n",
       "      <th>13</th>\n",
       "      <td>ANDERSON ROCHA</td>\n",
       "      <td>ANDRESON SANTOS</td>\n",
       "    </tr>\n",
       "    <tr>\n",
       "      <th>26</th>\n",
       "      <td>DRA. FABÍOLA MANSUR</td>\n",
       "      <td>DRA FABIOLA MANSUR</td>\n",
       "    </tr>\n",
       "    <tr>\n",
       "      <th>51</th>\n",
       "      <td>MARI VALENTIM</td>\n",
       "      <td>MARI VELENTIM</td>\n",
       "    </tr>\n",
       "    <tr>\n",
       "      <th>62</th>\n",
       "      <td>MULHERES DE TODAS AS LUTAS</td>\n",
       "      <td>FERNANDA PEREIRA</td>\n",
       "    </tr>\n",
       "    <tr>\n",
       "      <th>66</th>\n",
       "      <td>WALDIR PIRES</td>\n",
       "      <td>ENFERMEIRO WALDIR</td>\n",
       "    </tr>\n",
       "    <tr>\n",
       "      <th>81</th>\n",
       "      <td>CHICO COLETIVO GUARNICÊ</td>\n",
       "      <td>COLETIVO GUARNICÊ</td>\n",
       "    </tr>\n",
       "    <tr>\n",
       "      <th>103</th>\n",
       "      <td>COLETIVAS VOZES GERAIS/WALLACE</td>\n",
       "      <td>WALLACE</td>\n",
       "    </tr>\n",
       "    <tr>\n",
       "      <th>117</th>\n",
       "      <td>KARLA MELO COLETIVO SOMOS</td>\n",
       "      <td>KARLAMELO COLETIVO SOMOS</td>\n",
       "    </tr>\n",
       "    <tr>\n",
       "      <th>131</th>\n",
       "      <td>DIVERSIDADE E INCLUSÃO IRNA</td>\n",
       "      <td>COLETIVO DIVERSIDADE INCLUSÃO</td>\n",
       "    </tr>\n",
       "    <tr>\n",
       "      <th>134</th>\n",
       "      <td>JOSI \"É NOIS A MUDANÇA\"</td>\n",
       "      <td>JOSI É NOIS A MUDANÇA</td>\n",
       "    </tr>\n",
       "    <tr>\n",
       "      <th>136</th>\n",
       "      <td>NICOLE D'LAMARCK</td>\n",
       "      <td>NICOLE D LAMARCK</td>\n",
       "    </tr>\n",
       "    <tr>\n",
       "      <th>143</th>\n",
       "      <td>JÔ DAS JUNTAS</td>\n",
       "      <td>JUNTAS</td>\n",
       "    </tr>\n",
       "    <tr>\n",
       "      <th>173</th>\n",
       "      <td>ANDRÉA ARAUJO DTO. LGBT/ANIMAL</td>\n",
       "      <td>ANDRÉA ARAUJO DTO. LGBT ANIMAL</td>\n",
       "    </tr>\n",
       "    <tr>\n",
       "      <th>179</th>\n",
       "      <td>DARA SANT'ANNA</td>\n",
       "      <td>DARA SANT ANNA</td>\n",
       "    </tr>\n",
       "    <tr>\n",
       "      <th>192</th>\n",
       "      <td>ROSE CIPRIANO COLET. PERIFÉRICA</td>\n",
       "      <td>ROSE CIPRIANO COLET.PERIFÉRICA</td>\n",
       "    </tr>\n",
       "    <tr>\n",
       "      <th>223</th>\n",
       "      <td>THAMYRES FILGUEIRA</td>\n",
       "      <td>TAMYRES FILGUEIRA</td>\n",
       "    </tr>\n",
       "    <tr>\n",
       "      <th>229</th>\n",
       "      <td>ALEX STEIN</td>\n",
       "      <td>ALEX STEIN E COLETIVO</td>\n",
       "    </tr>\n",
       "    <tr>\n",
       "      <th>256</th>\n",
       "      <td>JESSICA FONSECA</td>\n",
       "      <td>JÉSSICA FONSECA</td>\n",
       "    </tr>\n",
       "    <tr>\n",
       "      <th>314</th>\n",
       "      <td>MONICA DO MOVIMENTO PRETAS</td>\n",
       "      <td>MONICA DAS PRETAS</td>\n",
       "    </tr>\n",
       "    <tr>\n",
       "      <th>316</th>\n",
       "      <td>EUTÁLIA POVO DE LUTA</td>\n",
       "      <td>EUTÁLIA POVO DE LUTAS</td>\n",
       "    </tr>\n",
       "  </tbody>\n",
       "</table>\n",
       "</div>"
      ],
      "text/plain": [
       "                       tse_nome_urna               NM_URNA_CANDIDATO\n",
       "0                  DRA MICHELLE MELO               DR. MICHELLE MELO\n",
       "6        FLORISMAR BANCADA AMAZÔNIDA              FLORISMAR FERREIRA\n",
       "13                    ANDERSON ROCHA                 ANDRESON SANTOS\n",
       "26               DRA. FABÍOLA MANSUR              DRA FABIOLA MANSUR\n",
       "51                     MARI VALENTIM                   MARI VELENTIM\n",
       "62        MULHERES DE TODAS AS LUTAS                FERNANDA PEREIRA\n",
       "66                      WALDIR PIRES               ENFERMEIRO WALDIR\n",
       "81           CHICO COLETIVO GUARNICÊ               COLETIVO GUARNICÊ\n",
       "103   COLETIVAS VOZES GERAIS/WALLACE                         WALLACE\n",
       "117        KARLA MELO COLETIVO SOMOS        KARLAMELO COLETIVO SOMOS\n",
       "131      DIVERSIDADE E INCLUSÃO IRNA   COLETIVO DIVERSIDADE INCLUSÃO\n",
       "134          JOSI \"É NOIS A MUDANÇA\"          JOSI É NOIS A MUDANÇA \n",
       "136                 NICOLE D'LAMARCK                NICOLE D LAMARCK\n",
       "143                    JÔ DAS JUNTAS                          JUNTAS\n",
       "173   ANDRÉA ARAUJO DTO. LGBT/ANIMAL  ANDRÉA ARAUJO DTO. LGBT ANIMAL\n",
       "179                   DARA SANT'ANNA                  DARA SANT ANNA\n",
       "192  ROSE CIPRIANO COLET. PERIFÉRICA  ROSE CIPRIANO COLET.PERIFÉRICA\n",
       "223               THAMYRES FILGUEIRA               TAMYRES FILGUEIRA\n",
       "229                       ALEX STEIN           ALEX STEIN E COLETIVO\n",
       "256                  JESSICA FONSECA                 JÉSSICA FONSECA\n",
       "314       MONICA DO MOVIMENTO PRETAS               MONICA DAS PRETAS\n",
       "316             EUTÁLIA POVO DE LUTA           EUTÁLIA POVO DE LUTAS"
      ]
     },
     "metadata": {},
     "output_type": "display_data"
    }
   ],
   "source": [
    "# Junta com dados do TSE:\n",
    "sel_cand_cols = ['SG_UF', 'DS_CARGO', 'SG_PARTIDO', 'NM_URNA_CANDIDATO']\n",
    "joined_df = clean_df.join(cand_df.set_index('SQ_CANDIDATO')[sel_cand_cols], on='sq_candidato', how='inner')\n",
    "\n",
    "# Verifica diferenças de informação nos dados:\n",
    "diff_uf      = joined_df['tse_uf'] != joined_df['SG_UF']\n",
    "diff_cargo   = joined_df['tse_cargo'] != joined_df['DS_CARGO']\n",
    "diff_partido = joined_df['tse_partido'] != joined_df['SG_PARTIDO'].str.upper()\n",
    "diff_nome    = joined_df['tse_nome_urna'] != xd.std_string_series(joined_df['NM_URNA_CANDIDATO'])\n",
    "# Candidaturas com dados diferentes:\n",
    "display(joined_df.loc[diff_uf | diff_cargo | diff_partido, ['tse_nome_urna', 'tse_cargo', 'DS_CARGO', 'tse_uf', 'SG_UF', 'tse_partido', 'SG_PARTIDO']])\n",
    "display(joined_df.loc[diff_nome, ['tse_nome_urna', 'NM_URNA_CANDIDATO']])"
   ]
  },
  {
   "cell_type": "code",
   "execution_count": null,
   "id": "6d74e6bc-5b2d-44b4-9ebf-0a178551804c",
   "metadata": {},
   "outputs": [],
   "source": []
  }
 ],
 "metadata": {
  "kernelspec": {
   "display_name": "Python 3 (ipykernel)",
   "language": "python",
   "name": "python3"
  },
  "language_info": {
   "codemirror_mode": {
    "name": "ipython",
    "version": 3
   },
   "file_extension": ".py",
   "mimetype": "text/x-python",
   "name": "python",
   "nbconvert_exporter": "python",
   "pygments_lexer": "ipython3",
   "version": "3.8.10"
  }
 },
 "nbformat": 4,
 "nbformat_minor": 5
}
