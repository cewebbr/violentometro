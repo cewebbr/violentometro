{
 "cells": [
  {
   "cell_type": "markdown",
   "metadata": {},
   "source": [
    "# Explorando bases de textos anotados"
   ]
  },
  {
   "cell_type": "markdown",
   "metadata": {},
   "source": [
    "[Voltar ao Índice](00_indice.ipynb)\n",
    "\n",
    "Aqui exploramos os corpus (conjuntos de textos) fornecidos por Fortuna _et al._ (2019) e Pelle & Moreira (2017), para entendermos o significado das colunas, os tipos de dados, etc."
   ]
  },
  {
   "cell_type": "markdown",
   "metadata": {
    "tags": []
   },
   "source": [
    "## Explorando dados hierárquicos da Paula Fortuna"
   ]
  },
  {
   "cell_type": "markdown",
   "metadata": {},
   "source": [
    "Fonte: <https://github.com/paulafortuna/Portuguese-Hate-Speech-Dataset>"
   ]
  },
  {
   "cell_type": "code",
   "execution_count": 8,
   "metadata": {},
   "outputs": [],
   "source": [
    "import pandas as pd\n",
    "from pathlib import Path\n",
    "\n",
    "import src.xavy.explore as xe\n",
    "import src.xavy.dataframes as xd"
   ]
  },
  {
   "cell_type": "markdown",
   "metadata": {},
   "source": [
    "### Carregando os dados"
   ]
  },
  {
   "cell_type": "code",
   "execution_count": 10,
   "metadata": {},
   "outputs": [],
   "source": [
    "hierarchy_df = pd.read_csv(Path('../dados/brutos/Portuguese-Hate-Speech-Dataset/2019-05-28_portuguese_hate_speech_hierarchical_classification.csv'))"
   ]
  },
  {
   "cell_type": "code",
   "execution_count": 11,
   "metadata": {},
   "outputs": [
    {
     "data": {
      "text/html": [
       "<div>\n",
       "<style scoped>\n",
       "    .dataframe tbody tr th:only-of-type {\n",
       "        vertical-align: middle;\n",
       "    }\n",
       "\n",
       "    .dataframe tbody tr th {\n",
       "        vertical-align: top;\n",
       "    }\n",
       "\n",
       "    .dataframe thead th {\n",
       "        text-align: right;\n",
       "    }\n",
       "</style>\n",
       "<table border=\"1\" class=\"dataframe\">\n",
       "  <thead>\n",
       "    <tr style=\"text-align: right;\">\n",
       "      <th></th>\n",
       "      <th>text</th>\n",
       "      <th>Hate.speech</th>\n",
       "      <th>Sexism</th>\n",
       "      <th>Body</th>\n",
       "      <th>Racism</th>\n",
       "      <th>Ideology</th>\n",
       "      <th>Homophobia</th>\n",
       "      <th>Origin</th>\n",
       "      <th>Religion</th>\n",
       "      <th>Health</th>\n",
       "      <th>...</th>\n",
       "      <th>Thin.women</th>\n",
       "      <th>Arabic</th>\n",
       "      <th>East.europeans</th>\n",
       "      <th>Africans</th>\n",
       "      <th>South.Americans</th>\n",
       "      <th>Brazilians</th>\n",
       "      <th>Migrants</th>\n",
       "      <th>Homossexuals</th>\n",
       "      <th>Thin.people</th>\n",
       "      <th>Ageing</th>\n",
       "    </tr>\n",
       "  </thead>\n",
       "  <tbody>\n",
       "    <tr>\n",
       "      <th>0</th>\n",
       "      <td>\"não come mel, morde marimbondo\"</td>\n",
       "      <td>0</td>\n",
       "      <td>0</td>\n",
       "      <td>0</td>\n",
       "      <td>0</td>\n",
       "      <td>0</td>\n",
       "      <td>0</td>\n",
       "      <td>0</td>\n",
       "      <td>0</td>\n",
       "      <td>0</td>\n",
       "      <td>...</td>\n",
       "      <td>0</td>\n",
       "      <td>0</td>\n",
       "      <td>0</td>\n",
       "      <td>0</td>\n",
       "      <td>0</td>\n",
       "      <td>0</td>\n",
       "      <td>0</td>\n",
       "      <td>0</td>\n",
       "      <td>0</td>\n",
       "      <td>0</td>\n",
       "    </tr>\n",
       "    <tr>\n",
       "      <th>1</th>\n",
       "      <td>não tem pinto, tem orgulho !</td>\n",
       "      <td>0</td>\n",
       "      <td>0</td>\n",
       "      <td>0</td>\n",
       "      <td>0</td>\n",
       "      <td>0</td>\n",
       "      <td>0</td>\n",
       "      <td>0</td>\n",
       "      <td>0</td>\n",
       "      <td>0</td>\n",
       "      <td>...</td>\n",
       "      <td>0</td>\n",
       "      <td>0</td>\n",
       "      <td>0</td>\n",
       "      <td>0</td>\n",
       "      <td>0</td>\n",
       "      <td>0</td>\n",
       "      <td>0</td>\n",
       "      <td>0</td>\n",
       "      <td>0</td>\n",
       "      <td>0</td>\n",
       "    </tr>\n",
       "    <tr>\n",
       "      <th>2</th>\n",
       "      <td>Não vê essa merda de Crepúsculo! Pra isso temo...</td>\n",
       "      <td>0</td>\n",
       "      <td>0</td>\n",
       "      <td>0</td>\n",
       "      <td>0</td>\n",
       "      <td>0</td>\n",
       "      <td>0</td>\n",
       "      <td>0</td>\n",
       "      <td>0</td>\n",
       "      <td>0</td>\n",
       "      <td>...</td>\n",
       "      <td>0</td>\n",
       "      <td>0</td>\n",
       "      <td>0</td>\n",
       "      <td>0</td>\n",
       "      <td>0</td>\n",
       "      <td>0</td>\n",
       "      <td>0</td>\n",
       "      <td>0</td>\n",
       "      <td>0</td>\n",
       "      <td>0</td>\n",
       "    </tr>\n",
       "    <tr>\n",
       "      <th>3</th>\n",
       "      <td>não da tapa na bundinha, da cotovelada nas cos...</td>\n",
       "      <td>0</td>\n",
       "      <td>0</td>\n",
       "      <td>0</td>\n",
       "      <td>0</td>\n",
       "      <td>0</td>\n",
       "      <td>0</td>\n",
       "      <td>0</td>\n",
       "      <td>0</td>\n",
       "      <td>0</td>\n",
       "      <td>...</td>\n",
       "      <td>0</td>\n",
       "      <td>0</td>\n",
       "      <td>0</td>\n",
       "      <td>0</td>\n",
       "      <td>0</td>\n",
       "      <td>0</td>\n",
       "      <td>0</td>\n",
       "      <td>0</td>\n",
       "      <td>0</td>\n",
       "      <td>0</td>\n",
       "    </tr>\n",
       "    <tr>\n",
       "      <th>4</th>\n",
       "      <td>o diminutivo INHO não acompanha a trajetória d...</td>\n",
       "      <td>1</td>\n",
       "      <td>1</td>\n",
       "      <td>0</td>\n",
       "      <td>0</td>\n",
       "      <td>0</td>\n",
       "      <td>0</td>\n",
       "      <td>0</td>\n",
       "      <td>0</td>\n",
       "      <td>0</td>\n",
       "      <td>...</td>\n",
       "      <td>0</td>\n",
       "      <td>0</td>\n",
       "      <td>0</td>\n",
       "      <td>0</td>\n",
       "      <td>0</td>\n",
       "      <td>0</td>\n",
       "      <td>0</td>\n",
       "      <td>0</td>\n",
       "      <td>0</td>\n",
       "      <td>0</td>\n",
       "    </tr>\n",
       "  </tbody>\n",
       "</table>\n",
       "<p>5 rows × 80 columns</p>\n",
       "</div>"
      ],
      "text/plain": [
       "                                                text  Hate.speech  Sexism  \\\n",
       "0                   \"não come mel, morde marimbondo\"            0       0   \n",
       "1                       não tem pinto, tem orgulho !            0       0   \n",
       "2  Não vê essa merda de Crepúsculo! Pra isso temo...            0       0   \n",
       "3  não da tapa na bundinha, da cotovelada nas cos...            0       0   \n",
       "4  o diminutivo INHO não acompanha a trajetória d...            1       1   \n",
       "\n",
       "   Body  Racism  Ideology  Homophobia  Origin  Religion  Health  ...  \\\n",
       "0     0       0         0           0       0         0       0  ...   \n",
       "1     0       0         0           0       0         0       0  ...   \n",
       "2     0       0         0           0       0         0       0  ...   \n",
       "3     0       0         0           0       0         0       0  ...   \n",
       "4     0       0         0           0       0         0       0  ...   \n",
       "\n",
       "   Thin.women  Arabic  East.europeans  Africans  South.Americans  Brazilians  \\\n",
       "0           0       0               0         0                0           0   \n",
       "1           0       0               0         0                0           0   \n",
       "2           0       0               0         0                0           0   \n",
       "3           0       0               0         0                0           0   \n",
       "4           0       0               0         0                0           0   \n",
       "\n",
       "   Migrants  Homossexuals  Thin.people  Ageing  \n",
       "0         0             0            0       0  \n",
       "1         0             0            0       0  \n",
       "2         0             0            0       0  \n",
       "3         0             0            0       0  \n",
       "4         0             0            0       0  \n",
       "\n",
       "[5 rows x 80 columns]"
      ]
     },
     "execution_count": 11,
     "metadata": {},
     "output_type": "execute_result"
    }
   ],
   "source": [
    "hierarchy_df.head()"
   ]
  },
  {
   "cell_type": "markdown",
   "metadata": {},
   "source": [
    "### Características básicas"
   ]
  },
  {
   "cell_type": "code",
   "execution_count": 12,
   "metadata": {},
   "outputs": [
    {
     "data": {
      "text/plain": [
       "5668"
      ]
     },
     "execution_count": 12,
     "metadata": {},
     "output_type": "execute_result"
    }
   ],
   "source": [
    "len(hierarchy_df)"
   ]
  },
  {
   "cell_type": "code",
   "execution_count": 13,
   "metadata": {},
   "outputs": [
    {
     "name": "stdout",
     "output_type": "stream",
     "text": [
      "\u001b[1mColunas com valores faltantes:\u001b[0m\n",
      "Empty DataFrame\n",
      "Columns: [coluna, N, %]\n",
      "Index: []\n"
     ]
    }
   ],
   "source": [
    "xe.checkMissing(hierarchy_df)"
   ]
  },
  {
   "cell_type": "code",
   "execution_count": 14,
   "metadata": {},
   "outputs": [
    {
     "name": "stdout",
     "output_type": "stream",
     "text": [
      "\n",
      "\u001b[1mtext: \u001b[0m5668 unique values.\n",
      "\u001b[1m(sample) \u001b[0m\"De erro em erro, vai-se descobrindo toda a verdade.\"\n",
      "#MulherDeVerdade,  @CapitalismoOP @VitriaO98675664 eu tinha esquecido, não tenho cachorro. .... Kkk,  @GABRIELPlNHEIRO \n",
      "Tem que mostrar essa matéria para a @veramagalhaes,  Adicionei um vídeo a uma lista de reprodução do @YouTube https://t.co/tUcZqbRpPN Angola & China vs EUA (A verdade que você não,  CULPA DO CAPITALISMO OPRESSOR E DO TRUMP by esquerdista https://t.co/fvJ2dKChRX,  Com meu pai Whashington Lobo Franco.Amoooo. https://t.co/R2dpAnNO0N,  Como ser feminista:\n",
      "Ser feia e gorda\n",
      "Pagar peitinho em passeata\n",
      "Ser peluda\n",
      "Odiar homens\n",
      "E achar q isso fará diferença no mundo.,  Conservadores são os melhores. https://t.co/SQkVtDExAt,  O repórter @pvedova lembra dos \"crimes de ódio\" cometidos contra imigrantes mas esquece dos números de crimes cometidos PELOS imigrantes.,  Ontem batemos o recorde de utilização da palavra \"nabo\" na TV Portuguesa.\n",
      "Não acreditam? https://t.co/MGGG26aPJi\n",
      "#OverdoseDeTourette,  Parabéns a Thomas Perez, que acaba de ser nomeado como líder do CND. Eu não poderia estar mais feliz por ele (ou pe _ https://t.co/W9dBjcL2FY,  RT @AlexandreVidalR: @fpdobbin @g1 eita, não é zero... Alemanha avança para restringir uso da burca https://t.co/Z66n4Bz0q5 via @dw_brasil,  RT @K_prishe: @NAOKAHLO realizei o sonho dá minha esposa e levei ela pra NYC e é claro não podia faltar o yellow umbrella  https://t.co/ _,  RT @_carmeloneto: Se as eleições fossem hoje, e o 2º turno fosse entre João Dória e Jair Bolsonaro. Em quem você votaria para presidente?,  RT @ajulysantos: Os fãs de Lula certamente vão dizer que tudo isso é mentira https://t.co/iDDsullz1w,  a gente nao sabe se a mulher ta feliz de burca, nao sabe se é tranquilo p travesti ta com aquela roupa etc etc etc,  amiga, pode me chamar do que quiser! Quero ver refutar o que falei com fatos, lógica e verdades! https://t.co/rbgNHozOWk,  moro prendeu o cunha? ué mas e o lula? e a dilma? e o PT? https://t.co/8Vql60TzM8,  queria lembrar que chamar a coleguinha de puta, feia, gorda, escrota e etc tbm é machismo,  é como eu sempre digo, só tem 3 opções pro brasil ir pra frente \n",
      "é só escolher\n",
      "\n",
      "\u001b[1mHate.speech: \u001b[0m2 unique values.\n",
      "0,  1\n",
      "\n",
      "\u001b[1mSexism: \u001b[0m2 unique values.\n",
      "0,  1\n",
      "\n",
      "\u001b[1mBody: \u001b[0m2 unique values.\n",
      "0,  1\n",
      "\n",
      "\u001b[1mRacism: \u001b[0m2 unique values.\n",
      "0,  1\n",
      "\n",
      "\u001b[1mIdeology: \u001b[0m2 unique values.\n",
      "0,  1\n",
      "\n",
      "\u001b[1mHomophobia: \u001b[0m2 unique values.\n",
      "0,  1\n",
      "\n",
      "\u001b[1mOrigin: \u001b[0m2 unique values.\n",
      "0,  1\n",
      "\n",
      "\u001b[1mReligion: \u001b[0m2 unique values.\n",
      "0,  1\n",
      "\n",
      "\u001b[1mHealth: \u001b[0m2 unique values.\n",
      "0,  1\n",
      "\n",
      "\u001b[1mOtherLifestyle: \u001b[0m2 unique values.\n",
      "0,  1\n",
      "\n",
      "\u001b[1mAborting.women: \u001b[0m2 unique values.\n",
      "0,  1\n",
      "\n",
      "\u001b[1mAgnostic: \u001b[0m2 unique values.\n",
      "0,  1\n",
      "\n",
      "\u001b[1mArgentines: \u001b[0m2 unique values.\n",
      "0,  1\n",
      "\n",
      "\u001b[1mAsians: \u001b[0m2 unique values.\n",
      "0,  1\n",
      "\n",
      "\u001b[1mAutists: \u001b[0m2 unique values.\n",
      "0,  1\n",
      "\n",
      "\u001b[1mBlack.Women: \u001b[0m2 unique values.\n",
      "0,  1\n",
      "\n",
      "\u001b[1mBlond.women: \u001b[0m2 unique values.\n",
      "0,  1\n",
      "\n",
      "\u001b[1mBrazilians.women: \u001b[0m2 unique values.\n",
      "0,  1\n",
      "\n",
      "\u001b[1mChinese: \u001b[0m2 unique values.\n",
      "0,  1\n",
      "\n",
      "\u001b[1mCriminals: \u001b[0m2 unique values.\n",
      "0,  1\n",
      "\n",
      "\u001b[1mEgyptians: \u001b[0m2 unique values.\n",
      "0,  1\n",
      "\n",
      "\u001b[1mFat.people: \u001b[0m2 unique values.\n",
      "0,  1\n",
      "\n",
      "\u001b[1mFootball.players.women: \u001b[0m2 unique values.\n",
      "0,  1\n",
      "\n",
      "\u001b[1mGamers: \u001b[0m2 unique values.\n",
      "0,  1\n",
      "\n",
      "\u001b[1mHomeless: \u001b[0m2 unique values.\n",
      "0,  1\n",
      "\n",
      "\u001b[1mHomeless.women: \u001b[0m2 unique values.\n",
      "0,  1\n",
      "\n",
      "\u001b[1mIndigenous: \u001b[0m2 unique values.\n",
      "0,  1\n",
      "\n",
      "\u001b[1mIranians: \u001b[0m2 unique values.\n",
      "0,  1\n",
      "\n",
      "\u001b[1mJapaneses: \u001b[0m2 unique values.\n",
      "0,  1\n",
      "\n",
      "\u001b[1mJews: \u001b[0m2 unique values.\n",
      "0,  1\n",
      "\n",
      "\u001b[1mJornalists: \u001b[0m2 unique values.\n",
      "0,  1\n",
      "\n",
      "\u001b[1mLatins: \u001b[0m2 unique values.\n",
      "0,  1\n",
      "\n",
      "\u001b[1mLeft.wing.ideology: \u001b[0m2 unique values.\n",
      "0,  1\n",
      "\n",
      "\u001b[1mMen.Feminists: \u001b[0m2 unique values.\n",
      "0,  1\n",
      "\n",
      "\u001b[1mMexicans: \u001b[0m2 unique values.\n",
      "0,  1\n",
      "\n",
      "\u001b[1mMuslims.women: \u001b[0m2 unique values.\n",
      "0,  1\n",
      "\n",
      "\u001b[1mNordestines: \u001b[0m2 unique values.\n",
      "0,  1\n",
      "\n",
      "\u001b[1mOld.people: \u001b[0m2 unique values.\n",
      "0,  1\n",
      "\n",
      "\u001b[1mPolyamorous: \u001b[0m2 unique values.\n",
      "0,  1\n",
      "\n",
      "\u001b[1mPoor.people: \u001b[0m2 unique values.\n",
      "0,  1\n",
      "\n",
      "\u001b[1mRural.people: \u001b[0m2 unique values.\n",
      "0,  1\n",
      "\n",
      "\u001b[1mRussians: \u001b[0m2 unique values.\n",
      "0,  1\n",
      "\n",
      "\u001b[1mSertanejos: \u001b[0m2 unique values.\n",
      "0,  1\n",
      "\n",
      "\u001b[1mStreet.artist: \u001b[0m2 unique values.\n",
      "0,  1\n",
      "\n",
      "\u001b[1mUcranians: \u001b[0m2 unique values.\n",
      "0,  1\n",
      "\n",
      "\u001b[1mVegetarians: \u001b[0m2 unique values.\n",
      "0,  1\n",
      "\n",
      "\u001b[1mWhite.people: \u001b[0m2 unique values.\n",
      "0,  1\n",
      "\n",
      "\u001b[1mYoung.people: \u001b[0m2 unique values.\n",
      "0,  1\n",
      "\n",
      "\u001b[1mOld.women: \u001b[0m2 unique values.\n",
      "0,  1\n",
      "\n",
      "\u001b[1mUgly.people: \u001b[0m2 unique values.\n",
      "0,  1\n",
      "\n",
      "\u001b[1mVenezuelans: \u001b[0m2 unique values.\n",
      "0,  1\n",
      "\n",
      "\u001b[1mAngolans: \u001b[0m2 unique values.\n",
      "0,  1\n",
      "\n",
      "\u001b[1mBlack.people: \u001b[0m2 unique values.\n",
      "0,  1\n",
      "\n",
      "\u001b[1mDisabled.people: \u001b[0m2 unique values.\n",
      "0,  1\n",
      "\n",
      "\u001b[1mFat.women: \u001b[0m2 unique values.\n",
      "0,  1\n",
      "\n",
      "\u001b[1mFeminists: \u001b[0m2 unique values.\n",
      "0,  1\n",
      "\n",
      "\u001b[1mGays: \u001b[0m2 unique values.\n",
      "0,  1\n",
      "\n",
      "\u001b[1mImmigrants: \u001b[0m2 unique values.\n",
      "0,  1\n",
      "\n",
      "\u001b[1mIslamists: \u001b[0m2 unique values.\n",
      "0,  1\n",
      "\n",
      "\u001b[1mLesbians: \u001b[0m2 unique values.\n",
      "0,  1\n",
      "\n",
      "\u001b[1mMen: \u001b[0m2 unique values.\n",
      "0,  1\n",
      "\n",
      "\u001b[1mMuslims: \u001b[0m2 unique values.\n",
      "0,  1\n",
      "\n",
      "\u001b[1mRefugees: \u001b[0m2 unique values.\n",
      "0,  1\n",
      "\n",
      "\u001b[1mTrans.women: \u001b[0m2 unique values.\n",
      "0,  1\n",
      "\n",
      "\u001b[1mTravestis: \u001b[0m2 unique values.\n",
      "0,  1\n",
      "\n",
      "\u001b[1mWomen: \u001b[0m2 unique values.\n",
      "0,  1\n",
      "\n",
      "\u001b[1mBissexuals: \u001b[0m2 unique values.\n",
      "0,  1\n",
      "\n",
      "\u001b[1mTransexuals: \u001b[0m2 unique values.\n",
      "0,  1\n",
      "\n",
      "\u001b[1mUgly.women: \u001b[0m2 unique values.\n",
      "0,  1\n",
      "\n",
      "\u001b[1mThin.women: \u001b[0m2 unique values.\n",
      "0,  1\n",
      "\n",
      "\u001b[1mArabic: \u001b[0m2 unique values.\n",
      "0,  1\n",
      "\n",
      "\u001b[1mEast.europeans: \u001b[0m2 unique values.\n",
      "0,  1\n",
      "\n",
      "\u001b[1mAfricans: \u001b[0m2 unique values.\n",
      "0,  1\n",
      "\n",
      "\u001b[1mSouth.Americans: \u001b[0m2 unique values.\n",
      "0,  1\n",
      "\n",
      "\u001b[1mBrazilians: \u001b[0m2 unique values.\n",
      "0,  1\n",
      "\n",
      "\u001b[1mMigrants: \u001b[0m2 unique values.\n",
      "0,  1\n",
      "\n",
      "\u001b[1mHomossexuals: \u001b[0m2 unique values.\n",
      "0,  1\n",
      "\n",
      "\u001b[1mThin.people: \u001b[0m2 unique values.\n",
      "0,  1\n",
      "\n",
      "\u001b[1mAgeing: \u001b[0m2 unique values.\n",
      "0,  1\n"
     ]
    }
   ],
   "source": [
    "xe.mapUnique(hierarchy_df)"
   ]
  },
  {
   "cell_type": "code",
   "execution_count": 15,
   "metadata": {},
   "outputs": [
    {
     "data": {
      "text/plain": [
       "0    4440\n",
       "1    1228\n",
       "Name: Hate.speech, dtype: int64"
      ]
     },
     "execution_count": 15,
     "metadata": {},
     "output_type": "execute_result"
    }
   ],
   "source": [
    "hierarchy_df['Hate.speech'].value_counts()"
   ]
  },
  {
   "cell_type": "markdown",
   "metadata": {},
   "source": [
    "### Exemplos de classificação"
   ]
  },
  {
   "cell_type": "code",
   "execution_count": 16,
   "metadata": {},
   "outputs": [
    {
     "data": {
      "text/plain": [
       "Index(['text', 'Hate.speech', 'Sexism', 'Body', 'Racism', 'Ideology',\n",
       "       'Homophobia', 'Origin', 'Religion', 'Health', 'OtherLifestyle',\n",
       "       'Aborting.women', 'Agnostic', 'Argentines', 'Asians', 'Autists',\n",
       "       'Black.Women', 'Blond.women', 'Brazilians.women', 'Chinese',\n",
       "       'Criminals', 'Egyptians', 'Fat.people', 'Football.players.women',\n",
       "       'Gamers', 'Homeless', 'Homeless.women', 'Indigenous', 'Iranians',\n",
       "       'Japaneses', 'Jews', 'Jornalists', 'Latins', 'Left.wing.ideology',\n",
       "       'Men.Feminists', 'Mexicans', 'Muslims.women', 'Nordestines',\n",
       "       'Old.people', 'Polyamorous', 'Poor.people', 'Rural.people', 'Russians',\n",
       "       'Sertanejos', 'Street.artist', 'Ucranians', 'Vegetarians',\n",
       "       'White.people', 'Young.people', 'Old.women', 'Ugly.people',\n",
       "       'Venezuelans', 'Angolans', 'Black.people', 'Disabled.people',\n",
       "       'Fat.women', 'Feminists', 'Gays', 'Immigrants', 'Islamists', 'Lesbians',\n",
       "       'Men', 'Muslims', 'Refugees', 'Trans.women', 'Travestis', 'Women',\n",
       "       'Bissexuals', 'Transexuals', 'Ugly.women', 'Thin.women', 'Arabic',\n",
       "       'East.europeans', 'Africans', 'South.Americans', 'Brazilians',\n",
       "       'Migrants', 'Homossexuals', 'Thin.people', 'Ageing'],\n",
       "      dtype='object')"
      ]
     },
     "execution_count": 16,
     "metadata": {},
     "output_type": "execute_result"
    }
   ],
   "source": [
    "hierarchy_df.columns"
   ]
  },
  {
   "cell_type": "code",
   "execution_count": 17,
   "metadata": {},
   "outputs": [
    {
     "name": "stdout",
     "output_type": "stream",
     "text": [
      "\u001b[1mViolência\u001b[0m\n",
      "\u001b[1m348\u001b[0m: \"Cem homens podem formar um acampamento, mas é preciso uma mulher para se fazer um lar.\" #MulherDeVerdade\n",
      "\u001b[1m25\u001b[0m: Se vc tem um namorado que diz que não olha para as gostosas e que\n",
      "não bate umazinha nunca! FUJA: é uma franguinha sem caráter !!!\n",
      "\u001b[1m4584\u001b[0m: @GiovannAmanda A maioria dos argumentos dos fans do Bolsonaro é que toda feminista é feia, cabeluda, gorda etc\n",
      "\u001b[1m336\u001b[0m: \"Há homens que têm patroa.\n",
      "Há homens que têm mulher.\n",
      "E há mulheres que escolhem o que querem ser.\" #MulherDeVerdade\n",
      "\u001b[1m4639\u001b[0m: @larissasandy18 fui fazer luzes e a burra da mulher fez merda... Tá horrível\n",
      "\n",
      "\u001b[1mNão-Violência\u001b[0m\n",
      "\u001b[1m1035\u001b[0m: E metendo a vara nela a distância chega a ser negativa de tão perto. Pense nisso https://t.co/hFreY2Quc6\n",
      "\u001b[1m3253\u001b[0m: Soube agora: O mesmo embaixador russo que encontrou com Jeff Sessions visitou Obama na Casa Branca 22 vezes. 4 veze _ https://t.co/JqepljsE3w\n",
      "\u001b[1m4218\u001b[0m: RT @GABRIELPlNHEIRO: Foi assaltar e levou bala https://t.co/wgsMhOtxun\n",
      "\u001b[1m5292\u001b[0m: Ai q gostoso a Cléo Pires fumando um e publicando na NET pq o privilégio branco e de classe eh tão lindo *_* https://t.co/fXQslfyu57\n",
      "\u001b[1m3127\u001b[0m: É suposto a religião não ser critério para discriminar refugiados. Nem pela negativa, nem mesmo pela positiva. https://t.co/dFlBu7D4eW\n"
     ]
    }
   ],
   "source": [
    "col = 'Sexism' \n",
    "\n",
    "# Textos com violência:\n",
    "print(xe.bold('Violência'))\n",
    "xd.print_string_series(hierarchy_df.loc[hierarchy_df[col] == 1, 'text'].sample(5))\n",
    "print('')\n",
    "# Textos com violência (tipicamente xingamentos):\n",
    "print(xe.bold('Não-Violência'))\n",
    "xd.print_string_series(hierarchy_df.loc[hierarchy_df[col] == 0, 'text'].sample(5))"
   ]
  },
  {
   "cell_type": "code",
   "execution_count": 18,
   "metadata": {},
   "outputs": [
    {
     "data": {
      "text/plain": [
       "True"
      ]
     },
     "execution_count": 18,
     "metadata": {},
     "output_type": "execute_result"
    }
   ],
   "source": [
    "(hierarchy_df.loc[(hierarchy_df.iloc[:, 2:] == 1).any(axis=1), 'Hate.speech'] == 1).all()"
   ]
  },
  {
   "cell_type": "markdown",
   "metadata": {
    "tags": []
   },
   "source": [
    "## Explorando dados binários da Paula Fortuna"
   ]
  },
  {
   "cell_type": "markdown",
   "metadata": {},
   "source": [
    "Fonte: <https://github.com/paulafortuna/Portuguese-Hate-Speech-Dataset>"
   ]
  },
  {
   "cell_type": "code",
   "execution_count": 21,
   "metadata": {},
   "outputs": [],
   "source": [
    "import pandas as pd\n",
    "\n",
    "import src.xavy.explore as xe\n",
    "import src.xavy.dataframes as xd"
   ]
  },
  {
   "cell_type": "markdown",
   "metadata": {},
   "source": [
    "### Carregando os dados"
   ]
  },
  {
   "cell_type": "code",
   "execution_count": 24,
   "metadata": {},
   "outputs": [],
   "source": [
    "fortuna_df = pd.read_csv(Path('../dados/brutos/Portuguese-Hate-Speech-Dataset/2019-05-28_portuguese_hate_speech_binary_classification.csv'))"
   ]
  },
  {
   "cell_type": "code",
   "execution_count": 25,
   "metadata": {},
   "outputs": [
    {
     "data": {
      "text/html": [
       "<div>\n",
       "<style scoped>\n",
       "    .dataframe tbody tr th:only-of-type {\n",
       "        vertical-align: middle;\n",
       "    }\n",
       "\n",
       "    .dataframe tbody tr th {\n",
       "        vertical-align: top;\n",
       "    }\n",
       "\n",
       "    .dataframe thead th {\n",
       "        text-align: right;\n",
       "    }\n",
       "</style>\n",
       "<table border=\"1\" class=\"dataframe\">\n",
       "  <thead>\n",
       "    <tr style=\"text-align: right;\">\n",
       "      <th></th>\n",
       "      <th>text</th>\n",
       "      <th>hatespeech_comb</th>\n",
       "      <th>hatespeech_G1</th>\n",
       "      <th>annotator_G1</th>\n",
       "      <th>hatespeech_G2</th>\n",
       "      <th>annotator_G2</th>\n",
       "      <th>hatespeech_G3</th>\n",
       "      <th>annotator_G3</th>\n",
       "    </tr>\n",
       "  </thead>\n",
       "  <tbody>\n",
       "    <tr>\n",
       "      <th>0</th>\n",
       "      <td>@__andrea__b \\nO cara vive em outro mundo\\nNão...</td>\n",
       "      <td>1</td>\n",
       "      <td>1</td>\n",
       "      <td>A</td>\n",
       "      <td>1.0</td>\n",
       "      <td>V</td>\n",
       "      <td>0</td>\n",
       "      <td>E</td>\n",
       "    </tr>\n",
       "    <tr>\n",
       "      <th>1</th>\n",
       "      <td>@_carmeloneto Estes incompetentes não cuidam n...</td>\n",
       "      <td>0</td>\n",
       "      <td>1</td>\n",
       "      <td>D</td>\n",
       "      <td>0.0</td>\n",
       "      <td>V</td>\n",
       "      <td>0</td>\n",
       "      <td>C</td>\n",
       "    </tr>\n",
       "    <tr>\n",
       "      <th>2</th>\n",
       "      <td>@_carmeloneto \\nOs 'cumpanhero' quebraram toda...</td>\n",
       "      <td>0</td>\n",
       "      <td>1</td>\n",
       "      <td>A</td>\n",
       "      <td>0.0</td>\n",
       "      <td>B</td>\n",
       "      <td>0</td>\n",
       "      <td>E</td>\n",
       "    </tr>\n",
       "    <tr>\n",
       "      <th>3</th>\n",
       "      <td>@_GlitteryKisses é isso não conseguem pensar n...</td>\n",
       "      <td>0</td>\n",
       "      <td>0</td>\n",
       "      <td>C</td>\n",
       "      <td>0.0</td>\n",
       "      <td>V</td>\n",
       "      <td>0</td>\n",
       "      <td>D</td>\n",
       "    </tr>\n",
       "    <tr>\n",
       "      <th>4</th>\n",
       "      <td>@_iglira bom dia macaco branco haha</td>\n",
       "      <td>1</td>\n",
       "      <td>0</td>\n",
       "      <td>A</td>\n",
       "      <td>1.0</td>\n",
       "      <td>I</td>\n",
       "      <td>1</td>\n",
       "      <td>E</td>\n",
       "    </tr>\n",
       "  </tbody>\n",
       "</table>\n",
       "</div>"
      ],
      "text/plain": [
       "                                                text  hatespeech_comb  \\\n",
       "0  @__andrea__b \\nO cara vive em outro mundo\\nNão...                1   \n",
       "1  @_carmeloneto Estes incompetentes não cuidam n...                0   \n",
       "2  @_carmeloneto \\nOs 'cumpanhero' quebraram toda...                0   \n",
       "3  @_GlitteryKisses é isso não conseguem pensar n...                0   \n",
       "4                @_iglira bom dia macaco branco haha                1   \n",
       "\n",
       "   hatespeech_G1 annotator_G1  hatespeech_G2 annotator_G2  hatespeech_G3  \\\n",
       "0              1            A            1.0            V              0   \n",
       "1              1            D            0.0            V              0   \n",
       "2              1            A            0.0            B              0   \n",
       "3              0            C            0.0            V              0   \n",
       "4              0            A            1.0            I              1   \n",
       "\n",
       "  annotator_G3  \n",
       "0            E  \n",
       "1            C  \n",
       "2            E  \n",
       "3            D  \n",
       "4            E  "
      ]
     },
     "execution_count": 25,
     "metadata": {},
     "output_type": "execute_result"
    }
   ],
   "source": [
    "fortuna_df.head()"
   ]
  },
  {
   "cell_type": "markdown",
   "metadata": {},
   "source": [
    "### Verificando textos com consenso"
   ]
  },
  {
   "cell_type": "code",
   "execution_count": 26,
   "metadata": {},
   "outputs": [
    {
     "data": {
      "text/plain": [
       "507"
      ]
     },
     "execution_count": 26,
     "metadata": {},
     "output_type": "execute_result"
    }
   ],
   "source": [
    "consenso_df = fortuna_df.loc[(fortuna_df['hatespeech_G1'] == 1) & (fortuna_df['hatespeech_G2'] == 1) & (fortuna_df['hatespeech_G3'] == 1)] \n",
    "len(consenso_df)"
   ]
  },
  {
   "cell_type": "code",
   "execution_count": 27,
   "metadata": {},
   "outputs": [
    {
     "name": "stdout",
     "output_type": "stream",
     "text": [
      "\u001b[1m2987\u001b[0m: Nós heteros, que AINDA somos maioria, devemos nos unir contra a ditadura da minoria. Abaixo a #heterofobia !!!!\n",
      "\u001b[1m1102\u001b[0m: Deu acidente aqui na esquina de casa e só da pra ouvir os pedreiros gritando chamando a mulher de burra kkkkkkk\n",
      "\u001b[1m5605\u001b[0m: ~*~*~*~ vOcÊ é NeGrA mAs AtÉ qUe é BoNiTa ~*~*~*~\n",
      "\u001b[1m615\u001b[0m: @bbb os sem graças q vao passar a festa toda falando mal dos outros e roberta gorda feia fazendo caretas kkkkk os eliminadoa do bbb\n",
      "\u001b[1m4145\u001b[0m: RT @devilshug: meudeus que FARDO deve ser ter nascido hétero e branco aff que tragédia grega isso\n"
     ]
    }
   ],
   "source": [
    "xd.print_string_series(consenso_df['text'].sample(5))"
   ]
  },
  {
   "cell_type": "code",
   "execution_count": 28,
   "metadata": {},
   "outputs": [
    {
     "data": {
      "text/plain": [
       "1957"
      ]
     },
     "execution_count": 28,
     "metadata": {},
     "output_type": "execute_result"
    }
   ],
   "source": [
    "limpo_df = fortuna_df.loc[(fortuna_df['hatespeech_G1'] == 0) & (fortuna_df['hatespeech_G2'] == 0) & (fortuna_df['hatespeech_G3'] == 0)]\n",
    "len(limpo_df)"
   ]
  },
  {
   "cell_type": "code",
   "execution_count": 29,
   "metadata": {},
   "outputs": [
    {
     "name": "stdout",
     "output_type": "stream",
     "text": [
      "\u001b[1m4394\u001b[0m: RT @JanainaDoBrasil: 17- precisamos, mais que combater a corrupção, mudar essa mentalidade.\n",
      "\u001b[1m4944\u001b[0m: RT @vitormramalho: Concorda com a saída de Portugal da União Europeia https://t.co/BxTLRTc67l\n",
      "\u001b[1m2707\u001b[0m: @minycalegari tá exagerando já\n",
      "\u001b[1m3018\u001b[0m: @OAngelo82 @odedonafrida Ia puxar do emoji do cão triste. Não foi preciso\n",
      "\u001b[1m1719\u001b[0m: Feia ou bonita , gorda ou magra seja como for mulher nasceu para ser respeitada . Feliz dia da Mulher para todas nós\n"
     ]
    }
   ],
   "source": [
    "xd.print_string_series(limpo_df['text'].sample(5))"
   ]
  },
  {
   "cell_type": "markdown",
   "metadata": {},
   "source": [
    "### Características básicas"
   ]
  },
  {
   "cell_type": "code",
   "execution_count": 30,
   "metadata": {},
   "outputs": [
    {
     "data": {
      "text/plain": [
       "5670"
      ]
     },
     "execution_count": 30,
     "metadata": {},
     "output_type": "execute_result"
    }
   ],
   "source": [
    "len(fortuna_df)"
   ]
  },
  {
   "cell_type": "code",
   "execution_count": 31,
   "metadata": {},
   "outputs": [
    {
     "name": "stdout",
     "output_type": "stream",
     "text": [
      "\u001b[1mColunas com valores faltantes:\u001b[0m\n",
      "          coluna    N     %\n",
      "4  hatespeech_G2  2.0  0.04\n"
     ]
    }
   ],
   "source": [
    "xe.checkMissing(fortuna_df)"
   ]
  },
  {
   "cell_type": "code",
   "execution_count": 32,
   "metadata": {},
   "outputs": [
    {
     "name": "stdout",
     "output_type": "stream",
     "text": [
      "\n",
      "\u001b[1mtext: \u001b[0m5666 unique values.\n",
      "\u001b[1m(sample) \u001b[0m#Extra Próxima novela das 9,abordará transgêneros, desde a infância. Lembre-se que a associação Americana de... https://t.co/9cQuI5EmJc,  #PQMulher q discorda do feminismo é burra. A liberdade da mulher acaba aí com as manax https://t.co/WCrmRX3YOo,  'Diz produtora IRANIANA'. Não pode ser séria essa notícia... \n",
      "Certeza q p essa mulher, jogar um Boeing contra um p _ https://t.co/TOy463lsYd,  'No livro best-seller do New York Times “Má-feminista:  ensaios provocativos de uma ativista desastrosa”,... https://t.co/ZJiFNueXf5,  @Liechoscki ah? Só não tenho vontade de ter...,  @agnaldoregojr \n",
      "2) O fato de o cidadão de bem passar a portar uma arma não o transformará em bandido.\n",
      "Crime é questão de índole!,  Bastaram 4 anos pra 'mudança' acontecer. https://t.co/09a2spa316,  Bom dia sapatão,  Cafagestes de Faro e Odemira (São Teotónio),no próximo fds,chegou finalmente a vossa vez.\n",
      "Bilhetes nos sitíos do co _ https://t.co/l2NNkNmjIh,  Este ano vamos comemorar o dia da Restauração em Santa Maria da Feira. https://t.co/yBPt8F461l,  Governo esquerdista de merda o Povo Brasileiro não foi consultado e não aceita a vinda de refugiados terroristas.\n",
      "https://t.co/JtFod8MSjL,  Por um mundo com mais:\n",
      "#MeuAmigoSecreto\n",
      "#NãoÀCulturaDoEstupro\n",
      "#FeminicídioNão\n",
      "#NenhumaAMenos\n",
      "Celebremos o #DiaInternacionaldaMulher.,  RIP MTV. De novo https://t.co/w7F91JG7fK,  SEXTA FEIRA É DIA DE BEBER TODAS E PEGAR TRANS\n",
      "TRANS PORTE ALTERNATIVO (TÁXI, UBER, BONDE, ÔNIBUS...)\n",
      "SE BEBER NÃO DIRIJA #PAZ,  defensora das mães...  com a própria filha deixada nun estado lastimavel. Ela quer tentar limpar a imagem dela https://t.co/yN67cqtzUn,  esperar oq do cara que defende @jeanwyllys_real https://t.co/ojJQ4G8J1l,  farta de procurar trabalho, ainda me meto mas é a trabalhar num bar de fufas, mais vale,  jr q ñ th paciência p dramas d fufas,  sou a favor da pec 241 mesmo q ela me foda pq pelo menos o pt saiu do poder,  só falta o roberto carlos morrer agora e não ter como acabar o ano e a gente fica preso em 2013\n",
      "\n",
      "\u001b[1mhatespeech_comb: \u001b[0m2 unique values.\n",
      "0,  1\n",
      "\n",
      "\u001b[1mhatespeech_G1: \u001b[0m2 unique values.\n",
      "0,  1\n",
      "\n",
      "\u001b[1mannotator_G1: \u001b[0m5 unique values.\n",
      "A,  B,  C,  D,  E\n",
      "\n",
      "\u001b[1mhatespeech_G2: \u001b[0m3 unique values.\n",
      "0.0,  1.0,  nan\n",
      "\n",
      "\u001b[1mannotator_G2: \u001b[0m6 unique values.\n",
      "B,  Dani,  I,  It,  S,  V\n",
      "\n",
      "\u001b[1mhatespeech_G3: \u001b[0m2 unique values.\n",
      "0,  1\n",
      "\n",
      "\u001b[1mannotator_G3: \u001b[0m5 unique values.\n",
      "A,  B,  C,  D,  E\n"
     ]
    }
   ],
   "source": [
    "xe.mapUnique(fortuna_df)"
   ]
  },
  {
   "cell_type": "code",
   "execution_count": 33,
   "metadata": {},
   "outputs": [
    {
     "data": {
      "text/plain": [
       "0    3882\n",
       "1    1788\n",
       "Name: hatespeech_comb, dtype: int64"
      ]
     },
     "execution_count": 33,
     "metadata": {},
     "output_type": "execute_result"
    }
   ],
   "source": [
    "fortuna_df['hatespeech_comb'].value_counts()"
   ]
  },
  {
   "cell_type": "markdown",
   "metadata": {},
   "source": [
    "### Exemplos de classificação"
   ]
  },
  {
   "cell_type": "code",
   "execution_count": 34,
   "metadata": {},
   "outputs": [
    {
     "name": "stdout",
     "output_type": "stream",
     "text": [
      "\u001b[1m2507\u001b[0m: mais sapatão que isso, só isso https://t.co/LadAgP8NRx\n",
      "\u001b[1m2795\u001b[0m: nada contra negros mas nada contra usar desodorante tb ne\n",
      "\u001b[1m2731\u001b[0m: @msantoro1978 assim como todo refugiado sírio é um terrorista infiltrado, todo venezuelano é um chavista.\n",
      "Assim será sob o temerismo.\n",
      "\u001b[1m392\u001b[0m: 'A mulher tem que ser o que ela quiser'\n",
      "MAS NAO USA DECOTE SUA VADIA NAO PODE, TEMOS QUE ANDAR TODAS DE BURCA\n",
      "\u001b[1m4460\u001b[0m: RT @jpintocoelho60: Ameaça? Ridículo! Estão é mal habituados: podem dizer o que querem de nós, mas vêem ameaças onde elas não existem.\n",
      "Que _\n"
     ]
    }
   ],
   "source": [
    "# Textos com violência:\n",
    "xd.print_string_series(fortuna_df.loc[fortuna_df['hatespeech_comb'] == 1, 'text'].sample(5))"
   ]
  },
  {
   "cell_type": "code",
   "execution_count": 35,
   "metadata": {},
   "outputs": [
    {
     "name": "stdout",
     "output_type": "stream",
     "text": [
      "\u001b[1m5375\u001b[0m: Top 3 Filmes de todos os tempos:\n",
      "-De volta para o futuro 2\n",
      "-O Poderoso Chefão 1\n",
      "-Curtindo a vida adoidado\n",
      "\u001b[1m943\u001b[0m: Como vc se sente @lolaescreva roubando o meu dinheiro d'um país que não tem leito em hospital direito? Sua canalha\n",
      "\u001b[1m3281\u001b[0m: Os responsáveis por isso #NaoAOLimiteDeInternet https://t.co/ZXYaExw2RM\n",
      "\u001b[1m3094\u001b[0m: O fascismo da esquerda em dois prints @leandraleal https://t.co/G6n9BPPcwb\n",
      "\u001b[1m2263\u001b[0m: #JesusEstáVoltando\n",
      "DUVIDO... NO MÁXIMO ELE MANDA O METEORO. https://t.co/oTPUtLfSsg\n"
     ]
    }
   ],
   "source": [
    "# Textos com violência (tipicamente xingamentos):\n",
    "xd.print_string_series(fortuna_df.loc[fortuna_df['hatespeech_comb'] == 0, 'text'].sample(5))"
   ]
  },
  {
   "cell_type": "markdown",
   "metadata": {},
   "source": [
    "### Concordância entre anotadores"
   ]
  },
  {
   "cell_type": "code",
   "execution_count": 36,
   "metadata": {},
   "outputs": [
    {
     "data": {
      "text/html": [
       "<div>\n",
       "<style scoped>\n",
       "    .dataframe tbody tr th:only-of-type {\n",
       "        vertical-align: middle;\n",
       "    }\n",
       "\n",
       "    .dataframe tbody tr th {\n",
       "        vertical-align: top;\n",
       "    }\n",
       "\n",
       "    .dataframe thead th {\n",
       "        text-align: right;\n",
       "    }\n",
       "</style>\n",
       "<table border=\"1\" class=\"dataframe\">\n",
       "  <thead>\n",
       "    <tr style=\"text-align: right;\">\n",
       "      <th></th>\n",
       "      <th>hatespeech_G1</th>\n",
       "      <th>hatespeech_G2</th>\n",
       "      <th>hatespeech_G3</th>\n",
       "    </tr>\n",
       "  </thead>\n",
       "  <tbody>\n",
       "    <tr>\n",
       "      <th>hatespeech_G1</th>\n",
       "      <td>1.000000</td>\n",
       "      <td>0.357873</td>\n",
       "      <td>0.204126</td>\n",
       "    </tr>\n",
       "    <tr>\n",
       "      <th>hatespeech_G2</th>\n",
       "      <td>0.357873</td>\n",
       "      <td>1.000000</td>\n",
       "      <td>0.264503</td>\n",
       "    </tr>\n",
       "    <tr>\n",
       "      <th>hatespeech_G3</th>\n",
       "      <td>0.204126</td>\n",
       "      <td>0.264503</td>\n",
       "      <td>1.000000</td>\n",
       "    </tr>\n",
       "  </tbody>\n",
       "</table>\n",
       "</div>"
      ],
      "text/plain": [
       "               hatespeech_G1  hatespeech_G2  hatespeech_G3\n",
       "hatespeech_G1       1.000000       0.357873       0.204126\n",
       "hatespeech_G2       0.357873       1.000000       0.264503\n",
       "hatespeech_G3       0.204126       0.264503       1.000000"
      ]
     },
     "execution_count": 36,
     "metadata": {},
     "output_type": "execute_result"
    }
   ],
   "source": [
    "annotations = ['hatespeech_G1', 'hatespeech_G2', 'hatespeech_G3']\n",
    "fortuna_df[annotations].dropna().corr()"
   ]
  },
  {
   "cell_type": "markdown",
   "metadata": {
    "tags": []
   },
   "source": [
    "## Overlap do binary e hierarchy da Paula Fortuna"
   ]
  },
  {
   "cell_type": "markdown",
   "metadata": {},
   "source": [
    "Vemos que o conteúdo (em termos dos textos) dos dois datasets são os mesmos. As supostas diferenças são de pequenas alterações de formatação, basicamente."
   ]
  },
  {
   "cell_type": "code",
   "execution_count": 37,
   "metadata": {},
   "outputs": [],
   "source": [
    "fortuna_plus   = pd.Series(list(set(fortuna_df['text']) - set(hierarchy_df['text'])), name='fortuna_plus')\n",
    "hierarchy_plus = pd.Series(list(set(hierarchy_df['text']) - set(fortuna_df['text'])), name='hierarchy_plus')"
   ]
  },
  {
   "cell_type": "code",
   "execution_count": 38,
   "metadata": {},
   "outputs": [
    {
     "name": "stdout",
     "output_type": "stream",
     "text": [
      "\u001b[1m104\u001b[0m: @fcancio \n",
      "Tão \"tolerantes\" o democratas, mas não sabem perder. Os hipócritas ressabiados vão esgotar o medicamento https://t.co/sEsLcWaILG\n",
      "\u001b[1m414\u001b[0m: @renatuuus Amore Ajuda a divulgar: O primeiro livro da @melaineribeiro \"A ESCRITORA E O MUSICO\" www.aescritoraeomusico.blogspot.com\n",
      "\u001b[1m534\u001b[0m: não ouço falar nada de liechtenstein \n",
      "outro país que não aceitou \"refugiados\", manteve a id cultural e nacional, frio e é monarquia. foda.\n",
      "\u001b[1m670\u001b[0m: Vá lá, hoje o programa \"Prós e Contras\" da @rtppt, sobre Eutanásia, não foi, como habitualmente, prós-e-prós, e até foi interessante,\n",
      "\u001b[1m186\u001b[0m: \"religiões africanas\" falou bem!\n",
      "Esse seu argumento só consolida o que tenho dito, ora!!! https://t.co/pOAw5pv0VX\n"
     ]
    }
   ],
   "source": [
    "xd.print_string_series(hierarchy_plus.sample(5))"
   ]
  },
  {
   "cell_type": "code",
   "execution_count": 39,
   "metadata": {},
   "outputs": [
    {
     "name": "stdout",
     "output_type": "stream",
     "text": [
      "\u001b[1m175\u001b[0m: 'até pouco tempo atrás'  Que canalhice!!!!\n",
      "O retardado compara o Cristianismo da idade média com o islamismo de 201 _ https://t.co/6pcTiHG7G5\n",
      "\u001b[1m313\u001b[0m: Olha a canalhice na chamada! Como se a 'culpa' fosse da lei, e não dos criminosos! https://t.co/9XX51a28Tg\n"
     ]
    }
   ],
   "source": [
    "xd.print_string_series(fortuna_plus.loc[fortuna_plus.str.contains('canalhice', case=False)])"
   ]
  },
  {
   "cell_type": "markdown",
   "metadata": {
    "tags": []
   },
   "source": [
    "## Explorando dados do OffComBR"
   ]
  },
  {
   "cell_type": "markdown",
   "metadata": {},
   "source": [
    "Fonte: <https://github.com/rogersdepelle/OffComBR>"
   ]
  },
  {
   "cell_type": "code",
   "execution_count": 41,
   "metadata": {},
   "outputs": [],
   "source": [
    "import pandas as pd\n",
    "\n",
    "import src.xavy.explore as xe\n",
    "import src.xavy.dataframes as xd"
   ]
  },
  {
   "cell_type": "markdown",
   "metadata": {},
   "source": [
    "### Carregando os dados"
   ]
  },
  {
   "cell_type": "code",
   "execution_count": 42,
   "metadata": {},
   "outputs": [],
   "source": [
    "offcombr_df = pd.read_csv(Path('../dados/brutos/OffComBR/OffComBR2.arff'), skiprows=8, names=['label','text'], quotechar=\"'\")"
   ]
  },
  {
   "cell_type": "markdown",
   "metadata": {},
   "source": [
    "### Características básicas"
   ]
  },
  {
   "cell_type": "code",
   "execution_count": 43,
   "metadata": {},
   "outputs": [
    {
     "name": "stdout",
     "output_type": "stream",
     "text": [
      "\u001b[1m459\u001b[0m: Nosso alvo e Nacional e nao municipalaonde todos se DOBRARAO\n",
      "\u001b[1m109\u001b[0m: E preciso reduzir e muito O custo Brasilia   Reducao de privilegiosreducao numero de deputados e senadoresreduzir numero de instancias recursais no judiciario    \n",
      "\u001b[1m997\u001b[0m: Lizzie come bosta\n",
      "\u001b[1m337\u001b[0m: sabe o que ela tem mais que nos Ela tem mais e QSF\n",
      "\u001b[1m838\u001b[0m: Reforma estrutural no seu rbbono meu nao\n",
      "\u001b[1m1034\u001b[0m: P I R A N H A\n",
      "\u001b[1m603\u001b[0m: Esses fans e torcedores do CR e Real Madrid sao uma piada Raca nojenta \n",
      "\u001b[1m546\u001b[0m: Se depender do STF Manda soltar todo mundoE com aposentadoria Ainda por cima\n",
      "\u001b[1m810\u001b[0m: Esse ai senta na boneca\n",
      "\u001b[1m1004\u001b[0m: Bruno cria um cerebro e pensa\n"
     ]
    }
   ],
   "source": [
    "xd.print_string_series(offcombr_df['text'].sample(10))"
   ]
  },
  {
   "cell_type": "code",
   "execution_count": 44,
   "metadata": {},
   "outputs": [
    {
     "data": {
      "text/plain": [
       "1250"
      ]
     },
     "execution_count": 44,
     "metadata": {},
     "output_type": "execute_result"
    }
   ],
   "source": [
    "len(offcombr_df)"
   ]
  },
  {
   "cell_type": "code",
   "execution_count": 45,
   "metadata": {},
   "outputs": [
    {
     "name": "stdout",
     "output_type": "stream",
     "text": [
      "\u001b[1mColunas com valores faltantes:\u001b[0m\n",
      "Empty DataFrame\n",
      "Columns: [coluna, N, %]\n",
      "Index: []\n"
     ]
    }
   ],
   "source": [
    "xe.checkMissing(offcombr_df)"
   ]
  },
  {
   "cell_type": "code",
   "execution_count": 46,
   "metadata": {},
   "outputs": [
    {
     "name": "stdout",
     "output_type": "stream",
     "text": [
      "\n",
      "\u001b[1mlabel: \u001b[0m2 unique values.\n",
      "no,  yes\n",
      "\n",
      "\u001b[1mtext: \u001b[0m1243 unique values.\n",
      "\u001b[1m(sample) \u001b[0m gols em  jogos oficiais media de  Melhor do mundo,  Andre noiado ver se diminue o fumo Ta dificil,  Boca de cloaca,  Cade Sergio moro podia pegar essa de sobremesa ,  ELENCO GRANDE E DE POUQUISSIMA QUALIDADE ,  Esse Tabare e o tipico bolivariano light se e que isso existe,  Felipe massa ja vai se aposentar O que sera dessa selecao ,  Fiquei chocado com essa noticia,  Mano na boa quase que ele faz um hattrick Solange So faltou  penaltis,  Os netos que devem ter vergonha dele,  Pior que acho que nao so a boca que e mole Mais feio que este so o Cervero,  Pobre BURRO neque apoia a direita,  SAO QUASE  SO PARA PAGAR JUROS DA  DIVIDA Uma vez que a reforma tributaria e PRINCIPALMENTE A REFORMA DO SISTEMA DA DIVIDA PUBLICA ninguem  se mexe para fazer  ja que contraria os poderosos que emprestam dinheiro ao Brasil alguns ligados ao FMI inclusive  mais facil por a culpa no trabalhador e nos programas sociais que nao representam  da fatia do orcamento,  Sabe o que e foro privilegiado seu bosta  Burro,  Sera que o MAV consegue ler e falar paralelepipedo,  Vai pagar muito boq na cadeia para outros presos com essa boca de buc inchada,  Vamos cortar os gastos publicos Vamos cortar todos os funcionarios de confianca indicados por politicos Vamos cortar todos os funcionarios de alto escalao indicados pelo governo sem concurso publicos e sem capacitacao tecnica adequada Vamos cortar a quantidade de politicos,  Vao sentir falta da dentadura e do pao com mortadela,  sem mortadela a esquerdinha fica revoltadinha chega a dar do ,  uma mulher que destruiu a Petrobras destruiu a economia e enriqueceu as nossas custas\n"
     ]
    }
   ],
   "source": [
    "xe.mapUnique(offcombr_df)"
   ]
  },
  {
   "cell_type": "code",
   "execution_count": 47,
   "metadata": {},
   "outputs": [
    {
     "data": {
      "text/plain": [
       "no     831\n",
       "yes    419\n",
       "Name: label, dtype: int64"
      ]
     },
     "execution_count": 47,
     "metadata": {},
     "output_type": "execute_result"
    }
   ],
   "source": [
    "offcombr_df['label'].value_counts()"
   ]
  },
  {
   "cell_type": "markdown",
   "metadata": {},
   "source": [
    "### Exemplos de classificação"
   ]
  },
  {
   "cell_type": "code",
   "execution_count": 48,
   "metadata": {},
   "outputs": [
    {
     "name": "stdout",
     "output_type": "stream",
     "text": [
      "\u001b[1m1113\u001b[0m: Lurdinha burra\n",
      "\u001b[1m959\u001b[0m: e um monte de bosta mesmo no minimo e do norte ou nordeste que trabalhar que e bom nao trabalha vive do bolsa familia por isso vai votar no luladrao\n",
      "\u001b[1m194\u001b[0m: Demente total \n",
      "\u001b[1m1234\u001b[0m: Ele chamava pra atras da escola e sentava nos garotos kkkk\n",
      "\u001b[1m1231\u001b[0m: Em resumo deve ser um idiota\n"
     ]
    }
   ],
   "source": [
    "# Textos com violência (tipicamente xingamentos):\n",
    "xd.print_string_series(offcombr_df.loc[offcombr_df['label'] == 'yes', 'text'].sample(5))"
   ]
  },
  {
   "cell_type": "code",
   "execution_count": 49,
   "metadata": {},
   "outputs": [
    {
     "name": "stdout",
     "output_type": "stream",
     "text": [
      "\u001b[1m717\u001b[0m: SE ZE CONTINUAR NAO VAMOS GANHAR NADAEM HORAS DECISIVAS SEMPRE ERRA\n",
      "\u001b[1m806\u001b[0m: No Nordeste acontece de tudo \n",
      "\u001b[1m1048\u001b[0m: Esse MITO sabe tudo de futebol \n",
      "\u001b[1m308\u001b[0m: O asilo e pra ela mesmo ela nao esta nem ai para excompanheiro de palanque\n",
      "\u001b[1m57\u001b[0m: verdade vamos ser compreensivos \n"
     ]
    }
   ],
   "source": [
    "# Textos sem violência:\n",
    "xd.print_string_series(offcombr_df.loc[offcombr_df['label'] == 'no', 'text'].sample(5))"
   ]
  },
  {
   "cell_type": "markdown",
   "metadata": {},
   "source": [
    "## Estimando a significância de um Fleiss's kappa"
   ]
  },
  {
   "cell_type": "code",
   "execution_count": 51,
   "metadata": {},
   "outputs": [],
   "source": [
    "import numpy as np\n",
    "import matplotlib.pyplot as pl\n",
    "\n",
    "import src.xavy.stats as xs\n",
    "import src.xavy.explore as xe"
   ]
  },
  {
   "cell_type": "markdown",
   "metadata": {},
   "source": [
    "### Classificação binária da Paula Fortuna"
   ]
  },
  {
   "cell_type": "code",
   "execution_count": 52,
   "metadata": {},
   "outputs": [
    {
     "name": "stdout",
     "output_type": "stream",
     "text": [
      "\u001b[1mColunas com valores faltantes:\u001b[0m\n",
      "          coluna    N     %\n",
      "4  hatespeech_G2  2.0  0.04\n"
     ]
    }
   ],
   "source": [
    "xe.checkMissing(fortuna_df)"
   ]
  },
  {
   "cell_type": "code",
   "execution_count": 53,
   "metadata": {},
   "outputs": [],
   "source": [
    "test_df = fortuna_df[['hatespeech_G1', 'hatespeech_G2', 'hatespeech_G3']].copy()\n",
    "test_df['hatespeech_G2'] = test_df['hatespeech_G2'].fillna(0).astype(int)"
   ]
  },
  {
   "cell_type": "code",
   "execution_count": 54,
   "metadata": {},
   "outputs": [
    {
     "data": {
      "text/plain": [
       "0.174914249592265"
      ]
     },
     "execution_count": 54,
     "metadata": {},
     "output_type": "execute_result"
    }
   ],
   "source": [
    "# Valor esperado é de 0.17:\n",
    "xs.fleiss_kappa(test_df.values, n_votes_per_class=False)"
   ]
  },
  {
   "cell_type": "code",
   "execution_count": 55,
   "metadata": {},
   "outputs": [
    {
     "data": {
      "image/png": "[encoded data removed]",
      "text/plain": [
       "<Figure size 640x480 with 1 Axes>"
      ]
     },
     "metadata": {},
     "output_type": "display_data"
    }
   ],
   "source": [
    "# Criando amostras aleatórias uniformes:\n",
    "N_samples = 1000\n",
    "kappas = []\n",
    "for _ in range(N_samples):\n",
    "    X = np.random.randint(0, 2, (len(test_df), 3))\n",
    "    kappas.append(xs.fleiss_kappa(X, n_votes_per_class=False))\n",
    "\n",
    "# Histograma do Fleiss' Kappa:\n",
    "pl.hist(kappas, bins=20)\n",
    "pl.show()"
   ]
  },
  {
   "cell_type": "code",
   "execution_count": 56,
   "metadata": {},
   "outputs": [
    {
     "data": {
      "image/png": "[encoded data removed]",
      "text/plain": [
       "<Figure size 640x480 with 1 Axes>"
      ]
     },
     "metadata": {},
     "output_type": "display_data"
    }
   ],
   "source": [
    "# Criando amostras embaralhadas:\n",
    "N_samples = 1000\n",
    "kappas = []\n",
    "for _ in range(N_samples):\n",
    "    random_df = pd.DataFrame()\n",
    "    random_df[1] = test_df['hatespeech_G1']\n",
    "    random_df[2] = xs.shuffle_data(test_df['hatespeech_G2'])\n",
    "    random_df[3] = xs.shuffle_data(test_df['hatespeech_G3'])\n",
    "    kappas.append(xs.fleiss_kappa(random_df.values, n_votes_per_class=False))\n",
    "    \n",
    "# Histograma do Fleiss' Kappa:\n",
    "pl.hist(kappas, bins=20)\n",
    "pl.show()"
   ]
  },
  {
   "cell_type": "markdown",
   "metadata": {},
   "source": [
    "### Gerando votos aleatórios uniformes"
   ]
  },
  {
   "cell_type": "code",
   "execution_count": 57,
   "metadata": {},
   "outputs": [],
   "source": [
    "Na = 3 # Número de anotadores\n",
    "Nk = 2 # Númetro de classes\n",
    "Nn = 10 # Número de exemplos"
   ]
  },
  {
   "cell_type": "code",
   "execution_count": 58,
   "metadata": {},
   "outputs": [],
   "source": [
    "# Cada coluna é a classificação de um anotador.\n",
    "# Cada linha é uma instância.\n",
    "# Os valores são os índices da classe.\n",
    "annotation_matrix = np.random.randint(0, Nk, (Nn, Na))"
   ]
  },
  {
   "cell_type": "markdown",
   "metadata": {},
   "source": [
    "### Testando função Kappa"
   ]
  },
  {
   "cell_type": "code",
   "execution_count": 60,
   "metadata": {},
   "outputs": [
    {
     "data": {
      "text/plain": [
       "0.20993070442195522"
      ]
     },
     "execution_count": 60,
     "metadata": {},
     "output_type": "execute_result"
    }
   ],
   "source": [
    "# Resultado esperado, segundo a wikipedia (https://en.wikipedia.org/wiki/Fleiss%27_kappa): 0.210\n",
    "X_test = pd.read_csv(Path('../dados/brutos/aux/fleiss_kappa_test_input.csv'), names=list(range(1,6))).values\n",
    "xs.fleiss_kappa(X_test)"
   ]
  }
 ],
 "metadata": {
  "kernelspec": {
   "display_name": "Python 3 (ipykernel)",
   "language": "python",
   "name": "python3"
  },
  "language_info": {
   "codemirror_mode": {
    "name": "ipython",
    "version": 3
   },
   "file_extension": ".py",
   "mimetype": "text/x-python",
   "name": "python",
   "nbconvert_exporter": "python",
   "pygments_lexer": "ipython3",
   "version": "3.8.10"
  }
 },
 "nbformat": 4,
 "nbformat_minor": 4
}
