{
 "cells": [
  {
   "cell_type": "markdown",
   "metadata": {},
   "source": [
    "# Explorando bases de textos anotados"
   ]
  },
  {
   "cell_type": "markdown",
   "metadata": {},
   "source": [
    "[Voltar ao Índice](00_indice.ipynb)\n",
    "\n",
    "Aqui exploramos os corpus (conjuntos de textos) fornecidos por Fortuna _et al._ (2019) e Pelle & Moreira (2017), para entendermos o significado das colunas, os tipos de dados, etc."
   ]
  },
  {
   "cell_type": "markdown",
   "metadata": {
    "tags": []
   },
   "source": [
    "## Explorando dados hierárquicos da Paula Fortuna"
   ]
  },
  {
   "cell_type": "markdown",
   "metadata": {},
   "source": [
    "Fonte: <https://github.com/paulafortuna/Portuguese-Hate-Speech-Dataset>"
   ]
  },
  {
   "cell_type": "code",
   "execution_count": 1,
   "metadata": {},
   "outputs": [],
   "source": [
    "import pandas as pd\n",
    "\n",
    "import xavy.explore as xe\n",
    "import xavy.dataframes as xd"
   ]
  },
  {
   "cell_type": "markdown",
   "metadata": {},
   "source": [
    "### Carregando os dados"
   ]
  },
  {
   "cell_type": "code",
   "execution_count": 2,
   "metadata": {},
   "outputs": [],
   "source": [
    "hierarchy_df = pd.read_csv('../dados/brutos/Portuguese-Hate-Speech-Dataset/2019-05-28_portuguese_hate_speech_hierarchical_classification.csv')"
   ]
  },
  {
   "cell_type": "code",
   "execution_count": 3,
   "metadata": {},
   "outputs": [
    {
     "data": {
      "text/html": [
       "<div>\n",
       "<style scoped>\n",
       "    .dataframe tbody tr th:only-of-type {\n",
       "        vertical-align: middle;\n",
       "    }\n",
       "\n",
       "    .dataframe tbody tr th {\n",
       "        vertical-align: top;\n",
       "    }\n",
       "\n",
       "    .dataframe thead th {\n",
       "        text-align: right;\n",
       "    }\n",
       "</style>\n",
       "<table border=\"1\" class=\"dataframe\">\n",
       "  <thead>\n",
       "    <tr style=\"text-align: right;\">\n",
       "      <th></th>\n",
       "      <th>text</th>\n",
       "      <th>Hate.speech</th>\n",
       "      <th>Sexism</th>\n",
       "      <th>Body</th>\n",
       "      <th>Racism</th>\n",
       "      <th>Ideology</th>\n",
       "      <th>Homophobia</th>\n",
       "      <th>Origin</th>\n",
       "      <th>Religion</th>\n",
       "      <th>Health</th>\n",
       "      <th>...</th>\n",
       "      <th>Thin.women</th>\n",
       "      <th>Arabic</th>\n",
       "      <th>East.europeans</th>\n",
       "      <th>Africans</th>\n",
       "      <th>South.Americans</th>\n",
       "      <th>Brazilians</th>\n",
       "      <th>Migrants</th>\n",
       "      <th>Homossexuals</th>\n",
       "      <th>Thin.people</th>\n",
       "      <th>Ageing</th>\n",
       "    </tr>\n",
       "  </thead>\n",
       "  <tbody>\n",
       "    <tr>\n",
       "      <th>0</th>\n",
       "      <td>\"não come mel, morde marimbondo\"</td>\n",
       "      <td>0</td>\n",
       "      <td>0</td>\n",
       "      <td>0</td>\n",
       "      <td>0</td>\n",
       "      <td>0</td>\n",
       "      <td>0</td>\n",
       "      <td>0</td>\n",
       "      <td>0</td>\n",
       "      <td>0</td>\n",
       "      <td>...</td>\n",
       "      <td>0</td>\n",
       "      <td>0</td>\n",
       "      <td>0</td>\n",
       "      <td>0</td>\n",
       "      <td>0</td>\n",
       "      <td>0</td>\n",
       "      <td>0</td>\n",
       "      <td>0</td>\n",
       "      <td>0</td>\n",
       "      <td>0</td>\n",
       "    </tr>\n",
       "    <tr>\n",
       "      <th>1</th>\n",
       "      <td>não tem pinto, tem orgulho !</td>\n",
       "      <td>0</td>\n",
       "      <td>0</td>\n",
       "      <td>0</td>\n",
       "      <td>0</td>\n",
       "      <td>0</td>\n",
       "      <td>0</td>\n",
       "      <td>0</td>\n",
       "      <td>0</td>\n",
       "      <td>0</td>\n",
       "      <td>...</td>\n",
       "      <td>0</td>\n",
       "      <td>0</td>\n",
       "      <td>0</td>\n",
       "      <td>0</td>\n",
       "      <td>0</td>\n",
       "      <td>0</td>\n",
       "      <td>0</td>\n",
       "      <td>0</td>\n",
       "      <td>0</td>\n",
       "      <td>0</td>\n",
       "    </tr>\n",
       "    <tr>\n",
       "      <th>2</th>\n",
       "      <td>Não vê essa merda de Crepúsculo! Pra isso temo...</td>\n",
       "      <td>0</td>\n",
       "      <td>0</td>\n",
       "      <td>0</td>\n",
       "      <td>0</td>\n",
       "      <td>0</td>\n",
       "      <td>0</td>\n",
       "      <td>0</td>\n",
       "      <td>0</td>\n",
       "      <td>0</td>\n",
       "      <td>...</td>\n",
       "      <td>0</td>\n",
       "      <td>0</td>\n",
       "      <td>0</td>\n",
       "      <td>0</td>\n",
       "      <td>0</td>\n",
       "      <td>0</td>\n",
       "      <td>0</td>\n",
       "      <td>0</td>\n",
       "      <td>0</td>\n",
       "      <td>0</td>\n",
       "    </tr>\n",
       "    <tr>\n",
       "      <th>3</th>\n",
       "      <td>não da tapa na bundinha, da cotovelada nas cos...</td>\n",
       "      <td>0</td>\n",
       "      <td>0</td>\n",
       "      <td>0</td>\n",
       "      <td>0</td>\n",
       "      <td>0</td>\n",
       "      <td>0</td>\n",
       "      <td>0</td>\n",
       "      <td>0</td>\n",
       "      <td>0</td>\n",
       "      <td>...</td>\n",
       "      <td>0</td>\n",
       "      <td>0</td>\n",
       "      <td>0</td>\n",
       "      <td>0</td>\n",
       "      <td>0</td>\n",
       "      <td>0</td>\n",
       "      <td>0</td>\n",
       "      <td>0</td>\n",
       "      <td>0</td>\n",
       "      <td>0</td>\n",
       "    </tr>\n",
       "    <tr>\n",
       "      <th>4</th>\n",
       "      <td>o diminutivo INHO não acompanha a trajetória d...</td>\n",
       "      <td>1</td>\n",
       "      <td>1</td>\n",
       "      <td>0</td>\n",
       "      <td>0</td>\n",
       "      <td>0</td>\n",
       "      <td>0</td>\n",
       "      <td>0</td>\n",
       "      <td>0</td>\n",
       "      <td>0</td>\n",
       "      <td>...</td>\n",
       "      <td>0</td>\n",
       "      <td>0</td>\n",
       "      <td>0</td>\n",
       "      <td>0</td>\n",
       "      <td>0</td>\n",
       "      <td>0</td>\n",
       "      <td>0</td>\n",
       "      <td>0</td>\n",
       "      <td>0</td>\n",
       "      <td>0</td>\n",
       "    </tr>\n",
       "  </tbody>\n",
       "</table>\n",
       "<p>5 rows × 80 columns</p>\n",
       "</div>"
      ],
      "text/plain": [
       "                                                text  Hate.speech  Sexism  \\\n",
       "0                   \"não come mel, morde marimbondo\"            0       0   \n",
       "1                       não tem pinto, tem orgulho !            0       0   \n",
       "2  Não vê essa merda de Crepúsculo! Pra isso temo...            0       0   \n",
       "3  não da tapa na bundinha, da cotovelada nas cos...            0       0   \n",
       "4  o diminutivo INHO não acompanha a trajetória d...            1       1   \n",
       "\n",
       "   Body  Racism  Ideology  Homophobia  Origin  Religion  Health  ...  \\\n",
       "0     0       0         0           0       0         0       0  ...   \n",
       "1     0       0         0           0       0         0       0  ...   \n",
       "2     0       0         0           0       0         0       0  ...   \n",
       "3     0       0         0           0       0         0       0  ...   \n",
       "4     0       0         0           0       0         0       0  ...   \n",
       "\n",
       "   Thin.women  Arabic  East.europeans  Africans  South.Americans  Brazilians  \\\n",
       "0           0       0               0         0                0           0   \n",
       "1           0       0               0         0                0           0   \n",
       "2           0       0               0         0                0           0   \n",
       "3           0       0               0         0                0           0   \n",
       "4           0       0               0         0                0           0   \n",
       "\n",
       "   Migrants  Homossexuals  Thin.people  Ageing  \n",
       "0         0             0            0       0  \n",
       "1         0             0            0       0  \n",
       "2         0             0            0       0  \n",
       "3         0             0            0       0  \n",
       "4         0             0            0       0  \n",
       "\n",
       "[5 rows x 80 columns]"
      ]
     },
     "execution_count": 3,
     "metadata": {},
     "output_type": "execute_result"
    }
   ],
   "source": [
    "hierarchy_df.head()"
   ]
  },
  {
   "cell_type": "markdown",
   "metadata": {},
   "source": [
    "### Características básicas"
   ]
  },
  {
   "cell_type": "code",
   "execution_count": 4,
   "metadata": {},
   "outputs": [
    {
     "data": {
      "text/plain": [
       "5668"
      ]
     },
     "execution_count": 4,
     "metadata": {},
     "output_type": "execute_result"
    }
   ],
   "source": [
    "len(hierarchy_df)"
   ]
  },
  {
   "cell_type": "code",
   "execution_count": 5,
   "metadata": {},
   "outputs": [
    {
     "name": "stdout",
     "output_type": "stream",
     "text": [
      "\u001b[1mColunas com valores faltantes:\u001b[0m\n",
      "Empty DataFrame\n",
      "Columns: [coluna, N, %]\n",
      "Index: []\n"
     ]
    }
   ],
   "source": [
    "xe.checkMissing(hierarchy_df)"
   ]
  },
  {
   "cell_type": "code",
   "execution_count": 6,
   "metadata": {},
   "outputs": [
    {
     "name": "stdout",
     "output_type": "stream",
     "text": [
      "\n",
      "\u001b[1mtext: \u001b[0m5668 unique values.\n",
      "\u001b[1m(sample) \u001b[0m\"você é burro\"  o argumento da \"Jênia\"\n",
      "Mas não consegue refutar uma linha do que falei!\n",
      "Eis a bolha do marxismo cul _ https://t.co/w1yV35loON,  @Estadao que mulher suja da porra,  @gentemagra1 apresenta pra ela miga @homemcis,  @mariacpbruno esse não era bandido, para a Felgueiras, era meigo.,  A música não tem cores, nem classes é para todos.\n",
      "Um simples projeto que muda a vida de muitas pessoas. \n",
      " https://t.co/gVFuwtXodn,  A nossa Nação é a nossa \"casa\", correcto?\n",
      "E as casas têm portas, não é verdade?\n",
      "Então?\n",
      "#ForçaTrump https://t.co/RTEys6FTKK,  Como assim agora a @RedeGlobo golpista serve pra algo @karine_amaral? https://t.co/pPQjbtNgQ3,  E mais: odeia o Bolsonaro?\n",
      "Então fala ai dos projeto dele q tu discorda e porquê.Vamos ver sua inteligencia,nível d _ https://t.co/r1mH16f0GS,  Estes 2 golos e as respetivas jogadas são mais uma prova de que o Benfica está a ser claramente levado ao colo na Taça da Liga\n",
      "#VERGONHA,  Fátima Bernardes não pára de repetir \"o estrago que o homem branco causou\" ao chegar no Brasil. \n",
      "Vai estudar, vai, sua besta!,  Lisboa, minha bela cidade, a cuja presidência da Câmara me vou candidatar. https://t.co/twB6OLbwNw,  Não precisamos de um dia da consciência negra, branca, parda, amarela, albina... Precisamos de 365 dias de consciência humana.,  Obrigado a @exxonmobil pelos $20 bilhões de investimento que estão criando mais de 45.000 empregos de indústria e c _ https://t.co/6VuiYFglur,  POPULISTAS\n",
      "Novo termo da moda da mídia que obviamente nem sabe direito o que significa. Importante msm é \"comparar _ https://t.co/rT0Xl5DKWy,  RT @edmilsonpapo10: \"Dilma e Lula, agiram contra a Lava Jato\" Reinaldo Azevedo em 2016\n",
      "\"O PT nunca agiu contra a Lava Jato\" R Azevedo em 2 _,  RT @feministinho: Deixei minha redação do enem em branco pois quem sou eu pra falar sobre feminismo,  RT @savoltrath: @HumorNegroo Basicamente as pessoas dão risada dos outros, mas quando é com eles todo mundo fica bravo.,  RT @vascof87: @carol_moura13 @RitaBranco02 opa, que fufas tratem se,  Tchau gayzada!\n",
      "Tchau Campinas!\n",
      "#PartiuSp,  bandido bom é bandido morto\n",
      "menos o cunha ele tá do nosso lado\n",
      "\n",
      "\u001b[1mHate.speech: \u001b[0m2 unique values.\n",
      "0,  1\n",
      "\n",
      "\u001b[1mSexism: \u001b[0m2 unique values.\n",
      "0,  1\n",
      "\n",
      "\u001b[1mBody: \u001b[0m2 unique values.\n",
      "0,  1\n",
      "\n",
      "\u001b[1mRacism: \u001b[0m2 unique values.\n",
      "0,  1\n",
      "\n",
      "\u001b[1mIdeology: \u001b[0m2 unique values.\n",
      "0,  1\n",
      "\n",
      "\u001b[1mHomophobia: \u001b[0m2 unique values.\n",
      "0,  1\n",
      "\n",
      "\u001b[1mOrigin: \u001b[0m2 unique values.\n",
      "0,  1\n",
      "\n",
      "\u001b[1mReligion: \u001b[0m2 unique values.\n",
      "0,  1\n",
      "\n",
      "\u001b[1mHealth: \u001b[0m2 unique values.\n",
      "0,  1\n",
      "\n",
      "\u001b[1mOtherLifestyle: \u001b[0m2 unique values.\n",
      "0,  1\n",
      "\n",
      "\u001b[1mAborting.women: \u001b[0m2 unique values.\n",
      "0,  1\n",
      "\n",
      "\u001b[1mAgnostic: \u001b[0m2 unique values.\n",
      "0,  1\n",
      "\n",
      "\u001b[1mArgentines: \u001b[0m2 unique values.\n",
      "0,  1\n",
      "\n",
      "\u001b[1mAsians: \u001b[0m2 unique values.\n",
      "0,  1\n",
      "\n",
      "\u001b[1mAutists: \u001b[0m2 unique values.\n",
      "0,  1\n",
      "\n",
      "\u001b[1mBlack.Women: \u001b[0m2 unique values.\n",
      "0,  1\n",
      "\n",
      "\u001b[1mBlond.women: \u001b[0m2 unique values.\n",
      "0,  1\n",
      "\n",
      "\u001b[1mBrazilians.women: \u001b[0m2 unique values.\n",
      "0,  1\n",
      "\n",
      "\u001b[1mChinese: \u001b[0m2 unique values.\n",
      "0,  1\n",
      "\n",
      "\u001b[1mCriminals: \u001b[0m2 unique values.\n",
      "0,  1\n",
      "\n",
      "\u001b[1mEgyptians: \u001b[0m2 unique values.\n",
      "0,  1\n",
      "\n",
      "\u001b[1mFat.people: \u001b[0m2 unique values.\n",
      "0,  1\n",
      "\n",
      "\u001b[1mFootball.players.women: \u001b[0m2 unique values.\n",
      "0,  1\n",
      "\n",
      "\u001b[1mGamers: \u001b[0m2 unique values.\n",
      "0,  1\n",
      "\n",
      "\u001b[1mHomeless: \u001b[0m2 unique values.\n",
      "0,  1\n",
      "\n",
      "\u001b[1mHomeless.women: \u001b[0m2 unique values.\n",
      "0,  1\n",
      "\n",
      "\u001b[1mIndigenous: \u001b[0m2 unique values.\n",
      "0,  1\n",
      "\n",
      "\u001b[1mIranians: \u001b[0m2 unique values.\n",
      "0,  1\n",
      "\n",
      "\u001b[1mJapaneses: \u001b[0m2 unique values.\n",
      "0,  1\n",
      "\n",
      "\u001b[1mJews: \u001b[0m2 unique values.\n",
      "0,  1\n",
      "\n",
      "\u001b[1mJornalists: \u001b[0m2 unique values.\n",
      "0,  1\n",
      "\n",
      "\u001b[1mLatins: \u001b[0m2 unique values.\n",
      "0,  1\n",
      "\n",
      "\u001b[1mLeft.wing.ideology: \u001b[0m2 unique values.\n",
      "0,  1\n",
      "\n",
      "\u001b[1mMen.Feminists: \u001b[0m2 unique values.\n",
      "0,  1\n",
      "\n",
      "\u001b[1mMexicans: \u001b[0m2 unique values.\n",
      "0,  1\n",
      "\n",
      "\u001b[1mMuslims.women: \u001b[0m2 unique values.\n",
      "0,  1\n",
      "\n",
      "\u001b[1mNordestines: \u001b[0m2 unique values.\n",
      "0,  1\n",
      "\n",
      "\u001b[1mOld.people: \u001b[0m2 unique values.\n",
      "0,  1\n",
      "\n",
      "\u001b[1mPolyamorous: \u001b[0m2 unique values.\n",
      "0,  1\n",
      "\n",
      "\u001b[1mPoor.people: \u001b[0m2 unique values.\n",
      "0,  1\n",
      "\n",
      "\u001b[1mRural.people: \u001b[0m2 unique values.\n",
      "0,  1\n",
      "\n",
      "\u001b[1mRussians: \u001b[0m2 unique values.\n",
      "0,  1\n",
      "\n",
      "\u001b[1mSertanejos: \u001b[0m2 unique values.\n",
      "0,  1\n",
      "\n",
      "\u001b[1mStreet.artist: \u001b[0m2 unique values.\n",
      "0,  1\n",
      "\n",
      "\u001b[1mUcranians: \u001b[0m2 unique values.\n",
      "0,  1\n",
      "\n",
      "\u001b[1mVegetarians: \u001b[0m2 unique values.\n",
      "0,  1\n",
      "\n",
      "\u001b[1mWhite.people: \u001b[0m2 unique values.\n",
      "0,  1\n",
      "\n",
      "\u001b[1mYoung.people: \u001b[0m2 unique values.\n",
      "0,  1\n",
      "\n",
      "\u001b[1mOld.women: \u001b[0m2 unique values.\n",
      "0,  1\n",
      "\n",
      "\u001b[1mUgly.people: \u001b[0m2 unique values.\n",
      "0,  1\n",
      "\n",
      "\u001b[1mVenezuelans: \u001b[0m2 unique values.\n",
      "0,  1\n",
      "\n",
      "\u001b[1mAngolans: \u001b[0m2 unique values.\n",
      "0,  1\n",
      "\n",
      "\u001b[1mBlack.people: \u001b[0m2 unique values.\n",
      "0,  1\n",
      "\n",
      "\u001b[1mDisabled.people: \u001b[0m2 unique values.\n",
      "0,  1\n",
      "\n",
      "\u001b[1mFat.women: \u001b[0m2 unique values.\n",
      "0,  1\n",
      "\n",
      "\u001b[1mFeminists: \u001b[0m2 unique values.\n",
      "0,  1\n",
      "\n",
      "\u001b[1mGays: \u001b[0m2 unique values.\n",
      "0,  1\n",
      "\n",
      "\u001b[1mImmigrants: \u001b[0m2 unique values.\n",
      "0,  1\n",
      "\n",
      "\u001b[1mIslamists: \u001b[0m2 unique values.\n",
      "0,  1\n",
      "\n",
      "\u001b[1mLesbians: \u001b[0m2 unique values.\n",
      "0,  1\n",
      "\n",
      "\u001b[1mMen: \u001b[0m2 unique values.\n",
      "0,  1\n",
      "\n",
      "\u001b[1mMuslims: \u001b[0m2 unique values.\n",
      "0,  1\n",
      "\n",
      "\u001b[1mRefugees: \u001b[0m2 unique values.\n",
      "0,  1\n",
      "\n",
      "\u001b[1mTrans.women: \u001b[0m2 unique values.\n",
      "0,  1\n",
      "\n",
      "\u001b[1mTravestis: \u001b[0m2 unique values.\n",
      "0,  1\n",
      "\n",
      "\u001b[1mWomen: \u001b[0m2 unique values.\n",
      "0,  1\n",
      "\n",
      "\u001b[1mBissexuals: \u001b[0m2 unique values.\n",
      "0,  1\n",
      "\n",
      "\u001b[1mTransexuals: \u001b[0m2 unique values.\n",
      "0,  1\n",
      "\n",
      "\u001b[1mUgly.women: \u001b[0m2 unique values.\n",
      "0,  1\n",
      "\n",
      "\u001b[1mThin.women: \u001b[0m2 unique values.\n",
      "0,  1\n",
      "\n",
      "\u001b[1mArabic: \u001b[0m2 unique values.\n",
      "0,  1\n",
      "\n",
      "\u001b[1mEast.europeans: \u001b[0m2 unique values.\n",
      "0,  1\n",
      "\n",
      "\u001b[1mAfricans: \u001b[0m2 unique values.\n",
      "0,  1\n",
      "\n",
      "\u001b[1mSouth.Americans: \u001b[0m2 unique values.\n",
      "0,  1\n",
      "\n",
      "\u001b[1mBrazilians: \u001b[0m2 unique values.\n",
      "0,  1\n",
      "\n",
      "\u001b[1mMigrants: \u001b[0m2 unique values.\n",
      "0,  1\n",
      "\n",
      "\u001b[1mHomossexuals: \u001b[0m2 unique values.\n",
      "0,  1\n",
      "\n",
      "\u001b[1mThin.people: \u001b[0m2 unique values.\n",
      "0,  1\n",
      "\n",
      "\u001b[1mAgeing: \u001b[0m2 unique values.\n",
      "0,  1\n"
     ]
    }
   ],
   "source": [
    "xe.mapUnique(hierarchy_df)"
   ]
  },
  {
   "cell_type": "code",
   "execution_count": 33,
   "metadata": {},
   "outputs": [
    {
     "data": {
      "text/plain": [
       "0    4440\n",
       "1    1228\n",
       "Name: Hate.speech, dtype: int64"
      ]
     },
     "execution_count": 33,
     "metadata": {},
     "output_type": "execute_result"
    }
   ],
   "source": [
    "hierarchy_df['Hate.speech'].value_counts()"
   ]
  },
  {
   "cell_type": "markdown",
   "metadata": {},
   "source": [
    "### Exemplos de classificação"
   ]
  },
  {
   "cell_type": "code",
   "execution_count": null,
   "metadata": {},
   "outputs": [
    {
     "data": {
      "text/plain": [
       "Index(['text', 'Hate.speech', 'Sexism', 'Body', 'Racism', 'Ideology',\n",
       "       'Homophobia', 'Origin', 'Religion', 'Health', 'OtherLifestyle',\n",
       "       'Aborting.women', 'Agnostic', 'Argentines', 'Asians', 'Autists',\n",
       "       'Black.Women', 'Blond.women', 'Brazilians.women', 'Chinese',\n",
       "       'Criminals', 'Egyptians', 'Fat.people', 'Football.players.women',\n",
       "       'Gamers', 'Homeless', 'Homeless.women', 'Indigenous', 'Iranians',\n",
       "       'Japaneses', 'Jews', 'Jornalists', 'Latins', 'Left.wing.ideology',\n",
       "       'Men.Feminists', 'Mexicans', 'Muslims.women', 'Nordestines',\n",
       "       'Old.people', 'Polyamorous', 'Poor.people', 'Rural.people', 'Russians',\n",
       "       'Sertanejos', 'Street.artist', 'Ucranians', 'Vegetarians',\n",
       "       'White.people', 'Young.people', 'Old.women', 'Ugly.people',\n",
       "       'Venezuelans', 'Angolans', 'Black.people', 'Disabled.people',\n",
       "       'Fat.women', 'Feminists', 'Gays', 'Immigrants', 'Islamists', 'Lesbians',\n",
       "       'Men', 'Muslims', 'Refugees', 'Trans.women', 'Travestis', 'Women',\n",
       "       'Bissexuals', 'Transexuals', 'Ugly.women', 'Thin.women', 'Arabic',\n",
       "       'East.europeans', 'Africans', 'South.Americans', 'Brazilians',\n",
       "       'Migrants', 'Homossexuals', 'Thin.people', 'Ageing'],\n",
       "      dtype='object')"
      ]
     },
     "execution_count": 36,
     "metadata": {},
     "output_type": "execute_result"
    }
   ],
   "source": [
    "hierarchy_df.columns"
   ]
  },
  {
   "cell_type": "code",
   "execution_count": 40,
   "metadata": {},
   "outputs": [
    {
     "name": "stdout",
     "output_type": "stream",
     "text": [
      "\u001b[1mViolência\u001b[0m\n",
      "\u001b[1m4752\u001b[0m: Eu sei que para ser bonita não precisa ser magra, mas eu coloquei na minha fucking cabeça de que estou muito gorda e feia\n",
      "\u001b[1m11\u001b[0m: @homemdeverdade não tem namorada, tem fêmea temporária.\n",
      "\u001b[1m4298\u001b[0m: filho nunca segurou e nunca vai segurar macho, ainda mais se for esses mlq da vida,mulher q engravida sabendo q o cara é safado,é burra sim\n",
      "\u001b[1m5400\u001b[0m: @g1 O politicamente correto está acabando com a sociedade. Mulher burra é que se sente ofendida com isto. Tenho orgulho de saber o preço.\n",
      "\u001b[1m3889\u001b[0m: @editorahumanas quem é essa doida aí? uma feminista?\n",
      "\n",
      "\u001b[1mNão-Violência\u001b[0m\n",
      "\u001b[1m1056\u001b[0m: Olha ae a oportunidade q vc queria: ganhar o respeito do \"tico\". Imperdível! https://t.co/AkKrQsEo72\n",
      "\u001b[1m5137\u001b[0m: Claro! A alienação é o melhor caminho pra você! Continue nessa bolha!!! https://t.co/MqBdnFkc4K\n",
      "\u001b[1m1819\u001b[0m: Isto é cá um grande buraco!.. Como é que o #Sócrates anda cá fora?\n",
      "@Lusa_noticias @rtppt @dn @fcancio _ https://t.co/UfbPKWk0wr\n",
      "\u001b[1m2705\u001b[0m: @RuiHCruz Vais dizer que é mentira?\n",
      "\u001b[1m3617\u001b[0m: RT @artur_slo: Você vai ajudar a fazer com que essa CENA se REPITA no dia 26 de Março? Dê um ENTUSIASMADO RT. #26deMarcoEuVou https://t.co/ _\n"
     ]
    }
   ],
   "source": [
    "col = 'Sexism' \n",
    "\n",
    "# Textos com violência:\n",
    "print(xe.bold('Violência'))\n",
    "xd.print_string_series(hierarchy_df.loc[hierarchy_df[col] == 1, 'text'].sample(5))\n",
    "print('')\n",
    "# Textos com violência (tipicamente xingamentos):\n",
    "print(xe.bold('Não-Violência'))\n",
    "xd.print_string_series(hierarchy_df.loc[hierarchy_df[col] == 0, 'text'].sample(5))"
   ]
  },
  {
   "cell_type": "code",
   "execution_count": 47,
   "metadata": {},
   "outputs": [
    {
     "data": {
      "text/plain": [
       "True"
      ]
     },
     "execution_count": 47,
     "metadata": {},
     "output_type": "execute_result"
    }
   ],
   "source": [
    "(hierarchy_df.loc[(hierarchy_df.iloc[:, 2:] == 1).any(axis=1), 'Hate.speech'] == 1).all()"
   ]
  },
  {
   "cell_type": "code",
   "execution_count": null,
   "metadata": {},
   "outputs": [],
   "source": [
    "hierarchy_df.loc[ hierarchy_df]"
   ]
  },
  {
   "cell_type": "markdown",
   "metadata": {
    "tags": []
   },
   "source": [
    "## Explorando dados binários da Paula Fortuna"
   ]
  },
  {
   "cell_type": "markdown",
   "metadata": {},
   "source": [
    "Fonte: <https://github.com/paulafortuna/Portuguese-Hate-Speech-Dataset>"
   ]
  },
  {
   "cell_type": "code",
   "execution_count": 1,
   "metadata": {},
   "outputs": [],
   "source": [
    "import pandas as pd\n",
    "\n",
    "import xavy.explore as xe\n",
    "import xavy.dataframes as xd"
   ]
  },
  {
   "cell_type": "markdown",
   "metadata": {},
   "source": [
    "### Carregando os dados"
   ]
  },
  {
   "cell_type": "code",
   "execution_count": 7,
   "metadata": {},
   "outputs": [],
   "source": [
    "fortuna_df = pd.read_csv('../dados/brutos/Portuguese-Hate-Speech-Dataset/2019-05-28_portuguese_hate_speech_binary_classification.csv')"
   ]
  },
  {
   "cell_type": "code",
   "execution_count": 50,
   "metadata": {},
   "outputs": [
    {
     "data": {
      "text/html": [
       "<div>\n",
       "<style scoped>\n",
       "    .dataframe tbody tr th:only-of-type {\n",
       "        vertical-align: middle;\n",
       "    }\n",
       "\n",
       "    .dataframe tbody tr th {\n",
       "        vertical-align: top;\n",
       "    }\n",
       "\n",
       "    .dataframe thead th {\n",
       "        text-align: right;\n",
       "    }\n",
       "</style>\n",
       "<table border=\"1\" class=\"dataframe\">\n",
       "  <thead>\n",
       "    <tr style=\"text-align: right;\">\n",
       "      <th></th>\n",
       "      <th>text</th>\n",
       "      <th>hatespeech_comb</th>\n",
       "      <th>hatespeech_G1</th>\n",
       "      <th>annotator_G1</th>\n",
       "      <th>hatespeech_G2</th>\n",
       "      <th>annotator_G2</th>\n",
       "      <th>hatespeech_G3</th>\n",
       "      <th>annotator_G3</th>\n",
       "    </tr>\n",
       "  </thead>\n",
       "  <tbody>\n",
       "    <tr>\n",
       "      <th>0</th>\n",
       "      <td>@__andrea__b \\nO cara vive em outro mundo\\nNão...</td>\n",
       "      <td>1</td>\n",
       "      <td>1</td>\n",
       "      <td>A</td>\n",
       "      <td>1.0</td>\n",
       "      <td>V</td>\n",
       "      <td>0</td>\n",
       "      <td>E</td>\n",
       "    </tr>\n",
       "    <tr>\n",
       "      <th>1</th>\n",
       "      <td>@_carmeloneto Estes incompetentes não cuidam n...</td>\n",
       "      <td>0</td>\n",
       "      <td>1</td>\n",
       "      <td>D</td>\n",
       "      <td>0.0</td>\n",
       "      <td>V</td>\n",
       "      <td>0</td>\n",
       "      <td>C</td>\n",
       "    </tr>\n",
       "    <tr>\n",
       "      <th>2</th>\n",
       "      <td>@_carmeloneto \\nOs 'cumpanhero' quebraram toda...</td>\n",
       "      <td>0</td>\n",
       "      <td>1</td>\n",
       "      <td>A</td>\n",
       "      <td>0.0</td>\n",
       "      <td>B</td>\n",
       "      <td>0</td>\n",
       "      <td>E</td>\n",
       "    </tr>\n",
       "    <tr>\n",
       "      <th>3</th>\n",
       "      <td>@_GlitteryKisses é isso não conseguem pensar n...</td>\n",
       "      <td>0</td>\n",
       "      <td>0</td>\n",
       "      <td>C</td>\n",
       "      <td>0.0</td>\n",
       "      <td>V</td>\n",
       "      <td>0</td>\n",
       "      <td>D</td>\n",
       "    </tr>\n",
       "    <tr>\n",
       "      <th>4</th>\n",
       "      <td>@_iglira bom dia macaco branco haha</td>\n",
       "      <td>1</td>\n",
       "      <td>0</td>\n",
       "      <td>A</td>\n",
       "      <td>1.0</td>\n",
       "      <td>I</td>\n",
       "      <td>1</td>\n",
       "      <td>E</td>\n",
       "    </tr>\n",
       "  </tbody>\n",
       "</table>\n",
       "</div>"
      ],
      "text/plain": [
       "                                                text  hatespeech_comb  \\\n",
       "0  @__andrea__b \\nO cara vive em outro mundo\\nNão...                1   \n",
       "1  @_carmeloneto Estes incompetentes não cuidam n...                0   \n",
       "2  @_carmeloneto \\nOs 'cumpanhero' quebraram toda...                0   \n",
       "3  @_GlitteryKisses é isso não conseguem pensar n...                0   \n",
       "4                @_iglira bom dia macaco branco haha                1   \n",
       "\n",
       "   hatespeech_G1 annotator_G1  hatespeech_G2 annotator_G2  hatespeech_G3  \\\n",
       "0              1            A            1.0            V              0   \n",
       "1              1            D            0.0            V              0   \n",
       "2              1            A            0.0            B              0   \n",
       "3              0            C            0.0            V              0   \n",
       "4              0            A            1.0            I              1   \n",
       "\n",
       "  annotator_G3  \n",
       "0            E  \n",
       "1            C  \n",
       "2            E  \n",
       "3            D  \n",
       "4            E  "
      ]
     },
     "execution_count": 50,
     "metadata": {},
     "output_type": "execute_result"
    }
   ],
   "source": [
    "fortuna_df.head()"
   ]
  },
  {
   "cell_type": "markdown",
   "metadata": {},
   "source": [
    "### Verificando textos com consenso"
   ]
  },
  {
   "cell_type": "code",
   "execution_count": 65,
   "metadata": {},
   "outputs": [
    {
     "data": {
      "text/plain": [
       "507"
      ]
     },
     "execution_count": 65,
     "metadata": {},
     "output_type": "execute_result"
    }
   ],
   "source": [
    "consenso_df = fortuna_df.loc[(fortuna_df['hatespeech_G1'] == 1) & (fortuna_df['hatespeech_G2'] == 1) & (fortuna_df['hatespeech_G3'] == 1)] \n",
    "len(consenso_df)"
   ]
  },
  {
   "cell_type": "code",
   "execution_count": 64,
   "metadata": {},
   "outputs": [
    {
     "name": "stdout",
     "output_type": "stream",
     "text": [
      "\u001b[1m3954\u001b[0m: RT @AlexRoussef171: Povo comendo lixo - esta é a prosperidade comunista bolivariana. Luladrão e sua ORCRIM tem que apodrecer na cadeia. htt _\n",
      "\u001b[1m5415\u001b[0m: Uber de puta: a mulher não quer ser uma GP,  mas precisa de uma grana, vai lá e dá uma. Mais barato e mais prático\n",
      "Fica a ideia ae\n",
      "\u001b[1m1438\u001b[0m: Essa foi na mosca. E eu achando que o problema fosse só aqui no Brasil com essa 'geração lacre' https://t.co/RLhRV0Ofei\n",
      "\u001b[1m2357\u001b[0m: Kkkkkkkkkkkkkkkkkkkkkkkk que mulher burra pqp\n",
      "\u001b[1m155\u001b[0m: A fdp não come carne e quer q vc tb não coma. Chupar meu pau ela não quer\n"
     ]
    }
   ],
   "source": [
    "xd.print_string_series(consenso_df['text'].sample(5))"
   ]
  },
  {
   "cell_type": "code",
   "execution_count": 67,
   "metadata": {},
   "outputs": [
    {
     "data": {
      "text/plain": [
       "1957"
      ]
     },
     "execution_count": 67,
     "metadata": {},
     "output_type": "execute_result"
    }
   ],
   "source": [
    "limpo_df = fortuna_df.loc[(fortuna_df['hatespeech_G1'] == 0) & (fortuna_df['hatespeech_G2'] == 0) & (fortuna_df['hatespeech_G3'] == 0)]\n",
    "len(limpo_df)"
   ]
  },
  {
   "cell_type": "code",
   "execution_count": 71,
   "metadata": {},
   "outputs": [
    {
     "name": "stdout",
     "output_type": "stream",
     "text": [
      "\u001b[1m852\u001b[0m: Chegou aquela hora da noite que eu fico contando se eu dormir AGORA vou ter quantas horas de sono\n",
      "\u001b[1m4201\u001b[0m: RT @edmilsonpapo10: @agnaldoregojr @reinaldoazevedo @YouTube isso pra mim é irrelevante, queria pegá-lo mentindo, e consegui\n",
      "\u001b[1m4711\u001b[0m: RT @paulloxavier: @marisa_lobo querida comecei a ler sobre seu trabalho e vc esta de parabéns pela coragem conheci o seu trabalho estudando _\n",
      "\u001b[1m5162\u001b[0m: SIM, TEM QUE USAR A LÍNGUA, É UM ÓTIMO TREINAMENTO \n",
      " #JoaquinResponde https://t.co/qzviLuRpYs\n",
      "\u001b[1m3208\u001b[0m: O #PNR apresenta-se pela primeira vez em #SantaMariaFeira em autárquicas.\n",
      "Força #AnselmoOliveira\n",
      "@Lusa_noticias _ https://t.co/6Ot13kpoXX\n"
     ]
    }
   ],
   "source": [
    "xd.print_string_series(limpo_df['text'].sample(5))"
   ]
  },
  {
   "cell_type": "markdown",
   "metadata": {},
   "source": [
    "### Características básicas"
   ]
  },
  {
   "cell_type": "code",
   "execution_count": 3,
   "metadata": {},
   "outputs": [
    {
     "data": {
      "text/plain": [
       "5670"
      ]
     },
     "execution_count": 3,
     "metadata": {},
     "output_type": "execute_result"
    }
   ],
   "source": [
    "len(fortuna_df)"
   ]
  },
  {
   "cell_type": "code",
   "execution_count": 18,
   "metadata": {},
   "outputs": [
    {
     "name": "stdout",
     "output_type": "stream",
     "text": [
      "\u001b[1mColunas com valores faltantes:\u001b[0m\n",
      "          coluna    N     %\n",
      "4  hatespeech_G2  2.0  0.04\n"
     ]
    }
   ],
   "source": [
    "xe.checkMissing(fortuna_df)"
   ]
  },
  {
   "cell_type": "code",
   "execution_count": 19,
   "metadata": {},
   "outputs": [
    {
     "name": "stdout",
     "output_type": "stream",
     "text": [
      "\n",
      "\u001b[1mtext: \u001b[0m5666 unique values.\n",
      "\u001b[1m(sample) \u001b[0m7 PICA DOS ALEMÃO https://t.co/XtZLBuzP99,  @LineBalbinotti Fem é agenda da esquerda. Cade a defesa da raquel quando o cara do PT disse pra estupra-la? acorda _ https://t.co/dsV3rsIWTu,  @fcancio, peso-pesado do gangue da comunicação social. Apesar da censura cobarde e de ridicularizarem quem se opõe, já começam a tremer.,  A situação da Europa resumida: Aceitar refugiados e lidar com risco de terroristas infiltrados ou não aceitar e ser taxado de xenofóbico.,  Bom dia !!! Não é a toa que os 'ativistas esquerdopatas' fazem protestos contra o Presidente #TRUMP. https://t.co/rGDze5LWHT,  Chorão\n",
      "Fracassado\n",
      "Precisava de auto afirmação\n",
      " Vive no mundo irreal \n",
      "Fama só por causa da TV\n",
      "-> DROGAS MATAM o _ https://t.co/b5N2d0Aa7z,  Este #CDS, realmente... que vergonha!\n",
      "De facto, torna-se cada vez mais claro que é o #PNR de um lado e o Sistema to _ https://t.co/9MiFbWxAbp,  Evitar carne de ganso (quizila de Oxum)\n",
      "Não comer carne de pombo ou galinha d'angola\n",
      "Não ter dentro de casa penas de pavão pq tiram a sorte,  Me assusta saber q sou GP https://t.co/jZq5u6DGMP,  Não gosta de 'bater papo' no MSN. Ele responde porque os outros falam. Nem tem tempo pra frescura.,  QUE COMECE O DESESPERO:\n",
      "#CarnavalAcabouE FELIZ 2017 https://t.co/wGEk6AWDgd,  RT @__idgaftype: É a realidade que nos rodeia! Chega de fingir que não existe, quanto mais cedo se depararem com isso,melhor será a aceitaç _,  RT @bazert: Autoridade Tributária, Banco de Portugal, isto está a ficar giro, finalmente começam a perceber-se todas as trapaças dos galifõ _,  RT @maathbz: Incitação estranhamente no dia em que defendia a prisão de um menor estuprador e assassino enquanto o PT defendia o estuprador _,  RT @pauloap: QUANDO VOCÊ GANHA AQUELE PRESENTE: https://t.co/zOlcBzgXPk,  SE O FURACÃO SANDY TÁ ASSIM IMAGINA O FURACÃO PRETA GIL? DEVE TER SIDO ESSE QUE DIZIMOU OS DINOSSAUROS.,  Triste verdade que tantos teimam em não querer ver.\n",
      "Quanto mais tarde se reverter a situação, mais difícil será. _ https://t.co/Qsfabbywwj,  Um filho vem atrapalhar? Criam a Lei do #Aborto\n",
      "Um idoso atrapalha? Criam a Lei da #Eutanásia\n",
      "Eis as soluções do materialismo individualista,  negras, queimem seus sutiãs, vocês estão se apropriando da cultura branca norte-americana!!!,  passando aqui pela zona oeste e pensando como esses pobres conseguem se enfiar no brt q nem sardinha\n",
      "prefiro meu 4x4\n",
      "\n",
      "\u001b[1mhatespeech_comb: \u001b[0m2 unique values.\n",
      "0,  1\n",
      "\n",
      "\u001b[1mhatespeech_G1: \u001b[0m2 unique values.\n",
      "0,  1\n",
      "\n",
      "\u001b[1mannotator_G1: \u001b[0m5 unique values.\n",
      "A,  B,  C,  D,  E\n",
      "\n",
      "\u001b[1mhatespeech_G2: \u001b[0m3 unique values.\n",
      "0.0,  1.0,  nan\n",
      "\n",
      "\u001b[1mannotator_G2: \u001b[0m6 unique values.\n",
      "B,  Dani,  I,  It,  S,  V\n",
      "\n",
      "\u001b[1mhatespeech_G3: \u001b[0m2 unique values.\n",
      "0,  1\n",
      "\n",
      "\u001b[1mannotator_G3: \u001b[0m5 unique values.\n",
      "A,  B,  C,  D,  E\n"
     ]
    }
   ],
   "source": [
    "xe.mapUnique(fortuna_df)"
   ]
  },
  {
   "cell_type": "code",
   "execution_count": 20,
   "metadata": {},
   "outputs": [
    {
     "data": {
      "text/plain": [
       "0    3882\n",
       "1    1788\n",
       "Name: hatespeech_comb, dtype: int64"
      ]
     },
     "execution_count": 20,
     "metadata": {},
     "output_type": "execute_result"
    }
   ],
   "source": [
    "fortuna_df['hatespeech_comb'].value_counts()"
   ]
  },
  {
   "cell_type": "markdown",
   "metadata": {},
   "source": [
    "### Exemplos de classificação"
   ]
  },
  {
   "cell_type": "code",
   "execution_count": 23,
   "metadata": {},
   "outputs": [
    {
     "name": "stdout",
     "output_type": "stream",
     "text": [
      "\u001b[1m2754\u001b[0m: Mulher = carne de churrasco. Vc esquenta no pau\n",
      "\u001b[1m536\u001b[0m: Assine a petição: Contra a construção de mais uma mesquita em Lisboa \n",
      "https://t.co/aUaTxMdXeahttps://t.co/1cp0XxLa1x\n",
      "\u001b[1m2841\u001b[0m: '''''nao é que eu sou racista mas ele é  negro'''''\n",
      "\u001b[1m402\u001b[0m: A NASA ACHOU MAIS 7 PLANETAS \n",
      "E VOCÊ AI, QUE NÃO CONSEGUE ACHAR UM SÓ EMPREGO\n",
      "\u001b[1m868\u001b[0m: Chupa nazistinha! Vai daí @masaldanhabea https://t.co/ht4aRop6Dk\n"
     ]
    }
   ],
   "source": [
    "# Textos com violência:\n",
    "xd.print_string_series(fortuna_df.loc[fortuna_df['hatespeech_comb'] == 1, 'text'].sample(5))"
   ]
  },
  {
   "cell_type": "code",
   "execution_count": 24,
   "metadata": {},
   "outputs": [
    {
     "name": "stdout",
     "output_type": "stream",
     "text": [
      "\u001b[1m4791\u001b[0m: RT @RockSaint_: Muitas crianças são criadas por homossexuais, eu não vejo diferença nenhuma nessa imagem o mesmo vai acontecer com algumas _\n",
      "\u001b[1m3884\u001b[0m: RT @_CartolaFC: Depois deste jogo, não duvido de nada. Angola ganhava de 4x0 até os 80 minutos.\n",
      "Angola 4X4 Mali (10/01/2010)  https://t.co _\n",
      "\u001b[1m762\u001b[0m: @CanalHistory jamais. honro e prezo pelo meu país. Não quero que vire uma europa 2\n",
      "\u001b[1m1393\u001b[0m: E @pvedova tentou fazer do fracassado protesto de imigrantes um sucesso, enqto @RedeGlobo 'esqueceu' dos protesto anti-desarmamento ontem.\n",
      "\u001b[1m1118\u001b[0m: Deves achar q o mundo gira a tua volta, tem mais de 7bilhoes no planeta Terra... Nem tudo oq falo é para ti\n"
     ]
    }
   ],
   "source": [
    "# Textos com violência (tipicamente xingamentos):\n",
    "xd.print_string_series(fortuna_df.loc[fortuna_df['hatespeech_comb'] == 0, 'text'].sample(5))"
   ]
  },
  {
   "cell_type": "markdown",
   "metadata": {},
   "source": [
    "### Concordância entre anotadores"
   ]
  },
  {
   "cell_type": "code",
   "execution_count": 33,
   "metadata": {},
   "outputs": [
    {
     "data": {
      "text/html": [
       "<div>\n",
       "<style scoped>\n",
       "    .dataframe tbody tr th:only-of-type {\n",
       "        vertical-align: middle;\n",
       "    }\n",
       "\n",
       "    .dataframe tbody tr th {\n",
       "        vertical-align: top;\n",
       "    }\n",
       "\n",
       "    .dataframe thead th {\n",
       "        text-align: right;\n",
       "    }\n",
       "</style>\n",
       "<table border=\"1\" class=\"dataframe\">\n",
       "  <thead>\n",
       "    <tr style=\"text-align: right;\">\n",
       "      <th></th>\n",
       "      <th>hatespeech_G1</th>\n",
       "      <th>hatespeech_G2</th>\n",
       "      <th>hatespeech_G3</th>\n",
       "    </tr>\n",
       "  </thead>\n",
       "  <tbody>\n",
       "    <tr>\n",
       "      <th>hatespeech_G1</th>\n",
       "      <td>1.000000</td>\n",
       "      <td>0.357873</td>\n",
       "      <td>0.204126</td>\n",
       "    </tr>\n",
       "    <tr>\n",
       "      <th>hatespeech_G2</th>\n",
       "      <td>0.357873</td>\n",
       "      <td>1.000000</td>\n",
       "      <td>0.264503</td>\n",
       "    </tr>\n",
       "    <tr>\n",
       "      <th>hatespeech_G3</th>\n",
       "      <td>0.204126</td>\n",
       "      <td>0.264503</td>\n",
       "      <td>1.000000</td>\n",
       "    </tr>\n",
       "  </tbody>\n",
       "</table>\n",
       "</div>"
      ],
      "text/plain": [
       "               hatespeech_G1  hatespeech_G2  hatespeech_G3\n",
       "hatespeech_G1       1.000000       0.357873       0.204126\n",
       "hatespeech_G2       0.357873       1.000000       0.264503\n",
       "hatespeech_G3       0.204126       0.264503       1.000000"
      ]
     },
     "execution_count": 33,
     "metadata": {},
     "output_type": "execute_result"
    }
   ],
   "source": [
    "annotations = ['hatespeech_G1', 'hatespeech_G2', 'hatespeech_G3']\n",
    "fortuna_df[annotations].dropna().corr()"
   ]
  },
  {
   "cell_type": "markdown",
   "metadata": {},
   "source": [
    "## Overlap do binary e hierarchy da Paula Fortuna"
   ]
  },
  {
   "cell_type": "markdown",
   "metadata": {},
   "source": [
    "Vemos que o conteúdo (em termos dos textos) dos dois datasets são os mesmos. As supostas diferenças são de pequenas alterações de formatação, basicamente."
   ]
  },
  {
   "cell_type": "code",
   "execution_count": 21,
   "metadata": {},
   "outputs": [],
   "source": [
    "fortuna_plus   = pd.Series(list(set(fortuna_df['text']) - set(hierarchy_df['text'])), name='fortuna_plus')\n",
    "hierarchy_plus = pd.Series(list(set(hierarchy_df['text']) - set(fortuna_df['text'])), name='hierarchy_plus')"
   ]
  },
  {
   "cell_type": "code",
   "execution_count": 26,
   "metadata": {},
   "outputs": [
    {
     "name": "stdout",
     "output_type": "stream",
     "text": [
      "\u001b[1m16\u001b[0m: Que é que admiro nos militantes nacionalistas?\n",
      "https://t.co/GbWIVGjtXg \n",
      "#PNR #RenovarPortugal #Nacionalismo\n",
      "\u001b[1m680\u001b[0m: @carolinaamatos @Fmsamendes @ReallySaraa volta para a tua terra \n",
      "\u001b[1m472\u001b[0m: \"até pouco tempo atrás\"  Que canalhice!!!!\n",
      "O retardado compara o Cristianismo da idade média com o islamismo de 201 _ https://t.co/6pcTiHG7G5\n",
      "\u001b[1m62\u001b[0m: RT @pedrinhu_tecix: Camiseta Porte de Armas \n",
      "Direito de Defesa É Garantia Constitucional \n",
      "https://t.co/fBxQEaiwEb https://t.co/717M0Tml4T\n",
      "\u001b[1m716\u001b[0m: RT @BolsonaroSP: PSDB votou contra a \"privatização\" da CEDAE. Isso não te contam né. Será mesmo que era um caso de privatizadores x estatiz _\n"
     ]
    }
   ],
   "source": [
    "xd.print_string_series(hierarchy_plus.sample(5))"
   ]
  },
  {
   "cell_type": "code",
   "execution_count": 29,
   "metadata": {},
   "outputs": [
    {
     "name": "stdout",
     "output_type": "stream",
     "text": [
      "\u001b[1m314\u001b[0m: Olha a canalhice na chamada! Como se a 'culpa' fosse da lei, e não dos criminosos! https://t.co/9XX51a28Tg\n",
      "\u001b[1m384\u001b[0m: 'até pouco tempo atrás'  Que canalhice!!!!\n",
      "O retardado compara o Cristianismo da idade média com o islamismo de 201 _ https://t.co/6pcTiHG7G5\n"
     ]
    }
   ],
   "source": [
    "xd.print_string_series(fortuna_plus.loc[fortuna_plus.str.contains('canalhice', case=False)])"
   ]
  },
  {
   "cell_type": "markdown",
   "metadata": {
    "jp-MarkdownHeadingCollapsed": true,
    "tags": []
   },
   "source": [
    "## Explorando dados do OffComBR"
   ]
  },
  {
   "cell_type": "markdown",
   "metadata": {},
   "source": [
    "Fonte: <https://github.com/rogersdepelle/OffComBR>"
   ]
  },
  {
   "cell_type": "code",
   "execution_count": 10,
   "metadata": {},
   "outputs": [],
   "source": [
    "import pandas as pd\n",
    "\n",
    "import xavy.explore as xe\n",
    "import xavy.dataframes as xd"
   ]
  },
  {
   "cell_type": "markdown",
   "metadata": {},
   "source": [
    "### Carregando os dados"
   ]
  },
  {
   "cell_type": "code",
   "execution_count": 8,
   "metadata": {},
   "outputs": [],
   "source": [
    "offcombr_df = pd.read_csv('../dados/brutos/OffComBR/OffComBR2.arff', skiprows=8, names=['label','text'], quotechar=\"'\")"
   ]
  },
  {
   "cell_type": "markdown",
   "metadata": {},
   "source": [
    "### Características básicas"
   ]
  },
  {
   "cell_type": "code",
   "execution_count": 13,
   "metadata": {},
   "outputs": [
    {
     "data": {
      "text/plain": [
       "1250"
      ]
     },
     "execution_count": 13,
     "metadata": {},
     "output_type": "execute_result"
    }
   ],
   "source": [
    "len(offcombr_df)"
   ]
  },
  {
   "cell_type": "code",
   "execution_count": 11,
   "metadata": {},
   "outputs": [
    {
     "name": "stdout",
     "output_type": "stream",
     "text": [
      "\u001b[1mColunas com valores faltantes:\u001b[0m\n",
      "Empty DataFrame\n",
      "Columns: [coluna, N, %]\n",
      "Index: []\n"
     ]
    }
   ],
   "source": [
    "xe.checkMissing(offcombr_df)"
   ]
  },
  {
   "cell_type": "code",
   "execution_count": 12,
   "metadata": {},
   "outputs": [
    {
     "name": "stdout",
     "output_type": "stream",
     "text": [
      "\n",
      "\u001b[1mlabel: \u001b[0m2 unique values.\n",
      "no,  yes\n",
      "\n",
      "\u001b[1mtext: \u001b[0m1243 unique values.\n",
      "\u001b[1m(sample) \u001b[0m acabou  a mordomia dos comunistas  vao trabalhar  fora seus corruptos,  A populacao esta tao  manipulada que so entendem dois lados  quando nao devemos ter lado nenhum Devemos lutar contra todos os que se locupletam com o nosso dinheiro  seja de que partido for,  CR ja ganhou a Copa America Nao Julio Baptista SIM  kkkkk  to aqui so pra zuar mesmo kkkk,  De tanto falarem em cheirinho perderam o olfato Rsrs,  E a roubalheira continua Esses sao profissionais,  Ela e da area juridica Hospitais sao da alcada do Ministerio da Saude simples assim,  Entrei so pra ler os comentarios dos peritos,  Esse boca mole tem cara de saco murcho,  Idiotao E quem e o sabidao,  Jhalim Rabei ate fiquei assustado comecei a ler seu comentario pensei que ele Connorlevava os meninos para tras da escola e dava a bunda para eles KKKKKKK,  Lugar de mulher e na pia fogao e cama,  Porque e menguinho so vcs que pensam e falam que e grande,  Quando ele abusar sua mae  Retardado,  So denuncia mais prender que e bom nada,  Todos ou voce duvidava dessa medida tao rapida do MPF,  VOCE E INGENUO OU UM PERFEITO IDIOTA ,  Vamos iniciar  levando porrada Essa molecada nao tem nem corpo Vao pipocar,  o investigador investiga isso vcefdpta,  o problema nem sao os salarios  O PROBLEMA sao as verbas eventuais  desembargador recebendo  MIL  e a justica e cega tem cara pedindo vista nao ta enxergando nadaou se faz de cego ne STF ,  sem mortadela a esquerdinha fica revoltadinha chega a dar do \n"
     ]
    }
   ],
   "source": [
    "xe.mapUnique(offcombr_df)"
   ]
  },
  {
   "cell_type": "code",
   "execution_count": 24,
   "metadata": {},
   "outputs": [
    {
     "data": {
      "text/plain": [
       "no     831\n",
       "yes    419\n",
       "Name: label, dtype: int64"
      ]
     },
     "execution_count": 24,
     "metadata": {},
     "output_type": "execute_result"
    }
   ],
   "source": [
    "offcombr_df['label'].value_counts()"
   ]
  },
  {
   "cell_type": "markdown",
   "metadata": {},
   "source": [
    "### Exemplos de classificação"
   ]
  },
  {
   "cell_type": "code",
   "execution_count": 29,
   "metadata": {},
   "outputs": [
    {
     "name": "stdout",
     "output_type": "stream",
     "text": [
      "\u001b[1m400\u001b[0m: Essa terrorista nao vai presa por ter roubado e atrasado um pais Que morra logo demonio\n",
      "\u001b[1m682\u001b[0m: Maria detected Vai BeijarumsacoW\n",
      "\u001b[1m1036\u001b[0m: treina num curral Voce viu o CT pronto doente\n",
      "\u001b[1m293\u001b[0m: Eu desempregado e esses esquerdopatas enchendo a mesa de caixinhas com bosta dentro\n",
      "\u001b[1m1241\u001b[0m: canta com se tivesse engolindo  litro de porra\n"
     ]
    }
   ],
   "source": [
    "# Textos com violência (tipicamente xingamentos):\n",
    "xd.print_string_series(offcombr_df.loc[offcombr_df['label'] == 'yes', 'text'].sample(5))"
   ]
  },
  {
   "cell_type": "code",
   "execution_count": 22,
   "metadata": {},
   "outputs": [
    {
     "name": "stdout",
     "output_type": "stream",
     "text": [
      "\u001b[1m124\u001b[0m: Cortar na carne do povo isso sim Pq os autos salarios e as mordomias nao entram no limite de pec da maldadefora temer\n",
      "\u001b[1m231\u001b[0m: Exercicio de logica elementar Se o PSDB que ganhou a maioria das cidades e foi o grande vencedor das eleicoes supostamenteb perdeu para os votos nulos imagina os vermelhos kkkkkk FORAM VARRIDOS Em SP entaoPrimeiro turno Um passeio\n",
      "\u001b[1m33\u001b[0m: Porque nao corta os gastos dos politicos\n",
      "\u001b[1m522\u001b[0m: Gosto delaNo STF e a unica que sabe o que diz e entende o que escuta\n",
      "\u001b[1m566\u001b[0m: O Brasil deve vencer mas vai ser um jogo dificil\n"
     ]
    }
   ],
   "source": [
    "# Textos sem violência:\n",
    "xd.print_string_series(offcombr_df.loc[offcombr_df['label'] == 'no', 'text'].sample(5))"
   ]
  },
  {
   "cell_type": "markdown",
   "metadata": {},
   "source": [
    "## Estimando a significância de um Fleiss's kappa"
   ]
  },
  {
   "cell_type": "code",
   "execution_count": 12,
   "metadata": {},
   "outputs": [],
   "source": [
    "import numpy as np\n",
    "import matplotlib.pyplot as pl\n",
    "\n",
    "import xavy.stats as xs\n",
    "import xavy.explore as xe"
   ]
  },
  {
   "cell_type": "markdown",
   "metadata": {},
   "source": [
    "### Classificação binária da Paula Fortuna"
   ]
  },
  {
   "cell_type": "code",
   "execution_count": 4,
   "metadata": {},
   "outputs": [
    {
     "name": "stdout",
     "output_type": "stream",
     "text": [
      "\u001b[1mColunas com valores faltantes:\u001b[0m\n",
      "          coluna    N     %\n",
      "4  hatespeech_G2  2.0  0.04\n"
     ]
    }
   ],
   "source": [
    "xe.checkMissing(fortuna_df)"
   ]
  },
  {
   "cell_type": "code",
   "execution_count": 5,
   "metadata": {},
   "outputs": [],
   "source": [
    "test_df = fortuna_df[['hatespeech_G1', 'hatespeech_G2', 'hatespeech_G3']].copy()\n",
    "test_df['hatespeech_G2'] = test_df['hatespeech_G2'].fillna(0).astype(int)"
   ]
  },
  {
   "cell_type": "code",
   "execution_count": 7,
   "metadata": {},
   "outputs": [
    {
     "data": {
      "text/plain": [
       "0.174914249592265"
      ]
     },
     "execution_count": 7,
     "metadata": {},
     "output_type": "execute_result"
    }
   ],
   "source": [
    "# Valor esperado é de 0.17:\n",
    "xs.fleiss_kappa(test_df.values, n_votes_per_class=False)"
   ]
  },
  {
   "cell_type": "code",
   "execution_count": 15,
   "metadata": {},
   "outputs": [
    {
     "data": {
      "image/png": "[encoded data removed]",
      "text/plain": [
       "<Figure size 432x288 with 1 Axes>"
      ]
     },
     "metadata": {
      "needs_background": "light"
     },
     "output_type": "display_data"
    }
   ],
   "source": [
    "# Criando amostras aleatórias uniformes:\n",
    "N_samples = 1000\n",
    "kappas = []\n",
    "for _ in range(N_samples):\n",
    "    X = np.random.randint(0, 2, (len(test_df), 3))\n",
    "    kappas.append(xs.fleiss_kappa(X, n_votes_per_class=False))\n",
    "\n",
    "# Histograma do Fleiss' Kappa:\n",
    "pl.hist(kappas, bins=20)\n",
    "pl.show()"
   ]
  },
  {
   "cell_type": "code",
   "execution_count": 17,
   "metadata": {},
   "outputs": [
    {
     "data": {
      "image/png": "[encoded data removed]",
      "text/plain": [
       "<Figure size 432x288 with 1 Axes>"
      ]
     },
     "metadata": {
      "needs_background": "light"
     },
     "output_type": "display_data"
    }
   ],
   "source": [
    "# Criando amostras embaralhadas:\n",
    "N_samples = 1000\n",
    "kappas = []\n",
    "for _ in range(N_samples):\n",
    "    random_df = pd.DataFrame()\n",
    "    random_df[1] = test_df['hatespeech_G1']\n",
    "    random_df[2] = xs.shuffle_data(test_df['hatespeech_G2'])\n",
    "    random_df[3] = xs.shuffle_data(test_df['hatespeech_G3'])\n",
    "    kappas.append(xs.fleiss_kappa(random_df.values, n_votes_per_class=False))\n",
    "    \n",
    "# Histograma do Fleiss' Kappa:\n",
    "pl.hist(kappas, bins=20)\n",
    "pl.show()"
   ]
  },
  {
   "cell_type": "code",
   "execution_count": null,
   "metadata": {},
   "outputs": [],
   "source": []
  },
  {
   "cell_type": "markdown",
   "metadata": {},
   "source": [
    "### Gerando votos aleatórios uniformes"
   ]
  },
  {
   "cell_type": "code",
   "execution_count": 11,
   "metadata": {},
   "outputs": [],
   "source": [
    "Na = 3 # Número de anotadores\n",
    "Nk = 2 # Númetro de classes\n",
    "Nn = 10 # Número de exemplos"
   ]
  },
  {
   "cell_type": "code",
   "execution_count": 12,
   "metadata": {},
   "outputs": [],
   "source": [
    "# Cada coluna é a classificação de um anotador.\n",
    "# Cada linha é uma instância.\n",
    "# Os valores são os índices da classe.\n",
    "annotation_matrix = np.random.randint(0, Nk, (Nn, Na))"
   ]
  },
  {
   "cell_type": "markdown",
   "metadata": {},
   "source": [
    "### Testando função Kappa"
   ]
  },
  {
   "cell_type": "code",
   "execution_count": 13,
   "metadata": {},
   "outputs": [
    {
     "data": {
      "text/plain": [
       "0.20993070442195522"
      ]
     },
     "execution_count": 13,
     "metadata": {},
     "output_type": "execute_result"
    }
   ],
   "source": [
    "# Resultado esperado, segundo a wikipedia (https://en.wikipedia.org/wiki/Fleiss%27_kappa): 0.210\n",
    "X_test = pd.read_csv('../dados/brutos/aux/fleiss_kappa_test_input.csv', names=list(range(1,6))).values\n",
    "xs.fleiss_kappa(X_test)"
   ]
  },
  {
   "cell_type": "code",
   "execution_count": null,
   "metadata": {},
   "outputs": [],
   "source": []
  }
 ],
 "metadata": {
  "kernelspec": {
   "display_name": "Python 3",
   "language": "python",
   "name": "python3"
  },
  "language_info": {
   "codemirror_mode": {
    "name": "ipython",
    "version": 3
   },
   "file_extension": ".py",
   "mimetype": "text/x-python",
   "name": "python",
   "nbconvert_exporter": "python",
   "pygments_lexer": "ipython3",
   "version": "3.8.10"
  }
 },
 "nbformat": 4,
 "nbformat_minor": 4
}
