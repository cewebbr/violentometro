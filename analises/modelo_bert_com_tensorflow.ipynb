{
 "cells": [
  {
   "cell_type": "markdown",
   "metadata": {},
   "source": [
    "# Criando modelo p/ discurso de ódio c/ BERT pré-treinado"
   ]
  },
  {
   "cell_type": "markdown",
   "metadata": {},
   "source": [
    "Vamos usar o modelo BERT pré-treinado (multilingual, p/ funcionar com o português) para classificar discursos de ódio. \n",
    "Na verdade, buscaremos reproduzir o código do Diogo Cortiz (que usa o pytorch), que reproduzimos [aqui](https://colab.research.google.com/drive/18YXlk-ZIlAymoOYn5nJQE16I3SsguUwq)."
   ]
  },
  {
   "cell_type": "code",
   "execution_count": 33,
   "metadata": {},
   "outputs": [],
   "source": [
    "import os\n",
    "import numpy as np\n",
    "import pandas as pd\n",
    "import tensorflow as tf\n",
    "import tensorflow_addons as tfa\n",
    "# Hugging Face:\n",
    "from transformers import pipeline, AutoTokenizer, TFAutoModelForSequenceClassification\n",
    "from datasets import load_dataset, Dataset\n",
    "from transformers import DefaultDataCollator"
   ]
  },
  {
   "cell_type": "markdown",
   "metadata": {},
   "source": [
    "## Funções"
   ]
  },
  {
   "cell_type": "code",
   "execution_count": 5,
   "metadata": {},
   "outputs": [],
   "source": [
    "###########################################\n",
    "### Splitting datasets into random sets ###\n",
    "###########################################\n",
    "\n",
    "def shuffled_pos(length, seed):\n",
    "    \"\"\"\n",
    "    Return indices from 0 to `length` - 1 in a shuffled state, given random `seed`.\n",
    "    \"\"\"\n",
    "    return np.random.RandomState(seed=seed).permutation(length)\n",
    "\n",
    "\n",
    "def random_index_sets(size, set_fracs, seed):\n",
    "    \"\"\"\n",
    "    Return sets of random indices (from 0 to `size` - 1) with lengths \n",
    "    given by ~ `size` * `set_fracs`.\n",
    "    \n",
    "    \n",
    "    Input\n",
    "    -----\n",
    "    \n",
    "    size : int\n",
    "        The size of the index list to split into sets.\n",
    "        \n",
    "    set_fracs : iterable\n",
    "        The fractions of the list of indices that each index set \n",
    "        should contain. \n",
    "    \n",
    "    seed : int\n",
    "        The seed for the random number generator.\n",
    "        \n",
    "        \n",
    "    Returns\n",
    "    -------\n",
    "    \n",
    "    indices : tuple of arrays\n",
    "        The indices for each set.\n",
    "    \"\"\"\n",
    "    \n",
    "    assert np.isclose(np.sum(set_fracs), 1), '`set_fracs` should add up to one.'\n",
    "    \n",
    "    # Create randomized list of indices:\n",
    "    shuffled_indices = shuffled_pos(size, seed)\n",
    "    \n",
    "    \n",
    "    indices   = []\n",
    "    set_start = [0]\n",
    "    # Determine the sizes of the sets:\n",
    "    set_sizes = [round(size * f) for f in set_fracs]\n",
    "    set_sizes[0] = size - sum(set_sizes[1:])\n",
    "    assert np.sum(set_sizes) == size, 'Set sizes should add up to total size.'\n",
    "    \n",
    "    for i in range(0, len(set_fracs) - 1):\n",
    "        # Select indices for a set:\n",
    "        set_start.append(set_start[i] + set_sizes[i])\n",
    "        set_indices = shuffled_indices[set_start[i]:set_start[i + 1]]\n",
    "        indices.append(set_indices)\n",
    "        assert len(indices[i]) == len(set(indices[i])), 'There are repeating indices in a set.'\n",
    "        \n",
    "    # Select the indices for the last set:\n",
    "    indices.append(shuffled_indices[set_start[-1]:])\n",
    "    assert len(set(np.concatenate(indices))) == sum([len(i) for i in indices]), \\\n",
    "    'There are common indices between sets.'\n",
    "    \n",
    "    return tuple(indices)\n",
    "\n",
    "\n",
    "def random_set_split(df, set_fracs, seed):\n",
    "    \"\"\"\n",
    "    Split a DataFrame into randomly selected disjoint and complete sets.\n",
    "    \n",
    "    \n",
    "    Input\n",
    "    -----\n",
    "    \n",
    "    df : Pandas DataFrame\n",
    "        The dataframe to split into a complete and disjoint set of sub-sets.\n",
    "        \n",
    "    set_fracs : array-like\n",
    "        The fraction of `df` that should be put into each set. The length of \n",
    "        `set_fracs` determines the number of sub-sets to create.\n",
    "    \n",
    "    seed : int\n",
    "        The seed for the random number generator used to split `df`.\n",
    "        \n",
    "    \n",
    "    Returns\n",
    "    -------\n",
    "    \n",
    "    A tuple of DataFrames, one for each fraction in `set_fracs`, in that order.\n",
    "    \"\"\"\n",
    "    # Get positional indices for each set:\n",
    "    sets_idx = random_index_sets(len(df), set_fracs, seed)\n",
    "    \n",
    "    return tuple(df.iloc[idx] for idx in sets_idx)\n"
   ]
  },
  {
   "cell_type": "code",
   "execution_count": 79,
   "metadata": {},
   "outputs": [],
   "source": [
    "def process_pandas_to_tfdataset(df, tokenizer, max_length=80, shuffle=True, text_col='text', target_col='label', batch_size=8):\n",
    "    \"\"\"\n",
    "    Prepare NLP data in a Pandas DataFrame to be used \n",
    "    in a TensorFlow transformer model.\n",
    "    \n",
    "    Parameters\n",
    "    ----------\n",
    "    df : DataFrame\n",
    "        The corpus, containing the columns `text_col` \n",
    "        (the sentences) and `target_col` (the labels).\n",
    "    tokenizer : HuggingFace AutoTokenizer\n",
    "        A tokenizer loaded from \n",
    "        `transformers.AutoTokenizer.from_pretrained()`.\n",
    "    max_length : int\n",
    "        Maximum length of the sentences (smaller \n",
    "        sentences will be padded and longer ones\n",
    "        will be truncated). This is required for \n",
    "        training, so batches have instances of the\n",
    "        same shape.\n",
    "    shuffle : bool\n",
    "        Shuffle the dataset order when loading. \n",
    "        Recommended True for training, False for \n",
    "        validation/evaluation.\n",
    "    text_col : str\n",
    "        Name of `df` column containing the sentences.\n",
    "    target_col : str\n",
    "        Name of `df` column containing the labels of \n",
    "        the sentences.\n",
    "    batch_size : int\n",
    "        The size of the batch in the output \n",
    "        tensorflow dataset.\n",
    "        \n",
    "    Returns\n",
    "    -------\n",
    "    tf_dataset : TF dataset\n",
    "        A dataset that can be fed into a transformer \n",
    "        model.\n",
    "    \"\"\"\n",
    "    \n",
    "    # Security checks:\n",
    "    renamed_df = df.rename({target_col:'labels'}, axis=1) # Hugging Face requer esse nome p/ y.\n",
    "    \n",
    "    # Define função para processar os dados com o tokenizador:\n",
    "    def tokenize_function(examples):\n",
    "        return tokenizer(examples[text_col], padding=True, max_length=max_length, truncation=True)\n",
    "    \n",
    "    # pandas -> hugging face:\n",
    "    hugging_set = Dataset.from_pandas(renamed_df)\n",
    "    # texto -> sequência de IDs: \n",
    "    encoded_set = hugging_set.map(tokenize_function, batched=True)\n",
    "    # hugging face -> tensorflow dataset:\n",
    "    data_collator = DefaultDataCollator(return_tensors=\"tf\")\n",
    "    tf_dataset = encoded_set.to_tf_dataset(columns=[\"attention_mask\", \"input_ids\", \"token_type_ids\"], label_cols=[\"labels\"], shuffle=shuffle, collate_fn=data_collator, batch_size=batch_size)\n",
    "    \n",
    "    return tf_dataset"
   ]
  },
  {
   "cell_type": "code",
   "execution_count": 34,
   "metadata": {},
   "outputs": [],
   "source": [
    "def gen_tensorboard_callback(root_dir, run_name):\n",
    "    \"\"\"\n",
    "    Return a tensorboard callback with log dir given \n",
    "    by `root_dir` + `run_name`. It avoids logging \n",
    "    to a pre-existing log inadvertently. \n",
    "    \"\"\"\n",
    "    \n",
    "    # Root dir should exist. Check it:\n",
    "    if os.path.isdir(root_dir) == False:\n",
    "        raise Exception(\"`root_dir` {} is unknown.\".format(root_dir))\n",
    "    \n",
    "    # Build path to log:\n",
    "    fullpath = os.path.join(root_dir, run_name)\n",
    "    \n",
    "    # Check if log already exists:\n",
    "    already_exists = os.path.isdir(fullpath)\n",
    "    if already_exists:\n",
    "        \n",
    "        # If exists, ask if it sohuld continue:\n",
    "        go_on = input(\"Run log '{}' already exists. Continue (y/n)?\".format(run_name))\n",
    "        if go_on == 'y' or go_on == 'Y':\n",
    "            return tf.keras.callbacks.TensorBoard(fullpath)\n",
    "       \n",
    "        else:\n",
    "            raise Exception('Abort so not to mess with tensorboard log.')\n",
    "    \n",
    "    else:\n",
    "        return tf.keras.callbacks.TensorBoard(fullpath)"
   ]
  },
  {
   "cell_type": "code",
   "execution_count": 73,
   "metadata": {},
   "outputs": [],
   "source": [
    "def predict_proba(model, tf_dataset):\n",
    "    \"\"\"\n",
    "    Use the provided model to compute the\n",
    "    probability that each instance is \n",
    "    in the positive class (1 in a binary \n",
    "    classification).\n",
    "\n",
    "    Parameters\n",
    "    ----------\n",
    "    model : TFBertForSequenceClassification\n",
    "        A Hugging Face implementation of a \n",
    "        Tensorflow transformer model.\n",
    "    tf_dataset : Tensorflow Dataset\n",
    "        The data for which to make predictions.\n",
    "    \n",
    "    Returns\n",
    "    -------\n",
    "    probs : array\n",
    "        Probability that the corresponding \n",
    "        instance falls in the positive class\n",
    "        (y = 1).\n",
    "    \"\"\"\n",
    "\n",
    "    tf_predict = model.predict(tf_dataset).logits\n",
    "    probs = tf.sigmoid(tf_predict)[:,0].numpy()\n",
    "    \n",
    "    return probs\n",
    "\n",
    "\n",
    "def predict_class(model, tf_dataset, threshold=0.5):\n",
    "    \"\"\"\n",
    "    Use the provided model to predict\n",
    "    the class of each instance.\n",
    "\n",
    "    Parameters\n",
    "    ----------\n",
    "    model : TFBertForSequenceClassification\n",
    "        A Hugging Face implementation of a \n",
    "        Tensorflow transformer model.\n",
    "    tf_dataset : Tensorflow Dataset\n",
    "        The data for which to make predictions.\n",
    "    \n",
    "    Returns\n",
    "    -------\n",
    "    preds : array\n",
    "        Predicted class for the corresponding\n",
    "        instances.\n",
    "    \"\"\"\n",
    "\n",
    "    probs = predict_proba(model, tf_dataset)\n",
    "    preds = (probs > threshold).astype(int)\n",
    "\n",
    "    return preds"
   ]
  },
  {
   "cell_type": "markdown",
   "metadata": {},
   "source": [
    "## Carregando o BERTimbau"
   ]
  },
  {
   "cell_type": "code",
   "execution_count": 31,
   "metadata": {},
   "outputs": [
    {
     "name": "stderr",
     "output_type": "stream",
     "text": [
      "All model checkpoint layers were used when initializing TFBertForSequenceClassification.\n",
      "\n",
      "Some layers of TFBertForSequenceClassification were not initialized from the model checkpoint at neuralmind/bert-base-portuguese-cased and are newly initialized: ['classifier', 'bert/pooler/dense/bias:0', 'bert/pooler/dense/kernel:0']\n",
      "You should probably TRAIN this model on a down-stream task to be able to use it for predictions and inference.\n"
     ]
    }
   ],
   "source": [
    "# Define o modelo em questão:\n",
    "model_name = 'neuralmind/bert-base-portuguese-cased'\n",
    "# Carregando:\n",
    "tokenizer  = AutoTokenizer.from_pretrained(model_name, do_lower_case=False)\n",
    "model      = TFAutoModelForSequenceClassification.from_pretrained(model_name, num_labels=1)"
   ]
  },
  {
   "cell_type": "markdown",
   "metadata": {},
   "source": [
    "## Carregando os dados"
   ]
  },
  {
   "cell_type": "markdown",
   "metadata": {},
   "source": [
    "Fonte: Juntamos os dados de Fortuna e Pelle (veja o notebook do modelo baseline)."
   ]
  },
  {
   "cell_type": "code",
   "execution_count": 77,
   "metadata": {},
   "outputs": [],
   "source": [
    "# Carrega os dados:\n",
    "mass_df = pd.read_csv('../dados/processados/hatespeech_fortuna3+offcombr2.csv')"
   ]
  },
  {
   "cell_type": "code",
   "execution_count": 78,
   "metadata": {},
   "outputs": [],
   "source": [
    "# Separa os dados em amostras:\n",
    "train_df, val_df, test_df = random_set_split(mass_df, [0.7, 0.15, 0.15], 1323)"
   ]
  },
  {
   "cell_type": "code",
   "execution_count": 80,
   "metadata": {},
   "outputs": [
    {
     "name": "stderr",
     "output_type": "stream",
     "text": [
      "100%|████████████████████████████████████████████████████████████████████████████████████████████████████████████████████████████████████████████████████████████████████████| 4/4 [00:00<00:00, 15.06ba/s]\n",
      "100%|████████████████████████████████████████████████████████████████████████████████████████████████████████████████████████████████████████████████████████████████████████| 1/1 [00:00<00:00, 16.04ba/s]\n",
      "100%|████████████████████████████████████████████████████████████████████████████████████████████████████████████████████████████████████████████████████████████████████████| 1/1 [00:00<00:00, 17.96ba/s]\n"
     ]
    }
   ],
   "source": [
    "# Tokeniza os textos e os coloca no formato do Tensorflow Dataset:\n",
    "train_tfd = process_pandas_to_tfdataset(train_df, tokenizer, shuffle=True)\n",
    "val_tfd   = process_pandas_to_tfdataset(val_df, tokenizer, shuffle=False)\n",
    "test_tfd  = process_pandas_to_tfdataset(test_df, tokenizer, shuffle=False)"
   ]
  },
  {
   "cell_type": "markdown",
   "metadata": {},
   "source": [
    "## Treinando o modelo"
   ]
  },
  {
   "cell_type": "code",
   "execution_count": 53,
   "metadata": {},
   "outputs": [
    {
     "name": "stdout",
     "output_type": "stream",
     "text": [
      "Model: \"tf_bert_for_sequence_classification_1\"\n",
      "_________________________________________________________________\n",
      " Layer (type)                Output Shape              Param #   \n",
      "=================================================================\n",
      " bert (TFBertMainLayer)      multiple                  108923136 \n",
      "                                                                 \n",
      " dropout_75 (Dropout)        multiple                  0         \n",
      "                                                                 \n",
      " classifier (Dense)          multiple                  769       \n",
      "                                                                 \n",
      "=================================================================\n",
      "Total params: 108,923,905\n",
      "Trainable params: 769\n",
      "Non-trainable params: 108,923,136\n",
      "_________________________________________________________________\n"
     ]
    }
   ],
   "source": [
    "# Parâmetros do treinamento:\n",
    "optimizer  = tf.keras.optimizers.Adam(learning_rate=1e-3)\n",
    "model_loss = tf.keras.losses.BinaryCrossentropy(from_logits=True) # O Hugging Face não coloca uma função de ativação na última camada, por isso usaremos 'logits'.\n",
    "acc_metric = tf.keras.metrics.Accuracy()\n",
    "f1_metric  = tfa.metrics.F1Score(num_classes=2)\n",
    "metrics = ['accuracy']\n",
    "# Preparando o modelo com o BERT congelado:\n",
    "model.get_layer('bert').trainable = False\n",
    "model.compile(optimizer, model_loss, metrics)\n",
    "model.summary()"
   ]
  },
  {
   "cell_type": "code",
   "execution_count": 55,
   "metadata": {},
   "outputs": [],
   "source": [
    "# Monitoramento com o Tensorboard \n",
    "# tensorboard --logdir=tensor_logs/\n",
    "board = gen_tensorboard_callback('tensor_logs/', 'first_try')"
   ]
  },
  {
   "cell_type": "code",
   "execution_count": null,
   "metadata": {},
   "outputs": [],
   "source": [
    "# Ajustando o modelo:\n",
    "model.fit(train_tfd, initial_epoch=0, epochs=3, steps_per_epoch=50, validation_data=val_tfd, callbacks=[board])"
   ]
  },
  {
   "cell_type": "markdown",
   "metadata": {},
   "source": [
    "Daqui em diante, utilizamos o Colab: <https://colab.research.google.com/drive/15MYQdJ8paNyh_OLuEP3W8tg9dMpoWLnb#scrollTo=AwspzRwmFbVX>"
   ]
  },
  {
   "cell_type": "markdown",
   "metadata": {},
   "source": [
    "## Testando um modelo treinado no colab"
   ]
  },
  {
   "cell_type": "code",
   "execution_count": 75,
   "metadata": {},
   "outputs": [],
   "source": [
    "from sklearn.metrics import accuracy_score, f1_score, precision_score, recall_score"
   ]
  },
  {
   "cell_type": "code",
   "execution_count": 72,
   "metadata": {},
   "outputs": [
    {
     "name": "stderr",
     "output_type": "stream",
     "text": [
      "Some layers from the model checkpoint at ../modelos/bertimbau-hatespeech-v01 were not used when initializing TFBertForSequenceClassification: ['dropout_151']\n",
      "- This IS expected if you are initializing TFBertForSequenceClassification from the checkpoint of a model trained on another task or with another architecture (e.g. initializing a BertForSequenceClassification model from a BertForPreTraining model).\n",
      "- This IS NOT expected if you are initializing TFBertForSequenceClassification from the checkpoint of a model that you expect to be exactly identical (initializing a BertForSequenceClassification model from a BertForSequenceClassification model).\n",
      "All the layers of TFBertForSequenceClassification were initialized from the model checkpoint at ../modelos/bertimbau-hatespeech-v01.\n",
      "If your task is similar to the task the model of the checkpoint was trained on, you can already use TFBertForSequenceClassification for predictions without further training.\n"
     ]
    }
   ],
   "source": [
    "# Carrega o modelo:\n",
    "saved_model = TFAutoModelForSequenceClassification.from_pretrained('../modelos/bertimbau-hatespeech-v01')"
   ]
  },
  {
   "cell_type": "code",
   "execution_count": 81,
   "metadata": {},
   "outputs": [
    {
     "name": "stdout",
     "output_type": "stream",
     "text": [
      "106/106 [==============================] - 83s 784ms/step\n"
     ]
    }
   ],
   "source": [
    "# Realiza as previsões:\n",
    "y_test_pred = predict_class(saved_model, test_tfd)"
   ]
  },
  {
   "cell_type": "code",
   "execution_count": 82,
   "metadata": {},
   "outputs": [
    {
     "name": "stdout",
     "output_type": "stream",
     "text": [
      "acc: 0.903\n",
      "f1: 0.602\n",
      "prec: 0.705\n",
      "rec: 0.525\n"
     ]
    }
   ],
   "source": [
    "# Metrics:\n",
    "y_true, y_pred = test_df['label'], y_test_pred\n",
    "for name, scorer in {'acc': accuracy_score, 'f1': f1_score, 'prec': precision_score, 'rec': recall_score}.items():\n",
    "    s = scorer(y_true, y_pred)\n",
    "    print('{}: {:.3f}'.format(name, s))"
   ]
  },
  {
   "cell_type": "markdown",
   "metadata": {},
   "source": [
    "## Criando uma função de previsão:"
   ]
  },
  {
   "cell_type": "code",
   "execution_count": 86,
   "metadata": {},
   "outputs": [],
   "source": [
    "sampled_df = test_df.sample(5)"
   ]
  },
  {
   "cell_type": "code",
   "execution_count": 90,
   "metadata": {},
   "outputs": [],
   "source": [
    "input_texts = list(sampled_df['text'])"
   ]
  },
  {
   "cell_type": "code",
   "execution_count": 99,
   "metadata": {},
   "outputs": [],
   "source": [
    "def rate_speech_for_hate(model, tokenizer, texts):\n",
    "    \n",
    "    input_df  = pd.DataFrame({'text': texts, 'label': [1] * len(texts)})\n",
    "    input_tfd = process_pandas_to_tfdataset(input_df, tokenizer, shuffle=False)\n",
    "\n",
    "    probs = predict_proba(model, input_tfd)\n",
    "    \n",
    "    return probs"
   ]
  },
  {
   "cell_type": "code",
   "execution_count": 97,
   "metadata": {},
   "outputs": [
    {
     "data": {
      "text/html": [
       "<div>\n",
       "<style scoped>\n",
       "    .dataframe tbody tr th:only-of-type {\n",
       "        vertical-align: middle;\n",
       "    }\n",
       "\n",
       "    .dataframe tbody tr th {\n",
       "        vertical-align: top;\n",
       "    }\n",
       "\n",
       "    .dataframe thead th {\n",
       "        text-align: right;\n",
       "    }\n",
       "</style>\n",
       "<table border=\"1\" class=\"dataframe\">\n",
       "  <thead>\n",
       "    <tr style=\"text-align: right;\">\n",
       "      <th></th>\n",
       "      <th>label</th>\n",
       "      <th>text</th>\n",
       "    </tr>\n",
       "  </thead>\n",
       "  <tbody>\n",
       "    <tr>\n",
       "      <th>1309</th>\n",
       "      <td>1</td>\n",
       "      <td>Fascistas machistas mimimi mimimi https://t.co...</td>\n",
       "    </tr>\n",
       "    <tr>\n",
       "      <th>1857</th>\n",
       "      <td>0</td>\n",
       "      <td>Liberdade e direitos das mulheres não podem se...</td>\n",
       "    </tr>\n",
       "    <tr>\n",
       "      <th>5585</th>\n",
       "      <td>1</td>\n",
       "      <td>As Florzinhas ficaram chateadas KKKKKKKKKKKKKK...</td>\n",
       "    </tr>\n",
       "    <tr>\n",
       "      <th>214</th>\n",
       "      <td>0</td>\n",
       "      <td>#AlexandraParkClub\\nEste paraíso apenas 40min ...</td>\n",
       "    </tr>\n",
       "    <tr>\n",
       "      <th>2281</th>\n",
       "      <td>0</td>\n",
       "      <td>no capitalismo eu posso pegar pokemon e aí htt...</td>\n",
       "    </tr>\n",
       "  </tbody>\n",
       "</table>\n",
       "</div>"
      ],
      "text/plain": [
       "      label                                               text\n",
       "1309      1  Fascistas machistas mimimi mimimi https://t.co...\n",
       "1857      0  Liberdade e direitos das mulheres não podem se...\n",
       "5585      1  As Florzinhas ficaram chateadas KKKKKKKKKKKKKK...\n",
       "214       0  #AlexandraParkClub\\nEste paraíso apenas 40min ...\n",
       "2281      0  no capitalismo eu posso pegar pokemon e aí htt..."
      ]
     },
     "execution_count": 97,
     "metadata": {},
     "output_type": "execute_result"
    }
   ],
   "source": [
    "sampled_df"
   ]
  },
  {
   "cell_type": "code",
   "execution_count": null,
   "metadata": {},
   "outputs": [],
   "source": []
  }
 ],
 "metadata": {
  "kernelspec": {
   "display_name": "Python 3",
   "language": "python",
   "name": "python3"
  },
  "language_info": {
   "codemirror_mode": {
    "name": "ipython",
    "version": 3
   },
   "file_extension": ".py",
   "mimetype": "text/x-python",
   "name": "python",
   "nbconvert_exporter": "python",
   "pygments_lexer": "ipython3",
   "version": "3.8.10"
  }
 },
 "nbformat": 4,
 "nbformat_minor": 4
}
