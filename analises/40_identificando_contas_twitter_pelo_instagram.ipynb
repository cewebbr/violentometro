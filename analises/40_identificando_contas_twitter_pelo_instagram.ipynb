{
 "cells": [
  {
   "cell_type": "markdown",
   "id": "f53aeac0-8346-4525-8390-f784669fe2ed",
   "metadata": {},
   "source": [
    "# Acrescentando perfis de deputados concorrendo à reeleição"
   ]
  },
  {
   "cell_type": "markdown",
   "id": "764c730c-7754-44f7-8958-450e5eb7ec81",
   "metadata": {},
   "source": [
    "[Voltar ao Índice](00_indice.ipynb)\n",
    "\n",
    "Percebemos que muitos candidatos possuem perfis no twitter mas não os declaram ao TSE. \n",
    "Por outro lado, é bem mais comum eles declararem perfis no Instagram. Em vários casos, os nomes dos perfis são iguais. \n",
    "Portanto, adotamos a estratégia de verificar se o nome do Instagram também existe no twitter, e utilizar um modelo de\n",
    "machine learning para selecionar aqueles mais prováveis de realmente corresponder ao candidato (i.e. evitar homônimos).\n"
   ]
  },
  {
   "cell_type": "code",
   "execution_count": 53,
   "id": "4f012002-de98-49c7-bc9d-ef5e2377bd1e",
   "metadata": {},
   "outputs": [],
   "source": [
    "import pandas as pd\n",
    "\n",
    "import xavy.twitter as tw\n",
    "import xavy.explore as xe\n",
    "import xavy.dataframes as xd"
   ]
  },
  {
   "cell_type": "markdown",
   "id": "054d839c-5530-413b-a5ef-e962ce168778",
   "metadata": {
    "tags": []
   },
   "source": [
    "## Funções"
   ]
  },
  {
   "cell_type": "code",
   "execution_count": 10,
   "id": "da96003f-d762-4f13-acde-629d74a2a056",
   "metadata": {},
   "outputs": [],
   "source": [
    "def request_twitter_user_info(df, username_col='twitter_username', cand_id_col='SQ_CANDIDATO', requests_per_window=900):\n",
    "    \"\"\"\n",
    "    Collect twitter user info using Twitter\n",
    "    API v.1.1.\n",
    "    \n",
    "    Parameters\n",
    "    ----------\n",
    "    df : DataFrame\n",
    "        Table containing the twitter username \n",
    "        and a candidate identifier (e.g. \n",
    "        'SQ_CANDIDATO').\n",
    "    username_col : str\n",
    "        Name of the column containing the \n",
    "        twitter usernames.\n",
    "    cand_id_col : str\n",
    "        Column identifying the candidate.\n",
    "    requests_per_window : int\n",
    "        Maximum number of requests allowed\n",
    "        by the API in a 15-minute window.\n",
    "    \n",
    "    Returns\n",
    "    -------\n",
    "    response_df : DataFrame\n",
    "        DataFrame with all the information\n",
    "        provided by the API, for each \n",
    "        username found, along with the \n",
    "        associated candidate ID.\n",
    "    \"\"\"\n",
    "    \n",
    "    # Look for twitter IDs with API:\n",
    "    w_username = df[username_col].dropna().drop_duplicates()\n",
    "    response = tw.lookup(w_username, requests_per_window=requests_per_window)\n",
    "    \n",
    "    # Build DataFrame with responses:\n",
    "    response_df = pd.DataFrame(response['data'])\n",
    "    \n",
    "    # Expand dict Series (nested data):\n",
    "    for col in response_df.columns:\n",
    "        if type(response_df[col].iloc[0]) is dict:\n",
    "            nested_df = pd.DataFrame(list(response_df[col]), index=response_df.index)\n",
    "            response_df = response_df.join(nested_df)\n",
    "            response_df.drop(col, axis=1, inplace=True)\n",
    "    \n",
    "    return response_df"
   ]
  },
  {
   "cell_type": "markdown",
   "id": "ffb9b505-fa8b-4d07-9d57-cc9442564f02",
   "metadata": {
    "tags": []
   },
   "source": [
    "## Juntando IDs"
   ]
  },
  {
   "cell_type": "code",
   "execution_count": 2,
   "id": "b30a09b7-f430-457a-9f9d-a114afd318fe",
   "metadata": {},
   "outputs": [],
   "source": [
    "# Carregando os dados:\n",
    "perfis_df = pd.read_csv('../dados/processados/perfis_twitter_deputados_reeleicao2022_LagomData.csv')\n",
    "perfis_df['lowercase'] = perfis_df['Twitter'].str.lower()"
   ]
  },
  {
   "cell_type": "markdown",
   "id": "70ff276b-5de2-4ece-977b-7171a3c0ff93",
   "metadata": {
    "jp-MarkdownHeadingCollapsed": true,
    "tags": []
   },
   "source": [
    "### Explorando tabela de perfis"
   ]
  },
  {
   "cell_type": "code",
   "execution_count": 26,
   "id": "5f7de3e9-76ee-40ee-bdbc-16240cefab23",
   "metadata": {},
   "outputs": [
    {
     "name": "stdout",
     "output_type": "stream",
     "text": [
      "\u001b[1mColunas com valores faltantes:\u001b[0m\n",
      "      coluna    N     %\n",
      "7  na arroba  1.0  0.24\n",
      "8     na bio  1.0  0.24\n",
      "9  na imagem  1.0  0.24\n"
     ]
    }
   ],
   "source": [
    "xe.checkMissing(perfis_df)"
   ]
  },
  {
   "cell_type": "code",
   "execution_count": 27,
   "id": "a7753519-56c6-4318-80d4-5ff7bab7e458",
   "metadata": {},
   "outputs": [
    {
     "data": {
      "text/html": [
       "<div>\n",
       "<style scoped>\n",
       "    .dataframe tbody tr th:only-of-type {\n",
       "        vertical-align: middle;\n",
       "    }\n",
       "\n",
       "    .dataframe tbody tr th {\n",
       "        vertical-align: top;\n",
       "    }\n",
       "\n",
       "    .dataframe thead th {\n",
       "        text-align: right;\n",
       "    }\n",
       "</style>\n",
       "<table border=\"1\" class=\"dataframe\">\n",
       "  <thead>\n",
       "    <tr style=\"text-align: right;\">\n",
       "      <th></th>\n",
       "      <th>SQ_CANDIDATO</th>\n",
       "      <th>NM_CANDIDATO</th>\n",
       "      <th>NM_URNA_CANDIDATO</th>\n",
       "      <th>SG_PARTIDO</th>\n",
       "      <th>SG_UE</th>\n",
       "      <th>Twitter</th>\n",
       "      <th>quantas vezes identifica partido</th>\n",
       "      <th>na arroba</th>\n",
       "      <th>na bio</th>\n",
       "      <th>na imagem</th>\n",
       "      <th>filiação</th>\n",
       "      <th>lowercase</th>\n",
       "    </tr>\n",
       "  </thead>\n",
       "  <tbody>\n",
       "    <tr>\n",
       "      <th>18</th>\n",
       "      <td>200001603652</td>\n",
       "      <td>NATÁLIA BASTOS BONAVIDES</td>\n",
       "      <td>NATÁLIA BONAVIDES</td>\n",
       "      <td>PT</td>\n",
       "      <td>RN</td>\n",
       "      <td>natbonavides</td>\n",
       "      <td>2</td>\n",
       "      <td>n</td>\n",
       "      <td>s</td>\n",
       "      <td>s</td>\n",
       "      <td>Mesmo partido de 2018</td>\n",
       "      <td>natbonavides</td>\n",
       "    </tr>\n",
       "    <tr>\n",
       "      <th>114</th>\n",
       "      <td>200001603652</td>\n",
       "      <td>NATÁLIA BASTOS BONAVIDES</td>\n",
       "      <td>NATÁLIA BONAVIDES</td>\n",
       "      <td>PT</td>\n",
       "      <td>RN</td>\n",
       "      <td>natbonavides</td>\n",
       "      <td>1</td>\n",
       "      <td>n</td>\n",
       "      <td>s</td>\n",
       "      <td>n</td>\n",
       "      <td>Mesmo partido de 2018</td>\n",
       "      <td>natbonavides</td>\n",
       "    </tr>\n",
       "    <tr>\n",
       "      <th>65</th>\n",
       "      <td>220001604140</td>\n",
       "      <td>LUCIO ANTONIO MOSQUINI</td>\n",
       "      <td>LUCIO MOSQUINI</td>\n",
       "      <td>MDB</td>\n",
       "      <td>RO</td>\n",
       "      <td>luciomosquini</td>\n",
       "      <td>0</td>\n",
       "      <td>n</td>\n",
       "      <td>n</td>\n",
       "      <td>n</td>\n",
       "      <td>Mesmo partido de 2018</td>\n",
       "      <td>luciomosquini</td>\n",
       "    </tr>\n",
       "    <tr>\n",
       "      <th>108</th>\n",
       "      <td>220001604140</td>\n",
       "      <td>LUCIO ANTONIO MOSQUINI</td>\n",
       "      <td>LUCIO MOSQUINI</td>\n",
       "      <td>MDB</td>\n",
       "      <td>RO</td>\n",
       "      <td>luciomosquini</td>\n",
       "      <td>0</td>\n",
       "      <td>n</td>\n",
       "      <td>n</td>\n",
       "      <td>n</td>\n",
       "      <td>Mesmo partido de 2018</td>\n",
       "      <td>luciomosquini</td>\n",
       "    </tr>\n",
       "    <tr>\n",
       "      <th>19</th>\n",
       "      <td>180001601221</td>\n",
       "      <td>JOSÉ FRANCISCO PAES LANDIM</td>\n",
       "      <td>PAES LANDIM</td>\n",
       "      <td>UNIÃO</td>\n",
       "      <td>PI</td>\n",
       "      <td>PaesLandim4</td>\n",
       "      <td>0</td>\n",
       "      <td>n</td>\n",
       "      <td>n</td>\n",
       "      <td>n</td>\n",
       "      <td>Informou que pulou a janela depois de maio</td>\n",
       "      <td>paeslandim4</td>\n",
       "    </tr>\n",
       "    <tr>\n",
       "      <th>101</th>\n",
       "      <td>180001601221</td>\n",
       "      <td>JOSÉ FRANCISCO PAES LANDIM</td>\n",
       "      <td>PAES LANDIM</td>\n",
       "      <td>UNIÃO</td>\n",
       "      <td>PI</td>\n",
       "      <td>PaesLandim4</td>\n",
       "      <td>0</td>\n",
       "      <td>n</td>\n",
       "      <td>n</td>\n",
       "      <td>n</td>\n",
       "      <td>Informou que pulou a janela depois de maio</td>\n",
       "      <td>paeslandim4</td>\n",
       "    </tr>\n",
       "  </tbody>\n",
       "</table>\n",
       "</div>"
      ],
      "text/plain": [
       "     SQ_CANDIDATO                NM_CANDIDATO  NM_URNA_CANDIDATO SG_PARTIDO  \\\n",
       "18   200001603652    NATÁLIA BASTOS BONAVIDES  NATÁLIA BONAVIDES         PT   \n",
       "114  200001603652    NATÁLIA BASTOS BONAVIDES  NATÁLIA BONAVIDES         PT   \n",
       "65   220001604140      LUCIO ANTONIO MOSQUINI     LUCIO MOSQUINI        MDB   \n",
       "108  220001604140      LUCIO ANTONIO MOSQUINI     LUCIO MOSQUINI        MDB   \n",
       "19   180001601221  JOSÉ FRANCISCO PAES LANDIM        PAES LANDIM      UNIÃO   \n",
       "101  180001601221  JOSÉ FRANCISCO PAES LANDIM        PAES LANDIM      UNIÃO   \n",
       "\n",
       "    SG_UE        Twitter  quantas vezes identifica partido na arroba na bio  \\\n",
       "18     RN   natbonavides                                 2         n      s   \n",
       "114    RN   natbonavides                                 1         n      s   \n",
       "65     RO  luciomosquini                                 0         n      n   \n",
       "108    RO  luciomosquini                                 0         n      n   \n",
       "19     PI    PaesLandim4                                 0         n      n   \n",
       "101    PI    PaesLandim4                                 0         n      n   \n",
       "\n",
       "    na imagem                                    filiação      lowercase  \n",
       "18          s                       Mesmo partido de 2018   natbonavides  \n",
       "114         n                       Mesmo partido de 2018   natbonavides  \n",
       "65          n                       Mesmo partido de 2018  luciomosquini  \n",
       "108         n                       Mesmo partido de 2018  luciomosquini  \n",
       "19          n  Informou que pulou a janela depois de maio    paeslandim4  \n",
       "101         n  Informou que pulou a janela depois de maio    paeslandim4  "
      ]
     },
     "execution_count": 27,
     "metadata": {},
     "output_type": "execute_result"
    }
   ],
   "source": [
    "xe.find_double_entries(perfis_df, 'Twitter')"
   ]
  },
  {
   "cell_type": "code",
   "execution_count": 28,
   "id": "17387002-561f-4158-9efe-1ea2758996d8",
   "metadata": {},
   "outputs": [
    {
     "data": {
      "text/html": [
       "<div>\n",
       "<style scoped>\n",
       "    .dataframe tbody tr th:only-of-type {\n",
       "        vertical-align: middle;\n",
       "    }\n",
       "\n",
       "    .dataframe tbody tr th {\n",
       "        vertical-align: top;\n",
       "    }\n",
       "\n",
       "    .dataframe thead th {\n",
       "        text-align: right;\n",
       "    }\n",
       "</style>\n",
       "<table border=\"1\" class=\"dataframe\">\n",
       "  <thead>\n",
       "    <tr style=\"text-align: right;\">\n",
       "      <th></th>\n",
       "      <th>SQ_CANDIDATO</th>\n",
       "      <th>NM_CANDIDATO</th>\n",
       "      <th>NM_URNA_CANDIDATO</th>\n",
       "      <th>SG_PARTIDO</th>\n",
       "      <th>SG_UE</th>\n",
       "      <th>Twitter</th>\n",
       "      <th>quantas vezes identifica partido</th>\n",
       "      <th>na arroba</th>\n",
       "      <th>na bio</th>\n",
       "      <th>na imagem</th>\n",
       "      <th>filiação</th>\n",
       "      <th>lowercase</th>\n",
       "    </tr>\n",
       "  </thead>\n",
       "  <tbody>\n",
       "    <tr>\n",
       "      <th>65</th>\n",
       "      <td>220001604140</td>\n",
       "      <td>LUCIO ANTONIO MOSQUINI</td>\n",
       "      <td>LUCIO MOSQUINI</td>\n",
       "      <td>MDB</td>\n",
       "      <td>RO</td>\n",
       "      <td>luciomosquini</td>\n",
       "      <td>0</td>\n",
       "      <td>n</td>\n",
       "      <td>n</td>\n",
       "      <td>n</td>\n",
       "      <td>Mesmo partido de 2018</td>\n",
       "      <td>luciomosquini</td>\n",
       "    </tr>\n",
       "    <tr>\n",
       "      <th>108</th>\n",
       "      <td>220001604140</td>\n",
       "      <td>LUCIO ANTONIO MOSQUINI</td>\n",
       "      <td>LUCIO MOSQUINI</td>\n",
       "      <td>MDB</td>\n",
       "      <td>RO</td>\n",
       "      <td>luciomosquini</td>\n",
       "      <td>0</td>\n",
       "      <td>n</td>\n",
       "      <td>n</td>\n",
       "      <td>n</td>\n",
       "      <td>Mesmo partido de 2018</td>\n",
       "      <td>luciomosquini</td>\n",
       "    </tr>\n",
       "    <tr>\n",
       "      <th>18</th>\n",
       "      <td>200001603652</td>\n",
       "      <td>NATÁLIA BASTOS BONAVIDES</td>\n",
       "      <td>NATÁLIA BONAVIDES</td>\n",
       "      <td>PT</td>\n",
       "      <td>RN</td>\n",
       "      <td>natbonavides</td>\n",
       "      <td>2</td>\n",
       "      <td>n</td>\n",
       "      <td>s</td>\n",
       "      <td>s</td>\n",
       "      <td>Mesmo partido de 2018</td>\n",
       "      <td>natbonavides</td>\n",
       "    </tr>\n",
       "    <tr>\n",
       "      <th>114</th>\n",
       "      <td>200001603652</td>\n",
       "      <td>NATÁLIA BASTOS BONAVIDES</td>\n",
       "      <td>NATÁLIA BONAVIDES</td>\n",
       "      <td>PT</td>\n",
       "      <td>RN</td>\n",
       "      <td>natbonavides</td>\n",
       "      <td>1</td>\n",
       "      <td>n</td>\n",
       "      <td>s</td>\n",
       "      <td>n</td>\n",
       "      <td>Mesmo partido de 2018</td>\n",
       "      <td>natbonavides</td>\n",
       "    </tr>\n",
       "    <tr>\n",
       "      <th>19</th>\n",
       "      <td>180001601221</td>\n",
       "      <td>JOSÉ FRANCISCO PAES LANDIM</td>\n",
       "      <td>PAES LANDIM</td>\n",
       "      <td>UNIÃO</td>\n",
       "      <td>PI</td>\n",
       "      <td>PaesLandim4</td>\n",
       "      <td>0</td>\n",
       "      <td>n</td>\n",
       "      <td>n</td>\n",
       "      <td>n</td>\n",
       "      <td>Informou que pulou a janela depois de maio</td>\n",
       "      <td>paeslandim4</td>\n",
       "    </tr>\n",
       "    <tr>\n",
       "      <th>101</th>\n",
       "      <td>180001601221</td>\n",
       "      <td>JOSÉ FRANCISCO PAES LANDIM</td>\n",
       "      <td>PAES LANDIM</td>\n",
       "      <td>UNIÃO</td>\n",
       "      <td>PI</td>\n",
       "      <td>PaesLandim4</td>\n",
       "      <td>0</td>\n",
       "      <td>n</td>\n",
       "      <td>n</td>\n",
       "      <td>n</td>\n",
       "      <td>Informou que pulou a janela depois de maio</td>\n",
       "      <td>paeslandim4</td>\n",
       "    </tr>\n",
       "  </tbody>\n",
       "</table>\n",
       "</div>"
      ],
      "text/plain": [
       "     SQ_CANDIDATO                NM_CANDIDATO  NM_URNA_CANDIDATO SG_PARTIDO  \\\n",
       "65   220001604140      LUCIO ANTONIO MOSQUINI     LUCIO MOSQUINI        MDB   \n",
       "108  220001604140      LUCIO ANTONIO MOSQUINI     LUCIO MOSQUINI        MDB   \n",
       "18   200001603652    NATÁLIA BASTOS BONAVIDES  NATÁLIA BONAVIDES         PT   \n",
       "114  200001603652    NATÁLIA BASTOS BONAVIDES  NATÁLIA BONAVIDES         PT   \n",
       "19   180001601221  JOSÉ FRANCISCO PAES LANDIM        PAES LANDIM      UNIÃO   \n",
       "101  180001601221  JOSÉ FRANCISCO PAES LANDIM        PAES LANDIM      UNIÃO   \n",
       "\n",
       "    SG_UE        Twitter  quantas vezes identifica partido na arroba na bio  \\\n",
       "65     RO  luciomosquini                                 0         n      n   \n",
       "108    RO  luciomosquini                                 0         n      n   \n",
       "18     RN   natbonavides                                 2         n      s   \n",
       "114    RN   natbonavides                                 1         n      s   \n",
       "19     PI    PaesLandim4                                 0         n      n   \n",
       "101    PI    PaesLandim4                                 0         n      n   \n",
       "\n",
       "    na imagem                                    filiação      lowercase  \n",
       "65          n                       Mesmo partido de 2018  luciomosquini  \n",
       "108         n                       Mesmo partido de 2018  luciomosquini  \n",
       "18          s                       Mesmo partido de 2018   natbonavides  \n",
       "114         n                       Mesmo partido de 2018   natbonavides  \n",
       "19          n  Informou que pulou a janela depois de maio    paeslandim4  \n",
       "101         n  Informou que pulou a janela depois de maio    paeslandim4  "
      ]
     },
     "execution_count": 28,
     "metadata": {},
     "output_type": "execute_result"
    }
   ],
   "source": [
    "xe.find_double_entries(perfis_df, 'SQ_CANDIDATO')"
   ]
  },
  {
   "cell_type": "code",
   "execution_count": 31,
   "id": "7ca01406-e076-40e6-bb64-dc6b61a3908e",
   "metadata": {},
   "outputs": [
    {
     "data": {
      "text/plain": [
       "Series([], Name: lowercase, dtype: object)"
      ]
     },
     "execution_count": 31,
     "metadata": {},
     "output_type": "execute_result"
    }
   ],
   "source": [
    "xe.one2oneViolations(perfis_df, 'SQ_CANDIDATO', 'lowercase')"
   ]
  },
  {
   "cell_type": "code",
   "execution_count": 32,
   "id": "e67f20c6-865b-41c3-a586-2db300661846",
   "metadata": {},
   "outputs": [
    {
     "data": {
      "text/plain": [
       "Series([], Name: SQ_CANDIDATO, dtype: object)"
      ]
     },
     "execution_count": 32,
     "metadata": {},
     "output_type": "execute_result"
    }
   ],
   "source": [
    "xe.one2oneViolations(perfis_df, 'lowercase', 'SQ_CANDIDATO')"
   ]
  },
  {
   "cell_type": "markdown",
   "id": "11f2b9ba-ca23-4af7-8450-f6bd3d72b295",
   "metadata": {},
   "source": [
    "### Coletando IDs"
   ]
  },
  {
   "cell_type": "code",
   "execution_count": 15,
   "id": "8715d9eb-f7b6-4a13-bffd-d76a29d5ac8a",
   "metadata": {},
   "outputs": [],
   "source": [
    "# Coletando IDs:\n",
    "x1 = request_twitter_user_info(perfis_df, 'lowercase')\n",
    "x1['lowercase'] = x1['username'].str.lower()"
   ]
  },
  {
   "cell_type": "code",
   "execution_count": 21,
   "id": "33b1cb82-6ae5-423f-89a4-966b8a6d7e2e",
   "metadata": {},
   "outputs": [],
   "source": [
    "# Juntando com dados originais:\n",
    "final_df = perfis_df.join(x1.set_index('lowercase'), on='lowercase')\n",
    "final_df['id'] = final_df['id'].astype(str)"
   ]
  },
  {
   "cell_type": "code",
   "execution_count": 22,
   "id": "9b3c6ddf-19a0-4219-886c-4f2a845d5aea",
   "metadata": {},
   "outputs": [],
   "source": [
    "# Exportando os dados:\n",
    "\n",
    "#final_df.to_csv('../dados/processados/perfis_twitter_deputados_reeleicao2022_LagomData+IDsCeweb.csv', index=False)"
   ]
  },
  {
   "cell_type": "markdown",
   "id": "f4952548-3a38-45f0-a65c-852841d3af1f",
   "metadata": {
    "jp-MarkdownHeadingCollapsed": true,
    "tags": []
   },
   "source": [
    "#### Deputados que deram erro na captura (hard-coded)"
   ]
  },
  {
   "cell_type": "code",
   "execution_count": 10,
   "id": "0cfce0d3-033d-4ce9-8d74-915b59dde5c5",
   "metadata": {},
   "outputs": [
    {
     "data": {
      "text/plain": [
       "[{'value': 'dep_ledasadala',\n",
       "  'detail': 'Could not find user with usernames: [dep_ledasadala].',\n",
       "  'title': 'Not Found Error',\n",
       "  'resource_type': 'user',\n",
       "  'parameter': 'usernames',\n",
       "  'resource_id': 'dep_ledasadala',\n",
       "  'type': 'https://api.twitter.com/2/problems/resource-not-found'},\n",
       " {'value': 'cassio_40',\n",
       "  'detail': 'Could not find user with usernames: [cassio_40].',\n",
       "  'title': 'Not Found Error',\n",
       "  'resource_type': 'user',\n",
       "  'parameter': 'usernames',\n",
       "  'resource_id': 'cassio_40',\n",
       "  'type': 'https://api.twitter.com/2/problems/resource-not-found'}]"
      ]
     },
     "execution_count": 10,
     "metadata": {},
     "output_type": "execute_result"
    }
   ],
   "source": [
    "#response['errors']"
   ]
  },
  {
   "cell_type": "markdown",
   "id": "a20a2970-aa0c-4aa1-8d6b-fec8719c8e8b",
   "metadata": {
    "jp-MarkdownHeadingCollapsed": true,
    "tags": []
   },
   "source": [
    "## Juntando com o que já tenho"
   ]
  },
  {
   "cell_type": "code",
   "execution_count": 51,
   "id": "41aee943-62fb-4f90-82e0-5043a8b7c7ae",
   "metadata": {},
   "outputs": [],
   "source": [
    "cand22_df = pd.read_csv('../dados/limpos/consulta_cand/consulta_cand_2022_BRASIL.csv', low_memory=False)"
   ]
  },
  {
   "cell_type": "code",
   "execution_count": 25,
   "id": "9e8f24a1-50d6-4d82-8117-bd056d9600f1",
   "metadata": {},
   "outputs": [],
   "source": [
    "twitter_ids_df = pd.read_csv('../dados/processados/twitter+insta_ids_deputados_2022.csv')"
   ]
  },
  {
   "cell_type": "code",
   "execution_count": 84,
   "id": "20f80acd-e43a-444c-bada-171a9362acbc",
   "metadata": {},
   "outputs": [],
   "source": [
    "# Cria tabela com novos dados:\n",
    "new_ids = set(final_df['id'].astype(str)) - set(twitter_ids_df['id'].astype(str))\n",
    "final_sel_cols = ['SQ_CANDIDATO', 'name', 'protected', 'username', 'description', 'id', 'verified', 'created_at', 'withheld', 'followers_count', 'following_count', 'tweet_count', 'listed_count']\n",
    "new_ids_df = final_df.loc[final_df['id'].isin(new_ids)].drop_duplicates(subset=['SQ_CANDIDATO', 'id'])[final_sel_cols].copy()\n",
    "new_ids_df['source'] = 'lagom'\n",
    "new_ids_df['sample_weight'] = 1.0\n",
    "new_ids_df['lower_name'] = new_ids_df['username'].str.lower()\n",
    "new_ids_df['DS_URL'] = 'https://www.twitter.com/' + new_ids_df['username']\n",
    "new_ids_df = new_ids_df.dropna(subset=['username'])"
   ]
  },
  {
   "cell_type": "code",
   "execution_count": 86,
   "id": "7ac6aa45-623f-466d-aa52-72167547de87",
   "metadata": {},
   "outputs": [],
   "source": [
    "# Junta com informações do candidato:\n",
    "joined_df = new_ids_df.join(cand22_df.set_index('SQ_CANDIDATO'), on='SQ_CANDIDATO')\n",
    "joined_df = joined_df[twitter_ids_df.columns]"
   ]
  },
  {
   "cell_type": "code",
   "execution_count": 154,
   "id": "e6be3edd-c5ff-4d7d-87d0-54506c0e32b5",
   "metadata": {},
   "outputs": [],
   "source": [
    "# Concatena com o que já tinha:\n",
    "concat_df = pd.concat([twitter_ids_df, joined_df], ignore_index=True)\n",
    "# Remove perfis errados/withelds:\n",
    "concat_df['id'] = concat_df['id'].astype(int)\n",
    "manual_id_drop = {36971658, 195931773, 186201239, 186201239, 41056416, 277536738, 1281590900834078720, 330770436, 1907851698}\n",
    "concat_df = concat_df.loc[~concat_df['id'].isin(manual_id_drop)]"
   ]
  },
  {
   "cell_type": "code",
   "execution_count": 157,
   "id": "298828b1-2610-4f6a-b9e9-3bc289bb524f",
   "metadata": {},
   "outputs": [
    {
     "data": {
      "text/plain": [
       "1.0"
      ]
     },
     "execution_count": 157,
     "metadata": {},
     "output_type": "execute_result"
    }
   ],
   "source": [
    "tot_w = concat_df.groupby('SQ_CANDIDATO')['sample_weight'].sum().sort_values()\n",
    "tot_w.max()"
   ]
  },
  {
   "cell_type": "markdown",
   "id": "c070afe8-4d7b-43b2-a005-170f26b7056f",
   "metadata": {
    "tags": []
   },
   "source": [
    "### Verificando perfis do insta"
   ]
  },
  {
   "cell_type": "code",
   "execution_count": 160,
   "id": "052abfbf-6b3b-42d4-9d6e-21c3478f3978",
   "metadata": {},
   "outputs": [],
   "source": [
    "insta_df = concat_df.loc[concat_df['source'] == 'instagram'].copy()"
   ]
  },
  {
   "cell_type": "code",
   "execution_count": 168,
   "id": "2fd98a8b-e84e-48ed-b36d-eb9e7521ab8b",
   "metadata": {},
   "outputs": [
    {
     "name": "stdout",
     "output_type": "stream",
     "text": [
      "\u001b[1m150001621585 / 18274541: WELLINGTON SOUSA (REDE-PB)\u001b[0m: https://www.twitter.com/wellingtonsousa https://instagram.com/wellingtonsousa\n",
      "\u001b[1m190001603398 / 347165805: KARLA DE LUCAS DOS BICHINHOS (PSD-RJ)\u001b[0m: https://www.twitter.com/KarladeLucas https://www.instagram.com/karladelucas/\n",
      "\u001b[1m130001607379 / 365161938: EDSON SORÓ (PT-MG)\u001b[0m: https://www.twitter.com/EdsonSoro https://www.instagram.com/edsonsoro/\n",
      "\u001b[1m170001620395 / 166412470: DIOGO MORAES (PSB-PE)\u001b[0m: https://www.twitter.com/DiogoMoraesPSB https://www.instagram.com/diogomoraespsb/\n",
      "\u001b[1m110001612759 / 1149131923652063232: NELSON BARBUDO (PL-MT)\u001b[0m: https://www.twitter.com/nelsonbarbudo https://www.instagram.com/nelsonbarbudo/\n",
      "\u001b[1m60001633795 / 43147601: JACK LIMA (PL-CE)\u001b[0m: https://www.twitter.com/Jack_lima https://www.instagram.com/jack_lima/\n",
      "\u001b[1m190001613875 / 109569750: LUIS BIBÃO (PMN-RJ)\u001b[0m: https://www.twitter.com/luisbibao https://instagram.com/luisbibao?igshid=YmMyMTA2M2Y=\n",
      "\u001b[1m250001610293 / 132394985: WANESSA BOMFIM  (PODE-SP)\u001b[0m: https://www.twitter.com/wanessabomfim https://www.instagram.com/accounts/login/?next=/wanessabomfim/\n",
      "\u001b[1m160001612411 / 46493878: MATEUS CORDEIRO MALUF (CIDADANIA-PR)\u001b[0m: https://www.twitter.com/mateusmaluf https://www.instagram.com/mateusmaluf/\n",
      "\u001b[1m250001604838 / 3063469756: ITALO LORENZON (PTB-SP)\u001b[0m: https://www.twitter.com/LorenzonItalo https://www.instagram.com/lorenzonitalo/\n",
      "\u001b[1m170001609288 / 3133561904: DIEGO KETRINI  (UNIÃO-PE)\u001b[0m: https://www.twitter.com/diegoketriri https://www.instagram.com/diegoketriri/\n",
      "\u001b[1m250001643672 / 80053657: PAULO ZEMUNER (PDT-SP)\u001b[0m: https://www.twitter.com/paulozemuner https://www.instagram.com/paulozemuner\n",
      "\u001b[1m50001615786 / 145314853: XEXEU BEIJA FLOR (PATRIOTA-BA)\u001b[0m: https://www.twitter.com/Xexeu_Oficial https://instagram.com/xexeu_oficial?igshid=YmMyMTA2M2Y=\n",
      "\u001b[1m60001608893 / 163980704: DANILO FORTE (UNIÃO-CE)\u001b[0m: https://www.twitter.com/DepDaniloForte https://www.instagram.com/depdaniloforte/\n",
      "\u001b[1m60001633783 / 1013463109728653313: MATHEUS LINARD (PODE-CE)\u001b[0m: https://www.twitter.com/matheuslinardd https://www.instagram.com/matheuslinardd/\n",
      "\u001b[1m210001647153 / 26935955: BORTOLA (PP-RS)\u001b[0m: https://www.twitter.com/bortola http://www.instagram.com/@bortola\n",
      "\u001b[1m30001604007 / 151386223: JESUS PONTES (PDT-AP)\u001b[0m: https://www.twitter.com/jesus_pontes_ https://instagram.com/jesus_pontes_?igshid=YmMyMTA2M2Y=\n",
      "\u001b[1m110001604402 / 1353728316210106370: PROF DR KAPITANGO (PODE-MT)\u001b[0m: https://www.twitter.com/kapitangoasamba https://www.instagram.com/kapitangoasamba/\n",
      "\u001b[1m40001618478 / 1514990428550012930: BOSQUINHO POETA (UNIÃO-AM)\u001b[0m: https://www.twitter.com/BosquinhoPoeta https://www.instagram.com/bosquinhopoeta/\n",
      "\u001b[1m20001653888 / 4352619976: RAFAEL BRITO (TIO RAFA) (MDB-AL)\u001b[0m: https://www.twitter.com/rafaelbrito1510 https://www.instagram.com/rafaelbrito1510/\n",
      "\u001b[1m220001713754 / 1000235708752199685: AFFONSO CANDIDO (PL-RO)\u001b[0m: https://www.twitter.com/AffonsoCandido https://www.instagram.com/affonsocandido\n",
      "\u001b[1m120001606660 / 1257358927118958596: JEAN FERREIRA (PDT-MS)\u001b[0m: https://www.twitter.com/jeanferreirams https://www.instagram.com/jeanferreirams/\n",
      "\u001b[1m130001634078 / 188804690: DRA. ARIADNA (REPUBLICANOS-MG)\u001b[0m: https://www.twitter.com/draariadna https://instagram.com/draariadna?igshid=YmMyMTA2M2Y=\n",
      "\u001b[1m70001654554 / 181177124: ADRIANO MARROCOS (PSD-DF)\u001b[0m: https://www.twitter.com/Adrianomarrocos https://instagram.com/adrianomarrocos\n",
      "\u001b[1m200001608804 / 1052979735255547906: LEONARDO REGO (UNIÃO-RN)\u001b[0m: https://www.twitter.com/leonardonrego https://instagram.com/leonardonrego\n",
      "\u001b[1m50001600783 / 1451289163995680772: ABILIO SANTANA (PSC-BA)\u001b[0m: https://www.twitter.com/AbilioSantanna http://www.instagram.com/abiliosantanna\n",
      "\u001b[1m120001609608 / 10683772: LUCAS SANTOS (UNIÃO-MS)\u001b[0m: https://www.twitter.com/lucassantos https://www.instagram.com/lucassantos\n",
      "\u001b[1m230001610929 / 41141649: CIDA MEDEIROS (PT-RR)\u001b[0m: https://www.twitter.com/maamedeiros https://www.instagram.com/maamedeiros/\n",
      "\u001b[1m240001620990 / 1176302733051224065: FABIO DALONSO (PATRIOTA-SC)\u001b[0m: https://www.twitter.com/DalonsoFabio https://www.instagram.com/dalonsofabio/\n",
      "\u001b[1m120001615767 / 724323901359181824: RAISSA LOPES (PODE-MS)\u001b[0m: https://www.twitter.com/raissalopesms https://www.instagram.com/raissalopesms/\n",
      "\u001b[1m250001611956 / 94943878: EDICARLOS VIEIRA (PP-SP)\u001b[0m: https://www.twitter.com/EdicarlosVieira https://instagram.com/edicarlosvieira?igshid=YmMyMTA2M2Y=\n",
      "\u001b[1m90001651350 / 126184601: ZÉ ANTONIO (REPUBLICANOS-GO)\u001b[0m: https://www.twitter.com/zeantoniogo https://www.instagram.com/zeantoniogo\n",
      "\u001b[1m150001621582 / 65361736: RONALDO LUCENA (REDE-PB)\u001b[0m: https://www.twitter.com/ronaldolucena https://instagram.com/ronaldolucena\n",
      "\u001b[1m70001666850 / 427046619: PASTORA NOEME (PTB-DF)\u001b[0m: https://www.twitter.com/NoemeOliveira https://www.instagram.com/noemeoliveira/\n",
      "\u001b[1m120001615740 / 83133802: ROBERTO PATZLAFF (DC-MS)\u001b[0m: https://www.twitter.com/RobertoPatzlaff https://www.instagram.com/robertopatzlaff\n",
      "\u001b[1m190001649620 / 2765949971: CORNEL FIDALGO (PATRIOTA-RJ)\u001b[0m: https://www.twitter.com/coronelfidalgo https://instagram.com/@coronelfidalgo\n",
      "\u001b[1m50001619864 / 715890732528222208: ALEX SANTANA (REPUBLICANOS-BA)\u001b[0m: https://www.twitter.com/depalexsantana https://instagran.com/depalexsantana?igshid=YmMyMTA2M2y\n",
      "\u001b[1m220001643479 / 137134217: SID ORLEANS (PT-RO)\u001b[0m: https://www.twitter.com/sidorleans https://www.instagram.com/sidorleans/\n",
      "\u001b[1m160001723035 / 1549660665610125312: EDILENE PAIXÃO (PTB-PR)\u001b[0m: https://www.twitter.com/edipaixao__ https://instagram.com/edipaixao__?igshid=YmMyMTA2M2Y=\n",
      "\u001b[1m130001634030 / 709095821: CHARLES SANTOS (REPUBLICANOS-MG)\u001b[0m: https://www.twitter.com/charlessantosmg https://www.instagram.com/charlessantosmg/\n",
      "\u001b[1m70001615873 / 1527060157494136840: FLORIANO AGORA (PL-DF)\u001b[0m: https://www.twitter.com/florianoagora https://www.instagram.com/florianoagora/\n",
      "\u001b[1m150001621655 / 91246481: CELIO ALVES (PSB-PB)\u001b[0m: https://www.twitter.com/celioalvespb https://www.instagram.com/celioalvespb/\n",
      "\u001b[1m190001638588 / 5746372: PROF GILMAR CARNEIRO (PATRIOTA-RJ)\u001b[0m: https://www.twitter.com/prof https://instagram.com/@profºgilmarcarneirooficial\n",
      "\u001b[1m250001602048 / 1494658207: KIM KATAGUIRI (UNIÃO-SP)\u001b[0m: https://www.twitter.com/KimKataguiri https://www.instagram.com/kimkataguiri\n",
      "\u001b[1m150001621564 / 516824885: JÚNIOR HOLMES (REDE-PB)\u001b[0m: https://www.twitter.com/JuniorHolmes https://instagram.com/juniorholmes\n",
      "\u001b[1m170001619589 / 1317251842552848385: DÉBORA PRETAS JUNTAS (REDE-PE)\u001b[0m: https://www.twitter.com/pretasjuntas https://www.instagram.com/pretasjuntas/\n",
      "\u001b[1m220001604136 / 37145285: SANDRA SANTOS (MDB-RO)\u001b[0m: https://www.twitter.com/sandrasantospvh https://www.instagram.com/sandrasantospvh/\n",
      "\u001b[1m190001596782 / 149632280: RENAN MARASSI (PL-RJ)\u001b[0m: https://www.twitter.com/Renan_Marassi https://www.instagram.com/renan_marassi/?hl=pt\n",
      "\u001b[1m210001696161 / 1403013940406325255: GIO KRUG (PSD-RS)\u001b[0m: https://www.twitter.com/Giokrug https://www.instagram.com/@giokrug\n",
      "\u001b[1m240001612499 / 39337571: JENS MANTAU (PSDB-SC)\u001b[0m: https://www.twitter.com/jensmantau https://instagram.com/jensmantau?igshid=YmMyMTA2M2Y=\n"
     ]
    }
   ],
   "source": [
    "insta_df['label'] = insta_df['SQ_CANDIDATO'].astype(str) + ' / ' + insta_df['id'].astype(str) + ': ' + insta_df['NM_URNA_CANDIDATO'] + ' (' + insta_df['SG_PARTIDO'] + '-' + insta_df['SG_UF'] + ')'\n",
    "insta_df['url'] = 'https://www.twitter.com/' + insta_df['username'] + ' ' + insta_df['DS_URL']\n",
    "xd.print_string_series(insta_df.set_index('label')['url'].sample(50, random_state=569))"
   ]
  },
  {
   "cell_type": "markdown",
   "id": "244513f9-d8fe-480f-ba39-d0299e85213d",
   "metadata": {},
   "source": [
    "### Exportando"
   ]
  },
  {
   "cell_type": "code",
   "execution_count": 176,
   "id": "71c88347-851e-4b5e-a43c-b78870f626f1",
   "metadata": {},
   "outputs": [],
   "source": [
    "# Encontramos 11 errados dentre 50: 78% +/- 5%.\n",
    "bad_insta = {18274541, 347165805, 43147601, 132394985, 188804690, 10683772, 41141649, 65361736, 427046619, 5746372, 516824885}\n",
    "concat_clean_df = concat_df.loc[~concat_df['id'].isin(bad_insta)]"
   ]
  },
  {
   "cell_type": "code",
   "execution_count": 186,
   "id": "5aa84629-2b20-4076-91e8-ba074a4a173c",
   "metadata": {},
   "outputs": [
    {
     "data": {
      "text/plain": [
       "3474"
      ]
     },
     "execution_count": 186,
     "metadata": {},
     "output_type": "execute_result"
    }
   ],
   "source": [
    "len(concat_clean_df)"
   ]
  },
  {
   "cell_type": "code",
   "execution_count": 185,
   "id": "89baf238-10c9-451e-9433-706a651b14c6",
   "metadata": {},
   "outputs": [],
   "source": [
    "#concat_clean_df.to_csv('../dados/processados/twitter+insta+lagom_ids_deputados_2022.csv', index=False)"
   ]
  },
  {
   "cell_type": "markdown",
   "id": "43e3ce3b-48d9-498e-a16a-7b11e7035353",
   "metadata": {
    "tags": []
   },
   "source": [
    "# Usando usuários do instagram para achar contas no twitter"
   ]
  },
  {
   "cell_type": "code",
   "execution_count": 18,
   "id": "f3ecf688-3939-4cdf-b3e1-a1a07408c2d0",
   "metadata": {},
   "outputs": [],
   "source": [
    "import pandas as pd\n",
    "from glob import glob\n",
    "import re\n",
    "from pathlib import Path\n",
    "\n",
    "import xavy.twitter as tw\n",
    "from xavy.dataframes import print_string_series\n",
    "import xavy.explore as xe"
   ]
  },
  {
   "cell_type": "markdown",
   "id": "0f5a20a6-2d70-480a-9d08-7c3c4bfda792",
   "metadata": {},
   "source": [
    "## Funções"
   ]
  },
  {
   "cell_type": "code",
   "execution_count": 19,
   "id": "f8f26c1a-d3fb-421d-912e-481e5a323d43",
   "metadata": {},
   "outputs": [],
   "source": [
    "def extract_twitter_username(series, lower=True):\n",
    "    \"\"\"\n",
    "    Given a Series that contains the URL \n",
    "    or the username of twitter accounts,\n",
    "    extract the username.\n",
    "    \n",
    "    If `lower` is True, return lower case\n",
    "    username (Twitter usernames are not \n",
    "    case-sensitive).\n",
    "    \n",
    "    Returns a series with same index as \n",
    "    the input. NaN is returned when no\n",
    "    unsername is found.\n",
    "    \"\"\"\n",
    "    \n",
    "    #cleaned = series\n",
    "    cleaned  = series.str.replace(r'https?:/+(?:www\\.)?twitter\\.com/https?:/*', 'https://', regex=True)\n",
    "    cleaned  = cleaned.str.replace(r'https?:/+(?:www\\.)?twitter\\.com/www.twitter.com*', 'https://www.twitter.com', regex=True)\n",
    "    cleaned  = cleaned.str.replace(r'www\\.twitter/', 'www.twitter.com/', regex=True)\n",
    "    username =  cleaned.str.extract('(?:(?:t[uw]{1,}[ei]{1,}t{1,}w?e{1,}r?|tweet)\\.com(?:\\.br)?/+[@:]?|@)(\\w+)', flags=re.IGNORECASE)[0]\n",
    "    if lower is True:\n",
    "        username = username.str.lower()\n",
    "    \n",
    "    return username"
   ]
  },
  {
   "cell_type": "code",
   "execution_count": 52,
   "id": "55f283f0-689a-485f-90bc-ea6454e819d7",
   "metadata": {},
   "outputs": [],
   "source": [
    "def extract_instagram_username(series, lower=True):\n",
    "    \"\"\"\n",
    "    Given a Series that contains the URL \n",
    "    or the username of twitter accounts,\n",
    "    extract the username.\n",
    "    \n",
    "    If `lower` is True, return lower case\n",
    "    username (Twitter usernames are not \n",
    "    case-sensitive).\n",
    "    \n",
    "    Returns a series with same index as \n",
    "    the input. NaN is returned when no\n",
    "    unsername is found.\n",
    "    \"\"\"\n",
    "    \n",
    "    cleaned  = series\n",
    "    cleaned  = cleaned.str.replace(r'https?:/+(?:www\\.)?instagram\\.com/https?:/*', 'https://', regex=True)\n",
    "    cleaned  = cleaned.str.replace('/accounts/login/?next=/', '/', regex=False)\n",
    "    cleaned  = cleaned.str.replace('/accounts/', '/', regex=False)\n",
    "    cleaned  = cleaned.str.replace('/stories/', '/', regex=False, case=False)\n",
    "    username = cleaned.str.extract(r'(?:[ei][mn]?a?sa?t[sr]?a?[nr]?[qg][rl]e?[am][mn]?|in?s?tragr?[ea][nm]?|is?na?tagra[nm]?|instar?[gr]am)(?:.com)?/?:?@?([a-zA-Z0-9\\._]{1,30})', flags=re.IGNORECASE)[0]\n",
    "    if lower is True:\n",
    "        username = username.str.lower()\n",
    "    \n",
    "    return username"
   ]
  },
  {
   "cell_type": "code",
   "execution_count": 21,
   "id": "b9c641bb-7eba-4052-8201-5ead66a4cd50",
   "metadata": {},
   "outputs": [],
   "source": [
    "def request_twitter_user_info(df, username_col='twitter_username', cand_id_col='SQ_CANDIDATO', requests_per_window=900):\n",
    "    \"\"\"\n",
    "    Collect twitter user info using Twitter\n",
    "    API v.1.1.\n",
    "    \n",
    "    Parameters\n",
    "    ----------\n",
    "    df : DataFrame\n",
    "        Table containing the twitter username \n",
    "        and a candidate identifier (e.g. \n",
    "        'SQ_CANDIDATO').\n",
    "    username_col : str\n",
    "        Name of the column containing the \n",
    "        twitter usernames.\n",
    "    cand_id_col : str\n",
    "        Column identifying the candidate.\n",
    "    requests_per_window : int\n",
    "        Maximum number of requests allowed\n",
    "        by the API in a 15-minute window.\n",
    "    \n",
    "    Returns\n",
    "    -------\n",
    "    response_df : DataFrame\n",
    "        DataFrame with all the information\n",
    "        provided by the API, for each \n",
    "        username found, along with the \n",
    "        associated candidate ID.\n",
    "    \"\"\"\n",
    "    \n",
    "    # Select unique usernames:\n",
    "    w_username = df[username_col].dropna().drop_duplicates()\n",
    "    # Filter out invalid usernames:\n",
    "    w_username = w_username.loc[w_username.str.contains('^[A-Za-z0-9_]{1,15}$')]\n",
    "    \n",
    "    # Look for twitter IDs with API:\n",
    "    response = tw.lookup(w_username, requests_per_window=requests_per_window)\n",
    "    # Build DataFrame with responses:\n",
    "    response_df = pd.DataFrame(response['data'])\n",
    "    \n",
    "    # Join SQ_CANDIDATO and other TSE info to twitter data:\n",
    "    response_df['lower_name'] = response_df['username'].str.lower()\n",
    "    cand_ids = df.set_index(username_col)\n",
    "    cand_ids[cand_id_col] = cand_ids[cand_id_col].astype(str)\n",
    "    response_df = response_df.join(cand_ids, on='lower_name')\n",
    "    \n",
    "    # Expand dict Series (nested data containing users metrics):\n",
    "    for col in response_df.columns:\n",
    "        if type(response_df[col].iloc[0]) is dict:\n",
    "            nested_df = pd.DataFrame(list(response_df[col]), index=response_df.index)\n",
    "            response_df = response_df.join(nested_df)\n",
    "            response_df.drop(col, axis=1, inplace=True)\n",
    "    \n",
    "    return response_df"
   ]
  },
  {
   "cell_type": "code",
   "execution_count": 22,
   "id": "63230167-9776-439d-a3e5-8f505d33f442",
   "metadata": {},
   "outputs": [],
   "source": [
    "def build_user_df(redes_df, rede, extract_user):\n",
    "    \n",
    "    # Seleciona rede e urls:\n",
    "    user_df = redes_df.loc[redes_df[rede] == 1][['SQ_CANDIDATO', 'DS_URL']]\n",
    "    user_df.rename({'DS_URL':'{}_url'.format(rede)}, axis=1, inplace=True)\n",
    "    # Extrai usuário:\n",
    "    user_df['{}_user'.format(rede)] = extract_user(user_df['{}_url'.format(rede)])\n",
    "    # Conta contas:\n",
    "    n_contas = user_df['SQ_CANDIDATO'].value_counts()\n",
    "    n_contas.name = 'n_{}'.format(rede)\n",
    "    user_df = user_df.join(n_contas, on='SQ_CANDIDATO')\n",
    "    \n",
    "    return user_df"
   ]
  },
  {
   "cell_type": "code",
   "execution_count": 23,
   "id": "294628bb-6542-4e40-9a5f-8923d9b8ff19",
   "metadata": {},
   "outputs": [],
   "source": [
    "def get_modelling_info(df, username_col='twitter_username', cand_id_col='SQ_CANDIDATO', requests_per_window=900):\n",
    "\n",
    "    # Pega info dos usuários do twitter usando o instagram:\n",
    "    insta_as_twitter = request_twitter_user_info(df, username_col, cand_id_col, requests_per_window)\n",
    "\n",
    "    unique_insta_as_twitter = insta_as_twitter\n",
    "    #if 'n_instagram' in insta_as_twitter.columns:\n",
    "    #    unique_insta_as_twitter = insta_as_twitter.loc[(insta_as_twitter['n_instagram'] == 1) & (insta_as_twitter['n_twitter'] == 1)].copy()\n",
    "    #else:\n",
    "    #    unique_insta_as_twitter = insta_as_twitter\n",
    "\n",
    "    # Prepare data:\n",
    "    unique_insta_as_twitter['verified'] = unique_insta_as_twitter['verified'].astype(int)\n",
    "    unique_insta_as_twitter['protected'] = unique_insta_as_twitter['protected'].astype(int)\n",
    "    # Add time since creation:\n",
    "    days_created = (pd.to_datetime('2022-08-18') - pd.to_datetime(unique_insta_as_twitter['created_at'], format='%Y-%m-%dT%H:%M:%S.000Z')).dt.total_seconds() / 3600 / 24\n",
    "    unique_insta_as_twitter['days_created'] = days_created\n",
    "    # Count digits in name and description:\n",
    "    unique_insta_as_twitter['digits_name'] = unique_insta_as_twitter['name'].str.extract(r'(\\d{2,5})')[0].str.len().fillna(0)\n",
    "    unique_insta_as_twitter['digits_desc'] = unique_insta_as_twitter['description'].str.extract(r'(\\d{2,5})')[0].str.len().fillna(0)\n",
    "    \n",
    "    return unique_insta_as_twitter"
   ]
  },
  {
   "cell_type": "markdown",
   "id": "7c6869f0-5099-4c2e-b698-1b87521bee8d",
   "metadata": {},
   "source": [
    "## Dados para identificação de twitters de candidatos"
   ]
  },
  {
   "cell_type": "code",
   "execution_count": 24,
   "id": "f4bc3519-6f42-446c-a7da-82782cf54fca",
   "metadata": {},
   "outputs": [],
   "source": [
    "# Carrega os dados:\n",
    "cand_df  = pd.read_csv('../dados/limpos/consulta_cand/consulta_cand_2022_BRASIL.csv', low_memory=False)\n",
    "redes_df = pd.read_csv('../dados/processados/redes_candidatos_2022.csv')"
   ]
  },
  {
   "cell_type": "code",
   "execution_count": 53,
   "id": "a40ba177-ec8a-4eed-948f-f64629dcb0fd",
   "metadata": {},
   "outputs": [],
   "source": [
    "# Pega usuários das redes:\n",
    "instagram_df = build_user_df(redes_df, 'instagram', extract_instagram_username)\n",
    "twitter_df   = build_user_df(redes_df, 'twitter', extract_twitter_username)\n",
    "\n",
    "# Remove URLs sem referência a usuários:\n",
    "instagram_df = instagram_df.loc[~instagram_df['instagram_url'].str.contains('/p/')]\n",
    "instagram_df = instagram_df.loc[~instagram_df['instagram_url'].str.contains('/invites/')]\n",
    "instagram_df = instagram_df.loc[~instagram_df['instagram_url'].str.contains('/tv/')]"
   ]
  },
  {
   "cell_type": "code",
   "execution_count": 55,
   "id": "4a2e467e-15e4-4feb-a8a2-7320866d6cf5",
   "metadata": {},
   "outputs": [
    {
     "data": {
      "text/plain": [
       "2934"
      ]
     },
     "execution_count": 55,
     "metadata": {},
     "output_type": "execute_result"
    }
   ],
   "source": [
    "# Vamos criar uma tabela com candidatos que declararam twitter E instagram:\n",
    "comparison_df = instagram_df.merge(twitter_df, how='inner', on='SQ_CANDIDATO')\n",
    "comparison_df['same'] = (comparison_df['instagram_user'] == comparison_df['twitter_user']).astype(int)\n",
    "len(comparison_df)"
   ]
  },
  {
   "cell_type": "code",
   "execution_count": 56,
   "id": "7e75f2e7-7246-4e70-8e06-2018942174c3",
   "metadata": {},
   "outputs": [
    {
     "data": {
      "text/plain": [
       "0.3149284253578732"
      ]
     },
     "execution_count": 56,
     "metadata": {},
     "output_type": "execute_result"
    }
   ],
   "source": [
    "# Quantidade que o nome de usuário é o mesmo:\n",
    "comparison_df['same'].mean()"
   ]
  },
  {
   "cell_type": "code",
   "execution_count": 28,
   "id": "1fae1252-4468-405e-8a32-134cad0200ca",
   "metadata": {},
   "outputs": [],
   "source": [
    "# Seleciona apenas candidatos com um só twitter e instagram, para não bagunçar:\n",
    "one_comparison_df = comparison_df.loc[(comparison_df['n_instagram'] == 1) & (comparison_df['n_twitter'] == 1)]\n",
    "\n",
    "# Constrói dados para treinar modelo:\n",
    "unique_insta_as_twitter = get_modelling_info(one_comparison_df, 'instagram_user').drop_duplicates(subset='id')"
   ]
  },
  {
   "cell_type": "markdown",
   "id": "32f75d76-d67c-440f-8c10-9e314e25f8ff",
   "metadata": {},
   "source": [
    "## Ajustando o Modelo"
   ]
  },
  {
   "cell_type": "code",
   "execution_count": 29,
   "id": "fec6ffee-487a-44d4-bb32-86eabfc866fc",
   "metadata": {},
   "outputs": [
    {
     "name": "stderr",
     "output_type": "stream",
     "text": [
      "/home/skems/system/envs/ceweb/lib/python3.8/site-packages/_distutils_hack/__init__.py:33: UserWarning: Setuptools is replacing distutils.\n",
      "  warnings.warn(\"Setuptools is replacing distutils.\")\n"
     ]
    }
   ],
   "source": [
    "from sklearn.pipeline import Pipeline\n",
    "from sklearn.compose import ColumnTransformer\n",
    "from sklearn.preprocessing import FunctionTransformer\n",
    "from sklearn.feature_extraction.text import CountVectorizer\n",
    "from sklearn.ensemble import RandomForestClassifier\n",
    "from sklearn.model_selection import GridSearchCV, cross_val_score, cross_val_predict\n",
    "from sklearn.svm import SVC\n",
    "from sklearn.metrics import confusion_matrix, accuracy_score, precision_score, recall_score\n",
    "\n",
    "import xavy.mltools as ml\n",
    "import xavy.text as xt"
   ]
  },
  {
   "cell_type": "code",
   "execution_count": 30,
   "id": "3f7dac33-9a8e-4ee1-9cad-6c86807eb27b",
   "metadata": {},
   "outputs": [],
   "source": [
    "train_df, test_df = ml.random_set_split(unique_insta_as_twitter, [0.8, 0.2], 563252)\n",
    "X_train, y_train = ml.Xy_split(train_df, 'same')\n",
    "X_test, y_test   = ml.Xy_split(test_df, 'same')"
   ]
  },
  {
   "cell_type": "code",
   "execution_count": 31,
   "id": "89ba56e2-628c-4870-b476-2f418f46ad41",
   "metadata": {},
   "outputs": [
    {
     "name": "stdout",
     "output_type": "stream",
     "text": [
      "accuracy: 0.7389 +/- 0.0217\n",
      "precision: 0.7389 +/- 0.0217\n",
      "recall: 1.0000 +/- 0.0000\n"
     ]
    }
   ],
   "source": [
    "# Baseline 0:\n",
    "ml.print_cv_scores(ml.ConstantPicker(1), X_train, y_train, ['accuracy', 'precision', 'recall'])"
   ]
  },
  {
   "cell_type": "code",
   "execution_count": 32,
   "id": "61ac2569-deb1-41b7-b5be-b3df9e95a5a6",
   "metadata": {},
   "outputs": [],
   "source": [
    "# Constrói o modelo:\n",
    "stopwords = xt.return_pt_stopwords()\n",
    "vec  = CountVectorizer(stop_words=stopwords, min_df=1, binary=False, vocabulary=None)\n",
    "txt  = Pipeline([('vec', vec)])\n",
    "proc = ColumnTransformer([('cat', 'passthrough', ['verified', 'protected']), \n",
    "                          ('num', 'passthrough', ['followers_count', 'following_count', 'tweet_count', 'listed_count', 'days_created']),\n",
    "                          ('txt', txt, 'description')])\n",
    "fit = RandomForestClassifier(random_state=896787)\n",
    "model = Pipeline([('proc', proc), ('fit', fit)])"
   ]
  },
  {
   "cell_type": "code",
   "execution_count": 33,
   "id": "0b41fe32-071e-467f-936d-1f3fd178083e",
   "metadata": {},
   "outputs": [
    {
     "name": "stdout",
     "output_type": "stream",
     "text": [
      "accuracy: 0.8722 +/- 0.0151\n",
      "precision: 0.8999 +/- 0.0108\n",
      "recall: 0.9308 +/- 0.0091\n"
     ]
    }
   ],
   "source": [
    "# Avalia o modelo:\n",
    "ml.print_cv_scores(model, X_train, y_train, ['accuracy', 'precision', 'recall'])"
   ]
  },
  {
   "cell_type": "markdown",
   "id": "c6bd2e8e-ba54-4305-b97f-e05c548421e9",
   "metadata": {
    "tags": []
   },
   "source": [
    "### Grid search e learning curve"
   ]
  },
  {
   "cell_type": "code",
   "execution_count": 267,
   "id": "0d9b9868-b785-4b26-a3ca-dd4708300869",
   "metadata": {},
   "outputs": [],
   "source": [
    "param_grid = {#'proc__txt__min_df': [1,2], \n",
    "              #'fit__max_depth':[2, 4, 8, 16 ,32, 64], \n",
    "              #'fit__min_samples_split': [2, 4, 8, 16],\n",
    "              #'fit__max_features': ['sqrt', 'log2', None],\n",
    "              #'fit__class_weight': ['balanced', None],\n",
    "             }\n",
    "grid = GridSearchCV(model, param_grid, scoring='accuracy', return_train_score=True, n_jobs=7)"
   ]
  },
  {
   "cell_type": "code",
   "execution_count": 268,
   "id": "8eb7f18f-622e-4960-a417-139f1f3e4f9b",
   "metadata": {},
   "outputs": [
    {
     "name": "stderr",
     "output_type": "stream",
     "text": [
      "/home/skems/system/envs/ceweb/lib/python3.8/site-packages/sklearn/feature_extraction/text.py:404: UserWarning: Your stop_words may be inconsistent with your preprocessing. Tokenizing the stop words generated tokens ['ate', 'eramos', 'estao', 'estavamos', 'estiveramos', 'estivessemos', 'foramos', 'fossemos', 'ha', 'hao', 'houveramos', 'houverao', 'houveriamos', 'houvessemos', 'ja', 'nao', 'sao', 'sera', 'serao', 'seriamos', 'so', 'tambem', 'tera', 'terao', 'teriamos', 'tinhamos', 'tiveramos', 'tivessemos', 'voce', 'voces'] not in stop_words.\n",
      "  warnings.warn(\n"
     ]
    }
   ],
   "source": [
    "dump = grid.fit(X_train, y_train)"
   ]
  },
  {
   "cell_type": "code",
   "execution_count": 19,
   "id": "f803d0c2-11c1-4dc2-8ca1-85243dc51817",
   "metadata": {},
   "outputs": [
    {
     "data": {
      "image/png": "[encoded data removed]",
      "text/plain": [
       "<Figure size 432x288 with 1 Axes>"
      ]
     },
     "metadata": {
      "needs_background": "light"
     },
     "output_type": "display_data"
    }
   ],
   "source": [
    "ml.plot_learning_curve(model, X_train, y_train, 'accuracy')"
   ]
  },
  {
   "cell_type": "markdown",
   "id": "26bba8a2-fbdb-40ca-bc69-7dae1843d03e",
   "metadata": {},
   "source": [
    "### Teste final do modelo"
   ]
  },
  {
   "cell_type": "code",
   "execution_count": 34,
   "id": "2e1b3046-81fa-40a6-bb23-e5153388e07e",
   "metadata": {},
   "outputs": [
    {
     "name": "stdout",
     "output_type": "stream",
     "text": [
      "0.8711111111111111\n",
      "0.8895348837209303\n",
      "0.9386503067484663\n"
     ]
    }
   ],
   "source": [
    "model.fit(X_train, y_train)\n",
    "y_test_pred = model.predict(X_test)\n",
    "for scorer in [accuracy_score, precision_score, recall_score]:\n",
    "    print(scorer(y_test, y_test_pred))"
   ]
  },
  {
   "cell_type": "code",
   "execution_count": 74,
   "id": "2c32343e-ca60-43b1-9683-a7019d4674af",
   "metadata": {},
   "outputs": [],
   "source": [
    "# Salva o modelo:\n",
    "#ml.save_model('../modelos/rf_instagram2twitter_validator_v01/', model, model, train_df, test_df, 'accuracy', 1.00, 0.87, \n",
    "#              package_list=['scikit-learn', 'numpy', 'matplotlib', 'pandas', 'scipy'])"
   ]
  },
  {
   "cell_type": "markdown",
   "id": "8a8b316a-922a-4f8b-87e7-50abd499a204",
   "metadata": {},
   "source": [
    "## Aplicando modelo aos instagrams"
   ]
  },
  {
   "cell_type": "code",
   "execution_count": 57,
   "id": "2d73307d-4ce1-459f-88cb-aab6c2b57d59",
   "metadata": {},
   "outputs": [],
   "source": [
    "# Seleciona candidatos com insta mas sem twitter:\n",
    "only_instagram_df = instagram_df.loc[~instagram_df['SQ_CANDIDATO'].isin(twitter_df['SQ_CANDIDATO'])]"
   ]
  },
  {
   "cell_type": "code",
   "execution_count": 61,
   "id": "9bcb07b8-e5e2-48d4-8a43-c701e4c85294",
   "metadata": {},
   "outputs": [],
   "source": [
    "# Pega twitter info a partir do usuário do instagram:\n",
    "guess_from_instagram_df = get_modelling_info(only_instagram_df, 'instagram_user')\n",
    "guess_from_instagram_df['SQ_CANDIDATO'] = guess_from_instagram_df['SQ_CANDIDATO'].astype(int)  "
   ]
  },
  {
   "cell_type": "code",
   "execution_count": 62,
   "id": "7276af9d-35e8-4ccb-89b5-91cb3218b0a5",
   "metadata": {},
   "outputs": [
    {
     "data": {
      "text/plain": [
       "1994"
      ]
     },
     "execution_count": 62,
     "metadata": {},
     "output_type": "execute_result"
    }
   ],
   "source": [
    "# Junta informações do candidato:\n",
    "label_cols = ['NM_CANDIDATO', 'NM_URNA_CANDIDATO', 'SG_PARTIDO', 'SG_UF', 'NR_CANDIDATO']\n",
    "guess_cand_df = guess_from_instagram_df.join(cand_df.set_index('SQ_CANDIDATO')[label_cols], on='SQ_CANDIDATO')\n",
    "guess_cand_df['label'] = guess_cand_df['SQ_CANDIDATO'].astype(str) + ': ' + guess_cand_df['NM_URNA_CANDIDATO'] + ' (' + guess_cand_df['SG_PARTIDO'] + '-' + guess_cand_df['SG_UF'] + ') ' + guess_cand_df['NR_CANDIDATO'].astype(str)\n",
    "len(guess_cand_df)"
   ]
  },
  {
   "cell_type": "code",
   "execution_count": 63,
   "id": "f3667b02-e971-4620-8524-a6b42df040a9",
   "metadata": {},
   "outputs": [
    {
     "data": {
      "text/plain": [
       "1006"
      ]
     },
     "execution_count": 63,
     "metadata": {},
     "output_type": "execute_result"
    }
   ],
   "source": [
    "# Prediz se usuário é o correto:\n",
    "guess_is_cand = model.predict(guess_cand_df)\n",
    "guess_is_cand.sum()"
   ]
  },
  {
   "cell_type": "code",
   "execution_count": 66,
   "id": "2f8e209a-4abf-4c45-b569-3d1d48d3f0e8",
   "metadata": {},
   "outputs": [
    {
     "data": {
      "text/html": [
       "<div>\n",
       "<style scoped>\n",
       "    .dataframe tbody tr th:only-of-type {\n",
       "        vertical-align: middle;\n",
       "    }\n",
       "\n",
       "    .dataframe tbody tr th {\n",
       "        vertical-align: top;\n",
       "    }\n",
       "\n",
       "    .dataframe thead th {\n",
       "        text-align: right;\n",
       "    }\n",
       "</style>\n",
       "<table border=\"1\" class=\"dataframe\">\n",
       "  <thead>\n",
       "    <tr style=\"text-align: right;\">\n",
       "      <th></th>\n",
       "      <th>SQ_CANDIDATO</th>\n",
       "      <th>NM_CANDIDATO</th>\n",
       "      <th>NM_URNA_CANDIDATO</th>\n",
       "      <th>SG_PARTIDO</th>\n",
       "      <th>SG_UF</th>\n",
       "      <th>NR_CANDIDATO</th>\n",
       "    </tr>\n",
       "  </thead>\n",
       "  <tbody>\n",
       "    <tr>\n",
       "      <th>7963</th>\n",
       "      <td>60001636093</td>\n",
       "      <td>EDSON BEZERRA DA COSTA</td>\n",
       "      <td>PASTOR EDSON BEZERRA</td>\n",
       "      <td>PSDB</td>\n",
       "      <td>CE</td>\n",
       "      <td>4589</td>\n",
       "    </tr>\n",
       "    <tr>\n",
       "      <th>9087</th>\n",
       "      <td>130001613374</td>\n",
       "      <td>ANA PAULA DE OLIVEIRA COSTA MARTINS</td>\n",
       "      <td>ANA COSTA</td>\n",
       "      <td>PSDB</td>\n",
       "      <td>MG</td>\n",
       "      <td>4589</td>\n",
       "    </tr>\n",
       "    <tr>\n",
       "      <th>13407</th>\n",
       "      <td>90001621640</td>\n",
       "      <td>REINALDO ALVES DOS SANTOS</td>\n",
       "      <td>DR. REINALDO</td>\n",
       "      <td>PSDB</td>\n",
       "      <td>GO</td>\n",
       "      <td>4589</td>\n",
       "    </tr>\n",
       "    <tr>\n",
       "      <th>20493</th>\n",
       "      <td>60001723404</td>\n",
       "      <td>EDSON BEZERRA DA COSTA</td>\n",
       "      <td>PASTOR EDSON BEZERRA</td>\n",
       "      <td>PSDB</td>\n",
       "      <td>CE</td>\n",
       "      <td>4589</td>\n",
       "    </tr>\n",
       "  </tbody>\n",
       "</table>\n",
       "</div>"
      ],
      "text/plain": [
       "       SQ_CANDIDATO                         NM_CANDIDATO  \\\n",
       "7963    60001636093               EDSON BEZERRA DA COSTA   \n",
       "9087   130001613374  ANA PAULA DE OLIVEIRA COSTA MARTINS   \n",
       "13407   90001621640            REINALDO ALVES DOS SANTOS   \n",
       "20493   60001723404               EDSON BEZERRA DA COSTA   \n",
       "\n",
       "          NM_URNA_CANDIDATO SG_PARTIDO SG_UF  NR_CANDIDATO  \n",
       "7963   PASTOR EDSON BEZERRA       PSDB    CE          4589  \n",
       "9087              ANA COSTA       PSDB    MG          4589  \n",
       "13407          DR. REINALDO       PSDB    GO          4589  \n",
       "20493  PASTOR EDSON BEZERRA       PSDB    CE          4589  "
      ]
     },
     "execution_count": 66,
     "metadata": {},
     "output_type": "execute_result"
    }
   ],
   "source": [
    "cand_df.query('NR_CANDIDATO == 4589')[['SQ_CANDIDATO'] + label_cols]"
   ]
  },
  {
   "cell_type": "code",
   "execution_count": 67,
   "id": "46a0cbce-14ad-423d-90ef-6f6c77cbcb98",
   "metadata": {},
   "outputs": [
    {
     "data": {
      "text/html": [
       "<div>\n",
       "<style scoped>\n",
       "    .dataframe tbody tr th:only-of-type {\n",
       "        vertical-align: middle;\n",
       "    }\n",
       "\n",
       "    .dataframe tbody tr th {\n",
       "        vertical-align: top;\n",
       "    }\n",
       "\n",
       "    .dataframe thead th {\n",
       "        text-align: right;\n",
       "    }\n",
       "</style>\n",
       "<table border=\"1\" class=\"dataframe\">\n",
       "  <thead>\n",
       "    <tr style=\"text-align: right;\">\n",
       "      <th></th>\n",
       "      <th>DT_GERACAO</th>\n",
       "      <th>HH_GERACAO</th>\n",
       "      <th>ANO_ELEICAO</th>\n",
       "      <th>CD_TIPO_ELEICAO</th>\n",
       "      <th>NM_TIPO_ELEICAO</th>\n",
       "      <th>CD_ELEICAO</th>\n",
       "      <th>DS_ELEICAO</th>\n",
       "      <th>SQ_CANDIDATO</th>\n",
       "      <th>NR_ORDEM</th>\n",
       "      <th>DS_URL</th>\n",
       "      <th>...</th>\n",
       "      <th>abre.bio</th>\n",
       "      <th>gettr</th>\n",
       "      <th>beacons</th>\n",
       "      <th>vaquinhaeleitoral</th>\n",
       "      <th>linklist</th>\n",
       "      <th>nenhuma</th>\n",
       "      <th>email</th>\n",
       "      <th>website</th>\n",
       "      <th>arroba</th>\n",
       "      <th>usuario</th>\n",
       "    </tr>\n",
       "  </thead>\n",
       "  <tbody>\n",
       "    <tr>\n",
       "      <th>11235</th>\n",
       "      <td>16/08/2022</td>\n",
       "      <td>06:08:16</td>\n",
       "      <td>2022</td>\n",
       "      <td>2</td>\n",
       "      <td>ELEIÇÃO ORDINÁRIA</td>\n",
       "      <td>546</td>\n",
       "      <td>ELEIÇÕES GERAIS ESTADUAIS 2022</td>\n",
       "      <td>160001723228</td>\n",
       "      <td>4</td>\n",
       "      <td>https://www.tiktok.com/@danielbrosttoficial</td>\n",
       "      <td>...</td>\n",
       "      <td>0</td>\n",
       "      <td>0</td>\n",
       "      <td>0</td>\n",
       "      <td>0</td>\n",
       "      <td>0</td>\n",
       "      <td>0</td>\n",
       "      <td>0</td>\n",
       "      <td>0</td>\n",
       "      <td>0</td>\n",
       "      <td>0</td>\n",
       "    </tr>\n",
       "    <tr>\n",
       "      <th>19922</th>\n",
       "      <td>16/08/2022</td>\n",
       "      <td>06:08:16</td>\n",
       "      <td>2022</td>\n",
       "      <td>2</td>\n",
       "      <td>ELEIÇÃO ORDINÁRIA</td>\n",
       "      <td>546</td>\n",
       "      <td>ELEIÇÕES GERAIS ESTADUAIS 2022</td>\n",
       "      <td>160001723228</td>\n",
       "      <td>5</td>\n",
       "      <td>https://www.facebook.com/danielbrostt</td>\n",
       "      <td>...</td>\n",
       "      <td>0</td>\n",
       "      <td>0</td>\n",
       "      <td>0</td>\n",
       "      <td>0</td>\n",
       "      <td>0</td>\n",
       "      <td>0</td>\n",
       "      <td>0</td>\n",
       "      <td>0</td>\n",
       "      <td>0</td>\n",
       "      <td>0</td>\n",
       "    </tr>\n",
       "    <tr>\n",
       "      <th>24189</th>\n",
       "      <td>16/08/2022</td>\n",
       "      <td>06:08:16</td>\n",
       "      <td>2022</td>\n",
       "      <td>2</td>\n",
       "      <td>ELEIÇÃO ORDINÁRIA</td>\n",
       "      <td>546</td>\n",
       "      <td>ELEIÇÕES GERAIS ESTADUAIS 2022</td>\n",
       "      <td>160001723228</td>\n",
       "      <td>3</td>\n",
       "      <td>https://www.linkedin.com/in/edsonbrostt/</td>\n",
       "      <td>...</td>\n",
       "      <td>0</td>\n",
       "      <td>0</td>\n",
       "      <td>0</td>\n",
       "      <td>0</td>\n",
       "      <td>0</td>\n",
       "      <td>0</td>\n",
       "      <td>0</td>\n",
       "      <td>0</td>\n",
       "      <td>0</td>\n",
       "      <td>0</td>\n",
       "    </tr>\n",
       "    <tr>\n",
       "      <th>28603</th>\n",
       "      <td>16/08/2022</td>\n",
       "      <td>06:08:16</td>\n",
       "      <td>2022</td>\n",
       "      <td>2</td>\n",
       "      <td>ELEIÇÃO ORDINÁRIA</td>\n",
       "      <td>546</td>\n",
       "      <td>ELEIÇÕES GERAIS ESTADUAIS 2022</td>\n",
       "      <td>160001723228</td>\n",
       "      <td>2</td>\n",
       "      <td>https://www.youtube.com/channel/UC4ecX1xPSNYiC...</td>\n",
       "      <td>...</td>\n",
       "      <td>0</td>\n",
       "      <td>0</td>\n",
       "      <td>0</td>\n",
       "      <td>0</td>\n",
       "      <td>0</td>\n",
       "      <td>0</td>\n",
       "      <td>0</td>\n",
       "      <td>0</td>\n",
       "      <td>0</td>\n",
       "      <td>0</td>\n",
       "    </tr>\n",
       "    <tr>\n",
       "      <th>32989</th>\n",
       "      <td>16/08/2022</td>\n",
       "      <td>06:08:16</td>\n",
       "      <td>2022</td>\n",
       "      <td>2</td>\n",
       "      <td>ELEIÇÃO ORDINÁRIA</td>\n",
       "      <td>546</td>\n",
       "      <td>ELEIÇÕES GERAIS ESTADUAIS 2022</td>\n",
       "      <td>160001723228</td>\n",
       "      <td>1</td>\n",
       "      <td>https://www.instagram.com/danielbrostt</td>\n",
       "      <td>...</td>\n",
       "      <td>0</td>\n",
       "      <td>0</td>\n",
       "      <td>0</td>\n",
       "      <td>0</td>\n",
       "      <td>0</td>\n",
       "      <td>0</td>\n",
       "      <td>0</td>\n",
       "      <td>0</td>\n",
       "      <td>0</td>\n",
       "      <td>0</td>\n",
       "    </tr>\n",
       "  </tbody>\n",
       "</table>\n",
       "<p>5 rows × 71 columns</p>\n",
       "</div>"
      ],
      "text/plain": [
       "       DT_GERACAO HH_GERACAO  ANO_ELEICAO  CD_TIPO_ELEICAO    NM_TIPO_ELEICAO  \\\n",
       "11235  16/08/2022   06:08:16         2022                2  ELEIÇÃO ORDINÁRIA   \n",
       "19922  16/08/2022   06:08:16         2022                2  ELEIÇÃO ORDINÁRIA   \n",
       "24189  16/08/2022   06:08:16         2022                2  ELEIÇÃO ORDINÁRIA   \n",
       "28603  16/08/2022   06:08:16         2022                2  ELEIÇÃO ORDINÁRIA   \n",
       "32989  16/08/2022   06:08:16         2022                2  ELEIÇÃO ORDINÁRIA   \n",
       "\n",
       "       CD_ELEICAO                      DS_ELEICAO  SQ_CANDIDATO  NR_ORDEM  \\\n",
       "11235         546  ELEIÇÕES GERAIS ESTADUAIS 2022  160001723228         4   \n",
       "19922         546  ELEIÇÕES GERAIS ESTADUAIS 2022  160001723228         5   \n",
       "24189         546  ELEIÇÕES GERAIS ESTADUAIS 2022  160001723228         3   \n",
       "28603         546  ELEIÇÕES GERAIS ESTADUAIS 2022  160001723228         2   \n",
       "32989         546  ELEIÇÕES GERAIS ESTADUAIS 2022  160001723228         1   \n",
       "\n",
       "                                                  DS_URL  ...  abre.bio  \\\n",
       "11235        https://www.tiktok.com/@danielbrosttoficial  ...         0   \n",
       "19922              https://www.facebook.com/danielbrostt  ...         0   \n",
       "24189           https://www.linkedin.com/in/edsonbrostt/  ...         0   \n",
       "28603  https://www.youtube.com/channel/UC4ecX1xPSNYiC...  ...         0   \n",
       "32989             https://www.instagram.com/danielbrostt  ...         0   \n",
       "\n",
       "       gettr  beacons  vaquinhaeleitoral  linklist  nenhuma  email  website  \\\n",
       "11235      0        0                  0         0        0      0        0   \n",
       "19922      0        0                  0         0        0      0        0   \n",
       "24189      0        0                  0         0        0      0        0   \n",
       "28603      0        0                  0         0        0      0        0   \n",
       "32989      0        0                  0         0        0      0        0   \n",
       "\n",
       "       arroba  usuario  \n",
       "11235       0        0  \n",
       "19922       0        0  \n",
       "24189       0        0  \n",
       "28603       0        0  \n",
       "32989       0        0  \n",
       "\n",
       "[5 rows x 71 columns]"
      ]
     },
     "execution_count": 67,
     "metadata": {},
     "output_type": "execute_result"
    }
   ],
   "source": [
    "redes_df.query('SQ_CANDIDATO == 160001723228')"
   ]
  },
  {
   "cell_type": "code",
   "execution_count": 71,
   "id": "3169d03d-2de7-48e4-b904-bacce91a468a",
   "metadata": {},
   "outputs": [
    {
     "data": {
      "text/html": [
       "<div>\n",
       "<style scoped>\n",
       "    .dataframe tbody tr th:only-of-type {\n",
       "        vertical-align: middle;\n",
       "    }\n",
       "\n",
       "    .dataframe tbody tr th {\n",
       "        vertical-align: top;\n",
       "    }\n",
       "\n",
       "    .dataframe thead th {\n",
       "        text-align: right;\n",
       "    }\n",
       "</style>\n",
       "<table border=\"1\" class=\"dataframe\">\n",
       "  <thead>\n",
       "    <tr style=\"text-align: right;\">\n",
       "      <th></th>\n",
       "      <th>description</th>\n",
       "      <th>name</th>\n",
       "      <th>verified</th>\n",
       "      <th>username</th>\n",
       "      <th>id</th>\n",
       "      <th>created_at</th>\n",
       "      <th>protected</th>\n",
       "      <th>lower_name</th>\n",
       "      <th>SQ_CANDIDATO</th>\n",
       "      <th>instagram_url</th>\n",
       "      <th>...</th>\n",
       "      <th>listed_count</th>\n",
       "      <th>days_created</th>\n",
       "      <th>digits_name</th>\n",
       "      <th>digits_desc</th>\n",
       "      <th>NM_CANDIDATO</th>\n",
       "      <th>NM_URNA_CANDIDATO</th>\n",
       "      <th>SG_PARTIDO</th>\n",
       "      <th>SG_UF</th>\n",
       "      <th>NR_CANDIDATO</th>\n",
       "      <th>label</th>\n",
       "    </tr>\n",
       "  </thead>\n",
       "  <tbody>\n",
       "    <tr>\n",
       "      <th>1399</th>\n",
       "      <td>📚 Ativista pela educação\\n➡️ Deputada Federal ...</td>\n",
       "      <td>Tabata Amaral</td>\n",
       "      <td>1</td>\n",
       "      <td>tabataamaralsp</td>\n",
       "      <td>1001251931812220928</td>\n",
       "      <td>2018-05-29T00:00:37.000Z</td>\n",
       "      <td>0</td>\n",
       "      <td>tabataamaralsp</td>\n",
       "      <td>250001620281</td>\n",
       "      <td>https://instagram.com/tabataamaralsp</td>\n",
       "      <td>...</td>\n",
       "      <td>1004</td>\n",
       "      <td>1541.999572</td>\n",
       "      <td>0.0</td>\n",
       "      <td>4.0</td>\n",
       "      <td>TABATA CLAUDIA AMARAL DE PONTES</td>\n",
       "      <td>TABATA AMARAL</td>\n",
       "      <td>PSB</td>\n",
       "      <td>SP</td>\n",
       "      <td>4040</td>\n",
       "      <td>250001620281: TABATA AMARAL (PSB-SP) 4040</td>\n",
       "    </tr>\n",
       "  </tbody>\n",
       "</table>\n",
       "<p>1 rows × 24 columns</p>\n",
       "</div>"
      ],
      "text/plain": [
       "                                            description           name  \\\n",
       "1399  📚 Ativista pela educação\\n➡️ Deputada Federal ...  Tabata Amaral   \n",
       "\n",
       "      verified        username                   id                created_at  \\\n",
       "1399         1  tabataamaralsp  1001251931812220928  2018-05-29T00:00:37.000Z   \n",
       "\n",
       "      protected      lower_name  SQ_CANDIDATO  \\\n",
       "1399          0  tabataamaralsp  250001620281   \n",
       "\n",
       "                             instagram_url  ...  listed_count  days_created  \\\n",
       "1399  https://instagram.com/tabataamaralsp  ...          1004   1541.999572   \n",
       "\n",
       "      digits_name  digits_desc                     NM_CANDIDATO  \\\n",
       "1399          0.0          4.0  TABATA CLAUDIA AMARAL DE PONTES   \n",
       "\n",
       "      NM_URNA_CANDIDATO  SG_PARTIDO  SG_UF NR_CANDIDATO  \\\n",
       "1399      TABATA AMARAL         PSB     SP         4040   \n",
       "\n",
       "                                          label  \n",
       "1399  250001620281: TABATA AMARAL (PSB-SP) 4040  \n",
       "\n",
       "[1 rows x 24 columns]"
      ]
     },
     "execution_count": 71,
     "metadata": {},
     "output_type": "execute_result"
    }
   ],
   "source": [
    "guess_cand_df.loc[(guess_is_cand == 1) & (guess_cand_df['username'] == 'tabataamaralsp')]"
   ]
  },
  {
   "cell_type": "code",
   "execution_count": 68,
   "id": "860b0c6d-f581-47b1-b045-ad7340846178",
   "metadata": {},
   "outputs": [
    {
     "name": "stdout",
     "output_type": "stream",
     "text": [
      "\u001b[1m50001620961: DANY ADEODATO (PDT-BA) 12007\u001b[0m: https://www.twitter.com/DanyAdeodato  https://www.instagram.com/DanyAdeodato\n",
      "\u001b[1m130001615268: PROFESSOR PYRAMIDES (PSOL-MG) 50250\u001b[0m: https://www.twitter.com/nenhumdireito  https://www.instagram.com/nenhumdireito\n",
      "\u001b[1m110001618201: VICTÓRIO GALLI (PTB-MT) 1422\u001b[0m: https://www.twitter.com/victoriogalli  https://www.instagram.com/victoriogalli\n",
      "\u001b[1m250001612006: DOMENICO DONINA (PP-SP) 1114\u001b[0m: https://www.twitter.com/DomenicoDonina  https://www.instagram.com/DomenicoDonina\n",
      "\u001b[1m140001721223: SARGENTO BM RIVELINO (PRTB-PA) 28222\u001b[0m: https://www.twitter.com/VilhenaRoberto  https://www.instagram.com/VilhenaRoberto\n",
      "\u001b[1m220001600369: FELIPE FAVA (PTB-RO) 14022\u001b[0m: https://www.twitter.com/FelipeFava2  https://www.instagram.com/FelipeFava2\n",
      "\u001b[1m160001621991: RAFAEL NOGUTI (REDE-PR) 1833\u001b[0m: https://www.twitter.com/NogutiRafael  https://www.instagram.com/NogutiRafael\n",
      "\u001b[1m180001601340: DR ROBERTO SILVA (SOLIDARIEDADE-PI) 7776\u001b[0m: https://www.twitter.com/DrRobertosilva  https://www.instagram.com/DrRobertosilva\n",
      "\u001b[1m210001647866: DUDA MONTEIRO (MDB-RS) 1516\u001b[0m: https://www.twitter.com/duda_tdp  https://www.instagram.com/duda_tdp\n",
      "\u001b[1m190001723548: DR ELPIDIO MANHAES (PMB-RJ) 3565\u001b[0m: https://www.twitter.com/luizelpidio  https://www.instagram.com/luizelpidio\n",
      "\u001b[1m220001635565: PAULO CAVALCANTE (REPUBLICANOS-RO) 10888\u001b[0m: https://www.twitter.com/bispopaulo  https://www.instagram.com/bispopaulo\n",
      "\u001b[1m180001612884: JEOVÁ ALENCAR (REPUBLICANOS-PI) 10456\u001b[0m: https://www.twitter.com/JeovaAlencar  https://www.instagram.com/JeovaAlencar\n",
      "\u001b[1m140001676623: NAZARÉ BANCADA MANAS DE LUTA (PT-PA) 13313\u001b[0m: https://www.twitter.com/nazarecruzz  https://www.instagram.com/nazarecruzz\n",
      "\u001b[1m50001600574: SINE CALMON (PSOL-BA) 5010\u001b[0m: https://www.twitter.com/SineCalmon  https://www.instagram.com/SineCalmon\n",
      "\u001b[1m30001607463: JOÃO DE BARROS (PV-AP) 43223\u001b[0m: https://www.twitter.com/_joaodebarros  https://www.instagram.com/_joaodebarros\n",
      "\u001b[1m210001648975: JACKSON RABUSKE (PL-RS) 22211\u001b[0m: https://www.twitter.com/JacksonRabuske  https://www.instagram.com/JacksonRabuske\n",
      "\u001b[1m140001615720: CRISTINA MALCHER (PSDB-PA) 4522\u001b[0m: https://www.twitter.com/Cristinamalcher  https://www.instagram.com/Cristinamalcher\n",
      "\u001b[1m120001649119: RAUNI GUIMARÃES (PROS-MS) 9000\u001b[0m: https://www.twitter.com/RauniGuimaraes  https://www.instagram.com/RauniGuimaraes\n",
      "\u001b[1m250001597679: SANDRA MACEDO (NOVO-SP) 3014\u001b[0m: https://www.twitter.com/Sandrademacedo  https://www.instagram.com/Sandrademacedo\n",
      "\u001b[1m140001621341: CHITA (MDB-PA) 1590\u001b[0m: https://www.twitter.com/alcidesnegrao  https://www.instagram.com/alcidesnegrao\n"
     ]
    }
   ],
   "source": [
    "# Teste manual:\n",
    "print_string_series(('https://www.twitter.com/' + guess_cand_df.set_index('label').loc[guess_is_cand == 0, 'username'] + '  https://www.instagram.com/' + guess_cand_df.set_index('label').loc[guess_is_cand == 0, 'username']).sample(20, random_state=1))"
   ]
  },
  {
   "cell_type": "markdown",
   "id": "3a50c116-1398-45e9-8caa-394bbb9e8e11",
   "metadata": {},
   "source": [
    "**RESULTADOS**\n",
    "* 87% +/- 5% de precisão, medidos em 42 casos verificados manualmente."
   ]
  },
  {
   "cell_type": "markdown",
   "id": "701f846d-e48c-45d6-a55a-40f992726acb",
   "metadata": {},
   "source": [
    "## Verificando ausência de overlap"
   ]
  },
  {
   "cell_type": "code",
   "execution_count": 9,
   "id": "b0ad8352-c64e-46a5-aa58-565613057e22",
   "metadata": {},
   "outputs": [],
   "source": [
    "dirs = glob('../pretest_tweets/logs/capture/*')"
   ]
  },
  {
   "cell_type": "code",
   "execution_count": 11,
   "id": "ea1f30e0-dbc4-4e5a-87b7-520ec1ab67bb",
   "metadata": {},
   "outputs": [],
   "source": [
    "logs = [pd.read_csv(f) for f in dirs]"
   ]
  },
  {
   "cell_type": "code",
   "execution_count": 15,
   "id": "863af7fe-082b-469b-8dcf-d246bad114e9",
   "metadata": {},
   "outputs": [],
   "source": [
    "sets = [set(df['id']) for df in logs]"
   ]
  },
  {
   "cell_type": "code",
   "execution_count": 22,
   "id": "17950a45-042a-4fbf-834c-6137fba0e066",
   "metadata": {},
   "outputs": [
    {
     "data": {
      "text/plain": [
       "0.5901960784313726"
      ]
     },
     "execution_count": 22,
     "metadata": {},
     "output_type": "execute_result"
    }
   ],
   "source": [
    "len(sets[0] & sets[2]) / len(sets[0])"
   ]
  },
  {
   "cell_type": "markdown",
   "id": "f896fe97-a298-417d-9ae6-12b88e5cd9c7",
   "metadata": {},
   "source": [
    "# Lixo"
   ]
  },
  {
   "cell_type": "markdown",
   "id": "e59192a9-a23e-4e5f-9c68-c2a0f6637993",
   "metadata": {},
   "source": [
    "## Criando tabela de comparação twitter instagram"
   ]
  },
  {
   "cell_type": "code",
   "execution_count": null,
   "id": "fae239ea-902a-4d0c-a1bb-83cb43a68562",
   "metadata": {},
   "outputs": [],
   "source": [
    "comparison_df['w_same'] = comparison_df['same'] * comparison_df['n_instagram']"
   ]
  },
  {
   "cell_type": "markdown",
   "id": "9e328eb5-1eeb-42e7-82a2-764bb9a4a5c9",
   "metadata": {
    "tags": []
   },
   "source": [
    "### Dados de candidatos e comentadores"
   ]
  },
  {
   "cell_type": "code",
   "execution_count": 128,
   "id": "5d9c76d7-420b-4366-8b0e-05b645b94302",
   "metadata": {},
   "outputs": [],
   "source": [
    "dep_df = request_twitter_user_info(twitter_df, 'twitter_user')"
   ]
  },
  {
   "cell_type": "code",
   "execution_count": 142,
   "id": "3be8ce52-d09c-4a4c-9171-909c7930904f",
   "metadata": {},
   "outputs": [],
   "source": [
    "mentions_files = list(Path('../pretest_tweets/data/').rglob('*.csv'))\n",
    "mentions_df = pd.concat([pd.read_csv(f) for f in mentions_files], ignore_index=True)\n",
    "nodep_mentions_df = mentions_df.loc[~mentions_df['author_id'].isin(dep_df['id'])]"
   ]
  },
  {
   "cell_type": "code",
   "execution_count": 147,
   "id": "40593695-f4f3-4acd-af5e-53d217faa9d4",
   "metadata": {},
   "outputs": [],
   "source": [
    "nodep_users_df = nodep_mentions_df['author_username'].drop_duplicates().reset_index()\n",
    "nodep_df = request_twitter_user_info(nodep_users_df, 'author_username', 'index')"
   ]
  },
  {
   "cell_type": "markdown",
   "id": "8439d401-b3a8-45dc-bfa9-bec602785bce",
   "metadata": {},
   "source": [
    "## Construindo o modelo"
   ]
  },
  {
   "cell_type": "code",
   "execution_count": 370,
   "id": "0c7c1d5a-0955-4813-963d-c23fd30d43c8",
   "metadata": {},
   "outputs": [],
   "source": [
    "vocab = ['candidato', 'dep', 'estadual', 'federal', 'deputado', 'deputada', 'distrital', 'candidata', 'candidatura', 'parlamentar']\n",
    "\n",
    "def only_letters_f(series):\n",
    "    return series.apply(xt.keep_only_letters)\n",
    "only_letters = FunctionTransformer(only_letters_f)\n",
    "def no_accents_f(series):\n",
    "    return series.apply(xt.remove_accents)\n",
    "no_accents = FunctionTransformer(no_accents_f)\n",
    "def no_punct_f(series):\n",
    "    return series.apply(lambda x: xt.remove_punctuation(x, whitespace=True))\n",
    "no_punct = FunctionTransformer(no_punct_f)\n",
    "\n",
    "#stopwords = list(no_punct_f(no_accents_f(only_letters_f(pd.Series(xt.return_pt_stopwords())))))\n",
    "\n",
    "#txt  = Pipeline([('let', only_letters), ('acc', no_accents), ('pun', no_punct), ('vec', vec)])"
   ]
  },
  {
   "cell_type": "code",
   "execution_count": null,
   "id": "0ad7ac2d-a3dc-445f-8daf-19f4b6223f26",
   "metadata": {},
   "outputs": [],
   "source": []
  }
 ],
 "metadata": {
  "kernelspec": {
   "display_name": "Python 3",
   "language": "python",
   "name": "python3"
  },
  "language_info": {
   "codemirror_mode": {
    "name": "ipython",
    "version": 3
   },
   "file_extension": ".py",
   "mimetype": "text/x-python",
   "name": "python",
   "nbconvert_exporter": "python",
   "pygments_lexer": "ipython3",
   "version": "3.8.10"
  }
 },
 "nbformat": 4,
 "nbformat_minor": 5
}
