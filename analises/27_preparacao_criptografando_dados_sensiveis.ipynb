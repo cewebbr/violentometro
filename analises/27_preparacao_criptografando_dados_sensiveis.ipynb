{
 "cells": [
  {
   "cell_type": "markdown",
   "id": "5a724770-de04-4f86-a802-23c00b3f6bd6",
   "metadata": {},
   "source": [
    "# Criptografando dados sensíveis"
   ]
  },
  {
   "cell_type": "markdown",
   "id": "6c8c5ef3-d57c-4925-a744-b866d5be729b",
   "metadata": {},
   "source": [
    "[Voltar ao Índice](00_indice.ipynb)\n",
    "\n",
    "Esse notebook foi utilizado para realizar a criptografia dos dados que possam identificar os usuários do Twitter. Embora esses dados sejam públicos, adotamos essa estratégia para evitar a identificação dos autores dos tweets sem prejudicar a análise dos dados.\n",
    "\n",
    "**PS:** As informações criptografadas não são as mesmas para um mesmo dado (e.g. um ID de usuário pode ser criptografado para string diferentes), de forma que não é possível identificar mensagens de um mesmo autor.\n",
    "\n",
    "**ATTENTION:** This notebook uses a private cryptographic key that is not included in the project, so it will not work for other people besides the author."
   ]
  },
  {
   "cell_type": "code",
   "execution_count": 1,
   "id": "c61211e5-b58b-4317-b5dc-969db9869a75",
   "metadata": {},
   "outputs": [],
   "source": [
    "import pandas as pd\n",
    "from pathlib import Path\n",
    "\n",
    "import src.xavy.encrypt as xy\n",
    "import src.xavy.utils as xu\n",
    "import src.tweet_analysis as com"
   ]
  },
  {
   "cell_type": "markdown",
   "id": "ab4d80ff-cd85-4892-98f8-5ade875ac8be",
   "metadata": {},
   "source": [
    "## Funções"
   ]
  },
  {
   "cell_type": "code",
   "execution_count": 2,
   "id": "2e99c16c-dea4-4cdc-9b7b-1346bc33ece0",
   "metadata": {},
   "outputs": [],
   "source": [
    "def duplicate_to_encrypted(filename, encrypt_cols, encryptor, replacement=('.csv', '_encrypted.csv'), verbose=False):\n",
    "    \"\"\"\n",
    "    Copy a CSV file about tweets but encrypts in the copy\n",
    "    the specified columns.\n",
    "    \n",
    "    Parameters\n",
    "    ----------\n",
    "    filename : Path or str\n",
    "        Path to the CSV file.\n",
    "    encrypt_cols : iterable of (str or int)\n",
    "        Columns in the CSV to encrypt.\n",
    "    encryptor : SymmetricCrypto object\n",
    "        Encryptor object.\n",
    "    \"\"\"\n",
    "    \n",
    "    # Load:\n",
    "    if verbose is True:\n",
    "        print(filename)\n",
    "    tweets_df = com.robust_load_csv(filename, dtype=str)\n",
    "    \n",
    "    # Encrypt:\n",
    "    encrypted_df = encryptor.encrypt_df_cols(tweets_df, encrypt_cols)\n",
    "\n",
    "    # Save:\n",
    "    outfile = str(filename).replace(replacement[0], replacement[1])\n",
    "    xu.make_necessary_dirs(outfile)\n",
    "    encrypted_df.to_csv(Path(outfile), index=False)"
   ]
  },
  {
   "cell_type": "markdown",
   "id": "11592555-1346-49eb-b941-0f2da3e962ec",
   "metadata": {},
   "source": [
    "## Criptografando"
   ]
  },
  {
   "cell_type": "code",
   "execution_count": 3,
   "id": "f24db3f3-fde5-4d83-8544-89556893dacc",
   "metadata": {},
   "outputs": [],
   "source": [
    "encryptor = xy.SymmetricCrypto('../src/data_encryption_key.txt')\n",
    "encrypt_cols = ['id', 'author_id', 'author_name', 'author_username', 'tweet_url', 'edit_history_tweet_ids']"
   ]
  },
  {
   "cell_type": "markdown",
   "id": "fc0e578e-ee7e-483d-87b5-fde7bef05330",
   "metadata": {},
   "source": [
    "### Arquivos avulsos"
   ]
  },
  {
   "cell_type": "code",
   "execution_count": 6,
   "id": "5d38ce0e-1c24-421f-a6a6-8df35d803254",
   "metadata": {},
   "outputs": [],
   "source": [
    "filenames = ['../dados/processados/amostra_tweets_escolhidos_para_anotacao.csv',\n",
    "             '../dados/processados/amostra_tweets_para_anotacao_controle.csv',\n",
    "             '../dados/processados/amostra_tweets_para_anotacao_lgbts.csv',\n",
    "             '../dados/processados/amostra_tweets_para_anotacao_mulheres.csv',\n",
    "             '../dados/processados/amostra_tweets_para_anotacao_pessoas_negras.csv',\n",
    "             '../dados/processados/tweets_classificados_por_objeto_anotados.csv', \n",
    "             '../dados/processados/tweets_classificados_por_objeto_2_anotados.csv',\n",
    "             '../dados/processados/tweets_classificados_por_objeto_3_anotados.csv',\n",
    "             '../dados/processados/tweets_classificados_por_objeto_4_anotados.csv',\n",
    "             '../modelos/nb_wrong_target_classifier_v01/test_data.csv',\n",
    "             '../modelos/nb_wrong_target_classifier_v01/train_data.csv',\n",
    "             '../modelos/nb_wrong_target_classifier_v02/test_data.csv',\n",
    "             '../modelos/nb_wrong_target_classifier_v02/train_data.csv']"
   ]
  },
  {
   "cell_type": "code",
   "execution_count": 7,
   "id": "178c94da-e8f5-4a99-9459-14a70b624e9c",
   "metadata": {},
   "outputs": [
    {
     "name": "stdout",
     "output_type": "stream",
     "text": [
      "../dados/processados/amostra_tweets_escolhidos_para_anotacao.csv\n",
      "../dados/processados/amostra_tweets_para_anotacao_controle.csv\n",
      "../dados/processados/amostra_tweets_para_anotacao_lgbts.csv\n",
      "../dados/processados/amostra_tweets_para_anotacao_mulheres.csv\n",
      "../dados/processados/amostra_tweets_para_anotacao_pessoas_negras.csv\n",
      "../dados/processados/tweets_classificados_por_objeto_anotados.csv\n",
      "../dados/processados/tweets_classificados_por_objeto_2_anotados.csv\n",
      "../dados/processados/tweets_classificados_por_objeto_3_anotados.csv\n",
      "../dados/processados/tweets_classificados_por_objeto_4_anotados.csv\n",
      "../modelos/nb_wrong_target_classifier_v01/test_data.csv\n",
      "../modelos/nb_wrong_target_classifier_v01/train_data.csv\n",
      "../modelos/nb_wrong_target_classifier_v02/test_data.csv\n",
      "../modelos/nb_wrong_target_classifier_v02/train_data.csv\n"
     ]
    }
   ],
   "source": [
    "if False:\n",
    "    for f in filenames:\n",
    "        duplicate_to_encrypted(f, encrypt_cols, encryptor, verbose=True)"
   ]
  },
  {
   "cell_type": "markdown",
   "id": "24cc5aa2-d7b1-4ae9-8d16-a31c87720a28",
   "metadata": {},
   "source": [
    "### Diretórios"
   ]
  },
  {
   "cell_type": "code",
   "execution_count": 4,
   "id": "a9bb6120-3510-4f4a-8b81-6c9539e0ecdb",
   "metadata": {},
   "outputs": [],
   "source": [
    "if False:\n",
    "    input_folder = '../tweets/scored/'\n",
    "    for filename in Path(input_folder).rglob('*.csv'):\n",
    "        duplicate_to_encrypted(filename, encrypt_cols, encryptor, replacement=('/scored/', '/encrypted/'))"
   ]
  },
  {
   "cell_type": "code",
   "execution_count": null,
   "id": "8c8763cc-85d5-41ac-899a-2fc90f305942",
   "metadata": {},
   "outputs": [],
   "source": []
  }
 ],
 "metadata": {
  "kernelspec": {
   "display_name": "Python 3 (ipykernel)",
   "language": "python",
   "name": "python3"
  },
  "language_info": {
   "codemirror_mode": {
    "name": "ipython",
    "version": 3
   },
   "file_extension": ".py",
   "mimetype": "text/x-python",
   "name": "python",
   "nbconvert_exporter": "python",
   "pygments_lexer": "ipython3",
   "version": "3.8.10"
  }
 },
 "nbformat": 4,
 "nbformat_minor": 5
}
