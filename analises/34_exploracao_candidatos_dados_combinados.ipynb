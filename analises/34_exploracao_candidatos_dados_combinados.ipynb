{
 "cells": [
  {
   "cell_type": "markdown",
   "id": "0016f276-163a-4c00-92d7-de7243bcb447",
   "metadata": {},
   "source": [
    "# Exploração dos dados de candidatos"
   ]
  },
  {
   "cell_type": "markdown",
   "id": "d630ab1a-ec43-4aba-a532-9a5f5c9ee240",
   "metadata": {},
   "source": [
    "[Voltar ao Índice](00_indice.ipynb)\n",
    "\n",
    "Vamos verificar as características dos dados dos candidatos, quando completos com todas as informações vindas de todas as fontes (e.g. Bens, eleitorado, quantidade de votos). Especificamente, queremos verificar por que alguns candidatos não possuem votos registrados."
   ]
  },
  {
   "cell_type": "code",
   "execution_count": 2,
   "id": "ae61bdcd-3e48-47b6-8cc1-dc16c2b45d52",
   "metadata": {},
   "outputs": [],
   "source": [
    "import src.analysis_functions as af\n",
    "import src.xavy.data_retriever as xz"
   ]
  },
  {
   "cell_type": "markdown",
   "id": "8ebd2f5d-8272-4678-8423-3d3fc169be49",
   "metadata": {},
   "source": [
    "## Carregando os dados"
   ]
  },
  {
   "cell_type": "code",
   "execution_count": 4,
   "id": "7e538d76-837b-4b1c-9a77-1c7b21554f41",
   "metadata": {},
   "outputs": [
    {
     "name": "stdout",
     "output_type": "stream",
     "text": [
      "Found a local file, skip download.\n",
      "Found a local file, skip download.\n",
      "Found a local file, skip download.\n",
      "Found a local file, skip download.\n"
     ]
    }
   ],
   "source": [
    "# Baixa os dados caso não estejam presentes:\n",
    "xz.sync_remote_zipped_files('https://nuvem.ceweb.br/s/2HGbHTrWmnLwqjr/download/consulta_cand_2020_BRASIL.zip', '../dados/limpos/tse/consulta_cand/', keep_zip_dir=False)\n",
    "xz.sync_remote_zipped_files('https://nuvem.ceweb.br/s/NkEp3KoDp2HP8dc/download/perfil_eleitorado_2022.zip', '../dados/limpos/tse/perfil_eleitorado/', keep_zip_dir=False)\n",
    "xz.sync_remote_zipped_files('https://nuvem.ceweb.br/s/xq6nGLHsEZpgMHo/download/bem_candidato_2022_BRASIL.zip', '../dados/limpos/tse/bens_candidatos/', keep_zip_dir=False)\n",
    "xz.sync_remote_zipped_files('https://nuvem.ceweb.br/s/2SpdZPeMaDtdRAf/download/votacao_candidato_munzona_2022.zip', '../dados/brutos/tse/', keep_zip_dir=False)\n",
    "\n",
    "# Carrega informações sobre o candidato, seus bens e sobre o número de eleitores na sua unidade eleitoral:\n",
    "cand_df = af.load_cand_eleitorado_bens_votos('../dados/limpos/tse/consulta_cand/consulta_cand_2022_BRASIL.csv', # '../dados/limpos/tse/consulta_cand/consulta_cand_2022_BRASIL_pos.csv',\n",
    "                                             '../dados/limpos/tse/perfil_eleitorado/perfil_eleitorado_2022.csv',\n",
    "                                             '../dados/limpos/tse/bens_candidatos/bem_candidato_2022_BRASIL.csv',\n",
    "                                             '../dados/brutos/tse/votacao_candidato_munzona_2022/votacao_candidato_munzona_2022_BRASIL.csv',\n",
    "                                             cand_sel_cols=['SQ_CANDIDATO', 'NM_CANDIDATO', 'NM_URNA_CANDIDATO', 'NR_CPF_CANDIDATO', 'NR_TITULO_ELEITORAL_CANDIDATO', 'SG_PARTIDO', 'SG_UF', \n",
    "                                                            'SG_UE', 'NM_UE', 'DS_CARGO', 'NM_SOCIAL_CANDIDATO', 'NR_IDADE_DATA_POSSE', 'DS_GENERO', 'DS_GRAU_INSTRUCAO', 'DS_COR_RACA',\n",
    "                                                            'DS_SITUACAO_CANDIDATURA', 'DS_DETALHE_SITUACAO_CAND'])"
   ]
  },
  {
   "cell_type": "markdown",
   "id": "0de53e60-8c14-4675-bdea-4b0282f67ce2",
   "metadata": {},
   "source": [
    "## Candidatos sem votos"
   ]
  },
  {
   "cell_type": "markdown",
   "id": "85b89551-84f2-4e7b-8e30-9dc3d7630b4f",
   "metadata": {},
   "source": [
    "### Suplentes e vices recebem votos?"
   ]
  },
  {
   "cell_type": "code",
   "execution_count": 5,
   "id": "154dc914-090e-4d2e-96c7-fcde3e2e3ef8",
   "metadata": {},
   "outputs": [],
   "source": [
    "cargos_vice = ['1º SUPLENTE', '2º SUPLENTE', 'VICE-GOVERNADOR', 'VICE-PRESIDENTE']\n",
    "vice_df = cand_df.loc[cand_df['DS_CARGO'].isin(cargos_vice)]"
   ]
  },
  {
   "cell_type": "code",
   "execution_count": 6,
   "id": "f3f4970e-60f9-4db8-964e-f069b32eddab",
   "metadata": {},
   "outputs": [
    {
     "data": {
      "text/plain": [
       "NaN    709\n",
       "Name: QT_VOTOS_NOMINAIS, dtype: int64"
      ]
     },
     "execution_count": 6,
     "metadata": {},
     "output_type": "execute_result"
    }
   ],
   "source": [
    "vice_df['QT_VOTOS_NOMINAIS'].value_counts(dropna=False)"
   ]
  },
  {
   "cell_type": "markdown",
   "id": "046cb65f-a30d-47b8-8f41-8b5789baf309",
   "metadata": {},
   "source": [
    "**Resultado:** Se temos apenas ausência de contabilização (NaN) para os suplentes e vices (veja acima), então eles não recebem votos"
   ]
  },
  {
   "cell_type": "markdown",
   "id": "712c7758-6e09-4523-9d7c-be9cdf9a8a96",
   "metadata": {},
   "source": [
    "### E os demais cargos que não tem votos?"
   ]
  },
  {
   "cell_type": "code",
   "execution_count": 7,
   "id": "a304d084-1a89-431e-ab75-d9a34473f0fc",
   "metadata": {},
   "outputs": [],
   "source": [
    "no_votes_df = cand_df.loc[cand_df['QT_VOTOS_NOMINAIS'].isnull() & ~cand_df['DS_CARGO'].isin(cargos_vice)]"
   ]
  },
  {
   "cell_type": "code",
   "execution_count": 8,
   "id": "d5215991-3248-4490-acb6-f73f97d8a57b",
   "metadata": {},
   "outputs": [
    {
     "data": {
      "text/plain": [
       "AGUARDANDO JULGAMENTO    1964\n",
       "RENÚNCIA                   27\n",
       "DEFERIDO                    1\n",
       "Name: DS_DETALHE_SITUACAO_CAND, dtype: int64"
      ]
     },
     "execution_count": 8,
     "metadata": {},
     "output_type": "execute_result"
    }
   ],
   "source": [
    "no_votes_df['DS_DETALHE_SITUACAO_CAND'].value_counts()"
   ]
  },
  {
   "cell_type": "code",
   "execution_count": 9,
   "id": "ff9775d5-a1cf-4542-a567-650b28bb20e2",
   "metadata": {},
   "outputs": [
    {
     "data": {
      "text/plain": [
       "CADASTRADO    1964\n",
       "INAPTO          27\n",
       "APTO             1\n",
       "Name: DS_SITUACAO_CANDIDATURA, dtype: int64"
      ]
     },
     "execution_count": 9,
     "metadata": {},
     "output_type": "execute_result"
    }
   ],
   "source": [
    "no_votes_df['DS_SITUACAO_CANDIDATURA'].value_counts()"
   ]
  },
  {
   "cell_type": "markdown",
   "id": "0d137ef5-1756-4e18-a9ac-26da0fad2b11",
   "metadata": {},
   "source": [
    "**Resultado:** Vemos que a maioria dos casos de candidatos sem votos são de pessoas vetadas.\n",
    "\n",
    "Vamos investigar os casos de candidatos aptos mas que não receberam votos"
   ]
  },
  {
   "cell_type": "code",
   "execution_count": 10,
   "id": "0c9f592b-2e3e-4af3-81f2-8cf7b14f455d",
   "metadata": {},
   "outputs": [],
   "source": [
    "aptos_no_votes_df = no_votes_df.loc[no_votes_df['DS_SITUACAO_CANDIDATURA'] == 'APTO']"
   ]
  },
  {
   "cell_type": "code",
   "execution_count": null,
   "id": "671c5ed7-11a5-4d48-a45f-402db83adead",
   "metadata": {},
   "outputs": [],
   "source": []
  }
 ],
 "metadata": {
  "kernelspec": {
   "display_name": "Python 3 (ipykernel)",
   "language": "python",
   "name": "python3"
  },
  "language_info": {
   "codemirror_mode": {
    "name": "ipython",
    "version": 3
   },
   "file_extension": ".py",
   "mimetype": "text/x-python",
   "name": "python",
   "nbconvert_exporter": "python",
   "pygments_lexer": "ipython3",
   "version": "3.8.10"
  }
 },
 "nbformat": 4,
 "nbformat_minor": 5
}
