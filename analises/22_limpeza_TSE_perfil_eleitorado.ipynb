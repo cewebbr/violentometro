{
 "cells": [
  {
   "cell_type": "markdown",
   "metadata": {},
   "source": [
    "# Preparação da base de perfil do eleitorado"
   ]
  },
  {
   "cell_type": "markdown",
   "metadata": {},
   "source": [
    "[Voltar ao Índice](00_indice.ipynb)\n",
    "\n",
    "Este notebook limpa e padroniza os dados de perfil do eleitorado."
   ]
  },
  {
   "cell_type": "code",
   "execution_count": 1,
   "metadata": {},
   "outputs": [],
   "source": [
    "import pandas as pd\n",
    "import numpy as np\n",
    "import utils as xu"
   ]
  },
  {
   "cell_type": "markdown",
   "metadata": {},
   "source": [
    "## Hard-coded"
   ]
  },
  {
   "cell_type": "code",
   "execution_count": 2,
   "metadata": {},
   "outputs": [],
   "source": [
    "simple_cols = ['PERIODO', 'UF', 'MUNICIPIO', 'COD_MUNICIPIO_TSE', 'NR_ZONA', 'SEXO', 'FAIXA_ETARIA', \n",
    "                   'GRAU_DE_ESCOLARIDADE', 'QTD_ELEITORES_NO_PERFIL']\n",
    "\n",
    "compl_sel_cols  = ['ANO_ELEICAO', 'SG_UF', 'NM_MUNICIPIO', 'CD_MUNICIPIO', 'NR_ZONA', 'DS_GENERO', \n",
    "                   'DS_FAIXA_ETARIA', 'DS_GRAU_ESCOLARIDADE', 'QT_ELEITORES_PERFIL']\n",
    "\n",
    "full_columns = ['DT_GERACAO', 'HH_GERACAO', 'ANO_ELEICAO', 'SG_UF', 'CD_MUNICIPIO',\n",
    "       'NM_MUNICIPIO', 'CD_MUN_SIT_BIOMETRIA', 'DS_MUN_SIT_BIOMETRIA',\n",
    "       'NR_ZONA', 'CD_GENERO', 'DS_GENERO', 'CD_ESTADO_CIVIL',\n",
    "       'DS_ESTADO_CIVIL', 'CD_FAIXA_ETARIA', 'DS_FAIXA_ETARIA',\n",
    "       'CD_GRAU_ESCOLARIDADE', 'DS_GRAU_ESCOLARIDADE', 'QT_ELEITORES_PERFIL',\n",
    "       'QT_ELEITORES_BIOMETRIA', 'QT_ELEITORES_DEFICIENCIA',\n",
    "       'QT_ELEITORES_INC_NM_SOCIAL']"
   ]
  },
  {
   "cell_type": "markdown",
   "metadata": {},
   "source": [
    "## Funções"
   ]
  },
  {
   "cell_type": "code",
   "execution_count": 3,
   "metadata": {},
   "outputs": [],
   "source": [
    "def load_simple_df(filename, simple_cols):\n",
    "\n",
    "    df_raw = pd.read_csv(filename, sep=';', encoding='latin1', names=simple_cols)\n",
    "    \n",
    "    return df_raw"
   ]
  },
  {
   "cell_type": "code",
   "execution_count": 4,
   "metadata": {},
   "outputs": [],
   "source": [
    "def simplify_dataset(compl_df, compl_sel_cols, simple_cols):\n",
    "    \"\"\"\n",
    "    Given a \"perfil do eleitorado\" DataFrame `compl_df` that contains\n",
    "    more info than the others (more columns), transform it to \n",
    "    the simpler version (same columns and column names).\n",
    "    \n",
    "    Input\n",
    "    -----\n",
    "    \n",
    "    simple_cols : list of str\n",
    "        Names of the columns of the simpler tables.\n",
    "        \n",
    "    compl_sel_cols : list of str\n",
    "        Corresponding column names in the more comples tables.\n",
    "    \"\"\"\n",
    "    \n",
    "    # Cria dicionário que traduz nome das colunas:\n",
    "    col_dict_compl = dict(zip(compl_sel_cols, simple_cols))\n",
    "    # Cria tabela análoga as simples:\n",
    "    simplified     = compl_df[compl_sel_cols].rename(col_dict_compl, axis=1)\n",
    "    \n",
    "    return simplified"
   ]
  },
  {
   "cell_type": "code",
   "execution_count": 5,
   "metadata": {},
   "outputs": [],
   "source": [
    "def create_city_df(df):\n",
    "    \"\"\"\n",
    "    Given a \"perfil do eleitorado\" DataFrame `df` (in the simpler setting, \n",
    "    with fewer columns), return a DataFrame of the UF and MUNICIPIO name, \n",
    "    with indices given by the TSE code.\n",
    "    \"\"\"\n",
    "    \n",
    "    # Get year of the dataset:\n",
    "    years = df['PERIODO'].unique() if 'PERIODO' in df.columns else df['ANO_ELEICAO'].unique()\n",
    "    assert len(years) == 1, 'There should be only one year in a dataset'\n",
    "    year = years[0]\n",
    "\n",
    "    # Extract list of municipalities:\n",
    "    local_cols = ['COD_MUNICIPIO_TSE', 'UF', 'MUNICIPIO']\n",
    "    locais     = df[local_cols].drop_duplicates()\n",
    "\n",
    "    # Test that municipality code and name are biunivocal:\n",
    "    locais['COMPLETO'] = locais['MUNICIPIO'] + ' (' + locais['UF'] + ')'\n",
    "    test_biunivocal    = xu.one2oneQ(locais, 'COD_MUNICIPIO_TSE', 'COMPLETO')\n",
    "    assert test_biunivocal, 'There is no one-to-one correspondence between place code and name.'\n",
    "\n",
    "    locais     = locais.set_index('COD_MUNICIPIO_TSE')[['UF', 'MUNICIPIO']]\n",
    "    new_cols   = [col + '_' + str(year) for col in locais.columns]\n",
    "    col_mapper = dict(zip(locais.columns, new_cols))\n",
    "    locais     = locais.rename(col_mapper, axis=1)\n",
    "\n",
    "    return locais"
   ]
  },
  {
   "cell_type": "code",
   "execution_count": 6,
   "metadata": {},
   "outputs": [],
   "source": [
    "def std_faixa_etaria(series):\n",
    "    \"\"\"\n",
    "    Standardize column 'FAIXA_ETARIA' to more complex formatting \n",
    "    (e.g. lower case). Does not change the age ranges.\n",
    "    \"\"\"\n",
    "    series = series.str.lower()\n",
    "    series = series.str.replace('inválida', 'Inválido')\n",
    "    series = series.apply(lambda s: s[0].upper() + s[1:])\n",
    "    \n",
    "    return series"
   ]
  },
  {
   "cell_type": "code",
   "execution_count": 7,
   "metadata": {},
   "outputs": [],
   "source": [
    "def fix_sexo(series):\n",
    "    series = series.str.replace('NAO INFORMADO', 'NÃO INFORMADO')\n",
    "    return series"
   ]
  },
  {
   "cell_type": "code",
   "execution_count": 8,
   "metadata": {},
   "outputs": [],
   "source": [
    "def fix_escolaridade(series):\n",
    "    series = series.str.replace('NAO INFORMADO', 'NÃO INFORMADO')\n",
    "    series = series.str.replace('LE E ESCREVE', 'LÊ E ESCREVE')\n",
    "    #series = series.str.replace('PRIMEIRO GRAU', 'ENSINO FUNDAMENTAL')\n",
    "    #series = series.str.replace('SEGUNDO GRAU', 'ENSINO MÉDIO')\n",
    "    return series"
   ]
  },
  {
   "cell_type": "code",
   "execution_count": 9,
   "metadata": {},
   "outputs": [],
   "source": [
    "def fix_old_data(df):\n",
    "    df['SEXO'] = fix_sexo(df['SEXO'])\n",
    "    df['GRAU_DE_ESCOLARIDADE'] = fix_escolaridade(df['GRAU_DE_ESCOLARIDADE'])\n",
    "    return df"
   ]
  },
  {
   "cell_type": "code",
   "execution_count": 10,
   "metadata": {},
   "outputs": [],
   "source": [
    "def fix_simple_data(df):\n",
    "    df['FAIXA_ETARIA'] = std_faixa_etaria(df['FAIXA_ETARIA'])\n",
    "    return df"
   ]
  },
  {
   "cell_type": "code",
   "execution_count": 11,
   "metadata": {},
   "outputs": [],
   "source": [
    "def fix_complex_data(df):\n",
    "    df['DS_FAIXA_ETARIA'] = df['DS_FAIXA_ETARIA'].str.strip()\n",
    "    return df"
   ]
  },
  {
   "cell_type": "code",
   "execution_count": 12,
   "metadata": {},
   "outputs": [],
   "source": [
    "def gen_compl_df(df, simple_cols, compl_sel_cols, full_columns):\n",
    "    \"\"\"\n",
    "    Transform a simple eleitorado DataFrame `df` into a new DataFrame\n",
    "    with the same columns as the complex versions. The columns are \n",
    "    empty.\n",
    "    \n",
    "    Input\n",
    "    -----\n",
    "    \n",
    "    df : DataFrame\n",
    "        The TSE \"Perfil do eleitorado\" data in the simpler form.\n",
    "        \n",
    "    simple_cols : list of str\n",
    "        The names of the `df` columns.\n",
    "        \n",
    "    compl_sel_cols : list of str\n",
    "        The new names of the `simple_cols` (the columns associated with them\n",
    "        in the more complex tables)\n",
    "        \n",
    "    full_columns : list of str\n",
    "        The names of all the columns in the complex TSE \"Perfil do eleitorado\" tables.\n",
    "    \"\"\"\n",
    "    # Create structure:\n",
    "    template = pd.DataFrame(data=None, columns=full_columns)\n",
    "    # Rename common columns:\n",
    "    col_dict_simple = dict(zip(simple_cols, compl_sel_cols))\n",
    "    renamed = df.rename(col_dict_simple, axis=1)\n",
    "    # Build DataFrame with all columns:\n",
    "    result = pd.concat([template, renamed])\n",
    "    \n",
    "    return result"
   ]
  },
  {
   "cell_type": "code",
   "execution_count": 13,
   "metadata": {},
   "outputs": [],
   "source": [
    "def get_cd_genero(ds_genero):\n",
    "    \"\"\"\n",
    "    Translate gender description series `ds_genero` to a gender code series.\n",
    "    \"\"\"\n",
    "    return ds_genero.map({'NÃO INFORMADO': 0, 'MASCULINO': 2, 'FEMININO': 4})"
   ]
  },
  {
   "cell_type": "code",
   "execution_count": 14,
   "metadata": {},
   "outputs": [],
   "source": [
    "def get_cd_escolaridade(ds_escolaridade):\n",
    "    \"\"\"\n",
    "    Translate academic record description series `ds_escolaridade` to a code series.\n",
    "    \"\"\"\n",
    "    # Build description to code dict:\n",
    "    ds_escolar = ['NÃO INFORMADO', 'ANALFABETO', 'LÊ E ESCREVE',\n",
    "       'ENSINO FUNDAMENTAL INCOMPLETO', 'ENSINO FUNDAMENTAL COMPLETO',\n",
    "       'ENSINO MÉDIO INCOMPLETO', 'ENSINO MÉDIO COMPLETO',\n",
    "       'SUPERIOR INCOMPLETO', 'SUPERIOR COMPLETO', 'PRIMEIRO GRAU INCOMPLETO',\n",
    "                 'PRIMEIRO GRAU COMPLETO', 'SEGUNDO GRAU INCOMPLETO', 'SEGUNDO GRAU COMPLETO']\n",
    "    cd_escolar = [0, 1, 2, 3, 4, 5, 6, 7, 8, 3, 4, 5, 6]\n",
    "    dict_escolar = dict(zip(ds_escolar, cd_escolar))\n",
    "    \n",
    "    return ds_escolaridade.map(dict_escolar)"
   ]
  },
  {
   "cell_type": "code",
   "execution_count": 15,
   "metadata": {},
   "outputs": [],
   "source": [
    "def complete_df(df, simple_cols, compl_sel_cols, full_columns):\n",
    "    \"\"\"\n",
    "    Transform a simple eleitorado DataFrame `df` into a new DataFrame\n",
    "    with the same columns as the complex versions. The columns\n",
    "    CD_GENERO and CD_GRAU_ESCOLARIDADE are filled based on their \n",
    "    description counterpart columns.\n",
    "    \n",
    "    Input\n",
    "    -----\n",
    "    \n",
    "    df : DataFrame\n",
    "        The TSE \"Perfil do eleitorado\" data in the simpler form.\n",
    "        \n",
    "    simple_cols : list of str\n",
    "        The names of the `df` columns.\n",
    "        \n",
    "    compl_sel_cols : list of str\n",
    "        The new names of the `simple_cols` (the columns associated with them\n",
    "        in the more complex tables)\n",
    "        \n",
    "    full_columns : list of str\n",
    "        The names of all the columns in the complex TSE \"Perfil do eleitorado\" tables.\n",
    "    \"\"\"\n",
    "\n",
    "    # Create new columns and rename common ones:\n",
    "    empty_complex = gen_compl_df(df, simple_cols, compl_sel_cols, full_columns)\n",
    "    \n",
    "    # Populate possible columns:\n",
    "    empty_complex['CD_GENERO'] = get_cd_genero(empty_complex['DS_GENERO'])\n",
    "    empty_complex['CD_GRAU_ESCOLARIDADE'] = get_cd_escolaridade(empty_complex['DS_GRAU_ESCOLARIDADE'])\n",
    "    \n",
    "    return empty_complex"
   ]
  },
  {
   "cell_type": "markdown",
   "metadata": {},
   "source": [
    "## Constrói bases limpas e padronizadas"
   ]
  },
  {
   "cell_type": "markdown",
   "metadata": {},
   "source": [
    "### 2022"
   ]
  },
  {
   "cell_type": "code",
   "execution_count": 16,
   "metadata": {},
   "outputs": [],
   "source": [
    "eleitor2022 = pd.read_csv('/home/skems/ceweb/dados/brutos/tse/perfil_eleitorado_2022/perfil_eleitorado_2022.csv', sep=';', encoding='latin1')"
   ]
  },
  {
   "cell_type": "code",
   "execution_count": 17,
   "metadata": {},
   "outputs": [],
   "source": [
    "eleitor2022 = fix_complex_data(eleitor2022)\n",
    "use_2020_name = dict(zip(['CD_MUN_SIT_BIOMETRICA', 'DS_MUN_SIT_BIOMETRICA'], ['CD_MUN_SIT_BIOMETRIA', 'DS_MUN_SIT_BIOMETRIA']))\n",
    "eleitor2022.rename(use_2020_name, axis=1, inplace=True)"
   ]
  },
  {
   "cell_type": "code",
   "execution_count": 18,
   "metadata": {},
   "outputs": [],
   "source": [
    "#eleitor2022.sample(5).transpose()"
   ]
  },
  {
   "cell_type": "code",
   "execution_count": 21,
   "metadata": {},
   "outputs": [],
   "source": [
    "#eleitor2022.to_csv('/home/skems/ceweb/dados/limpos/tse/perfil_eleitorado/perfil_eleitorado_2022.csv', index=False)"
   ]
  },
  {
   "cell_type": "markdown",
   "metadata": {},
   "source": [
    "# Processo de construção e teste das transformações\n",
    "\n",
    "Basicamente testes feitos no processo de construção da pipeline de limpeza acima."
   ]
  },
  {
   "cell_type": "markdown",
   "metadata": {
    "tags": []
   },
   "source": [
    "## Carrega dados"
   ]
  },
  {
   "cell_type": "code",
   "execution_count": 24,
   "metadata": {},
   "outputs": [],
   "source": [
    "eleitor2020 = pd.read_csv('../dados/limpos/perfil_eleitorado/perfil_eleitorado_2020.csv')"
   ]
  },
  {
   "cell_type": "code",
   "execution_count": 22,
   "metadata": {},
   "outputs": [],
   "source": [
    "eleitor2022 = pd.read_csv('../dados/limpos/perfil_eleitorado/perfil_eleitorado_2022.csv')"
   ]
  },
  {
   "cell_type": "markdown",
   "metadata": {},
   "source": [
    "#### Verifica consistência entre dados complexos"
   ]
  },
  {
   "cell_type": "code",
   "execution_count": 25,
   "metadata": {},
   "outputs": [
    {
     "data": {
      "text/plain": [
       "True"
      ]
     },
     "execution_count": 25,
     "metadata": {},
     "output_type": "execute_result"
    }
   ],
   "source": [
    "# Verifica que as colunas dos mais complexos são as mesmas:\n",
    "(eleitor2022.columns == eleitor2020.columns).all()"
   ]
  },
  {
   "cell_type": "code",
   "execution_count": 28,
   "metadata": {},
   "outputs": [
    {
     "name": "stdout",
     "output_type": "stream",
     "text": [
      "DS_FAIXA_ETARIA\n"
     ]
    }
   ],
   "source": [
    "# Verifica colunas que necessitam de um strip:\n",
    "for c in eleitor2022.columns:\n",
    "    if (eleitor2022[c].astype(str).str.strip() != eleitor2022[c].astype(str)).any():\n",
    "        print(c)"
   ]
  }
 ],
 "metadata": {
  "kernelspec": {
   "display_name": "Python 3 (ipykernel)",
   "language": "python",
   "name": "python3"
  },
  "language_info": {
   "codemirror_mode": {
    "name": "ipython",
    "version": 3
   },
   "file_extension": ".py",
   "mimetype": "text/x-python",
   "name": "python",
   "nbconvert_exporter": "python",
   "pygments_lexer": "ipython3",
   "version": "3.8.10"
  }
 },
 "nbformat": 4,
 "nbformat_minor": 4
}
