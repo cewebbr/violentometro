{
 "cells": [
  {
   "cell_type": "markdown",
   "id": "251aa88a-f133-4499-8c49-b04b8276788f",
   "metadata": {
    "tags": []
   },
   "source": [
    "# Violentômetro"
   ]
  },
  {
   "cell_type": "markdown",
   "id": "ce01dddd-51ed-45ec-b408-1335ac36c1d1",
   "metadata": {
    "tags": []
   },
   "source": [
    "## Índice do projeto"
   ]
  },
  {
   "cell_type": "markdown",
   "id": "8d9df7be-bb50-4eda-a5c4-a660b1635cb9",
   "metadata": {},
   "source": [
    "### 1. Preparação e limpeza de dados"
   ]
  },
  {
   "cell_type": "markdown",
   "id": "57ab61fe-d88f-447e-8600-6869ffaf3646",
   "metadata": {},
   "source": [
    "1.1. [Base de candidatos e de seus bens](21_limpeza_TSE_candidatos_bens.ipynb) - Pegamos os dados brutos do TSE e os preparamos para o uso neste projeto.\n",
    "\n",
    "1.2. [Base de perfil do eleitorado](22_limpeza_TSE_perfil_eleitorado.ipynb) - Pegamos os dados brutos sobre o perfil do eleitorado, dos dados abertos do TSE, e os preparamos para uso no projeto.\n",
    "\n",
    "1.3. [Candidaturas cadastradas no VoteLGBT](23_limpeza_voteLGBT_candidaturas-cadastrada_2022.ipynb) - Limpamos e padronizamos a lista de candidaturas registradas na plataforma VoteLGBT, e realizamos alguns testes de qualidade dos dados.\n",
    "\n",
    "1.4. [Amostra de tweets para anotação](26_preparacao_amostras_tweets_para_anotacao.ipynb) - Selecionamos uma amostra dos tweets capturados para serem anotados em relação a violência e objeto do comentário."
   ]
  },
  {
   "cell_type": "markdown",
   "id": "19b65dcd-d843-4c51-bb09-7c9ebbbd859c",
   "metadata": {},
   "source": [
    "### 2. Exploração dos dados"
   ]
  },
  {
   "cell_type": "markdown",
   "id": "aef051cd-67e7-4cc2-a3ab-e551f10695ef",
   "metadata": {},
   "source": [
    "2.1. [Redes sociais dos candidatos](31_exploracao_TSE_redes-sociais.ipynb) - Exploramos (e limpamos) a base de dados bruta do TSE sobre as redes sociais dos candidatos de 2020 e 2022.\n",
    "\n",
    "2.2. [Textos anotados (violência)](32_exploracao_textos-anotados.ipynb) - Exploramos os corpus de Pelle & Moreira (2017) e Fortuna _et al._ (2019) de exemplos e contra-exemplos de textos violentos.\n",
    "\n",
    "2.3. [Votos nominais aos candidatos](33_exploracao_TSE_votacao_candidatos.ipynb) - Buscamos entender o significado dos dados com número de votos providos pelo TSE.\n",
    "\n",
    "2.4. [Dados combinados de candidatos](34_exploracao_candidatos_dados_combinados.ipynb) - Verificamos a relação entre ausência de dados sobre os votos e a situação da candidatura.\n",
    "\n",
    "2.4. [Instagram -> Twitter](40_identificando_contas_twitter_pelo_instagram.ipynb) - Ampliamos a base de perfis do twitter de candidatos a partir dos nomes de perfil no instagram declarados ao TSE."
   ]
  },
  {
   "cell_type": "markdown",
   "id": "80be9f94-2496-4d29-97dc-9e18df6e9673",
   "metadata": {
    "tags": []
   },
   "source": [
    "### 3. Treinamento e teste de modelos"
   ]
  },
  {
   "cell_type": "markdown",
   "id": "5fd70ed3-c6b5-402e-9452-be93026ac89c",
   "metadata": {},
   "source": [
    "3.1. [Baseline para violência](modelos/10_modelo_baseline_discurso_odio.ipynb) - Criação, treinamento e teste de modelo de Machine Learning, para servir de referência para modelos BERT.\n",
    "\n",
    "3.2. [IA para violência](modelos/20_modelo_bert_com_tensorflow.ipynb) - Criação, treinamento e teste de modelo BERT de identificação de discursos violentos.\n",
    "\n",
    "3.3. [Teste da IA para violênia](modelos/25_teste_modelo_bert_treinado.ipynb) - Carregamos o modelo treinado acima e o aplicamos a casos de teste e novos.\n",
    "\n",
    "3.4. [Modelo do alvo do tweet](modelos/30_modelo_baseline_objeto_do_tweet.ipynb) - Necessitamos saber a quem é dirigido um certo tweet, se ao candidato mencionado ou a outra pessoa. Isso é feito aqui.\n",
    "\n",
    "3.5. [Burrice Artificial](modelos/40_modelo_alvo_do_tweet.ipynb) - Tentativa de construção de modelo BERT para identificação de alvo do tweet, com performance pior ao do modelo de ML acima."
   ]
  },
  {
   "cell_type": "markdown",
   "id": "82bae54b-91db-4b9c-8fd0-c42311380342",
   "metadata": {},
   "source": [
    "### 4. Análise dos dados"
   ]
  },
  {
   "cell_type": "markdown",
   "id": "e0cd531e-60cf-4046-bc19-abb46cece8c8",
   "metadata": {},
   "source": [
    "4.1. [Candidaturas municipais nas redes](46_analise_estatistica_candidatos_nas_redes_2020.ipynb) - Análise exploratória do uso de redes sociais pelas candidaturas de 2020 (municipais), a partir dos dados do TSE.\n",
    "\n",
    "4.2. [Candidaturas gerais nas redes](47_analise_estatistica_candidatos_nas_redes_2022.ipynb) - Análise exploratória do uso de redes sociais pelas candidaturas de 2022 (estaduais e federais), a partir dos dados do TSE.\n",
    "\n",
    "4.3. [Performance do modelo](49_analise_estatistica_desempenho_e_vies_detector_violencia.ipynb) - Análise do desempenho e viéses do modelo treinado para detectar violência, utilizando novos dados.\n",
    "\n",
    "4.4. [Violência no twitter](50_analise_estatistica_violencia_twitter.ipynb) - Análise da quantidade e distribuição de violência no Twitter."
   ]
  },
  {
   "cell_type": "markdown",
   "id": "5d58dce2-8a81-45b4-9fba-9ad7c9e70075",
   "metadata": {},
   "source": [
    "### A. Rascunhos"
   ]
  },
  {
   "cell_type": "markdown",
   "id": "cfd040ae-3e3d-4096-a3d5-f0f32f60d39d",
   "metadata": {},
   "source": [
    "A.1. [Protótipo de captura de tweets](80_prototipo_captura_respostas_a_tweets.ipynb) - Processo de construção de sistema de captura automatizada de tweets, além de outros testes e correções dos dados.\n",
    "\n",
    "A.2. [Protótipo de estimador Bayesiano](81_prototipo_estimador_relacao_hate-score_anotadores.ipynb) - Para uma relação linear entre o hate score produzido pela IA e a avaliação humana, para comparação do viés inter grupos sociais."
   ]
  },
  {
   "cell_type": "code",
   "execution_count": null,
   "id": "09c368c5-185e-46ab-8548-a5b96658927c",
   "metadata": {},
   "outputs": [],
   "source": []
  }
 ],
 "metadata": {
  "kernelspec": {
   "display_name": "Python 3 (ipykernel)",
   "language": "python",
   "name": "python3"
  },
  "language_info": {
   "codemirror_mode": {
    "name": "ipython",
    "version": 3
   },
   "file_extension": ".py",
   "mimetype": "text/x-python",
   "name": "python",
   "nbconvert_exporter": "python",
   "pygments_lexer": "ipython3",
   "version": "3.8.10"
  }
 },
 "nbformat": 4,
 "nbformat_minor": 5
}
