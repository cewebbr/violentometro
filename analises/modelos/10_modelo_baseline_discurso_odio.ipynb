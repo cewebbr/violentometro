{
 "cells": [
  {
   "cell_type": "markdown",
   "metadata": {},
   "source": [
    "# Criação de modelo baseline p/ identificação de discurso de ódio"
   ]
  },
  {
   "cell_type": "markdown",
   "metadata": {},
   "source": [
    "[Voltar ao Índice](../00_indice.ipynb)\n",
    "\n",
    "Vamos criar um modelo de identificação básico, bag of words, para servir de referência para a performance obtida com o BERT pré-treinado."
   ]
  },
  {
   "cell_type": "code",
   "execution_count": 1,
   "metadata": {},
   "outputs": [
    {
     "name": "stderr",
     "output_type": "stream",
     "text": [
      "/home/hxavier/system/envs/ceweb/lib/python3.8/site-packages/_distutils_hack/__init__.py:33: UserWarning: Setuptools is replacing distutils.\n",
      "  warnings.warn(\"Setuptools is replacing distutils.\")\n"
     ]
    }
   ],
   "source": [
    "import pandas as pd\n",
    "import numpy as np\n",
    "import matplotlib.pyplot as pl\n",
    "\n",
    "import xavy.explore as xe\n",
    "import xavy.dataframes as xd\n",
    "import xavy.utils as xu\n",
    "import xavy.text as xt\n",
    "import xavy.mltools as ml"
   ]
  },
  {
   "cell_type": "markdown",
   "metadata": {},
   "source": [
    "## Funções"
   ]
  },
  {
   "cell_type": "code",
   "execution_count": 2,
   "metadata": {},
   "outputs": [],
   "source": [
    "def read_offcombr(path):\n",
    "    \"\"\"\n",
    "    Load an ARFF file from OffComBR project \n",
    "    by reading it as a CSV file. The CSV \n",
    "    parameters are tuned and hard-coded for\n",
    "    the project's data.\n",
    "\n",
    "    Returns a DataFrame\n",
    "    \"\"\"\n",
    "    df = pd.read_csv(path, skiprows=8, names=['label','sentence'], quotechar=\"'\")\n",
    "    return df"
   ]
  },
  {
   "cell_type": "markdown",
   "metadata": {},
   "source": [
    "## Carregando os dados"
   ]
  },
  {
   "cell_type": "markdown",
   "metadata": {},
   "source": [
    "Fontes: <https://github.com/paulafortuna/Portuguese-Hate-Speech-Dataset> e <https://github.com/rogersdepelle/OffComBR>"
   ]
  },
  {
   "cell_type": "code",
   "execution_count": 3,
   "metadata": {},
   "outputs": [],
   "source": [
    "# Carrega dados da Paula Fortuna:\n",
    "binhate_df = pd.read_csv('../../dados/brutos/Portuguese-Hate-Speech-Dataset/2019-05-28_portuguese_hate_speech_binary_classification.csv')"
   ]
  },
  {
   "cell_type": "code",
   "execution_count": 4,
   "metadata": {},
   "outputs": [],
   "source": [
    "# Construindo base mais rigorosa:\n",
    "\n",
    "annotations = ['hatespeech_G1', 'hatespeech_G2', 'hatespeech_G3']\n",
    "\n",
    "assert binhate_df.query('hatespeech_comb == 0')[annotations].sum(axis=1).max() == 1\n",
    "binhate_df.loc[binhate_df['hatespeech_comb'] == 0, 'label'] = 0\n",
    "binhate_df.loc[binhate_df[annotations].sum(axis=1) > 2.5, 'label'] = 1\n",
    "\n",
    "xclass_df = binhate_df.loc[~binhate_df['label'].isnull()].copy()\n",
    "xclass_df['label'] = xclass_df['label'].astype(int)\n",
    "xclass_df = xclass_df[['label', 'text']]"
   ]
  },
  {
   "cell_type": "code",
   "execution_count": 5,
   "metadata": {},
   "outputs": [],
   "source": [
    "# Carrega dados do Pelle:\n",
    "offcombr_df = read_offcombr('../../dados/brutos/OffComBR/OffComBR2.arff')\n",
    "offcombr_df.rename({'sentence':'text'}, axis=1, inplace=True)\n",
    "offcombr_df['label'] = offcombr_df['label'].map({'yes':1, 'no':0})"
   ]
  },
  {
   "cell_type": "code",
   "execution_count": 6,
   "metadata": {},
   "outputs": [],
   "source": [
    "# Junta as bases:\n",
    "mass_df = pd.concat([xclass_df, offcombr_df], ignore_index=True)"
   ]
  },
  {
   "cell_type": "code",
   "execution_count": 7,
   "metadata": {},
   "outputs": [],
   "source": [
    "# Salva resultado:\n",
    "#mass_df.to_csv('../../dados/processados/hatespeech_fortuna3+offcombr2.csv', index=False)"
   ]
  },
  {
   "cell_type": "markdown",
   "metadata": {},
   "source": [
    "### Separando em amostras"
   ]
  },
  {
   "cell_type": "code",
   "execution_count": 8,
   "metadata": {},
   "outputs": [],
   "source": [
    "# Seleciona a base de dados:\n",
    "#data_df = binhate_df\n",
    "data_df = mass_df\n",
    "X_col = 'text'\n",
    "#y_col = 'hatespeech_comb'\n",
    "y_col = 'label'\n",
    "\n",
    "# Divide em treino e teste:\n",
    "train_df, test_df = ml.random_set_split(data_df, [0.8, 0.20], 876409)\n",
    "X_train, y_train = ml.Xy_split(train_df[[X_col, y_col]], y_col)\n",
    "X_train = X_train[X_col]\n",
    "X_test,  y_test  = ml.Xy_split(test_df[[X_col, y_col]], y_col)\n",
    "X_test  = X_test[X_col]"
   ]
  },
  {
   "cell_type": "markdown",
   "metadata": {},
   "source": [
    "## Modelo de chute aleatório"
   ]
  },
  {
   "cell_type": "markdown",
   "metadata": {},
   "source": [
    "Como ponto zero de performance, vamos utilizar um \"modelo\" que chuta qualquer categoria de maneira aleatória."
   ]
  },
  {
   "cell_type": "code",
   "execution_count": 10,
   "metadata": {},
   "outputs": [],
   "source": [
    "from sklearn.metrics import accuracy_score\n",
    "from sklearn.metrics import f1_score, accuracy_score, precision_score, recall_score\n",
    "from sklearn.metrics import confusion_matrix\n",
    "from xavy.mltools import geomean_hit_rate"
   ]
  },
  {
   "cell_type": "code",
   "execution_count": 12,
   "metadata": {},
   "outputs": [
    {
     "name": "stdout",
     "output_type": "stream",
     "text": [
      "acc: 0.492\n",
      "f1: 0.218\n",
      "prec: 0.146\n",
      "rec: 0.432\n",
      "ghr: 0.467\n"
     ]
    }
   ],
   "source": [
    "random_model = ml.RandomPicker()\n",
    "random_model.fit(X_train, y_train)\n",
    "y_test_pred = random_model.predict(X_test)\n",
    "\n",
    "scorers = {'acc': accuracy_score, 'f1': f1_score, 'prec':precision_score, 'rec': recall_score, 'ghr': geomean_hit_rate}\n",
    "for k, v, in scorers.items():\n",
    "    x = v(y_test, y_test_pred)\n",
    "    print('{}: {:.3f}'.format(k, x))"
   ]
  },
  {
   "cell_type": "markdown",
   "metadata": {},
   "source": [
    "## Treinando o modelo"
   ]
  },
  {
   "cell_type": "code",
   "execution_count": 13,
   "metadata": {},
   "outputs": [],
   "source": [
    "from sklearn.feature_extraction.text import CountVectorizer\n",
    "from sklearn.pipeline import Pipeline\n",
    "from sklearn.ensemble import RandomForestClassifier\n",
    "from sklearn.linear_model import LogisticRegression\n",
    "from sklearn.svm import SVC\n",
    "from sklearn.naive_bayes import ComplementNB, MultinomialNB, BernoulliNB\n",
    "from sklearn.ensemble import VotingClassifier\n",
    "from sklearn.model_selection import GridSearchCV\n",
    "from sklearn.model_selection import cross_val_score"
   ]
  },
  {
   "cell_type": "markdown",
   "metadata": {},
   "source": [
    "### Construindo o modelo"
   ]
  },
  {
   "cell_type": "code",
   "execution_count": 14,
   "metadata": {},
   "outputs": [],
   "source": [
    "stopwords = xt.return_pt_stopwords()"
   ]
  },
  {
   "cell_type": "code",
   "execution_count": 15,
   "metadata": {},
   "outputs": [],
   "source": [
    "vec = CountVectorizer(lowercase=True, stop_words=stopwords, ngram_range=(1,1), max_df=1.0, min_df=2, binary=False)\n",
    "#fit1 = RandomForestClassifier(n_estimators=100, max_depth=None, min_samples_split=2, max_features='sqrt', n_jobs=1, class_weight={1:2.5,0:1})\n",
    "#fit2 = LogisticRegression(C=0.6, max_iter=10000)\n",
    "#fit3 = SVC(kernel='rbf', C=3)\n",
    "#fit4 = SVC(kernel='sigmoid', C=3)\n",
    "#fit5 = MultinomialNB(alpha=3)\n",
    "fit1 = RandomForestClassifier(n_estimators=100, max_depth=None, min_samples_split=2, max_features='sqrt', n_jobs=1, class_weight={1:1.5,0:1})\n",
    "fit2 = LogisticRegression(C=3.0, max_iter=10000)\n",
    "fit3 = SVC(kernel='rbf', C=3)\n",
    "fit4 = SVC(kernel='sigmoid', C=6)\n",
    "fit5 = MultinomialNB(alpha=0.1)\n",
    "fit = VotingClassifier([('rf', fit1), ('lr', fit2), ('rbf', fit3), ('sig', fit4), ('nb', fit5)], weights=[0.34749828, 0.20278123, 0.36855106, 0.0751048 , 0.00606463])\n",
    "model = Pipeline([('vec', vec), ('fit', fit)])"
   ]
  },
  {
   "cell_type": "markdown",
   "metadata": {
    "jp-MarkdownHeadingCollapsed": true,
    "tags": []
   },
   "source": [
    "#### Grid search p/ os modelos constituintes"
   ]
  },
  {
   "cell_type": "code",
   "execution_count": 43,
   "metadata": {},
   "outputs": [],
   "source": [
    "def fit_n_plot_grid(vec, fit, param_grid, X_train, y_train):\n",
    "    \n",
    "    model = Pipeline([('vec', vec), ('fit', fit)])\n",
    "    grid  = GridSearchCV(model, param_grid, scoring='f1', n_jobs=6, refit=False, return_train_score=True)\n",
    "    dump  = grid.fit(X_train, y_train)\n",
    "    ml.plot_pars_scores(grid)"
   ]
  },
  {
   "cell_type": "code",
   "execution_count": 45,
   "metadata": {},
   "outputs": [
    {
     "name": "stderr",
     "output_type": "stream",
     "text": [
      "/home/skems/prog/my-python/xavy/mltools.py:1870: UserWarning: FixedFormatter should only be used together with FixedLocator\n",
      "  pl.gca().set_xticklabels(labels)\n",
      "/home/skems/prog/my-python/xavy/mltools.py:1870: UserWarning: FixedFormatter should only be used together with FixedLocator\n",
      "  pl.gca().set_xticklabels(labels)\n",
      "/home/skems/prog/my-python/xavy/mltools.py:1870: UserWarning: FixedFormatter should only be used together with FixedLocator\n",
      "  pl.gca().set_xticklabels(labels)\n",
      "/home/skems/prog/my-python/xavy/mltools.py:1870: UserWarning: FixedFormatter should only be used together with FixedLocator\n",
      "  pl.gca().set_xticklabels(labels)\n",
      "/home/skems/prog/my-python/xavy/mltools.py:1870: UserWarning: FixedFormatter should only be used together with FixedLocator\n",
      "  pl.gca().set_xticklabels(labels)\n"
     ]
    },
    {
     "data": {
      "image/png": "[encoded data removed]",
      "text/plain": [
       "<Figure size 360x360 with 1 Axes>"
      ]
     },
     "metadata": {
      "needs_background": "light"
     },
     "output_type": "display_data"
    },
    {
     "data": {
      "image/png": "[encoded data removed]",
      "text/plain": [
       "<Figure size 360x360 with 1 Axes>"
      ]
     },
     "metadata": {
      "needs_background": "light"
     },
     "output_type": "display_data"
    },
    {
     "data": {
      "image/png": "[encoded data removed]",
      "text/plain": [
       "<Figure size 360x360 with 1 Axes>"
      ]
     },
     "metadata": {
      "needs_background": "light"
     },
     "output_type": "display_data"
    },
    {
     "data": {
      "image/png": "[encoded data removed]",
      "text/plain": [
       "<Figure size 360x360 with 1 Axes>"
      ]
     },
     "metadata": {
      "needs_background": "light"
     },
     "output_type": "display_data"
    },
    {
     "data": {
      "image/png": "[encoded data removed]",
      "text/plain": [
       "<Figure size 360x360 with 1 Axes>"
      ]
     },
     "metadata": {
      "needs_background": "light"
     },
     "output_type": "display_data"
    }
   ],
   "source": [
    "fitters = [fit1, fit2, fit3, fit4, fit5]\n",
    "params  = [{'fit__class_weight': [{1:0.25, 0:1}, {1:0.5, 0:1}, {1:1.0, 0:1}, {1:1.5, 0:1}, {1:2,0:1}, {1:2.5,0:1}, {1:3,0:1}]}, \n",
    "           {'fit__C': [0.1, 0.3, 0.6, 1.0, 3.0, 6.0, 10.]},\n",
    "           {'fit__C': [1.0, 2.0, 3.0, 6.0, 10., 30.]},\n",
    "           {'fit__C': [1.0, 2.0, 3.0, 6.0, 10., 30.]},\n",
    "           {'fit__alpha': [0.1, 0.3, 0.5, 1.0, 2.0, 3.0, 6.0, 10.]}]\n",
    "for f, p in zip(fitters, params):\n",
    "    fit_n_plot_grid(vec, f, p, X_train, y_train)"
   ]
  },
  {
   "cell_type": "markdown",
   "metadata": {
    "tags": []
   },
   "source": [
    "#### Processo iterativo de definição dos pesos dos votos"
   ]
  },
  {
   "cell_type": "code",
   "execution_count": 52,
   "metadata": {},
   "outputs": [],
   "source": [
    "#vote_weights = [np.random.rand(4) * 2 for _ in range(40)]\n",
    "expected_weights = np.array([0.35721117, 0.19877604, 0.36376866, 0.07514268, 0.00510145])\n",
    "vote_weights = [np.random.normal(loc=expected_weights, scale=expected_weights/7) for _ in range(10)]"
   ]
  },
  {
   "cell_type": "code",
   "execution_count": 53,
   "metadata": {},
   "outputs": [],
   "source": [
    "param_grid = {#'vec__lowercase': [True, False],\n",
    "              #'vec__ngram_range': [(1,1), (1,2)],\n",
    "              #'vec__min_df': [1, 2, 4],\n",
    "              #'vec__binary': [True, False],\n",
    "              #'vec__stop_words': [None, stopwords],\n",
    "              #'fit__alpha': [ 1, 3., 10],\n",
    "              #'fit__fit_prior':[True, False],\n",
    "              #'fit__kernel':['poly', 'rbf', 'sigmoid'],\n",
    "              #'fit__degree':[1,2,3],\n",
    "              #'fit__gamma': [0.03, 0.06, 0.10],\n",
    "              #'fit__coef0': [0, 0.3, 1.0],\n",
    "              #'fit__C': [1.0, 3.0, 10.],\n",
    "              'fit__weights':vote_weights\n",
    "              #'fit__max_depth': [6, 12, 20, 30, 60, 120], \n",
    "              #'fit__min_samples_split': [2, 4, 6, 8, 10, 12, 14, 16], \n",
    "              #'fit__class_weight': [{1:1,0:1}, {1:1.7,0:1}, {1:2,0:1}, {1:2.5,0:1}]\n",
    "}\n",
    "grid = GridSearchCV(model, param_grid, scoring='f1', n_jobs=6, refit=False, return_train_score=True)"
   ]
  },
  {
   "cell_type": "code",
   "execution_count": 54,
   "metadata": {},
   "outputs": [],
   "source": [
    "dump = grid.fit(X_train, y_train)"
   ]
  },
  {
   "cell_type": "code",
   "execution_count": 56,
   "metadata": {},
   "outputs": [
    {
     "data": {
      "text/plain": [
       "array([0.41812817, 0.17667293, 0.31970775, 0.08043857, 0.00505258])"
      ]
     },
     "execution_count": 56,
     "metadata": {},
     "output_type": "execute_result"
    }
   ],
   "source": [
    "opt_df = ml.searchCV_table(grid)\n",
    "opt_sorted_weights = opt_df['param_fit__weights']\n",
    "opt_sorted_weights = opt_sorted_weights / opt_sorted_weights.apply(np.sum)\n",
    "opt_sorted_weights.iloc[0]"
   ]
  },
  {
   "cell_type": "code",
   "execution_count": 55,
   "metadata": {},
   "outputs": [
    {
     "data": {
      "text/html": [
       "<div>\n",
       "<style scoped>\n",
       "    .dataframe tbody tr th:only-of-type {\n",
       "        vertical-align: middle;\n",
       "    }\n",
       "\n",
       "    .dataframe tbody tr th {\n",
       "        vertical-align: top;\n",
       "    }\n",
       "\n",
       "    .dataframe thead th {\n",
       "        text-align: right;\n",
       "    }\n",
       "</style>\n",
       "<table border=\"1\" class=\"dataframe\">\n",
       "  <thead>\n",
       "    <tr style=\"text-align: right;\">\n",
       "      <th></th>\n",
       "      <th>mean_fit_time</th>\n",
       "      <th>std_fit_time</th>\n",
       "      <th>param_fit__weights</th>\n",
       "      <th>mean_test_score</th>\n",
       "      <th>std_test_score</th>\n",
       "      <th>mean_train_score</th>\n",
       "      <th>std_train_score</th>\n",
       "    </tr>\n",
       "  </thead>\n",
       "  <tbody>\n",
       "    <tr>\n",
       "      <th>2</th>\n",
       "      <td>4.728621</td>\n",
       "      <td>0.213147</td>\n",
       "      <td>[0.3770664285127322, 0.20982483284457193, 0.38...</td>\n",
       "      <td>0.452302</td>\n",
       "      <td>0.033394</td>\n",
       "      <td>0.962968</td>\n",
       "      <td>0.004226</td>\n",
       "    </tr>\n",
       "    <tr>\n",
       "      <th>6</th>\n",
       "      <td>4.885858</td>\n",
       "      <td>0.450524</td>\n",
       "      <td>[0.34436304756218, 0.2092490409194602, 0.30664...</td>\n",
       "      <td>0.451564</td>\n",
       "      <td>0.029378</td>\n",
       "      <td>0.962968</td>\n",
       "      <td>0.004226</td>\n",
       "    </tr>\n",
       "    <tr>\n",
       "      <th>7</th>\n",
       "      <td>4.872835</td>\n",
       "      <td>0.249019</td>\n",
       "      <td>[0.36816434803045317, 0.26342453463375154, 0.4...</td>\n",
       "      <td>0.450655</td>\n",
       "      <td>0.034714</td>\n",
       "      <td>0.962968</td>\n",
       "      <td>0.004226</td>\n",
       "    </tr>\n",
       "    <tr>\n",
       "      <th>0</th>\n",
       "      <td>4.268393</td>\n",
       "      <td>0.236665</td>\n",
       "      <td>[0.2934024382517492, 0.25971538729825466, 0.43...</td>\n",
       "      <td>0.450534</td>\n",
       "      <td>0.033331</td>\n",
       "      <td>0.962968</td>\n",
       "      <td>0.004226</td>\n",
       "    </tr>\n",
       "    <tr>\n",
       "      <th>4</th>\n",
       "      <td>4.684539</td>\n",
       "      <td>0.410770</td>\n",
       "      <td>[0.4954680189852425, 0.24545654681841841, 0.37...</td>\n",
       "      <td>0.449602</td>\n",
       "      <td>0.031880</td>\n",
       "      <td>0.962968</td>\n",
       "      <td>0.004226</td>\n",
       "    </tr>\n",
       "  </tbody>\n",
       "</table>\n",
       "</div>"
      ],
      "text/plain": [
       "   mean_fit_time  std_fit_time  \\\n",
       "2       4.728621      0.213147   \n",
       "6       4.885858      0.450524   \n",
       "7       4.872835      0.249019   \n",
       "0       4.268393      0.236665   \n",
       "4       4.684539      0.410770   \n",
       "\n",
       "                                  param_fit__weights  mean_test_score  \\\n",
       "2  [0.3770664285127322, 0.20982483284457193, 0.38...         0.452302   \n",
       "6  [0.34436304756218, 0.2092490409194602, 0.30664...         0.451564   \n",
       "7  [0.36816434803045317, 0.26342453463375154, 0.4...         0.450655   \n",
       "0  [0.2934024382517492, 0.25971538729825466, 0.43...         0.450534   \n",
       "4  [0.4954680189852425, 0.24545654681841841, 0.37...         0.449602   \n",
       "\n",
       "   std_test_score  mean_train_score  std_train_score  \n",
       "2        0.033394          0.962968         0.004226  \n",
       "6        0.029378          0.962968         0.004226  \n",
       "7        0.034714          0.962968         0.004226  \n",
       "0        0.033331          0.962968         0.004226  \n",
       "4        0.031880          0.962968         0.004226  "
      ]
     },
     "execution_count": 55,
     "metadata": {},
     "output_type": "execute_result"
    }
   ],
   "source": [
    "opt_df.head()"
   ]
  },
  {
   "cell_type": "code",
   "execution_count": null,
   "metadata": {},
   "outputs": [],
   "source": [
    "pl.plot(opt_df['mean_test_score'].iloc[:35].values)\n",
    "pl.show()"
   ]
  },
  {
   "cell_type": "markdown",
   "metadata": {},
   "source": [
    "#### Avaliação do  modelo"
   ]
  },
  {
   "cell_type": "code",
   "execution_count": 58,
   "metadata": {},
   "outputs": [
    {
     "data": {
      "text/plain": [
       "0.8643295445337419"
      ]
     },
     "execution_count": 58,
     "metadata": {},
     "output_type": "execute_result"
    }
   ],
   "source": [
    "np.mean(cross_val_score(model, X_train, y_train, scoring='accuracy'))"
   ]
  },
  {
   "cell_type": "code",
   "execution_count": 57,
   "metadata": {},
   "outputs": [
    {
     "data": {
      "text/plain": [
       "0.4550657092948434"
      ]
     },
     "execution_count": 57,
     "metadata": {},
     "output_type": "execute_result"
    }
   ],
   "source": [
    "np.mean(cross_val_score(model, X_train, y_train, scoring='f1'))"
   ]
  },
  {
   "cell_type": "code",
   "execution_count": 59,
   "metadata": {},
   "outputs": [
    {
     "data": {
      "text/plain": [
       "0.6777159139982099"
      ]
     },
     "execution_count": 59,
     "metadata": {},
     "output_type": "execute_result"
    }
   ],
   "source": [
    "np.mean(cross_val_score(model, X_train, y_train, scoring='precision'))"
   ]
  },
  {
   "cell_type": "code",
   "execution_count": 60,
   "metadata": {},
   "outputs": [
    {
     "data": {
      "text/plain": [
       "0.3386631598040994"
      ]
     },
     "execution_count": 60,
     "metadata": {},
     "output_type": "execute_result"
    }
   ],
   "source": [
    "np.mean(cross_val_score(model, X_train, y_train, scoring='recall'))"
   ]
  },
  {
   "cell_type": "markdown",
   "metadata": {},
   "source": [
    "## Learning curve"
   ]
  },
  {
   "cell_type": "code",
   "execution_count": null,
   "metadata": {},
   "outputs": [],
   "source": [
    "ml.plot_learning_curve(model, X_train, y_train, 'accuracy')\n",
    "pl.show()"
   ]
  },
  {
   "cell_type": "code",
   "execution_count": null,
   "metadata": {},
   "outputs": [],
   "source": [
    "ml.plot_learning_curve(model, X_train, y_train, 'accuracy')\n",
    "#pl.ylim([0.7, 0.8])\n",
    "pl.ylim([0.8, 0.9])\n",
    "pl.show()"
   ]
  },
  {
   "cell_type": "markdown",
   "metadata": {
    "tags": []
   },
   "source": [
    "### Avaliação na amostra de teste"
   ]
  },
  {
   "cell_type": "code",
   "execution_count": 20,
   "metadata": {},
   "outputs": [
    {
     "data": {
      "text/plain": [
       "0.8696808510638298"
      ]
     },
     "execution_count": 20,
     "metadata": {},
     "output_type": "execute_result"
    }
   ],
   "source": [
    "dump = model.fit(X_train, y_train)\n",
    "y_test_pred = model.predict(X_test)\n",
    "accuracy_score(y_test, y_test_pred)"
   ]
  },
  {
   "cell_type": "code",
   "execution_count": 17,
   "metadata": {},
   "outputs": [
    {
     "data": {
      "text/plain": [
       "array([[916,  27],\n",
       "       [121,  64]])"
      ]
     },
     "execution_count": 17,
     "metadata": {},
     "output_type": "execute_result"
    }
   ],
   "source": [
    "confusion_matrix(y_test, y_test_pred)"
   ]
  },
  {
   "cell_type": "code",
   "execution_count": 21,
   "metadata": {},
   "outputs": [
    {
     "name": "stdout",
     "output_type": "stream",
     "text": [
      "acc: 0.870\n",
      "f1: 0.469\n",
      "prec: 0.707\n",
      "rec: 0.351\n",
      "gmr: 0.584\n"
     ]
    }
   ],
   "source": [
    "scorers = {'acc': accuracy_score, 'f1': f1_score, 'prec':precision_score, 'rec': recall_score, 'gmr': geomean_hit_rate}\n",
    "for k, v, in scorers.items():\n",
    "    x = v(y_test, y_test_pred)\n",
    "    print('{}: {:.3f}'.format(k, x))"
   ]
  },
  {
   "cell_type": "markdown",
   "metadata": {},
   "source": [
    "**Resultados**\n",
    "\n",
    "* A avaliação na amostra de teste para os dados binários da Paula Fortuna (exemplos selecionados com dois dos três anotadores concordando):\n",
    "    * Accuracy: 0.75\n",
    "    * F1: 0.51\n",
    "* A avaliação na amostra de teste para os dados combinados de Paula e Pelle:\n",
    "    * Accuracy: 0.87\n",
    "    * F1: 0.47"
   ]
  },
  {
   "cell_type": "code",
   "execution_count": null,
   "metadata": {},
   "outputs": [],
   "source": []
  }
 ],
 "metadata": {
  "kernelspec": {
   "display_name": "Python 3 (ipykernel)",
   "language": "python",
   "name": "python3"
  },
  "language_info": {
   "codemirror_mode": {
    "name": "ipython",
    "version": 3
   },
   "file_extension": ".py",
   "mimetype": "text/x-python",
   "name": "python",
   "nbconvert_exporter": "python",
   "pygments_lexer": "ipython3",
   "version": "3.8.10"
  }
 },
 "nbformat": 4,
 "nbformat_minor": 4
}
