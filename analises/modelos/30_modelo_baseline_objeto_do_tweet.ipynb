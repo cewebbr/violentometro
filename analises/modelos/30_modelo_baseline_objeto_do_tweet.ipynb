{
 "cells": [
  {
   "cell_type": "markdown",
   "metadata": {},
   "source": [
    "# Identificação do objeto do comentário feito no tweet"
   ]
  },
  {
   "cell_type": "markdown",
   "metadata": {},
   "source": [
    "[Voltar ao Índice](../00_indice.ipynb)\n",
    "\n",
    "Ao verificar manualmente a performance do [modelo de detecção de discursos violentos](20_modelo_bert_com_tensorflow.ipynb), percebemos que respostas a tweets de candidatos muitas vezes atacam um adversário desse candidato; em outras palavras, o alvo (ou objeto) do ataque não é o candidato mencionado, mas outra pessoa. Como nosso objetivo era identificar ataques direcionados aos candidatos, precisamos criar um modelo que informe se um tweet é direcionado ao candidato mencionado ou não. É isso que faremos aqui."
   ]
  },
  {
   "cell_type": "code",
   "execution_count": 1,
   "metadata": {},
   "outputs": [],
   "source": [
    "import pandas as pd\n",
    "import numpy as np\n",
    "import matplotlib.pyplot as pl\n",
    "from pathlib import Path\n",
    "\n",
    "import xavy.explore as xe\n",
    "import xavy.dataframes as xd\n",
    "import xavy.utils as xu\n",
    "import xavy.text as xt\n",
    "import xavy.mltools as ml"
   ]
  },
  {
   "cell_type": "markdown",
   "metadata": {},
   "source": [
    "## Funções"
   ]
  },
  {
   "cell_type": "code",
   "execution_count": 2,
   "metadata": {},
   "outputs": [],
   "source": [
    "def load_saved_mentions(data_dir):\n",
    "    result_df = pd.concat([pd.read_csv(f, dtype={'in_reply_to_user_id':str}) for f in Path(data_dir).rglob('*.csv')], ignore_index=True)\n",
    "    result_df['created_at'] = pd.to_datetime(result_df['created_at'], format='%Y-%m-%d %H:%M:%S+00:00', utc=True).dt.tz_convert('America/Sao_Paulo')\n",
    "    return result_df"
   ]
  },
  {
   "cell_type": "code",
   "execution_count": 29,
   "metadata": {},
   "outputs": [],
   "source": [
    "def load_annotations(annotated_files):\n",
    "    annotated_df = pd.concat([pd.read_csv(f, low_memory=False, dtype={'id': str}) for f in annotated_files], ignore_index=True)\n",
    "    annotated_df = annotated_df.loc[~annotated_df['not_the_target'].isnull()]\n",
    "    annotated_df['not_the_target'] = annotated_df['not_the_target'].astype(int)\n",
    "    utc_pos = annotated_df['created_at'].str.contains('+00:00', regex=False)\n",
    "    bsb_pos = annotated_df['created_at'].str.contains('-03:00', regex=False)\n",
    "    annotated_df.loc[bsb_pos, 'created_at'] = pd.to_datetime(annotated_df.loc[bsb_pos, 'created_at'], format='%Y-%m-%d %H:%M:%S-03:00', utc=False).dt.tz_localize('America/Sao_Paulo')\n",
    "    annotated_df.loc[utc_pos, 'created_at'] = pd.to_datetime(annotated_df.loc[utc_pos, 'created_at'], format='%Y-%m-%d %H:%M:%S+00:00', utc=True).dt.tz_convert('America/Sao_Paulo')\n",
    "    annotated_df = annotated_df.drop_duplicates()\n",
    "    return annotated_df"
   ]
  },
  {
   "cell_type": "markdown",
   "metadata": {
    "jp-MarkdownHeadingCollapsed": true,
    "tags": []
   },
   "source": [
    "## Produzindo dados para anotação"
   ]
  },
  {
   "cell_type": "markdown",
   "metadata": {},
   "source": [
    "Esta seção é utilizada para selecionar tweets capturados que ainda não foram anotados quanto ao objeto do comentário feito e criar uma amostra para ser anotada em relação a isso. \n",
    "\n",
    "Ela está aqui como registro do processo e não é necessária para a reprodução do trabalho. Além disso, o processamento não funciona como deveria devido à criptografia dos IDs."
   ]
  },
  {
   "cell_type": "code",
   "execution_count": 30,
   "metadata": {},
   "outputs": [],
   "source": [
    "from sklearn.cluster import KMeans\n",
    "from sklearn.decomposition import TruncatedSVD\n",
    "from sklearn.feature_extraction.text import TfidfVectorizer\n",
    "from sklearn.pipeline import Pipeline"
   ]
  },
  {
   "cell_type": "markdown",
   "metadata": {},
   "source": [
    "Abaixo carregamos os tweets já anotados para não selecioná-los novamente."
   ]
  },
  {
   "cell_type": "code",
   "execution_count": null,
   "metadata": {},
   "outputs": [],
   "source": [
    "# Carrega os dados:\n",
    "#annotated_files = ['../../dados/processados/tweets_classificados_por_objeto_anotados.csv',   # Dados não criptografados. \n",
    "#                   '../../dados/processados/tweets_classificados_por_objeto_2_anotados.csv',\n",
    "#                   '../../dados/processados/tweets_classificados_por_objeto_3_anotados.csv']\n",
    "annotated_files = ['../../dados/processados/tweets_classificados_por_objeto_anotados_encrypted.csv', \n",
    "                   '../../dados/processados/tweets_classificados_por_objeto_2_anotados_encrypted.csv',\n",
    "                   '../../dados/processados/tweets_classificados_por_objeto_3_anotados_encrypted.csv']\n",
    "annotated_df = load_annotations(annotated_files)"
   ]
  },
  {
   "cell_type": "markdown",
   "metadata": {},
   "source": [
    "Abaixo carregamos todos os tweets coletados, removemos os já anotados e outros que não interessam e adicionamos pesos para sorteio. \n",
    "Ou seja: preparamos a população de tweets para um sorteio.\n",
    "\n",
    "**PS:** A remoção de tweets já anotados não funciona com os IDs criptografados pois um mesmo ID não resulta sempre no mesmo ID criptografado."
   ]
  },
  {
   "cell_type": "code",
   "execution_count": 33,
   "metadata": {},
   "outputs": [],
   "source": [
    "# Carrega os dados:\n",
    "#mentions_df = load_saved_mentions('../../tweets/scored/') # Dados não criptografados.\n",
    "xz.sync_remote_zipped_files('https://nuvem.ceweb.br/s/EykWP7xR4msekxq/download/encrypted-scored-tweets.zip', '../tweets/', keep_zip_dir=False)\n",
    "mentions_df = load_saved_mentions('../../tweets/encrypted/')\n",
    "\n",
    "# Remove tweets já anotados:\n",
    "assert mentions_df['id'].dtype == annotated_df['id'].dtype\n",
    "mentions_df = mentions_df.loc[~mentions_df['id'].isin(annotated_df['id'])]\n",
    "\n",
    "# Remove tweets antigos:\n",
    "last_annotation = annotated_df['created_at'].max()\n",
    "mentions_df = mentions_df.loc[mentions_df['created_at'] > last_annotation]\n",
    "\n",
    "# Ignore tweets containing only images:\n",
    "only_image_regex = '^(?:@[A-Za-z0-9_]{1,15} )+(?:https://t.co/[A-Za-z0-9]{10})?$'\n",
    "with_text_df = mentions_df.loc[~mentions_df['text'].str.contains(only_image_regex)]\n",
    "\n",
    "# Select only direct replies or unique mentions:\n",
    "direct_df = with_text_df.loc[(with_text_df['direct_reply'] == 1) | (with_text_df['n_mentions'] == 1)]\n",
    "\n",
    "# Add target-equality weights:\n",
    "n_direct = len(direct_df)\n",
    "w = 1.0 / direct_df['batch_user'].value_counts().clip(lower=20)\n",
    "w.name = 'target_weight'\n",
    "direct_df = direct_df.join(w, on='batch_user')\n",
    "assert len(direct_df) == n_direct\n",
    "\n",
    "# Constrói agrupador de tweets:\n",
    "stopwords = ['de', 'a', 'o', 'que', 'e', 'é', 'do', 'da', 'em', 'um', 'para', 'com', 'não', 'uma', 'os', 'no', 'se', 'na', 'por', \n",
    "             'mais', 'as', 'dos', 'como', 'mas', 'ao', 'ele', 'das', 'à', 'seu', 'sua', 'ou', 'quando', 'muito', 'nos', 'já', 'eu', \n",
    "             'também', 'só', 'pelo', 'pela', 'até', 'isso', 'ela', 'entre', 'depois', 'sem', 'mesmo', 'aos', 'seus', 'quem', 'nas', \n",
    "             'me', 'esse', 'eles', 'você', 'essa', 'num', 'nem', 'suas', 'meu', 'às', 'minha', 'numa', 'pelos', 'elas', 'qual', \n",
    "             'nós', 'lhe', 'deles', 'essas', 'esses', 'pelas', 'este', 'dele', 'tu', 'te', 'vocês', 'vos', 'lhes', 'meus', 'minhas', \n",
    "             'teu', 'tua', 'teus', 'tuas', 'nosso', 'nossa', 'nossos', 'nossas', 'dela', 'delas', 'esta', 'estes', 'estas', 'aquele', \n",
    "             'aquela', 'aqueles', 'aquelas', 'isto', 'aquilo', 'estou', 'está', 'estamos', 'estão', 'estive', 'esteve', 'estivemos', \n",
    "             'estiveram', 'estava', 'estávamos', 'estavam', 'estivera', 'estivéramos', 'esteja', 'estejamos', 'estejam', 'estivesse', \n",
    "             'estivéssemos', 'estivessem', 'estiver', 'estivermos', 'estiverem', 'hei', 'há', 'havemos', 'hão', 'houve', 'houvemos', \n",
    "             'houveram', 'houvera', 'houvéramos', 'haja', 'hajamos', 'hajam', 'houvesse', 'houvéssemos', 'houvessem', 'houver', \n",
    "             'houvermos', 'houverem', 'houverei', 'houverá', 'houveremos', 'houverão', 'houveria', 'houveríamos', 'houveriam', 'sou', \n",
    "             'somos', 'são', 'era', 'éramos', 'eram', 'fui', 'foi', 'fomos', 'foram', 'fora', 'fôramos', 'seja', 'sejamos', 'sejam', \n",
    "             'fosse', 'fôssemos', 'fossem', 'for', 'formos', 'forem', 'serei', 'será', 'seremos', 'serão', 'seria', 'seríamos', 'seriam', \n",
    "             'tenho', 'tem', 'temos', 'tém', 'tinha', 'tínhamos', 'tinham', 'tive', 'teve', 'tivemos', 'tiveram', 'tivera', 'tivéramos', \n",
    "             'tenha', 'tenhamos', 'tenham', 'tivesse', 'tivéssemos', 'tivessem', 'tiver', 'tivermos', 'tiverem', 'terei', 'terá', \n",
    "             'teremos', 'terão', 'teria', 'teríamos', 'teriam']\n",
    "stopwords = [xt.remove_accents(t) for t in stopwords]\n",
    "vec = TfidfVectorizer(strip_accents='unicode', lowercase=True, binary=False, use_idf=True, min_df=4, max_df=0.95, norm='l2', smooth_idf=True, stop_words=stopwords)\n",
    "svd = TruncatedSVD(n_components=200, random_state=1057)\n",
    "kmeans = KMeans(n_clusters=40, random_state=548731)\n",
    "clusterer = Pipeline([('vec', vec), ('svd', svd), ('kmeans', kmeans)])\n",
    "\n",
    "# Classifica tweets por grupos:\n",
    "direct_df['cluster_id'] = clusterer.fit_predict(direct_df['text'])\n",
    "\n",
    "# Cria pesos para amostrar os grupos de maneira igual:\n",
    "cluster_weights = 1.0 / direct_df['cluster_id'].value_counts()\n",
    "cluster_weights.name = 'cluster_weight'\n",
    "direct_df = direct_df.join(cluster_weights, on='cluster_id')"
   ]
  },
  {
   "cell_type": "markdown",
   "metadata": {},
   "source": [
    "Abaixo sorteamos os tweets para formarem a amostra para serem anotados."
   ]
  },
  {
   "cell_type": "code",
   "execution_count": 34,
   "metadata": {},
   "outputs": [],
   "source": [
    "# Embaralhando os tweets:\n",
    "n_shuffled = 300\n",
    "shuffled_df = direct_df.sample(n_shuffled, random_state=71494, weights='target_weight')\n",
    "shuffled_df = direct_df.sample(n_shuffled, random_state=71494, weights='cluster_weight')\n",
    "# Ordenando por hate score:\n",
    "n_ordered = 100\n",
    "ordered_df  = direct_df.sort_values('hate_score', ascending=False).head(n_ordered * 10).sample(n_ordered, random_state=85471)\n",
    "\n",
    "# Combina os dois:\n",
    "out_df = pd.concat([shuffled_df, ordered_df], ignore_index=True).drop_duplicates()\n",
    "out_df = out_df.sample(len(out_df), random_state=571)"
   ]
  },
  {
   "cell_type": "markdown",
   "metadata": {},
   "source": [
    "AO longo do projeto, a estratégia de seleção de tweets para anotação foi mudando. Aqui descrevemos as estratégias adotadas em cada arquivo de amostra:\n",
    "\n",
    "* O primeiro arquivo criado, `../../dados/processados/tweets_classificados_por_objeto.csv`, utilizou dados que na sua maioria foram transferidos para a pasta `pretest_tweets`.\n",
    "* O segundo arquivo criado, `../../dados/processados/tweets_classificados_por_objeto_2.csv`, foi criado com tweets da pasta `tweets`, misturando tweets amostrados uniformemente com os mais agressivos.\n",
    "* O terceiro arquivo criado, `../../dados/processados/tweets_classificados_por_objeto_3.csv`, foi criado com novos tweets da pasta `tweets`, misturando tweets amostrados com equilíbrio entre alvos e com amostrados entre os mais agressivos.\n",
    "* O quarto arquivo criado, `../../dados/processados/tweets_classificados_por_objeto_4.csv`, foi criado com tweets capturados após o último do terceiro arquivo, misturando tweets amostrados com equilíbrio entre clusters e com amostrados entre os mais agressivos. "
   ]
  },
  {
   "cell_type": "code",
   "execution_count": 53,
   "metadata": {},
   "outputs": [],
   "source": [
    "# Salva:\n",
    "#out_df.to_csv('../../dados/processados/tweets_classificados_por_objeto_4.csv', index=False)"
   ]
  },
  {
   "cell_type": "markdown",
   "metadata": {
    "tags": []
   },
   "source": [
    "## Carregando dados anotados"
   ]
  },
  {
   "cell_type": "code",
   "execution_count": 37,
   "metadata": {},
   "outputs": [
    {
     "name": "stdout",
     "output_type": "stream",
     "text": [
      "# exemplos: 1046\n"
     ]
    }
   ],
   "source": [
    "# Carrega os dados:\n",
    "#annotated_files = ['../../dados/processados/tweets_classificados_por_objeto_anotados.csv',   # Dados não criptografados.\n",
    "#                   '../../dados/processados/tweets_classificados_por_objeto_2_anotados.csv',\n",
    "#                   '../../dados/processados/tweets_classificados_por_objeto_3_anotados.csv',\n",
    "#                   '../../dados/processados/tweets_classificados_por_objeto_4_anotados.csv']\n",
    "annotated_files = ['../../dados/processados/tweets_classificados_por_objeto_anotados_encrypted.csv', \n",
    "                   '../../dados/processados/tweets_classificados_por_objeto_2_anotados_encrypted.csv',\n",
    "                   '../../dados/processados/tweets_classificados_por_objeto_3_anotados_encrypted.csv',\n",
    "                   '../../dados/processados/tweets_classificados_por_objeto_4_anotados_encrypted.csv']\n",
    "annotated_df = load_annotations(annotated_files)\n",
    "\n",
    "print('# exemplos:', len(annotated_df))"
   ]
  },
  {
   "cell_type": "code",
   "execution_count": 40,
   "metadata": {},
   "outputs": [
    {
     "name": "stdout",
     "output_type": "stream",
     "text": [
      "\u001b[1mColunas com valores faltantes:\u001b[0m\n",
      "                 coluna      N      %\n",
      "5   in_reply_to_user_id   28.0   2.68\n",
      "20           batch_time  268.0  25.62\n",
      "22               random  745.0  71.22\n",
      "24        target_weight  446.0  42.64\n",
      "25           cluster_id  646.0  61.76\n",
      "26       cluster_weight  646.0  61.76\n"
     ]
    }
   ],
   "source": [
    "xe.checkMissing(annotated_df)"
   ]
  },
  {
   "cell_type": "code",
   "execution_count": 41,
   "metadata": {},
   "outputs": [],
   "source": [
    "# Separa a amostra:\n",
    "train_df, test_df = ml.train_test_split_by_string(annotated_df, 0.2, 'id')\n",
    "X_train, y_train  = ml.Xy_split(train_df, 'not_the_target')\n",
    "X_test, y_test    = ml.Xy_split(test_df, 'not_the_target')"
   ]
  },
  {
   "cell_type": "markdown",
   "metadata": {},
   "source": [
    "## Criação de modelo"
   ]
  },
  {
   "cell_type": "code",
   "execution_count": 42,
   "metadata": {},
   "outputs": [],
   "source": [
    "from sklearn.feature_extraction.text import CountVectorizer\n",
    "from sklearn.compose import ColumnTransformer\n",
    "from sklearn.impute import SimpleImputer\n",
    "from sklearn.preprocessing import OneHotEncoder\n",
    "from sklearn.ensemble import RandomForestClassifier\n",
    "from sklearn.svm import SVC\n",
    "from sklearn.pipeline import Pipeline\n",
    "from sklearn.naive_bayes import ComplementNB, MultinomialNB, BernoulliNB, CategoricalNB\n",
    "from sklearn.model_selection import cross_val_score, GridSearchCV\n",
    "from sklearn.metrics import get_scorer\n",
    "from sklearn.metrics import f1_score\n",
    "from sklearn import clone"
   ]
  },
  {
   "cell_type": "markdown",
   "metadata": {
    "tags": []
   },
   "source": [
    "### Baseline"
   ]
  },
  {
   "cell_type": "code",
   "execution_count": 79,
   "metadata": {},
   "outputs": [
    {
     "name": "stdout",
     "output_type": "stream",
     "text": [
      "\u001b[1mGuess 0\u001b[0m\n",
      "accuracy: 0.8018 +/- 0.0286\n",
      "f1: 0.0000 +/- 0.0000\n",
      "precision: 0.0000 +/- 0.0000\n",
      "recall: 0.0000 +/- 0.0000\n",
      "\u001b[1mGuess 1\u001b[0m\n",
      "accuracy: 0.1982 +/- 0.0286\n",
      "f1: 0.3261 +/- 0.0397\n",
      "precision: 0.1982 +/- 0.0286\n",
      "recall: 1.0000 +/- 0.0000\n",
      "\u001b[1mRandom\u001b[0m\n",
      "accuracy: 0.4853 +/- 0.0228\n",
      "f1: 0.2771 +/- 0.0291\n",
      "precision: 0.2084 +/- 0.0314\n",
      "recall: 0.4427 +/- 0.0385\n"
     ]
    },
    {
     "name": "stderr",
     "output_type": "stream",
     "text": [
      "/home/hxavier/temp/violentometro/env/lib/python3.8/site-packages/sklearn/metrics/_classification.py:1327: UndefinedMetricWarning: Precision is ill-defined and being set to 0.0 due to no predicted samples. Use `zero_division` parameter to control this behavior.\n",
      "  _warn_prf(average, modifier, msg_start, len(result))\n",
      "/home/hxavier/temp/violentometro/env/lib/python3.8/site-packages/sklearn/metrics/_classification.py:1327: UndefinedMetricWarning: Precision is ill-defined and being set to 0.0 due to no predicted samples. Use `zero_division` parameter to control this behavior.\n",
      "  _warn_prf(average, modifier, msg_start, len(result))\n",
      "/home/hxavier/temp/violentometro/env/lib/python3.8/site-packages/sklearn/metrics/_classification.py:1327: UndefinedMetricWarning: Precision is ill-defined and being set to 0.0 due to no predicted samples. Use `zero_division` parameter to control this behavior.\n",
      "  _warn_prf(average, modifier, msg_start, len(result))\n",
      "/home/hxavier/temp/violentometro/env/lib/python3.8/site-packages/sklearn/metrics/_classification.py:1327: UndefinedMetricWarning: Precision is ill-defined and being set to 0.0 due to no predicted samples. Use `zero_division` parameter to control this behavior.\n",
      "  _warn_prf(average, modifier, msg_start, len(result))\n",
      "/home/hxavier/temp/violentometro/env/lib/python3.8/site-packages/sklearn/metrics/_classification.py:1327: UndefinedMetricWarning: Precision is ill-defined and being set to 0.0 due to no predicted samples. Use `zero_division` parameter to control this behavior.\n",
      "  _warn_prf(average, modifier, msg_start, len(result))\n"
     ]
    }
   ],
   "source": [
    "metrics_name = ['accuracy', 'f1', 'precision', 'recall']\n",
    "for mname, model0 in zip(['Guess 0', 'Guess 1', 'Random'], [ml.ConstantPicker(0), ml.ConstantPicker(1), ml.RandomPicker()]):\n",
    "    print(xd.bold(mname))\n",
    "    model0.fit(X_train, y_train)\n",
    "    ml.print_cv_scores(model0, X_train, y_train, metrics_name)"
   ]
  },
  {
   "cell_type": "markdown",
   "metadata": {},
   "source": [
    "### Modelo"
   ]
  },
  {
   "cell_type": "code",
   "execution_count": 44,
   "metadata": {},
   "outputs": [],
   "source": [
    "metrics_name = ['accuracy', 'f1', 'precision', 'recall']"
   ]
  },
  {
   "cell_type": "code",
   "execution_count": 45,
   "metadata": {},
   "outputs": [],
   "source": [
    "vec   = CountVectorizer(lowercase=True, strip_accents='unicode')\n",
    "proc  = ColumnTransformer([('txt', vec, 'text')])\n",
    "fit   = ComplementNB(norm=False, alpha=0.15)\n",
    "model = Pipeline([('proc', proc), ('fit', fit)])"
   ]
  },
  {
   "cell_type": "code",
   "execution_count": 46,
   "metadata": {},
   "outputs": [
    {
     "name": "stdout",
     "output_type": "stream",
     "text": [
      "accuracy: 0.8043 +/- 0.0133\n",
      "f1: 0.4296 +/- 0.0425\n",
      "precision: 0.4837 +/- 0.0333\n",
      "recall: 0.4004 +/- 0.0584\n"
     ]
    }
   ],
   "source": [
    "ml.print_cv_scores(model, X_train, y_train, metrics_name)"
   ]
  },
  {
   "cell_type": "markdown",
   "metadata": {},
   "source": [
    "Resultados para dados não criptografados (train-test split é diferente):\n",
    "\n",
    "    accuracy: 0.8044 +/- 0.0057\n",
    "    f1: 0.5009 +/- 0.0235\n",
    "    precision: 0.5131 +/- 0.0190\n",
    "    recall: 0.5076 +/- 0.0510"
   ]
  },
  {
   "cell_type": "markdown",
   "metadata": {},
   "source": [
    "### GridSearch"
   ]
  },
  {
   "cell_type": "code",
   "execution_count": 47,
   "metadata": {},
   "outputs": [],
   "source": [
    "param_grid = {'fit__alpha': [0.01, 0.03, 0.06, 0.1, 0.15, 0.2, 0.3, 0.4, 0.5, 0.6, 1.0],\n",
    "              #'fit__fit_prior': [True, False],\n",
    "              #'fit__norm':[True, False],\n",
    "              #'proc__txt__strip_accents': ['unicode', None],\n",
    "              #'proc__txt__lowercase': [True, False],\n",
    "             #'proc__txt__stop_words': [None, ['ao']],\n",
    "             #'proc__txt__ngram_range': [(1, 1), (1, 2)],\n",
    "             #'proc__txt__max_df': [1.0, 0.99, 0.98, 0.97, 0.96, 0.95, 0.94, 0.93],\n",
    "             #'proc__txt__min_df': [1, 2, 3, 4],\n",
    "             #'proc__txt__binary': [True, False],\n",
    "             #'proc__txt__max_features': [10, 30, 100, 300, 1000, 3000, 10000]\n",
    "             }\n",
    "grid = GridSearchCV(model, param_grid, scoring='f1', return_train_score=True, n_jobs=7)"
   ]
  },
  {
   "cell_type": "code",
   "execution_count": 48,
   "metadata": {},
   "outputs": [],
   "source": [
    "dump = grid.fit(X_train, y_train)"
   ]
  },
  {
   "cell_type": "code",
   "execution_count": 49,
   "metadata": {},
   "outputs": [
    {
     "data": {
      "text/html": [
       "<div>\n",
       "<style scoped>\n",
       "    .dataframe tbody tr th:only-of-type {\n",
       "        vertical-align: middle;\n",
       "    }\n",
       "\n",
       "    .dataframe tbody tr th {\n",
       "        vertical-align: top;\n",
       "    }\n",
       "\n",
       "    .dataframe thead th {\n",
       "        text-align: right;\n",
       "    }\n",
       "</style>\n",
       "<table border=\"1\" class=\"dataframe\">\n",
       "  <thead>\n",
       "    <tr style=\"text-align: right;\">\n",
       "      <th></th>\n",
       "      <th>mean_fit_time</th>\n",
       "      <th>std_fit_time</th>\n",
       "      <th>param_fit__alpha</th>\n",
       "      <th>mean_test_score</th>\n",
       "      <th>std_test_score</th>\n",
       "      <th>mean_train_score</th>\n",
       "      <th>std_train_score</th>\n",
       "    </tr>\n",
       "  </thead>\n",
       "  <tbody>\n",
       "    <tr>\n",
       "      <th>5</th>\n",
       "      <td>0.023450</td>\n",
       "      <td>0.001878</td>\n",
       "      <td>0.2</td>\n",
       "      <td>0.445555</td>\n",
       "      <td>0.088505</td>\n",
       "      <td>0.931978</td>\n",
       "      <td>0.009532</td>\n",
       "    </tr>\n",
       "    <tr>\n",
       "      <th>8</th>\n",
       "      <td>0.024124</td>\n",
       "      <td>0.009800</td>\n",
       "      <td>0.5</td>\n",
       "      <td>0.438685</td>\n",
       "      <td>0.083009</td>\n",
       "      <td>0.900416</td>\n",
       "      <td>0.005882</td>\n",
       "    </tr>\n",
       "    <tr>\n",
       "      <th>7</th>\n",
       "      <td>0.024847</td>\n",
       "      <td>0.006281</td>\n",
       "      <td>0.4</td>\n",
       "      <td>0.435939</td>\n",
       "      <td>0.082530</td>\n",
       "      <td>0.907447</td>\n",
       "      <td>0.008983</td>\n",
       "    </tr>\n",
       "    <tr>\n",
       "      <th>6</th>\n",
       "      <td>0.026173</td>\n",
       "      <td>0.005073</td>\n",
       "      <td>0.3</td>\n",
       "      <td>0.434341</td>\n",
       "      <td>0.077876</td>\n",
       "      <td>0.916028</td>\n",
       "      <td>0.012090</td>\n",
       "    </tr>\n",
       "    <tr>\n",
       "      <th>4</th>\n",
       "      <td>0.021258</td>\n",
       "      <td>0.003966</td>\n",
       "      <td>0.15</td>\n",
       "      <td>0.429611</td>\n",
       "      <td>0.095072</td>\n",
       "      <td>0.941036</td>\n",
       "      <td>0.007423</td>\n",
       "    </tr>\n",
       "  </tbody>\n",
       "</table>\n",
       "</div>"
      ],
      "text/plain": [
       "   mean_fit_time  std_fit_time param_fit__alpha  mean_test_score  \\\n",
       "5       0.023450      0.001878              0.2         0.445555   \n",
       "8       0.024124      0.009800              0.5         0.438685   \n",
       "7       0.024847      0.006281              0.4         0.435939   \n",
       "6       0.026173      0.005073              0.3         0.434341   \n",
       "4       0.021258      0.003966             0.15         0.429611   \n",
       "\n",
       "   std_test_score  mean_train_score  std_train_score  \n",
       "5        0.088505          0.931978         0.009532  \n",
       "8        0.083009          0.900416         0.005882  \n",
       "7        0.082530          0.907447         0.008983  \n",
       "6        0.077876          0.916028         0.012090  \n",
       "4        0.095072          0.941036         0.007423  "
      ]
     },
     "execution_count": 49,
     "metadata": {},
     "output_type": "execute_result"
    }
   ],
   "source": [
    "ml.searchCV_table(grid).head()"
   ]
  },
  {
   "cell_type": "code",
   "execution_count": 50,
   "metadata": {},
   "outputs": [
    {
     "name": "stderr",
     "output_type": "stream",
     "text": [
      "/home/hxavier/temp/violentometro/analises/modelos/xavy/mltools.py:1990: UserWarning: FixedFormatter should only be used together with FixedLocator\n",
      "  pl.gca().set_xticklabels(labels)\n"
     ]
    },
    {
     "data": {
      "image/png": "[encoded data removed]",
      "text/plain": [
       "<Figure size 500x500 with 1 Axes>"
      ]
     },
     "metadata": {},
     "output_type": "display_data"
    }
   ],
   "source": [
    "ml.plot_pars_scores(grid)"
   ]
  },
  {
   "cell_type": "markdown",
   "metadata": {},
   "source": [
    "### Learning curve"
   ]
  },
  {
   "cell_type": "code",
   "execution_count": 51,
   "metadata": {},
   "outputs": [
    {
     "data": {
      "image/png": "[encoded data removed]",
      "text/plain": [
       "<Figure size 640x480 with 1 Axes>"
      ]
     },
     "metadata": {},
     "output_type": "display_data"
    }
   ],
   "source": [
    "ml.plot_learning_curve(model, X_train, y_train, 'f1')"
   ]
  },
  {
   "cell_type": "markdown",
   "metadata": {},
   "source": [
    "### Teste na amostra de teste"
   ]
  },
  {
   "cell_type": "code",
   "execution_count": 52,
   "metadata": {},
   "outputs": [
    {
     "name": "stdout",
     "output_type": "stream",
     "text": [
      "accuracy: 0.7746\n",
      "f1: 0.5200\n",
      "precision: 0.5909\n",
      "recall: 0.4643\n"
     ]
    }
   ],
   "source": [
    "dump = model.fit(X_train, y_train)\n",
    "\n",
    "y_test_pred = model.predict(X_test)\n",
    "for metric in ['accuracy', 'f1', 'precision', 'recall']:\n",
    "    mfunc = get_scorer(metric)._score_func\n",
    "    print(metric + ': {:.4f}'.format(mfunc(y_test, y_test_pred)))"
   ]
  },
  {
   "cell_type": "markdown",
   "metadata": {},
   "source": [
    "Resultado obtido com os dados não criptografados (train-test split é diferente):|\n",
    "\n",
    "    accuracy: 0.7982\n",
    "    f1: 0.5306\n",
    "    precision: 0.5652\n",
    "    recall: 0.5000"
   ]
  },
  {
   "cell_type": "markdown",
   "metadata": {},
   "source": [
    "### Treinando a produção e salvando o modelo"
   ]
  },
  {
   "cell_type": "code",
   "execution_count": 53,
   "metadata": {},
   "outputs": [
    {
     "name": "stdout",
     "output_type": "stream",
     "text": [
      "Test score: 0.5200\n",
      "Train score: 0.9325\n"
     ]
    }
   ],
   "source": [
    "# Registro da performance no teste:\n",
    "dump = model.fit(X_train, y_train)\n",
    "y_test_pred  = model.predict(X_test)\n",
    "y_train_pred = model.predict(X_train) \n",
    "final_score = f1_score(y_test, y_test_pred)\n",
    "train_score = f1_score(y_train, y_train_pred)\n",
    "print('Test score: {:.4f}'.format(final_score))\n",
    "print('Train score: {:.4f}'.format(train_score))"
   ]
  },
  {
   "cell_type": "code",
   "execution_count": 54,
   "metadata": {},
   "outputs": [],
   "source": [
    "# Treinando modelo no conjunto completo (de produção):\n",
    "X_full, y_full = ml.Xy_split(annotated_df, 'not_the_target')\n",
    "prod_model = clone(model)\n",
    "dump = prod_model.fit(X_full, y_full)"
   ]
  },
  {
   "cell_type": "code",
   "execution_count": 55,
   "metadata": {},
   "outputs": [],
   "source": [
    "# Salvando o modelo:\n",
    "#ml.save_model('../../modelos/nb_wrong_target_classifier_v02/', model, prod_model, train_df, test_df, 'f1', train_score, final_score, package_list=['scikit-learn', 'numpy', 'pandas', 'scipy'])"
   ]
  },
  {
   "cell_type": "markdown",
   "metadata": {},
   "source": [
    "### Testando modelo salvo"
   ]
  },
  {
   "cell_type": "code",
   "execution_count": 77,
   "metadata": {},
   "outputs": [],
   "source": [
    "import joblib\n",
    "from sklearn.metrics import f1_score\n",
    "from sklearn.metrics import confusion_matrix"
   ]
  },
  {
   "cell_type": "code",
   "execution_count": 58,
   "metadata": {},
   "outputs": [],
   "source": [
    "# Carrega modelo:\n",
    "test_model = joblib.load('../../modelos/nb_wrong_target_classifier_v02/tested_model.joblib')\n",
    "prod_model = joblib.load('../../modelos/nb_wrong_target_classifier_v02/production_model.joblib')"
   ]
  },
  {
   "cell_type": "code",
   "execution_count": 68,
   "metadata": {},
   "outputs": [],
   "source": [
    "# Carrega os dados utilizados:\n",
    "train_df = pd.read_csv('../../modelos/nb_wrong_target_classifier_v02/train_data_encrypted.csv')\n",
    "X_train, y_train  = ml.Xy_split(train_df, 'not_the_target')\n",
    "test_df  = pd.read_csv('../../modelos/nb_wrong_target_classifier_v02/test_data_encrypted.csv')\n",
    "X_test, y_test  = ml.Xy_split(test_df, 'not_the_target')"
   ]
  },
  {
   "cell_type": "code",
   "execution_count": 69,
   "metadata": {},
   "outputs": [
    {
     "name": "stdout",
     "output_type": "stream",
     "text": [
      "Test score: 0.5306\n",
      "Train score: 0.9408\n"
     ]
    }
   ],
   "source": [
    "# Resultados:\n",
    "y_test_pred  = test_model.predict(X_test)\n",
    "y_train_pred = test_model.predict(X_train) \n",
    "print('Test score: {:.4f}'.format(f1_score(y_test, y_test_pred)))\n",
    "print('Train score: {:.4f}'.format(f1_score(y_train, y_train_pred)))"
   ]
  },
  {
   "cell_type": "code",
   "execution_count": 70,
   "metadata": {},
   "outputs": [
    {
     "data": {
      "text/plain": [
       "array([[156,  20],\n",
       "       [ 26,  26]])"
      ]
     },
     "execution_count": 70,
     "metadata": {},
     "output_type": "execute_result"
    }
   ],
   "source": [
    "confusion_matrix(y_test, y_test_pred)"
   ]
  },
  {
   "cell_type": "code",
   "execution_count": 71,
   "metadata": {},
   "outputs": [
    {
     "name": "stdout",
     "output_type": "stream",
     "text": [
      "\u001b[1m26\u001b[0m: @BolsonaroSP Ele é um bosta drogado\n",
      "\u001b[1m27\u001b[0m: @IvanValente Tem que ser maluca essa mulher.\n",
      "\u001b[1m32\u001b[0m: @verdouglasgomes Imbecil retardada.\n",
      "Coitada ...\n",
      "\u001b[1m36\u001b[0m: @carlosjordy Mas que puta rampeira! She's a cum dumpster!\n",
      "\u001b[1m38\u001b[0m: @carteiroreaca Poderia ser varíola das pirocas.\n",
      "\u001b[1m39\u001b[0m: @CamargoDireita Bando de esquerdista canalha 😡😡😡😡\n",
      "\u001b[1m44\u001b[0m: @carteiroreaca Varíola dos veados. Kkkk\n",
      "\u001b[1m49\u001b[0m: @carteiroreaca Varíola do Chupa-cu\n",
      "\u001b[1m51\u001b[0m: @CoronelTadeu Palhaçada \n",
      "Tinha que esta preso\n",
      "\u001b[1m53\u001b[0m: @carteiroreaca Varíola das gazelas!🤣🤣🤣\n",
      "\u001b[1m63\u001b[0m: @CarolDeToni Safados terroristas\n",
      "\u001b[1m90\u001b[0m: @rsallesmma Atriz de merda\n",
      "\u001b[1m110\u001b[0m: @reportersalles Muito dinheiro gasto com carniça ladrã*.\n",
      "\u001b[1m118\u001b[0m: @BiologoHenrique Isso é um absurdo!!! Todos temos direito a uma aposentadoria, se alcançarmos a idade.\n",
      "\u001b[1m124\u001b[0m: @AbrahamWeint Ele é misógino, fascista, racista, classista, homofóbico, genocida…\n",
      "Nada disso é mentira\n",
      "\u001b[1m129\u001b[0m: @FernandaLoubac2 E assim, os companheiros criminosos dele aqui fora, vão se sentir livres para fazer o que quiserem. Pois se forem presos, sairão.\n",
      "A justiça dando aval para o Crime “organizado”.\n",
      "\u001b[1m139\u001b[0m: \"مركز سبا زيارات منزلية و فندقية\n",
      "24 ساعة\n",
      "الدفع عند الوصول --\n",
      "\n",
      "في الرياض جدة هُنا الان ❤️\n",
      "A man is as old مساج as he feels , and a woman as old as she looks\n",
      "متوفر الان تدليك اليوم  # \n",
      "نسعد بخدمتكم\n",
      "\n",
      "B-@vaL\"\n",
      "\u001b[1m155\u001b[0m: @andreporci Kkkkkkk gente chata comunistas vamos de #Bolsonaro2022 https://t.co/5tkx33JS0O\n",
      "\u001b[1m166\u001b[0m: @rsallesmma Eu processava essa doidinha que chamou de fela da puts\n",
      "\u001b[1m174\u001b[0m: @Zambelli2210 E um FDP cretino ladrão\n",
      "\u001b[1m175\u001b[0m: @augustodeAB @thameadanelon Tem inclusive uma mansão de 6 milhões que vale pelo menos 15 milhões...\n",
      "\u001b[1m180\u001b[0m: @ThiagoResiste @LulaOficial BOLSONARO CAGÃO\n",
      "\u001b[1m186\u001b[0m: @samiabomfim Ficou com medo de perder a carteira... Kkkkkkkkkkkkkkkkkkkkk\n",
      "\u001b[1m207\u001b[0m: @thigagliasso Hahaha , o maior mentiroso. Bolsonaro mente e acredita na própria mentira. #ForaBozo\n",
      "\u001b[1m215\u001b[0m: @augustodeAB #MoroSuspeito #MoroParcial\n",
      "\u001b[1m223\u001b[0m: @ThiagoResiste Bolsonaro cagâo\n"
     ]
    }
   ],
   "source": [
    "# Acertou que era pra outra pessoa:\n",
    "xd.print_string_series(X_test.loc[(y_test_pred == 1) & (y_test == 1), 'text'])"
   ]
  },
  {
   "cell_type": "code",
   "execution_count": 72,
   "metadata": {},
   "outputs": [
    {
     "name": "stdout",
     "output_type": "stream",
     "text": [
      "\u001b[1m168\u001b[0m: @carteiroreaca @romaocostaadv que o nosso Deus eterno   põe as suas mãos 🙏 sobre o seu filho  e restabeleça a saúde amém\n",
      "\u001b[1m121\u001b[0m: @brunosouzasc Então não mentiram pra mim\n",
      "\u001b[1m55\u001b[0m: @GuilhermeBoulos Que bosta, vocês denovo para encher o saco ?\n",
      "\u001b[1m84\u001b[0m: @GuilhermeBoulos Vai sonhando seu vagabundo 🤣🤣🤣🤣\n",
      "\u001b[1m197\u001b[0m: @tuliogadelha #BolsonaroNoPrimeiroTurno \n",
      "#MulheresComBolsonaro https://t.co/sEutW0pn9M\n",
      "\u001b[1m151\u001b[0m: @AndreJanonesAdv Só porque vc nao grito imbrochavel 😐\n",
      "\u001b[1m28\u001b[0m: @CarolDeToni @jairbolsonaro Uma mulher defender um vagabundo machista, Misógino, que menospreza mulheres, é muita falta de amor próprio, tbm acha que nasceu de uma fraquejada, que se for bonita merece ser estuprada, que deve ganhar menos pq engravida..com Lula as mulheres tiveram ganhos..\n",
      "\u001b[1m181\u001b[0m: @erlan_bastos Você é podre hein!\n",
      "\u001b[1m193\u001b[0m: @nikolas_dm @AdrillesRJorge Vai ter somente os votos da família\n",
      "\u001b[1m2\u001b[0m: @ThiagoResiste @LulaOficial @verdadenarede Estou com Lula.\n"
     ]
    }
   ],
   "source": [
    "# Acertou que era direto:\n",
    "xd.print_string_series(X_test.loc[(y_test_pred == 0) & (y_test == 0), 'text'].sample(10))"
   ]
  },
  {
   "cell_type": "code",
   "execution_count": 73,
   "metadata": {},
   "outputs": [
    {
     "name": "stdout",
     "output_type": "stream",
     "text": [
      "\u001b[1m11\u001b[0m: @IvanValente Esquerda nunca mais\n",
      "\u001b[1m47\u001b[0m: @ThiagoResiste Esquerdista é muito vagabundo mesmo\n",
      "\u001b[1m57\u001b[0m: @H1SaiaDaMatrix Kkkkkkkkkkkk ficou pica po\n",
      "\u001b[1m81\u001b[0m: @andrefernm Tchutchuca safada!\n",
      "\u001b[1m98\u001b[0m: @DelegadoZucco @Direita_Network @jairbolsonaro Mitoooooooooooooooooooooooo\n",
      "\u001b[1m107\u001b[0m: Assim como o Brasil não aguenta mais Bolsonaro, Bagé não aguenta mais a família Lara. \n",
      "É por entender que precisamos fortalecer a oposição ao bolsonarismo em Bagé que declaro meu apoio ao @DepMainardi, 13555, como deputado estadual!\n",
      "\u001b[1m114\u001b[0m: @WilliamJacob @AndreMarinho Tem o link?\n",
      "\u001b[1m115\u001b[0m: @samanthacavalca @FariaGiuliana Sucesso!\n",
      "\u001b[1m123\u001b[0m: @gleisi Vagabunda corruPTa sem moral\n",
      "\u001b[1m130\u001b[0m: @augustodeAB @RenanSantosMBL Estragou o velório\n",
      "\u001b[1m134\u001b[0m: @marcia_lucena quero em CG https://t.co/Cy4RZJtWbK\n",
      "\u001b[1m141\u001b[0m: @carlossampaio_ Lula está certo. Temos que fazer amizade com o inimigo, só assim livramos deles.\n",
      "\u001b[1m169\u001b[0m: @carmelonetobr 22 🇧🇷🇧🇷🇧🇷 🙏🙏 Bolsonaro 🇧🇷🙏🙏🙏\n",
      "\u001b[1m173\u001b[0m: @carteiroreaca 🙏🏼🙏🏼🙏🏼\n",
      "\u001b[1m183\u001b[0m: @gleisi DISSOLUÇÃO DO SUPREMO \n",
      "VINCULADO COMO \"ORGÃO AUXILIAR DO CONGRESSO\" COM ELEIÇOES PARA TODOS OS CARGOS DE  JUIZES NO BRASIL!! https://t.co/Lw3yoHJVqk\n",
      "\u001b[1m185\u001b[0m: @CamargoDireita Kakakakakakakakaka mas tu é um otário msm, mereceu\n",
      "\u001b[1m201\u001b[0m: @tuliogadelha O STF NÃO anulou os processos. \n",
      "Não minta, garoto.\n",
      "\u001b[1m206\u001b[0m: @JoseMedeirosMT @Conservadora191 Obrigado. Jesus.\n",
      "\u001b[1m208\u001b[0m: @Zambelli2210 ZAMBELLI VC É FODA🇧🇷🚀\n",
      "\u001b[1m217\u001b[0m: @carmelonetobr Difícil mesmo é saber qual dos dois envergonha mais o Brasil? O Bozo ou a Micheque.\n"
     ]
    }
   ],
   "source": [
    "# Falso p/ outra pessoa:\n",
    "xd.print_string_series(X_test.loc[(y_test_pred == 1) & (y_test == 0), 'text'])"
   ]
  },
  {
   "cell_type": "code",
   "execution_count": 74,
   "metadata": {},
   "outputs": [
    {
     "name": "stdout",
     "output_type": "stream",
     "text": [
      "\u001b[1m7\u001b[0m: @BolsonaroSP @profpaulamarisa @JoseMedeirosMT @Eugenia_Assis @MLauraAssis @laderechadiario @giovannilarosa0 @segregustavo Não acreditei e tive que ir lá chegar.\n",
      "\n",
      "É verdadeiro esse bilhete!\n",
      "\n",
      "Vai ser burro assim lá na esquerda!\n",
      "\n",
      "Agência de cherecagem passando vergonha!\n",
      "\n",
      "Troquem o nome de AosFatos para AosBaralhos para não falar outra coisa.\n",
      "\u001b[1m61\u001b[0m: @AbrahamWeint Tinha q levar muita porr@d@ na cara esse vagabundagem!\n",
      "\u001b[1m89\u001b[0m: @carteiroreaca Esse lixo desse comuna vai queimar no inferno!!!!\n",
      "\u001b[1m103\u001b[0m: @Jouberth19 @antoniotabet “O PT é partido de vagabundo ”.😂😂😂😂Vamos subir a tag.\n",
      "\u001b[1m105\u001b[0m: @AbrahamWeint Está proibido dizer que bolzonaro é a TCHUCHUCA DO CENTRÃO\n",
      "\u001b[1m116\u001b[0m: @dep_padrejoao Roubalheira\n",
      "\u001b[1m119\u001b[0m: @GTavaresPCB Eu tô aqui morrendo de rir do liberal que não conhece o básico do marginalismo. O cara tem que ser muito burro para cair nessa….\n",
      "\u001b[1m122\u001b[0m: @deregomesrio Era pra ser na Harmonia, mas quando chove, precisam enfiar em algum canto. Bem, na Estudantina não dá mais. Só se travar um teto de público e parar de enfiar gente lá dentro\n",
      "\u001b[1m128\u001b[0m: @BohnGass @IaraGermer Diarista?\n",
      "Tá certo....\n",
      "\n",
      "Tá com cara de outra coisa. E pode até cobrar diária.... Aí sim, \"diarista\".\n",
      "\u001b[1m136\u001b[0m: @deppauloguedes Da Esplanada, oficialmente, a bicha já foi removida.\n",
      "\u001b[1m143\u001b[0m: @romollerSP Mas acredita que Weintraub estava liderando as pesquisas pra governador\n",
      "\n",
      "Kkkkkkkkkkkkkkkkk kkkkkkkkkkkkkkkkk kkkkkkkkkkkkkkkkk kkkkkkkkkkkkkkkkk kkkkkkkkkkkkkkkkk kkkkkkkkkkkkkkkkk\n",
      "\u001b[1m150\u001b[0m: @ThiagoResiste Ele já não ia mesmo… estava só blefando.\n",
      "\u001b[1m156\u001b[0m: @Biakicis kkkk e as femimi dizendo que para ser empoderada tem que ter sovaco peludo e mostrar o rabo, quero ver falar isso na cara dessa real mulher empoderada\n",
      "\u001b[1m162\u001b[0m: @CamargoDireita kkkkkkkkkkk\n",
      "MENTIROSO E BURRO NO JN!!! https://t.co/32QQOmOgh7\n",
      "\u001b[1m163\u001b[0m: @GuilhermeBoulos @vulgobuda que odio dessa imbecil mulher imunda\n",
      "\u001b[1m165\u001b[0m: @Biakicis Bando de imbecis, idiotas uteis\n",
      "\u001b[1m188\u001b[0m: @andreporci Um dos maiores redutos da direita no interior. Cidade q só foi para a frente na gestão do prefeito Guilherme, do PT.\n",
      "\u001b[1m190\u001b[0m: @Zambelli2210 Tem que invadir aquela pocilga e tirar estas bostas\n",
      "\u001b[1m194\u001b[0m: @nikolas_dm Sentiram msm .. Bolsonaro conseguiu transformar o coração do povo, lembramos o quanto amamos nossa Pátria. 🇧🇷\n",
      "\u001b[1m198\u001b[0m: @AndreJanonesAdv kkkkkkkkkkkk.... ele tá putinho ganhando dinheiro, a @havanoficial  mais que dobrou o número de seguidores hoje...;;;;  Bora todo mundo seguir a Havan... https://t.co/a7y1A4jAue\n",
      "\u001b[1m204\u001b[0m: @delegadoramagem A @JovemPanNews fez exatamente isso. Uma reportagem fuleira que parecia as da \"grobe\" com comentários da Esquerdolanda Klein. Pra salvar estava lá o @rmotta2 que fez observações perfeitas, como sempre!\n",
      "\u001b[1m209\u001b[0m: @nikolas_dm 🤣🤣🤣\n",
      "\u001b[1m212\u001b[0m: @ArthurLira_ Tira ele e o safado do cabeça de piroca logo porra!\n",
      "\u001b[1m216\u001b[0m: @Zambelli2210 @Bolsonar3Debora A Globo lixo, sempre fez isso, sempre usando de um gesto ou uma fala do Presidente, para induzir essas pessoas que só assiste esse canal, pouco esclarecidas sem os recursos na internet. Seria necessário um trabalho de maior divulgação em todos os cantos do Brasil.\n",
      "\u001b[1m221\u001b[0m: @andremarianors Uma picareta\n",
      "\u001b[1m224\u001b[0m: @GuilhermeBoulos Deve ser uma experiência imersiva. Viver o que prega. Alguns executivos fazem isso.\n"
     ]
    }
   ],
   "source": [
    "# Achou que era p/ o candidato e não era:\n",
    "xd.print_string_series(X_test.loc[(y_test_pred == 0) & (y_test == 1), 'text'])"
   ]
  },
  {
   "cell_type": "markdown",
   "metadata": {},
   "source": [
    "### Predizendo a probabilidade"
   ]
  },
  {
   "cell_type": "code",
   "execution_count": 75,
   "metadata": {},
   "outputs": [],
   "source": [
    "X_test['target_prob'] = test_model.predict_proba(X_test)[:, 0]\n",
    "X_test['final_prob'] = X_test['hate_score'] * X_test['target_prob']\n",
    "X_test['variacao'] = X_test['final_prob'] - X_test['hate_score']"
   ]
  },
  {
   "cell_type": "code",
   "execution_count": 76,
   "metadata": {},
   "outputs": [
    {
     "data": {
      "text/html": [
       "<style type=\"text/css\">\n",
       "#T_6bffe_row0_col0, #T_6bffe_row1_col0, #T_6bffe_row2_col0, #T_6bffe_row3_col0, #T_6bffe_row4_col0, #T_6bffe_row5_col0, #T_6bffe_row6_col0, #T_6bffe_row7_col0, #T_6bffe_row8_col0, #T_6bffe_row9_col0, #T_6bffe_row10_col0, #T_6bffe_row11_col0, #T_6bffe_row12_col0, #T_6bffe_row13_col0, #T_6bffe_row14_col0, #T_6bffe_row15_col0, #T_6bffe_row16_col0, #T_6bffe_row17_col0, #T_6bffe_row18_col0, #T_6bffe_row19_col0, #T_6bffe_row20_col0, #T_6bffe_row21_col0, #T_6bffe_row22_col0, #T_6bffe_row23_col0, #T_6bffe_row24_col0, #T_6bffe_row25_col0, #T_6bffe_row26_col0, #T_6bffe_row27_col0, #T_6bffe_row28_col0, #T_6bffe_row29_col0 {\n",
       "  width: 1500px;\n",
       "}\n",
       "</style>\n",
       "<table id=\"T_6bffe\">\n",
       "  <thead>\n",
       "    <tr>\n",
       "      <th class=\"blank level0\" >&nbsp;</th>\n",
       "      <th id=\"T_6bffe_level0_col0\" class=\"col_heading level0 col0\" >text</th>\n",
       "      <th id=\"T_6bffe_level0_col1\" class=\"col_heading level0 col1\" >hate_score</th>\n",
       "      <th id=\"T_6bffe_level0_col2\" class=\"col_heading level0 col2\" >target_prob</th>\n",
       "      <th id=\"T_6bffe_level0_col3\" class=\"col_heading level0 col3\" >final_prob</th>\n",
       "      <th id=\"T_6bffe_level0_col4\" class=\"col_heading level0 col4\" >variacao</th>\n",
       "    </tr>\n",
       "  </thead>\n",
       "  <tbody>\n",
       "    <tr>\n",
       "      <th id=\"T_6bffe_level0_row0\" class=\"row_heading level0 row0\" >38</th>\n",
       "      <td id=\"T_6bffe_row0_col0\" class=\"data row0 col0\" >@carteiroreaca Poderia ser varíola das pirocas.</td>\n",
       "      <td id=\"T_6bffe_row0_col1\" class=\"data row0 col1\" >0.838341</td>\n",
       "      <td id=\"T_6bffe_row0_col2\" class=\"data row0 col2\" >0.002856</td>\n",
       "      <td id=\"T_6bffe_row0_col3\" class=\"data row0 col3\" >0.002394</td>\n",
       "      <td id=\"T_6bffe_row0_col4\" class=\"data row0 col4\" >-0.835947</td>\n",
       "    </tr>\n",
       "    <tr>\n",
       "      <th id=\"T_6bffe_level0_row1\" class=\"row_heading level0 row1\" >123</th>\n",
       "      <td id=\"T_6bffe_row1_col0\" class=\"data row1 col0\" >@gleisi Vagabunda corruPTa sem moral</td>\n",
       "      <td id=\"T_6bffe_row1_col1\" class=\"data row1 col1\" >0.993122</td>\n",
       "      <td id=\"T_6bffe_row1_col2\" class=\"data row1 col2\" >0.182687</td>\n",
       "      <td id=\"T_6bffe_row1_col3\" class=\"data row1 col3\" >0.181430</td>\n",
       "      <td id=\"T_6bffe_row1_col4\" class=\"data row1 col4\" >-0.811691</td>\n",
       "    </tr>\n",
       "    <tr>\n",
       "      <th id=\"T_6bffe_level0_row2\" class=\"row_heading level0 row2\" >53</th>\n",
       "      <td id=\"T_6bffe_row2_col0\" class=\"data row2 col0\" >@carteiroreaca Varíola das gazelas!🤣🤣🤣</td>\n",
       "      <td id=\"T_6bffe_row2_col1\" class=\"data row2 col1\" >0.760350</td>\n",
       "      <td id=\"T_6bffe_row2_col2\" class=\"data row2 col2\" >0.001211</td>\n",
       "      <td id=\"T_6bffe_row2_col3\" class=\"data row2 col3\" >0.000921</td>\n",
       "      <td id=\"T_6bffe_row2_col4\" class=\"data row2 col4\" >-0.759429</td>\n",
       "    </tr>\n",
       "    <tr>\n",
       "      <th id=\"T_6bffe_level0_row3\" class=\"row_heading level0 row3\" >39</th>\n",
       "      <td id=\"T_6bffe_row3_col0\" class=\"data row3 col0\" >@CamargoDireita Bando de esquerdista canalha 😡😡😡😡</td>\n",
       "      <td id=\"T_6bffe_row3_col1\" class=\"data row3 col1\" >0.801967</td>\n",
       "      <td id=\"T_6bffe_row3_col2\" class=\"data row3 col2\" >0.114093</td>\n",
       "      <td id=\"T_6bffe_row3_col3\" class=\"data row3 col3\" >0.091499</td>\n",
       "      <td id=\"T_6bffe_row3_col4\" class=\"data row3 col4\" >-0.710468</td>\n",
       "    </tr>\n",
       "    <tr>\n",
       "      <th id=\"T_6bffe_level0_row4\" class=\"row_heading level0 row4\" >36</th>\n",
       "      <td id=\"T_6bffe_row4_col0\" class=\"data row4 col0\" >@carlosjordy Mas que puta rampeira! She's a cum dumpster!</td>\n",
       "      <td id=\"T_6bffe_row4_col1\" class=\"data row4 col1\" >0.949361</td>\n",
       "      <td id=\"T_6bffe_row4_col2\" class=\"data row4 col2\" >0.258162</td>\n",
       "      <td id=\"T_6bffe_row4_col3\" class=\"data row4 col3\" >0.245089</td>\n",
       "      <td id=\"T_6bffe_row4_col4\" class=\"data row4 col4\" >-0.704272</td>\n",
       "    </tr>\n",
       "    <tr>\n",
       "      <th id=\"T_6bffe_level0_row5\" class=\"row_heading level0 row5\" >44</th>\n",
       "      <td id=\"T_6bffe_row5_col0\" class=\"data row5 col0\" >@carteiroreaca Varíola dos veados. Kkkk</td>\n",
       "      <td id=\"T_6bffe_row5_col1\" class=\"data row5 col1\" >0.693937</td>\n",
       "      <td id=\"T_6bffe_row5_col2\" class=\"data row5 col2\" >0.000017</td>\n",
       "      <td id=\"T_6bffe_row5_col3\" class=\"data row5 col3\" >0.000011</td>\n",
       "      <td id=\"T_6bffe_row5_col4\" class=\"data row5 col4\" >-0.693926</td>\n",
       "    </tr>\n",
       "    <tr>\n",
       "      <th id=\"T_6bffe_level0_row6\" class=\"row_heading level0 row6\" >32</th>\n",
       "      <td id=\"T_6bffe_row6_col0\" class=\"data row6 col0\" >@verdouglasgomes Imbecil retardada.\n",
       "Coitada ...</td>\n",
       "      <td id=\"T_6bffe_row6_col1\" class=\"data row6 col1\" >0.721338</td>\n",
       "      <td id=\"T_6bffe_row6_col2\" class=\"data row6 col2\" >0.103738</td>\n",
       "      <td id=\"T_6bffe_row6_col3\" class=\"data row6 col3\" >0.074830</td>\n",
       "      <td id=\"T_6bffe_row6_col4\" class=\"data row6 col4\" >-0.646507</td>\n",
       "    </tr>\n",
       "    <tr>\n",
       "      <th id=\"T_6bffe_level0_row7\" class=\"row_heading level0 row7\" >166</th>\n",
       "      <td id=\"T_6bffe_row7_col0\" class=\"data row7 col0\" >@rsallesmma Eu processava essa doidinha que chamou de fela da puts</td>\n",
       "      <td id=\"T_6bffe_row7_col1\" class=\"data row7 col1\" >0.909877</td>\n",
       "      <td id=\"T_6bffe_row7_col2\" class=\"data row7 col2\" >0.291621</td>\n",
       "      <td id=\"T_6bffe_row7_col3\" class=\"data row7 col3\" >0.265339</td>\n",
       "      <td id=\"T_6bffe_row7_col4\" class=\"data row7 col4\" >-0.644538</td>\n",
       "    </tr>\n",
       "    <tr>\n",
       "      <th id=\"T_6bffe_level0_row8\" class=\"row_heading level0 row8\" >49</th>\n",
       "      <td id=\"T_6bffe_row8_col0\" class=\"data row8 col0\" >@carteiroreaca Varíola do Chupa-cu</td>\n",
       "      <td id=\"T_6bffe_row8_col1\" class=\"data row8 col1\" >0.840771</td>\n",
       "      <td id=\"T_6bffe_row8_col2\" class=\"data row8 col2\" >0.245559</td>\n",
       "      <td id=\"T_6bffe_row8_col3\" class=\"data row8 col3\" >0.206459</td>\n",
       "      <td id=\"T_6bffe_row8_col4\" class=\"data row8 col4\" >-0.634312</td>\n",
       "    </tr>\n",
       "    <tr>\n",
       "      <th id=\"T_6bffe_level0_row9\" class=\"row_heading level0 row9\" >63</th>\n",
       "      <td id=\"T_6bffe_row9_col0\" class=\"data row9 col0\" >@CarolDeToni Safados terroristas</td>\n",
       "      <td id=\"T_6bffe_row9_col1\" class=\"data row9 col1\" >0.941481</td>\n",
       "      <td id=\"T_6bffe_row9_col2\" class=\"data row9 col2\" >0.335047</td>\n",
       "      <td id=\"T_6bffe_row9_col3\" class=\"data row9 col3\" >0.315440</td>\n",
       "      <td id=\"T_6bffe_row9_col4\" class=\"data row9 col4\" >-0.626040</td>\n",
       "    </tr>\n",
       "    <tr>\n",
       "      <th id=\"T_6bffe_level0_row10\" class=\"row_heading level0 row10\" >174</th>\n",
       "      <td id=\"T_6bffe_row10_col0\" class=\"data row10 col0\" >@Zambelli2210 E um FDP cretino ladrão</td>\n",
       "      <td id=\"T_6bffe_row10_col1\" class=\"data row10 col1\" >0.920447</td>\n",
       "      <td id=\"T_6bffe_row10_col2\" class=\"data row10 col2\" >0.352594</td>\n",
       "      <td id=\"T_6bffe_row10_col3\" class=\"data row10 col3\" >0.324544</td>\n",
       "      <td id=\"T_6bffe_row10_col4\" class=\"data row10 col4\" >-0.595902</td>\n",
       "    </tr>\n",
       "    <tr>\n",
       "      <th id=\"T_6bffe_level0_row11\" class=\"row_heading level0 row11\" >81</th>\n",
       "      <td id=\"T_6bffe_row11_col0\" class=\"data row11 col0\" >@andrefernm Tchutchuca safada!</td>\n",
       "      <td id=\"T_6bffe_row11_col1\" class=\"data row11 col1\" >0.984500</td>\n",
       "      <td id=\"T_6bffe_row11_col2\" class=\"data row11 col2\" >0.398130</td>\n",
       "      <td id=\"T_6bffe_row11_col3\" class=\"data row11 col3\" >0.391959</td>\n",
       "      <td id=\"T_6bffe_row11_col4\" class=\"data row11 col4\" >-0.592541</td>\n",
       "    </tr>\n",
       "    <tr>\n",
       "      <th id=\"T_6bffe_level0_row12\" class=\"row_heading level0 row12\" >47</th>\n",
       "      <td id=\"T_6bffe_row12_col0\" class=\"data row12 col0\" >@ThiagoResiste Esquerdista é muito vagabundo mesmo</td>\n",
       "      <td id=\"T_6bffe_row12_col1\" class=\"data row12 col1\" >0.832876</td>\n",
       "      <td id=\"T_6bffe_row12_col2\" class=\"data row12 col2\" >0.358578</td>\n",
       "      <td id=\"T_6bffe_row12_col3\" class=\"data row12 col3\" >0.298652</td>\n",
       "      <td id=\"T_6bffe_row12_col4\" class=\"data row12 col4\" >-0.534225</td>\n",
       "    </tr>\n",
       "    <tr>\n",
       "      <th id=\"T_6bffe_level0_row13\" class=\"row_heading level0 row13\" >26</th>\n",
       "      <td id=\"T_6bffe_row13_col0\" class=\"data row13 col0\" >@BolsonaroSP Ele é um bosta drogado</td>\n",
       "      <td id=\"T_6bffe_row13_col1\" class=\"data row13 col1\" >0.765205</td>\n",
       "      <td id=\"T_6bffe_row13_col2\" class=\"data row13 col2\" >0.337310</td>\n",
       "      <td id=\"T_6bffe_row13_col3\" class=\"data row13 col3\" >0.258111</td>\n",
       "      <td id=\"T_6bffe_row13_col4\" class=\"data row13 col4\" >-0.507094</td>\n",
       "    </tr>\n",
       "    <tr>\n",
       "      <th id=\"T_6bffe_level0_row14\" class=\"row_heading level0 row14\" >57</th>\n",
       "      <td id=\"T_6bffe_row14_col0\" class=\"data row14 col0\" >@H1SaiaDaMatrix Kkkkkkkkkkkk ficou pica po</td>\n",
       "      <td id=\"T_6bffe_row14_col1\" class=\"data row14 col1\" >0.911886</td>\n",
       "      <td id=\"T_6bffe_row14_col2\" class=\"data row14 col2\" >0.497568</td>\n",
       "      <td id=\"T_6bffe_row14_col3\" class=\"data row14 col3\" >0.453726</td>\n",
       "      <td id=\"T_6bffe_row14_col4\" class=\"data row14 col4\" >-0.458161</td>\n",
       "    </tr>\n",
       "    <tr>\n",
       "      <th id=\"T_6bffe_level0_row15\" class=\"row_heading level0 row15\" >90</th>\n",
       "      <td id=\"T_6bffe_row15_col0\" class=\"data row15 col0\" >@rsallesmma Atriz de merda</td>\n",
       "      <td id=\"T_6bffe_row15_col1\" class=\"data row15 col1\" >0.845658</td>\n",
       "      <td id=\"T_6bffe_row15_col2\" class=\"data row15 col2\" >0.490004</td>\n",
       "      <td id=\"T_6bffe_row15_col3\" class=\"data row15 col3\" >0.414376</td>\n",
       "      <td id=\"T_6bffe_row15_col4\" class=\"data row15 col4\" >-0.431282</td>\n",
       "    </tr>\n",
       "    <tr>\n",
       "      <th id=\"T_6bffe_level0_row16\" class=\"row_heading level0 row16\" >165</th>\n",
       "      <td id=\"T_6bffe_row16_col0\" class=\"data row16 col0\" >@Biakicis Bando de imbecis, idiotas uteis</td>\n",
       "      <td id=\"T_6bffe_row16_col1\" class=\"data row16 col1\" >0.906608</td>\n",
       "      <td id=\"T_6bffe_row16_col2\" class=\"data row16 col2\" >0.528390</td>\n",
       "      <td id=\"T_6bffe_row16_col3\" class=\"data row16 col3\" >0.479042</td>\n",
       "      <td id=\"T_6bffe_row16_col4\" class=\"data row16 col4\" >-0.427566</td>\n",
       "    </tr>\n",
       "    <tr>\n",
       "      <th id=\"T_6bffe_level0_row17\" class=\"row_heading level0 row17\" >51</th>\n",
       "      <td id=\"T_6bffe_row17_col0\" class=\"data row17 col0\" >@CoronelTadeu Palhaçada \n",
       "Tinha que esta preso</td>\n",
       "      <td id=\"T_6bffe_row17_col1\" class=\"data row17 col1\" >0.653098</td>\n",
       "      <td id=\"T_6bffe_row17_col2\" class=\"data row17 col2\" >0.410540</td>\n",
       "      <td id=\"T_6bffe_row17_col3\" class=\"data row17 col3\" >0.268123</td>\n",
       "      <td id=\"T_6bffe_row17_col4\" class=\"data row17 col4\" >-0.384975</td>\n",
       "    </tr>\n",
       "    <tr>\n",
       "      <th id=\"T_6bffe_level0_row18\" class=\"row_heading level0 row18\" >68</th>\n",
       "      <td id=\"T_6bffe_row18_col0\" class=\"data row18 col0\" >@carlosjordy Só fala merda</td>\n",
       "      <td id=\"T_6bffe_row18_col1\" class=\"data row18 col1\" >0.827397</td>\n",
       "      <td id=\"T_6bffe_row18_col2\" class=\"data row18 col2\" >0.552820</td>\n",
       "      <td id=\"T_6bffe_row18_col3\" class=\"data row18 col3\" >0.457402</td>\n",
       "      <td id=\"T_6bffe_row18_col4\" class=\"data row18 col4\" >-0.369995</td>\n",
       "    </tr>\n",
       "    <tr>\n",
       "      <th id=\"T_6bffe_level0_row19\" class=\"row_heading level0 row19\" >66</th>\n",
       "      <td id=\"T_6bffe_row19_col0\" class=\"data row19 col0\" >@samiabomfim gorda nojenta feia e burra</td>\n",
       "      <td id=\"T_6bffe_row19_col1\" class=\"data row19 col1\" >0.986743</td>\n",
       "      <td id=\"T_6bffe_row19_col2\" class=\"data row19 col2\" >0.625593</td>\n",
       "      <td id=\"T_6bffe_row19_col3\" class=\"data row19 col3\" >0.617299</td>\n",
       "      <td id=\"T_6bffe_row19_col4\" class=\"data row19 col4\" >-0.369444</td>\n",
       "    </tr>\n",
       "    <tr>\n",
       "      <th id=\"T_6bffe_level0_row20\" class=\"row_heading level0 row20\" >27</th>\n",
       "      <td id=\"T_6bffe_row20_col0\" class=\"data row20 col0\" >@IvanValente Tem que ser maluca essa mulher.</td>\n",
       "      <td id=\"T_6bffe_row20_col1\" class=\"data row20 col1\" >0.660960</td>\n",
       "      <td id=\"T_6bffe_row20_col2\" class=\"data row20 col2\" >0.443820</td>\n",
       "      <td id=\"T_6bffe_row20_col3\" class=\"data row20 col3\" >0.293347</td>\n",
       "      <td id=\"T_6bffe_row20_col4\" class=\"data row20 col4\" >-0.367612</td>\n",
       "    </tr>\n",
       "    <tr>\n",
       "      <th id=\"T_6bffe_level0_row21\" class=\"row_heading level0 row21\" >19</th>\n",
       "      <td id=\"T_6bffe_row21_col0\" class=\"data row21 col0\" >@ThiagoResiste Vagabundo</td>\n",
       "      <td id=\"T_6bffe_row21_col1\" class=\"data row21 col1\" >0.763812</td>\n",
       "      <td id=\"T_6bffe_row21_col2\" class=\"data row21 col2\" >0.535476</td>\n",
       "      <td id=\"T_6bffe_row21_col3\" class=\"data row21 col3\" >0.409003</td>\n",
       "      <td id=\"T_6bffe_row21_col4\" class=\"data row21 col4\" >-0.354809</td>\n",
       "    </tr>\n",
       "    <tr>\n",
       "      <th id=\"T_6bffe_level0_row22\" class=\"row_heading level0 row22\" >221</th>\n",
       "      <td id=\"T_6bffe_row22_col0\" class=\"data row22 col0\" >@andremarianors Uma picareta</td>\n",
       "      <td id=\"T_6bffe_row22_col1\" class=\"data row22 col1\" >0.945784</td>\n",
       "      <td id=\"T_6bffe_row22_col2\" class=\"data row22 col2\" >0.694769</td>\n",
       "      <td id=\"T_6bffe_row22_col3\" class=\"data row22 col3\" >0.657102</td>\n",
       "      <td id=\"T_6bffe_row22_col4\" class=\"data row22 col4\" >-0.288682</td>\n",
       "    </tr>\n",
       "    <tr>\n",
       "      <th id=\"T_6bffe_level0_row23\" class=\"row_heading level0 row23\" >156</th>\n",
       "      <td id=\"T_6bffe_row23_col0\" class=\"data row23 col0\" >@Biakicis kkkk e as femimi dizendo que para ser empoderada tem que ter sovaco peludo e mostrar o rabo, quero ver falar isso na cara dessa real mulher empoderada</td>\n",
       "      <td id=\"T_6bffe_row23_col1\" class=\"data row23 col1\" >0.930971</td>\n",
       "      <td id=\"T_6bffe_row23_col2\" class=\"data row23 col2\" >0.697204</td>\n",
       "      <td id=\"T_6bffe_row23_col3\" class=\"data row23 col3\" >0.649077</td>\n",
       "      <td id=\"T_6bffe_row23_col4\" class=\"data row23 col4\" >-0.281894</td>\n",
       "    </tr>\n",
       "    <tr>\n",
       "      <th id=\"T_6bffe_level0_row24\" class=\"row_heading level0 row24\" >29</th>\n",
       "      <td id=\"T_6bffe_row24_col0\" class=\"data row24 col0\" >@CarlaZambelli38 @jairbolsonaro Para de caô mulher</td>\n",
       "      <td id=\"T_6bffe_row24_col1\" class=\"data row24 col1\" >0.755363</td>\n",
       "      <td id=\"T_6bffe_row24_col2\" class=\"data row24 col2\" >0.638217</td>\n",
       "      <td id=\"T_6bffe_row24_col3\" class=\"data row24 col3\" >0.482085</td>\n",
       "      <td id=\"T_6bffe_row24_col4\" class=\"data row24 col4\" >-0.273277</td>\n",
       "    </tr>\n",
       "    <tr>\n",
       "      <th id=\"T_6bffe_level0_row25\" class=\"row_heading level0 row25\" >110</th>\n",
       "      <td id=\"T_6bffe_row25_col0\" class=\"data row25 col0\" >@reportersalles Muito dinheiro gasto com carniça ladrã*.</td>\n",
       "      <td id=\"T_6bffe_row25_col1\" class=\"data row25 col1\" >0.383741</td>\n",
       "      <td id=\"T_6bffe_row25_col2\" class=\"data row25 col2\" >0.322686</td>\n",
       "      <td id=\"T_6bffe_row25_col3\" class=\"data row25 col3\" >0.123828</td>\n",
       "      <td id=\"T_6bffe_row25_col4\" class=\"data row25 col4\" >-0.259913</td>\n",
       "    </tr>\n",
       "    <tr>\n",
       "      <th id=\"T_6bffe_level0_row26\" class=\"row_heading level0 row26\" >124</th>\n",
       "      <td id=\"T_6bffe_row26_col0\" class=\"data row26 col0\" >@AbrahamWeint Ele é misógino, fascista, racista, classista, homofóbico, genocida…\n",
       "Nada disso é mentira</td>\n",
       "      <td id=\"T_6bffe_row26_col1\" class=\"data row26 col1\" >0.279915</td>\n",
       "      <td id=\"T_6bffe_row26_col2\" class=\"data row26 col2\" >0.072865</td>\n",
       "      <td id=\"T_6bffe_row26_col3\" class=\"data row26 col3\" >0.020396</td>\n",
       "      <td id=\"T_6bffe_row26_col4\" class=\"data row26 col4\" >-0.259519</td>\n",
       "    </tr>\n",
       "    <tr>\n",
       "      <th id=\"T_6bffe_level0_row27\" class=\"row_heading level0 row27\" >48</th>\n",
       "      <td id=\"T_6bffe_row27_col0\" class=\"data row27 col0\" >@IvanValente Vagabundo</td>\n",
       "      <td id=\"T_6bffe_row27_col1\" class=\"data row27 col1\" >0.826635</td>\n",
       "      <td id=\"T_6bffe_row27_col2\" class=\"data row27 col2\" >0.699634</td>\n",
       "      <td id=\"T_6bffe_row27_col3\" class=\"data row27 col3\" >0.578342</td>\n",
       "      <td id=\"T_6bffe_row27_col4\" class=\"data row27 col4\" >-0.248293</td>\n",
       "    </tr>\n",
       "    <tr>\n",
       "      <th id=\"T_6bffe_level0_row28\" class=\"row_heading level0 row28\" >93</th>\n",
       "      <td id=\"T_6bffe_row28_col0\" class=\"data row28 col0\" >@alefrota77 safado sem vergonha https://t.co/ZEx7sOJaNN</td>\n",
       "      <td id=\"T_6bffe_row28_col1\" class=\"data row28 col1\" >0.906919</td>\n",
       "      <td id=\"T_6bffe_row28_col2\" class=\"data row28 col2\" >0.743085</td>\n",
       "      <td id=\"T_6bffe_row28_col3\" class=\"data row28 col3\" >0.673918</td>\n",
       "      <td id=\"T_6bffe_row28_col4\" class=\"data row28 col4\" >-0.233001</td>\n",
       "    </tr>\n",
       "    <tr>\n",
       "      <th id=\"T_6bffe_level0_row29\" class=\"row_heading level0 row29\" >69</th>\n",
       "      <td id=\"T_6bffe_row29_col0\" class=\"data row29 col0\" >@joicehasselmann Nao fica nem vermelha de vergonha em falar asneira essa suína</td>\n",
       "      <td id=\"T_6bffe_row29_col1\" class=\"data row29 col1\" >0.959735</td>\n",
       "      <td id=\"T_6bffe_row29_col2\" class=\"data row29 col2\" >0.760078</td>\n",
       "      <td id=\"T_6bffe_row29_col3\" class=\"data row29 col3\" >0.729473</td>\n",
       "      <td id=\"T_6bffe_row29_col4\" class=\"data row29 col4\" >-0.230261</td>\n",
       "    </tr>\n",
       "  </tbody>\n",
       "</table>\n"
      ],
      "text/plain": [
       "<pandas.io.formats.style.Styler at 0x7fd32bcc2550>"
      ]
     },
     "execution_count": 76,
     "metadata": {},
     "output_type": "execute_result"
    }
   ],
   "source": [
    "X_test[['text', 'hate_score', 'target_prob', 'final_prob', 'variacao']].sort_values('variacao').head(30).style.set_properties(subset=['text'], **{'width': '1500px'})"
   ]
  },
  {
   "cell_type": "code",
   "execution_count": null,
   "metadata": {},
   "outputs": [],
   "source": []
  }
 ],
 "metadata": {
  "kernelspec": {
   "display_name": "Python 3 (ipykernel)",
   "language": "python",
   "name": "python3"
  },
  "language_info": {
   "codemirror_mode": {
    "name": "ipython",
    "version": 3
   },
   "file_extension": ".py",
   "mimetype": "text/x-python",
   "name": "python",
   "nbconvert_exporter": "python",
   "pygments_lexer": "ipython3",
   "version": "3.8.10"
  }
 },
 "nbformat": 4,
 "nbformat_minor": 4
}
